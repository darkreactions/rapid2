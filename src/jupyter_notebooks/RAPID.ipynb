{
 "cells": [
  {
   "cell_type": "markdown",
   "metadata": {},
   "source": [
    "<center><h1>Interactive Data Visualization and Analysis Interface</h1></center>\n",
    "<p>\n",
    "\n",
    "<center><h3>Zhi Li<sup>1</sup>, Mansoor Ani Najeeb<sup>2</sup>, Liana Alves<sup>2,1</sup>, Alyssa Z. Sherman<sup>2</sup>, Venkateswaran Shekar<sup>3</sup>, Peter Cruz Parrilla<sup>2</sup>, Ian M. Pendleton<sup>2</sup>, Philip W. Nega<sup>1</sup>, Matthias Zeller<sup>4</sup>, Joshua Schrier<sup>2,5</sup>, Alexander J. Norquist<sup>2</sup>, Emory M. Chan<sup>1</sup></h3></center>\n",
    "<br>\n",
    "\n",
    "1. Molecular Foundry, Lawrence Berkeley National Laboratory, 1 Cyclotron Road, Berkeley, California 94720, USA\n",
    "2. Department of Chemistry, Haverford College, 370 Lancaster Avenue, Haverford, Pennsylvania 19041, USA\n",
    "3. Department of Computer Science, Haverford College, 370 Lancaster Avenue, Haverford, Pennsylvania 19041, USA\n",
    "4. Department of Chemistry, Purdue University, West Lafayette IN 47907, USA\n",
    "5. Department of Chemistry, Fordham University, 441 E. Fordham Road, The Bronx, New York, 10458, USA\n",
    "\n"
   ]
  },
  {
   "cell_type": "markdown",
   "metadata": {},
   "source": [
    "# Visualization\n",
    "\n",
    "If accessing this jupyter notebook via mybinder.org, please wait for the notebook to load completely, it may take around 10-20 minutes for mybinder to load.\n",
    "\n",
    "1) To display visualizations click on the \"Cell\" menu above and click on \"Run All\". \n",
    "\n",
    "2) It may take a few minutes on an average for the cells to process. If not, refresh the page and try Step 1 again"
   ]
  },
  {
   "cell_type": "code",
   "execution_count": 1,
   "metadata": {},
   "outputs": [],
   "source": [
    "import importlib"
   ]
  },
  {
   "cell_type": "markdown",
   "metadata": {},
   "source": [
    "## Reaction outcomes\n",
    "\n",
    "Reaction outcomes are plotted as a function of the reaction composition, in the following figure. The highest quality crystal outcomes (score = 4) are represented as red points. Lower quality outcomes are depicted as yellow, green, and blue for scores of 3, 2, 1, respectively.\n",
    "\n",
    "Each point in the following figure represents an experiment and its color indicates the crystal score. The plot can be rotated by clicking and dragging the mouse. Experiment details can be obtained by clicking on any point. The clicked experiment is highlighted by a solid color and increased size. Points of the same class as the clicked experiment are also larger.\n",
    "\n",
    "The convex hull shows the experimental space defined by the model set of stock solutions; individual points can be outside of this space if they came from experiments whose stock solutions where the actual prepared stock solutions were slightly more or less concentrated than the nominal description.\n",
    "Warning: Experiments are clickable only when the convex hull is turned off. To do so, toggle the \"Show Convex Hull\" button.\n",
    "\n",
    "Note: Clicking on \"Show X-Y axes\" will show a projection into the organic/inorganic plane.\n",
    "\n",
    "Note: Clicking on the legend will show/hide the correspoding crystal scores in the plot. Double clicking a crystal score on the legend will only show that score\n",
    "\n"
   ]
  },
  {
   "cell_type": "code",
   "execution_count": 4,
   "metadata": {
    "scrolled": false
   },
   "outputs": [
    {
     "data": {
      "application/vnd.jupyter.widget-view+json": {
       "model_id": "66f35ba022c0481f8a90de1c13e7fb64",
       "version_major": 2,
       "version_minor": 0
      },
      "text/plain": [
       "VBox(children=(Tab(children=(VBox(children=(FigureWidget({\n",
       "    'data': [{'hoverinfo': 'text',\n",
       "              'm…"
      ]
     },
     "metadata": {},
     "output_type": "display_data"
    }
   ],
   "source": [
    "import plots\n",
    "importlib.reload(plots)\n",
    "fig1 = plots.Figure1('./data/0052.4-Data-WF3_Iodide.csv')\n",
    "fig1.plot"
   ]
  },
  {
   "cell_type": "markdown",
   "metadata": {},
   "source": [
    "## XRD plot\n",
    "Select the amine, plate and vial from the drop down menu below the figure. If vial name is 'None', it is a representative XRD for that plate. The experiment details tab shows the vial image and experimental conditions for the selected vial\n",
    "\n",
    "Tools to manipulate the figure appear on the top right corner of the plot when the mouse hovers over the plot"
   ]
  },
  {
   "cell_type": "code",
   "execution_count": 3,
   "metadata": {
    "scrolled": false
   },
   "outputs": [
    {
     "ename": "FileNotFoundError",
     "evalue": "[Errno 2] File b'/Users/vshekar/Code/rapid2/data/0042.perovskitedata_RAPID.csv' does not exist: b'/Users/vshekar/Code/rapid2/data/0042.perovskitedata_RAPID.csv'",
     "output_type": "error",
     "traceback": [
      "\u001b[0;31m---------------------------------------------------------------------------\u001b[0m",
      "\u001b[0;31mFileNotFoundError\u001b[0m                         Traceback (most recent call last)",
      "\u001b[0;32m<ipython-input-3-1405b84c892d>\u001b[0m in \u001b[0;36m<module>\u001b[0;34m\u001b[0m\n\u001b[1;32m      2\u001b[0m \u001b[0mimportlib\u001b[0m\u001b[0;34m.\u001b[0m\u001b[0mreload\u001b[0m\u001b[0;34m(\u001b[0m\u001b[0mxrd_plot\u001b[0m\u001b[0;34m)\u001b[0m\u001b[0;34m\u001b[0m\u001b[0;34m\u001b[0m\u001b[0m\n\u001b[1;32m      3\u001b[0m \u001b[0;34m\u001b[0m\u001b[0m\n\u001b[0;32m----> 4\u001b[0;31m \u001b[0mxrd\u001b[0m \u001b[0;34m=\u001b[0m \u001b[0mxrd_plot\u001b[0m\u001b[0;34m.\u001b[0m\u001b[0mXRD\u001b[0m\u001b[0;34m(\u001b[0m\u001b[0;34m)\u001b[0m\u001b[0;34m\u001b[0m\u001b[0;34m\u001b[0m\u001b[0m\n\u001b[0m\u001b[1;32m      5\u001b[0m \u001b[0mxrd\u001b[0m\u001b[0;34m.\u001b[0m\u001b[0mplot\u001b[0m\u001b[0;34m\u001b[0m\u001b[0;34m\u001b[0m\u001b[0m\n",
      "\u001b[0;32m~/Code/rapid2/xrd_plot.py\u001b[0m in \u001b[0;36m__init__\u001b[0;34m(self)\u001b[0m\n\u001b[1;32m     33\u001b[0m         self.chem_dict = dict(zip(self.inchis['InChI Key (ID)'],\n\u001b[1;32m     34\u001b[0m                                   self.inchis['Chemical Name']))\n\u001b[0;32m---> 35\u001b[0;31m         \u001b[0mself\u001b[0m\u001b[0;34m.\u001b[0m\u001b[0mdata\u001b[0m \u001b[0;34m=\u001b[0m \u001b[0mpd\u001b[0m\u001b[0;34m.\u001b[0m\u001b[0mread_csv\u001b[0m\u001b[0;34m(\u001b[0m\u001b[0mdata_path\u001b[0m\u001b[0;34m)\u001b[0m\u001b[0;34m\u001b[0m\u001b[0;34m\u001b[0m\u001b[0m\n\u001b[0m\u001b[1;32m     36\u001b[0m         \u001b[0mself\u001b[0m\u001b[0;34m.\u001b[0m\u001b[0mamine_to_plate_dict\u001b[0m \u001b[0;34m=\u001b[0m \u001b[0mdefaultdict\u001b[0m\u001b[0;34m(\u001b[0m\u001b[0mlist\u001b[0m\u001b[0;34m)\u001b[0m\u001b[0;34m\u001b[0m\u001b[0;34m\u001b[0m\u001b[0m\n\u001b[1;32m     37\u001b[0m         \u001b[0;32mfor\u001b[0m \u001b[0mplate\u001b[0m \u001b[0;32min\u001b[0m \u001b[0mself\u001b[0m\u001b[0;34m.\u001b[0m\u001b[0mplate_list\u001b[0m\u001b[0;34m:\u001b[0m\u001b[0;34m\u001b[0m\u001b[0;34m\u001b[0m\u001b[0m\n",
      "\u001b[0;32m~/anaconda3/lib/python3.7/site-packages/pandas/io/parsers.py\u001b[0m in \u001b[0;36mparser_f\u001b[0;34m(filepath_or_buffer, sep, delimiter, header, names, index_col, usecols, squeeze, prefix, mangle_dupe_cols, dtype, engine, converters, true_values, false_values, skipinitialspace, skiprows, skipfooter, nrows, na_values, keep_default_na, na_filter, verbose, skip_blank_lines, parse_dates, infer_datetime_format, keep_date_col, date_parser, dayfirst, iterator, chunksize, compression, thousands, decimal, lineterminator, quotechar, quoting, doublequote, escapechar, comment, encoding, dialect, tupleize_cols, error_bad_lines, warn_bad_lines, delim_whitespace, low_memory, memory_map, float_precision)\u001b[0m\n\u001b[1;32m    700\u001b[0m                     skip_blank_lines=skip_blank_lines)\n\u001b[1;32m    701\u001b[0m \u001b[0;34m\u001b[0m\u001b[0m\n\u001b[0;32m--> 702\u001b[0;31m         \u001b[0;32mreturn\u001b[0m \u001b[0m_read\u001b[0m\u001b[0;34m(\u001b[0m\u001b[0mfilepath_or_buffer\u001b[0m\u001b[0;34m,\u001b[0m \u001b[0mkwds\u001b[0m\u001b[0;34m)\u001b[0m\u001b[0;34m\u001b[0m\u001b[0;34m\u001b[0m\u001b[0m\n\u001b[0m\u001b[1;32m    703\u001b[0m \u001b[0;34m\u001b[0m\u001b[0m\n\u001b[1;32m    704\u001b[0m     \u001b[0mparser_f\u001b[0m\u001b[0;34m.\u001b[0m\u001b[0m__name__\u001b[0m \u001b[0;34m=\u001b[0m \u001b[0mname\u001b[0m\u001b[0;34m\u001b[0m\u001b[0;34m\u001b[0m\u001b[0m\n",
      "\u001b[0;32m~/anaconda3/lib/python3.7/site-packages/pandas/io/parsers.py\u001b[0m in \u001b[0;36m_read\u001b[0;34m(filepath_or_buffer, kwds)\u001b[0m\n\u001b[1;32m    427\u001b[0m \u001b[0;34m\u001b[0m\u001b[0m\n\u001b[1;32m    428\u001b[0m     \u001b[0;31m# Create the parser.\u001b[0m\u001b[0;34m\u001b[0m\u001b[0;34m\u001b[0m\u001b[0;34m\u001b[0m\u001b[0m\n\u001b[0;32m--> 429\u001b[0;31m     \u001b[0mparser\u001b[0m \u001b[0;34m=\u001b[0m \u001b[0mTextFileReader\u001b[0m\u001b[0;34m(\u001b[0m\u001b[0mfilepath_or_buffer\u001b[0m\u001b[0;34m,\u001b[0m \u001b[0;34m**\u001b[0m\u001b[0mkwds\u001b[0m\u001b[0;34m)\u001b[0m\u001b[0;34m\u001b[0m\u001b[0;34m\u001b[0m\u001b[0m\n\u001b[0m\u001b[1;32m    430\u001b[0m \u001b[0;34m\u001b[0m\u001b[0m\n\u001b[1;32m    431\u001b[0m     \u001b[0;32mif\u001b[0m \u001b[0mchunksize\u001b[0m \u001b[0;32mor\u001b[0m \u001b[0miterator\u001b[0m\u001b[0;34m:\u001b[0m\u001b[0;34m\u001b[0m\u001b[0;34m\u001b[0m\u001b[0m\n",
      "\u001b[0;32m~/anaconda3/lib/python3.7/site-packages/pandas/io/parsers.py\u001b[0m in \u001b[0;36m__init__\u001b[0;34m(self, f, engine, **kwds)\u001b[0m\n\u001b[1;32m    893\u001b[0m             \u001b[0mself\u001b[0m\u001b[0;34m.\u001b[0m\u001b[0moptions\u001b[0m\u001b[0;34m[\u001b[0m\u001b[0;34m'has_index_names'\u001b[0m\u001b[0;34m]\u001b[0m \u001b[0;34m=\u001b[0m \u001b[0mkwds\u001b[0m\u001b[0;34m[\u001b[0m\u001b[0;34m'has_index_names'\u001b[0m\u001b[0;34m]\u001b[0m\u001b[0;34m\u001b[0m\u001b[0;34m\u001b[0m\u001b[0m\n\u001b[1;32m    894\u001b[0m \u001b[0;34m\u001b[0m\u001b[0m\n\u001b[0;32m--> 895\u001b[0;31m         \u001b[0mself\u001b[0m\u001b[0;34m.\u001b[0m\u001b[0m_make_engine\u001b[0m\u001b[0;34m(\u001b[0m\u001b[0mself\u001b[0m\u001b[0;34m.\u001b[0m\u001b[0mengine\u001b[0m\u001b[0;34m)\u001b[0m\u001b[0;34m\u001b[0m\u001b[0;34m\u001b[0m\u001b[0m\n\u001b[0m\u001b[1;32m    896\u001b[0m \u001b[0;34m\u001b[0m\u001b[0m\n\u001b[1;32m    897\u001b[0m     \u001b[0;32mdef\u001b[0m \u001b[0mclose\u001b[0m\u001b[0;34m(\u001b[0m\u001b[0mself\u001b[0m\u001b[0;34m)\u001b[0m\u001b[0;34m:\u001b[0m\u001b[0;34m\u001b[0m\u001b[0;34m\u001b[0m\u001b[0m\n",
      "\u001b[0;32m~/anaconda3/lib/python3.7/site-packages/pandas/io/parsers.py\u001b[0m in \u001b[0;36m_make_engine\u001b[0;34m(self, engine)\u001b[0m\n\u001b[1;32m   1120\u001b[0m     \u001b[0;32mdef\u001b[0m \u001b[0m_make_engine\u001b[0m\u001b[0;34m(\u001b[0m\u001b[0mself\u001b[0m\u001b[0;34m,\u001b[0m \u001b[0mengine\u001b[0m\u001b[0;34m=\u001b[0m\u001b[0;34m'c'\u001b[0m\u001b[0;34m)\u001b[0m\u001b[0;34m:\u001b[0m\u001b[0;34m\u001b[0m\u001b[0;34m\u001b[0m\u001b[0m\n\u001b[1;32m   1121\u001b[0m         \u001b[0;32mif\u001b[0m \u001b[0mengine\u001b[0m \u001b[0;34m==\u001b[0m \u001b[0;34m'c'\u001b[0m\u001b[0;34m:\u001b[0m\u001b[0;34m\u001b[0m\u001b[0;34m\u001b[0m\u001b[0m\n\u001b[0;32m-> 1122\u001b[0;31m             \u001b[0mself\u001b[0m\u001b[0;34m.\u001b[0m\u001b[0m_engine\u001b[0m \u001b[0;34m=\u001b[0m \u001b[0mCParserWrapper\u001b[0m\u001b[0;34m(\u001b[0m\u001b[0mself\u001b[0m\u001b[0;34m.\u001b[0m\u001b[0mf\u001b[0m\u001b[0;34m,\u001b[0m \u001b[0;34m**\u001b[0m\u001b[0mself\u001b[0m\u001b[0;34m.\u001b[0m\u001b[0moptions\u001b[0m\u001b[0;34m)\u001b[0m\u001b[0;34m\u001b[0m\u001b[0;34m\u001b[0m\u001b[0m\n\u001b[0m\u001b[1;32m   1123\u001b[0m         \u001b[0;32melse\u001b[0m\u001b[0;34m:\u001b[0m\u001b[0;34m\u001b[0m\u001b[0;34m\u001b[0m\u001b[0m\n\u001b[1;32m   1124\u001b[0m             \u001b[0;32mif\u001b[0m \u001b[0mengine\u001b[0m \u001b[0;34m==\u001b[0m \u001b[0;34m'python'\u001b[0m\u001b[0;34m:\u001b[0m\u001b[0;34m\u001b[0m\u001b[0;34m\u001b[0m\u001b[0m\n",
      "\u001b[0;32m~/anaconda3/lib/python3.7/site-packages/pandas/io/parsers.py\u001b[0m in \u001b[0;36m__init__\u001b[0;34m(self, src, **kwds)\u001b[0m\n\u001b[1;32m   1851\u001b[0m         \u001b[0mkwds\u001b[0m\u001b[0;34m[\u001b[0m\u001b[0;34m'usecols'\u001b[0m\u001b[0;34m]\u001b[0m \u001b[0;34m=\u001b[0m \u001b[0mself\u001b[0m\u001b[0;34m.\u001b[0m\u001b[0musecols\u001b[0m\u001b[0;34m\u001b[0m\u001b[0;34m\u001b[0m\u001b[0m\n\u001b[1;32m   1852\u001b[0m \u001b[0;34m\u001b[0m\u001b[0m\n\u001b[0;32m-> 1853\u001b[0;31m         \u001b[0mself\u001b[0m\u001b[0;34m.\u001b[0m\u001b[0m_reader\u001b[0m \u001b[0;34m=\u001b[0m \u001b[0mparsers\u001b[0m\u001b[0;34m.\u001b[0m\u001b[0mTextReader\u001b[0m\u001b[0;34m(\u001b[0m\u001b[0msrc\u001b[0m\u001b[0;34m,\u001b[0m \u001b[0;34m**\u001b[0m\u001b[0mkwds\u001b[0m\u001b[0;34m)\u001b[0m\u001b[0;34m\u001b[0m\u001b[0;34m\u001b[0m\u001b[0m\n\u001b[0m\u001b[1;32m   1854\u001b[0m         \u001b[0mself\u001b[0m\u001b[0;34m.\u001b[0m\u001b[0munnamed_cols\u001b[0m \u001b[0;34m=\u001b[0m \u001b[0mself\u001b[0m\u001b[0;34m.\u001b[0m\u001b[0m_reader\u001b[0m\u001b[0;34m.\u001b[0m\u001b[0munnamed_cols\u001b[0m\u001b[0;34m\u001b[0m\u001b[0;34m\u001b[0m\u001b[0m\n\u001b[1;32m   1855\u001b[0m \u001b[0;34m\u001b[0m\u001b[0m\n",
      "\u001b[0;32mpandas/_libs/parsers.pyx\u001b[0m in \u001b[0;36mpandas._libs.parsers.TextReader.__cinit__\u001b[0;34m()\u001b[0m\n",
      "\u001b[0;32mpandas/_libs/parsers.pyx\u001b[0m in \u001b[0;36mpandas._libs.parsers.TextReader._setup_parser_source\u001b[0;34m()\u001b[0m\n",
      "\u001b[0;31mFileNotFoundError\u001b[0m: [Errno 2] File b'/Users/vshekar/Code/rapid2/data/0042.perovskitedata_RAPID.csv' does not exist: b'/Users/vshekar/Code/rapid2/data/0042.perovskitedata_RAPID.csv'"
     ]
    }
   ],
   "source": [
    "import xrd_plot\n",
    "importlib.reload(xrd_plot)\n",
    "\n",
    "xrd = xrd_plot.XRD()\n",
    "xrd.plot"
   ]
  },
  {
   "cell_type": "markdown",
   "metadata": {},
   "source": [
    "## Machine Learning Outcomes\n",
    "\n",
    "The following plot shows different metrics for 6 machines learning models run on 45 amines. The different amines and model metrics can be selected by clicking on the drop-down menu below the plot. Clicking on the model name in the legend will hide the selected model plot. Double clicking will remove all other models from the plot.\n",
    "\n",
    "Hovering over points will show the number of training experiments and metric followed by the model name."
   ]
  },
  {
   "cell_type": "code",
   "execution_count": null,
   "metadata": {},
   "outputs": [],
   "source": [
    "import ml_section\n",
    "importlib.reload(ml_section)\n",
    "\n",
    "mlsection = ml_section.MLSection()\n",
    "mlsection.plot"
   ]
  },
  {
   "cell_type": "markdown",
   "metadata": {},
   "source": [
    "## CIF\n",
    "\n",
    "To show an interactive 3D molecule please click on the \"Show Molecule\" button\n",
    "Once the plot loads, you can view a 2x2x2 supercell by clicking on the button below the figure.\n",
    "Right clicking on the figure will provide many other jsmol tools"
   ]
  },
  {
   "cell_type": "code",
   "execution_count": 4,
   "metadata": {},
   "outputs": [
    {
     "data": {
      "text/html": [
       "\n",
       "                    <!doctype html>\n",
       "                    <html>\n",
       "                    <head>\n",
       "                    <meta content=\"text/html; charset=UTF-8\" http-equiv=\"content-type\">\n",
       "                    <script\n",
       "                        src=\"https://code.jquery.com/jquery-3.4.1.min.js\"\n",
       "                        integrity=\"sha256-CSXorXvZcTkaix6Yvo6HppcZGetbYMGWSFlBw8HfCJo=\"\n",
       "                        crossorigin=\"anonymous\"></script>\n",
       "\n",
       "                    <script type=\"text/javascript\" src=\"jsmol/JSmol.min.js\"></script>\n",
       "                    <style type=\"text/css\">\n",
       "                    .plot_div{\n",
       "                        display: inline;\n",
       "                        margin: 15px;\n",
       "                        float: left;\n",
       "                    }\n",
       "                    </style>\n",
       "                    \n",
       "                    <!-- CSS Style Inline: -->\n",
       "                    <style type=\"text/css\">\n",
       "                        /* Jmol Applet */\n",
       "                        /* defines height, width and orientation of the Jmol div element */\n",
       "                        #jmol_div_0{\n",
       "                            height: 600px;\n",
       "                            width:  600px;\n",
       "                            margin: 5px;\n",
       "                        }\n",
       "                    </style>\n",
       "                    <!-- calls to jQuery and Jmol (inline) -->\n",
       "                    <script type=\"text/javascript\">\n",
       "                        // Jmol readyFunction\n",
       "                        // is called when Jmol is ready\n",
       "\n",
       "                        jmol_isReady_0 = function(applet) {\n",
       "                            Jmol._getElement(applet, \"appletdiv\").style.border=\"1px solid blue\";\n",
       "                        }\n",
       "                        // initialize Jmol Applet\n",
       "                        var myJmol_0 = \"myJmol_0\";\n",
       "                        var Info_0 = {\n",
       "                            width:   \"100%\",\n",
       "                            height:  \"100%\",\n",
       "                            color:   \"#000000\", //black\n",
       "                            use:     \"HTML5\",\n",
       "                            j2sPath: \"./jsmol/j2s\", \n",
       "                            jarPath: \"./jsmol/java\",\n",
       "                            jarFile: \"JmolAppletSigned.jar\",\n",
       "                            debug:   false,\n",
       "                            readyFunction: jmol_isReady_0,\n",
       "                            script:  'load \"data/cifs/AcetPbI3.cif\" ; hide _H;',\n",
       "                            //script: 'load \":tylenol\";',\n",
       "                            allowJavaScript: true,\n",
       "                            disableJ2SLoadMonitor: true,\n",
       "                        }\n",
       "                        // jQuery ready functions\n",
       "                        // is called when page has been completely loaded\n",
       "                        $(document).ready(function() {\n",
       "                            console.log('Document is ready');\n",
       "                            \n",
       "                        } )\n",
       "                        function populate_jmol_0(){\n",
       "                            html_text = \"<center><h3>AcetPbI3</h3></center>\" + Jmol.getAppletHtml(myJmol_0, Info_0);\n",
       "                            html_text += Jmol.jmolButton(myJmol_0,'load \"data/cifs/AcetPbI3.cif\"  SUPERCELL {2 2 2}; hide _H;', \"Show 2x2x2 supercell\");\n",
       "                            html_text += Jmol.jmolButton(myJmol_0,'load \"data/cifs/AcetPbI3.cif\"; hide _H;', \"Reset\");\n",
       "                            // html_text += '<a href=\"/data/cifs/AcetPbI3.cif\" target=\"_blank\"><button> Download AcetPbI3 CIF</button></a>'\n",
       "                            $(\"#jmol_div_0\").html(html_text);\n",
       "                        }\n",
       "                        var lastPrompt=0;\n",
       "                    </script>\n",
       "                    \n",
       "                    <!-- CSS Style Inline: -->\n",
       "                    <style type=\"text/css\">\n",
       "                        /* Jmol Applet */\n",
       "                        /* defines height, width and orientation of the Jmol div element */\n",
       "                        #jmol_div_1{\n",
       "                            height: 600px;\n",
       "                            width:  600px;\n",
       "                            margin: 5px;\n",
       "                        }\n",
       "                    </style>\n",
       "                    <!-- calls to jQuery and Jmol (inline) -->\n",
       "                    <script type=\"text/javascript\">\n",
       "                        // Jmol readyFunction\n",
       "                        // is called when Jmol is ready\n",
       "\n",
       "                        jmol_isReady_1 = function(applet) {\n",
       "                            Jmol._getElement(applet, \"appletdiv\").style.border=\"1px solid blue\";\n",
       "                        }\n",
       "                        // initialize Jmol Applet\n",
       "                        var myJmol_1 = \"myJmol_1\";\n",
       "                        var Info_1 = {\n",
       "                            width:   \"100%\",\n",
       "                            height:  \"100%\",\n",
       "                            color:   \"#000000\", //black\n",
       "                            use:     \"HTML5\",\n",
       "                            j2sPath: \"./jsmol/j2s\", \n",
       "                            jarPath: \"./jsmol/java\",\n",
       "                            jarFile: \"JmolAppletSigned.jar\",\n",
       "                            debug:   false,\n",
       "                            readyFunction: jmol_isReady_1,\n",
       "                            script:  'load \"data/cifs/CHMA2PbI4.cif\" ; hide _H;',\n",
       "                            //script: 'load \":tylenol\";',\n",
       "                            allowJavaScript: true,\n",
       "                            disableJ2SLoadMonitor: true,\n",
       "                        }\n",
       "                        // jQuery ready functions\n",
       "                        // is called when page has been completely loaded\n",
       "                        $(document).ready(function() {\n",
       "                            console.log('Document is ready');\n",
       "                            \n",
       "                        } )\n",
       "                        function populate_jmol_1(){\n",
       "                            html_text = \"<center><h3>CHMA2PbI4</h3></center>\" + Jmol.getAppletHtml(myJmol_1, Info_1);\n",
       "                            html_text += Jmol.jmolButton(myJmol_1,'load \"data/cifs/CHMA2PbI4.cif\"  SUPERCELL {2 2 2}; hide _H;', \"Show 2x2x2 supercell\");\n",
       "                            html_text += Jmol.jmolButton(myJmol_1,'load \"data/cifs/CHMA2PbI4.cif\"; hide _H;', \"Reset\");\n",
       "                            // html_text += '<a href=\"/data/cifs/CHMA2PbI4.cif\" target=\"_blank\"><button> Download CHMA2PbI4 CIF</button></a>'\n",
       "                            $(\"#jmol_div_1\").html(html_text);\n",
       "                        }\n",
       "                        var lastPrompt=0;\n",
       "                    </script>\n",
       "                    </head> <body>\n",
       "                        <div class='plot_div'>\n",
       "                            <div id='jmol_div_0'> \n",
       "                                <div style=\"text-align: center;\">\n",
       "                                    <button type=\"button\" onclick=populate_jmol_0()>Show Molecule</button>\n",
       "                                </div> \n",
       "                            </div>\n",
       "                        </div>\n",
       "                        \n",
       "                        <div class='plot_div'>\n",
       "                            <div id='jmol_div_1'> \n",
       "                                <div style=\"text-align: center;\">\n",
       "                                    <button type=\"button\" onclick=populate_jmol_1()>Show Molecule</button>\n",
       "                                </div> \n",
       "                            </div>\n",
       "                        </div>\n",
       "                        </body> </html>"
      ],
      "text/plain": [
       "<IPython.core.display.HTML object>"
      ]
     },
     "execution_count": 4,
     "metadata": {},
     "output_type": "execute_result"
    }
   ],
   "source": [
    "import cif_plots\n",
    "importlib.reload(cif_plots)\n",
    "\n",
    "cif_paths = ['data/cifs/AcetPbI3.cif', 'data/cifs/CHMA2PbI4.cif']\n",
    "fig_names = ['AcetPbI3', 'CHMA2PbI4']\n",
    "doi_values = {'AcetPbI3':'10.5517/cc1j04rf', 'CHMA2PbI4': '10.5517/ccdc.csd.cc1j88bd'}\n",
    "fig4 = cif_plots.JsMolFigure(cif_paths, fig_names, doi_values, widget_side=600)\n",
    "fig4.plot"
   ]
  },
  {
   "cell_type": "code",
   "execution_count": null,
   "metadata": {},
   "outputs": [],
   "source": []
  }
 ],
 "metadata": {
  "hide_input": false,
  "kernelspec": {
   "display_name": "Python 3",
   "language": "python",
   "name": "python3"
  },
  "language_info": {
   "codemirror_mode": {
    "name": "ipython",
    "version": 3
   },
   "file_extension": ".py",
   "mimetype": "text/x-python",
   "name": "python",
   "nbconvert_exporter": "python",
   "pygments_lexer": "ipython3",
   "version": "3.7.4"
  }
 },
 "nbformat": 4,
 "nbformat_minor": 2
}
