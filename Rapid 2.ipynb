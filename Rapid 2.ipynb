{
 "cells": [
  {
   "cell_type": "code",
   "execution_count": 1,
   "metadata": {},
   "outputs": [],
   "source": [
    "import pandas as pd\n",
    "import numpy as np\n",
    "from sklearn.decomposition import PCA"
   ]
  },
  {
   "cell_type": "markdown",
   "metadata": {},
   "source": [
    "# Data pre processing"
   ]
  },
  {
   "cell_type": "code",
   "execution_count": 50,
   "metadata": {},
   "outputs": [],
   "source": [
    "raw_data = pd.read_csv('./data/Final_Results_11_3_20.csv')\n",
    "crystal_data = raw_data[raw_data['Crystallization Data?']=='Yes']\n",
    "numeric_cdata = crystal_data.select_dtypes(include='number')"
   ]
  },
  {
   "cell_type": "markdown",
   "metadata": {},
   "source": [
    "## Plot settings"
   ]
  },
  {
   "cell_type": "code",
   "execution_count": 95,
   "metadata": {},
   "outputs": [],
   "source": [
    "import plotly.graph_objects as go\n",
    "colors = [\n",
    "    '#1f77b4',  # muted blue\n",
    "    '#ff7f0e',  # safety orange\n",
    "    '#2ca02c',  # cooked asparagus green\n",
    "    '#d62728',  # brick red\n",
    "    '#9467bd',  # muted purple\n",
    "    '#8c564b',  # chestnut brown\n",
    "    '#e377c2',  # raspberry yogurt pink\n",
    "    '#7f7f7f',  # middle gray\n",
    "    '#bcbd22',  # curry yellow-green\n",
    "    '#17becf'   # blue-teal\n",
    "]\n",
    "solvents = list(crystal_data['Solvent'].unique())\n",
    "amines = list(crystal_data['Amine'].unique())\n",
    "molecule_type = {\n",
    "    'NNDimethylethane12diammoniumiodide': 'branch',\n",
    "    'NNDiethylpropane13diammoniumiodide': 'branch',\n",
    "    'Benzenediaminedihydroiodide': '6-membered-ring',\n",
    "    '2Pyrrolidin1ium1ylethylammoniumiodide': '5-membered-ring',\n",
    "    'AcNH3I': 'branch',\n",
    "    'CyclohexylmethylammoniumIodide': '6-membered-ring',\n",
    "    'PhEtNH3I': '6-membered-ring',\n",
    "    'Propane13diammoniumIodide': 'chain',\n",
    "    'EtNH3I': 'chain',\n",
    "    'MeNH3I': 'chain',\n",
    "}\n",
    "types = ['branch', '6-membered-ring', '5-membered-ring', 'chain']\n",
    "sol_colors= {solvents[i]:colors[i] for i in range(len(solvents))}\n",
    "amine_colors = {amines[i]:colors[i] for i in range(len(amines))}\n",
    "type_colors = {types[i]:colors[i] for i in range(len(types))}\n",
    "\n",
    "\n",
    "def PCA2D(loadings, features, data):\n",
    "    #marker_text = [f\"Solvent: {row['Solvent']} Amine: {row['Amine']}\" for idx, row in crystal_data.iterrows()]\n",
    "    #colors = [color_scheme[column[idx]] for idx, row in crystal_data.iterrows()]\n",
    "    fig = go.Figure(data=data)\n",
    "    \n",
    "    for i, feature in enumerate(features):\n",
    "        fig.add_shape(\n",
    "            type='line',\n",
    "            x0=0, y0=0,\n",
    "            x1=loadings[i, 0],\n",
    "            y1=loadings[i, 1]\n",
    "        )\n",
    "        fig.add_annotation(\n",
    "            x=loadings[i, 0],\n",
    "            y=loadings[i, 1],\n",
    "            ax=0, ay=0,\n",
    "            xanchor=\"center\",\n",
    "            yanchor=\"bottom\",\n",
    "            text=feature,\n",
    "        )\n",
    "    return fig\n",
    "\n",
    "def PCA3D(loadings, features, data):\n",
    "    fig = go.Figure(data=data)\n",
    "    x_lines = []\n",
    "    y_lines = []\n",
    "    z_lines = []\n",
    "    annotations = []\n",
    "    for i, feature in enumerate(features):\n",
    "        x_lines.append(0.0)\n",
    "        x_lines.append(loadings[i, 0])\n",
    "        \n",
    "        y_lines.append(0.0)\n",
    "        y_lines.append(loadings[i, 1])\n",
    "        \n",
    "        z_lines.append(0.0)\n",
    "        z_lines.append(loadings[i, 2])\n",
    "        \n",
    "        a = dict(showarrow=False,\n",
    "                    x=loadings[i, 0],\n",
    "                    y=loadings[i, 1],\n",
    "                    z=loadings[i, 2],\n",
    "                    text=feature,\n",
    "                    xanchor=\"left\",\n",
    "                    xshift=10,\n",
    "                    opacity=0.7)\n",
    "        annotations.append(a)\n",
    "    fig.update_layout(scene=dict(annotations=annotations,))\n",
    "                    \n",
    "    \n",
    "    trace2 = go.Scatter3d(\n",
    "            x=x_lines,\n",
    "            y=y_lines,\n",
    "            z=z_lines,\n",
    "            mode='lines',\n",
    "            name='PCA components'\n",
    "        )\n",
    "    fig.add_trace(trace2)\n",
    "    \n",
    "    return fig"
   ]
  },
  {
   "cell_type": "markdown",
   "metadata": {},
   "source": [
    "## 2 Principal Components"
   ]
  },
  {
   "cell_type": "code",
   "execution_count": 52,
   "metadata": {},
   "outputs": [],
   "source": [
    "pca = PCA(n_components=2)\n",
    "pca.fit(numeric_cdata)\n",
    "features = list(numeric_cdata.columns)\n",
    "pca_res = pca.transform(numeric_cdata)\n",
    "loadings = pca.components_.T * np.sqrt(pca.explained_variance_)"
   ]
  },
  {
   "cell_type": "code",
   "execution_count": 66,
   "metadata": {},
   "outputs": [
    {
     "name": "stdout",
     "output_type": "stream",
     "text": [
      "21\n",
      "10\n"
     ]
    },
    {
     "name": "stderr",
     "output_type": "stream",
     "text": [
      "/Users/vshekar/anaconda3/lib/python3.7/site-packages/ipykernel_launcher.py:3: SettingWithCopyWarning:\n",
      "\n",
      "\n",
      "A value is trying to be set on a copy of a slice from a DataFrame.\n",
      "Try using .loc[row_indexer,col_indexer] = value instead\n",
      "\n",
      "See the caveats in the documentation: http://pandas.pydata.org/pandas-docs/stable/indexing.html#indexing-view-versus-copy\n",
      "\n",
      "/Users/vshekar/anaconda3/lib/python3.7/site-packages/ipykernel_launcher.py:4: SettingWithCopyWarning:\n",
      "\n",
      "\n",
      "A value is trying to be set on a copy of a slice from a DataFrame.\n",
      "Try using .loc[row_indexer,col_indexer] = value instead\n",
      "\n",
      "See the caveats in the documentation: http://pandas.pydata.org/pandas-docs/stable/indexing.html#indexing-view-versus-copy\n",
      "\n"
     ]
    }
   ],
   "source": [
    "crystal_data['PCA_X'] = pca_res[:,0]\n",
    "crystal_data['PCA_Y'] = pca_res[:,1]"
   ]
  },
  {
   "cell_type": "markdown",
   "metadata": {},
   "source": [
    "## Colored by solvent"
   ]
  },
  {
   "cell_type": "code",
   "execution_count": 72,
   "metadata": {},
   "outputs": [
    {
     "data": {
      "application/vnd.plotly.v1+json": {
       "config": {
        "plotlyServerURL": "https://plot.ly"
       },
       "data": [
        {
         "mode": "markers",
         "name": "DMF",
         "text": [
          "Solvent: DMF Amine: 2Pyrrolidin1ium1ylethylammoniumiodide",
          "Solvent: DMF Amine: MeNH3I",
          "Solvent: DMF Amine: NNDimethylethane12diammoniumiodide",
          "Solvent: DMF Amine: Benzenediaminedihydroiodide"
         ],
         "type": "scatter",
         "x": [
          -19413.8096924734,
          36457.19029987919,
          -3869.8094460437865,
          10166.190213139504
         ],
         "y": [
          1.0352636408255473,
          -4.796235503164407,
          0.40669640623374026,
          -2.620121822816045
         ]
        },
        {
         "mode": "markers",
         "name": "DMF:DMSO",
         "text": [
          "Solvent: DMF:DMSO Amine: 2Pyrrolidin1ium1ylethylammoniumiodide",
          "Solvent: DMF:DMSO Amine: NNDimethylethane12diammoniumiodide",
          "Solvent: DMF:DMSO Amine: Benzenediaminedihydroiodide"
         ],
         "type": "scatter",
         "x": [
          19046.191048368604,
          21386.19094276899,
          17906.191637112748
         ],
         "y": [
          1.083253350273391,
          0.11186627582854787,
          4.278448874034924
         ]
        },
        {
         "mode": "markers",
         "name": "GBL:DMF",
         "text": [
          "Solvent: GBL:DMF Amine: 2Pyrrolidin1ium1ylethylammoniumiodide",
          "Solvent: GBL:DMF Amine: AcNH3I",
          "Solvent: GBL:DMF Amine: MeNH3I",
          "Solvent: GBL:DMF Amine: Propane13diammoniumIodide",
          "Solvent: GBL:DMF Amine: NNDimethylethane12diammoniumiodide",
          "Solvent: GBL:DMF Amine: NNDiethylpropane13diammoniumiodide",
          "Solvent: GBL:DMF Amine: Benzenediaminedihydroiodide"
         ],
         "type": "scatter",
         "x": [
          -23106.810755316346,
          -12213.809381921863,
          34836.19201322703,
          -7170.808703199012,
          -16172.808875326607,
          -764.8081234739275,
          -22533.8101813237
         ],
         "y": [
          -4.221506210114238,
          2.0141114605959727,
          4.566932875920917,
          4.918247843869627,
          5.170881425571847,
          7.319332888132012,
          -0.6574298628530539
         ]
        },
        {
         "mode": "markers",
         "name": "GBL",
         "text": [
          "Solvent: GBL Amine: CyclohexylmethylammoniumIodide",
          "Solvent: GBL Amine: AcNH3I",
          "Solvent: GBL Amine: EtNH3I",
          "Solvent: GBL Amine: MeNH3I",
          "Solvent: GBL Amine: PhEtNH3I",
          "Solvent: GBL Amine: NNDiethylpropane13diammoniumiodide"
         ],
         "type": "scatter",
         "x": [
          -23613.81080859162,
          -21933.81017949,
          23968.190149105023,
          -8493.809806282925,
          16586.190095186084,
          -21213.810369744788
         ],
         "y": [
          -4.004533168003079,
          -1.0125445343578496,
          -4.3122693996101145,
          -0.8269156626164246,
          -3.711809920414465,
          -2.013042907455655
         ]
        },
        {
         "mode": "markers",
         "name": "DMSO",
         "text": [
          "Solvent: DMSO Amine: NNDimethylethane12diammoniumiodide"
         ],
         "type": "scatter",
         "x": [
          149.18992440082397
         ],
         "y": [
          -2.7286260498812016
         ]
        }
       ],
       "layout": {
        "annotations": [
         {
          "ax": 0,
          "ay": 0,
          "text": "Best Kin, Mols/sec",
          "x": -3.780520896342035e-09,
          "xanchor": "center",
          "y": 5.4385390988983313e-08,
          "yanchor": "bottom"
         },
         {
          "ax": 0,
          "ay": 0,
          "text": "Best Kout, Mols/sec",
          "x": 3.188688603325792e-09,
          "xanchor": "center",
          "y": 2.5170050471979036e-08,
          "yanchor": "bottom"
         },
         {
          "ax": 0,
          "ay": 0,
          "text": "Best Fit SSE",
          "x": -0.000148029496990225,
          "xanchor": "center",
          "y": -0.0002827836232936273,
          "yanchor": "bottom"
         },
         {
          "ax": 0,
          "ay": 0,
          "text": "Crystallization Time, Seconds",
          "x": 20116.635087954062,
          "xanchor": "center",
          "y": -0.0006891189616897046,
          "yanchor": "bottom"
         },
         {
          "ax": 0,
          "ay": 0,
          "text": "Crystallization Height, cm",
          "x": 0.21946625572846865,
          "xanchor": "center",
          "y": 0.033621426240548154,
          "yanchor": "bottom"
         },
         {
          "ax": 0,
          "ay": 0,
          "text": "Antisolvent Concentration, Mols/L",
          "x": 3.732336524016674,
          "xanchor": "center",
          "y": 3.5932118246211813,
          "yanchor": "bottom"
         },
         {
          "ax": 0,
          "ay": 0,
          "text": "Solvent Concentration, Mols/L",
          "x": -1.5092506857239785,
          "xanchor": "center",
          "y": -0.2787599431340927,
          "yanchor": "bottom"
         },
         {
          "ax": 0,
          "ay": 0,
          "text": "FAH Concentration, Mols/L",
          "x": -0.34924604096854456,
          "xanchor": "center",
          "y": -0.06164744956239918,
          "yanchor": "bottom"
         },
         {
          "ax": 0,
          "ay": 0,
          "text": "Inorganic Concentration, Mols/L",
          "x": -0.08346665633480593,
          "xanchor": "center",
          "y": -0.00745259506282077,
          "yanchor": "bottom"
         },
         {
          "ax": 0,
          "ay": 0,
          "text": "Organic Concentration, Mols/L",
          "x": -0.12118464442186687,
          "xanchor": "center",
          "y": -0.011794698434988444,
          "yanchor": "bottom"
         }
        ],
        "shapes": [
         {
          "type": "line",
          "x0": 0,
          "x1": -3.780520896342035e-09,
          "y0": 0,
          "y1": 5.4385390988983313e-08
         },
         {
          "type": "line",
          "x0": 0,
          "x1": 3.188688603325792e-09,
          "y0": 0,
          "y1": 2.5170050471979036e-08
         },
         {
          "type": "line",
          "x0": 0,
          "x1": -0.000148029496990225,
          "y0": 0,
          "y1": -0.0002827836232936273
         },
         {
          "type": "line",
          "x0": 0,
          "x1": 20116.635087954062,
          "y0": 0,
          "y1": -0.0006891189616897046
         },
         {
          "type": "line",
          "x0": 0,
          "x1": 0.21946625572846865,
          "y0": 0,
          "y1": 0.033621426240548154
         },
         {
          "type": "line",
          "x0": 0,
          "x1": 3.732336524016674,
          "y0": 0,
          "y1": 3.5932118246211813
         },
         {
          "type": "line",
          "x0": 0,
          "x1": -1.5092506857239785,
          "y0": 0,
          "y1": -0.2787599431340927
         },
         {
          "type": "line",
          "x0": 0,
          "x1": -0.34924604096854456,
          "y0": 0,
          "y1": -0.06164744956239918
         },
         {
          "type": "line",
          "x0": 0,
          "x1": -0.08346665633480593,
          "y0": 0,
          "y1": -0.00745259506282077
         },
         {
          "type": "line",
          "x0": 0,
          "x1": -0.12118464442186687,
          "y0": 0,
          "y1": -0.011794698434988444
         }
        ],
        "template": {
         "data": {
          "bar": [
           {
            "error_x": {
             "color": "#2a3f5f"
            },
            "error_y": {
             "color": "#2a3f5f"
            },
            "marker": {
             "line": {
              "color": "#E5ECF6",
              "width": 0.5
             }
            },
            "type": "bar"
           }
          ],
          "barpolar": [
           {
            "marker": {
             "line": {
              "color": "#E5ECF6",
              "width": 0.5
             }
            },
            "type": "barpolar"
           }
          ],
          "carpet": [
           {
            "aaxis": {
             "endlinecolor": "#2a3f5f",
             "gridcolor": "white",
             "linecolor": "white",
             "minorgridcolor": "white",
             "startlinecolor": "#2a3f5f"
            },
            "baxis": {
             "endlinecolor": "#2a3f5f",
             "gridcolor": "white",
             "linecolor": "white",
             "minorgridcolor": "white",
             "startlinecolor": "#2a3f5f"
            },
            "type": "carpet"
           }
          ],
          "choropleth": [
           {
            "colorbar": {
             "outlinewidth": 0,
             "ticks": ""
            },
            "type": "choropleth"
           }
          ],
          "contour": [
           {
            "colorbar": {
             "outlinewidth": 0,
             "ticks": ""
            },
            "colorscale": [
             [
              0,
              "#0d0887"
             ],
             [
              0.1111111111111111,
              "#46039f"
             ],
             [
              0.2222222222222222,
              "#7201a8"
             ],
             [
              0.3333333333333333,
              "#9c179e"
             ],
             [
              0.4444444444444444,
              "#bd3786"
             ],
             [
              0.5555555555555556,
              "#d8576b"
             ],
             [
              0.6666666666666666,
              "#ed7953"
             ],
             [
              0.7777777777777778,
              "#fb9f3a"
             ],
             [
              0.8888888888888888,
              "#fdca26"
             ],
             [
              1,
              "#f0f921"
             ]
            ],
            "type": "contour"
           }
          ],
          "contourcarpet": [
           {
            "colorbar": {
             "outlinewidth": 0,
             "ticks": ""
            },
            "type": "contourcarpet"
           }
          ],
          "heatmap": [
           {
            "colorbar": {
             "outlinewidth": 0,
             "ticks": ""
            },
            "colorscale": [
             [
              0,
              "#0d0887"
             ],
             [
              0.1111111111111111,
              "#46039f"
             ],
             [
              0.2222222222222222,
              "#7201a8"
             ],
             [
              0.3333333333333333,
              "#9c179e"
             ],
             [
              0.4444444444444444,
              "#bd3786"
             ],
             [
              0.5555555555555556,
              "#d8576b"
             ],
             [
              0.6666666666666666,
              "#ed7953"
             ],
             [
              0.7777777777777778,
              "#fb9f3a"
             ],
             [
              0.8888888888888888,
              "#fdca26"
             ],
             [
              1,
              "#f0f921"
             ]
            ],
            "type": "heatmap"
           }
          ],
          "heatmapgl": [
           {
            "colorbar": {
             "outlinewidth": 0,
             "ticks": ""
            },
            "colorscale": [
             [
              0,
              "#0d0887"
             ],
             [
              0.1111111111111111,
              "#46039f"
             ],
             [
              0.2222222222222222,
              "#7201a8"
             ],
             [
              0.3333333333333333,
              "#9c179e"
             ],
             [
              0.4444444444444444,
              "#bd3786"
             ],
             [
              0.5555555555555556,
              "#d8576b"
             ],
             [
              0.6666666666666666,
              "#ed7953"
             ],
             [
              0.7777777777777778,
              "#fb9f3a"
             ],
             [
              0.8888888888888888,
              "#fdca26"
             ],
             [
              1,
              "#f0f921"
             ]
            ],
            "type": "heatmapgl"
           }
          ],
          "histogram": [
           {
            "marker": {
             "colorbar": {
              "outlinewidth": 0,
              "ticks": ""
             }
            },
            "type": "histogram"
           }
          ],
          "histogram2d": [
           {
            "colorbar": {
             "outlinewidth": 0,
             "ticks": ""
            },
            "colorscale": [
             [
              0,
              "#0d0887"
             ],
             [
              0.1111111111111111,
              "#46039f"
             ],
             [
              0.2222222222222222,
              "#7201a8"
             ],
             [
              0.3333333333333333,
              "#9c179e"
             ],
             [
              0.4444444444444444,
              "#bd3786"
             ],
             [
              0.5555555555555556,
              "#d8576b"
             ],
             [
              0.6666666666666666,
              "#ed7953"
             ],
             [
              0.7777777777777778,
              "#fb9f3a"
             ],
             [
              0.8888888888888888,
              "#fdca26"
             ],
             [
              1,
              "#f0f921"
             ]
            ],
            "type": "histogram2d"
           }
          ],
          "histogram2dcontour": [
           {
            "colorbar": {
             "outlinewidth": 0,
             "ticks": ""
            },
            "colorscale": [
             [
              0,
              "#0d0887"
             ],
             [
              0.1111111111111111,
              "#46039f"
             ],
             [
              0.2222222222222222,
              "#7201a8"
             ],
             [
              0.3333333333333333,
              "#9c179e"
             ],
             [
              0.4444444444444444,
              "#bd3786"
             ],
             [
              0.5555555555555556,
              "#d8576b"
             ],
             [
              0.6666666666666666,
              "#ed7953"
             ],
             [
              0.7777777777777778,
              "#fb9f3a"
             ],
             [
              0.8888888888888888,
              "#fdca26"
             ],
             [
              1,
              "#f0f921"
             ]
            ],
            "type": "histogram2dcontour"
           }
          ],
          "mesh3d": [
           {
            "colorbar": {
             "outlinewidth": 0,
             "ticks": ""
            },
            "type": "mesh3d"
           }
          ],
          "parcoords": [
           {
            "line": {
             "colorbar": {
              "outlinewidth": 0,
              "ticks": ""
             }
            },
            "type": "parcoords"
           }
          ],
          "pie": [
           {
            "automargin": true,
            "type": "pie"
           }
          ],
          "scatter": [
           {
            "marker": {
             "colorbar": {
              "outlinewidth": 0,
              "ticks": ""
             }
            },
            "type": "scatter"
           }
          ],
          "scatter3d": [
           {
            "line": {
             "colorbar": {
              "outlinewidth": 0,
              "ticks": ""
             }
            },
            "marker": {
             "colorbar": {
              "outlinewidth": 0,
              "ticks": ""
             }
            },
            "type": "scatter3d"
           }
          ],
          "scattercarpet": [
           {
            "marker": {
             "colorbar": {
              "outlinewidth": 0,
              "ticks": ""
             }
            },
            "type": "scattercarpet"
           }
          ],
          "scattergeo": [
           {
            "marker": {
             "colorbar": {
              "outlinewidth": 0,
              "ticks": ""
             }
            },
            "type": "scattergeo"
           }
          ],
          "scattergl": [
           {
            "marker": {
             "colorbar": {
              "outlinewidth": 0,
              "ticks": ""
             }
            },
            "type": "scattergl"
           }
          ],
          "scattermapbox": [
           {
            "marker": {
             "colorbar": {
              "outlinewidth": 0,
              "ticks": ""
             }
            },
            "type": "scattermapbox"
           }
          ],
          "scatterpolar": [
           {
            "marker": {
             "colorbar": {
              "outlinewidth": 0,
              "ticks": ""
             }
            },
            "type": "scatterpolar"
           }
          ],
          "scatterpolargl": [
           {
            "marker": {
             "colorbar": {
              "outlinewidth": 0,
              "ticks": ""
             }
            },
            "type": "scatterpolargl"
           }
          ],
          "scatterternary": [
           {
            "marker": {
             "colorbar": {
              "outlinewidth": 0,
              "ticks": ""
             }
            },
            "type": "scatterternary"
           }
          ],
          "surface": [
           {
            "colorbar": {
             "outlinewidth": 0,
             "ticks": ""
            },
            "colorscale": [
             [
              0,
              "#0d0887"
             ],
             [
              0.1111111111111111,
              "#46039f"
             ],
             [
              0.2222222222222222,
              "#7201a8"
             ],
             [
              0.3333333333333333,
              "#9c179e"
             ],
             [
              0.4444444444444444,
              "#bd3786"
             ],
             [
              0.5555555555555556,
              "#d8576b"
             ],
             [
              0.6666666666666666,
              "#ed7953"
             ],
             [
              0.7777777777777778,
              "#fb9f3a"
             ],
             [
              0.8888888888888888,
              "#fdca26"
             ],
             [
              1,
              "#f0f921"
             ]
            ],
            "type": "surface"
           }
          ],
          "table": [
           {
            "cells": {
             "fill": {
              "color": "#EBF0F8"
             },
             "line": {
              "color": "white"
             }
            },
            "header": {
             "fill": {
              "color": "#C8D4E3"
             },
             "line": {
              "color": "white"
             }
            },
            "type": "table"
           }
          ]
         },
         "layout": {
          "annotationdefaults": {
           "arrowcolor": "#2a3f5f",
           "arrowhead": 0,
           "arrowwidth": 1
          },
          "coloraxis": {
           "colorbar": {
            "outlinewidth": 0,
            "ticks": ""
           }
          },
          "colorscale": {
           "diverging": [
            [
             0,
             "#8e0152"
            ],
            [
             0.1,
             "#c51b7d"
            ],
            [
             0.2,
             "#de77ae"
            ],
            [
             0.3,
             "#f1b6da"
            ],
            [
             0.4,
             "#fde0ef"
            ],
            [
             0.5,
             "#f7f7f7"
            ],
            [
             0.6,
             "#e6f5d0"
            ],
            [
             0.7,
             "#b8e186"
            ],
            [
             0.8,
             "#7fbc41"
            ],
            [
             0.9,
             "#4d9221"
            ],
            [
             1,
             "#276419"
            ]
           ],
           "sequential": [
            [
             0,
             "#0d0887"
            ],
            [
             0.1111111111111111,
             "#46039f"
            ],
            [
             0.2222222222222222,
             "#7201a8"
            ],
            [
             0.3333333333333333,
             "#9c179e"
            ],
            [
             0.4444444444444444,
             "#bd3786"
            ],
            [
             0.5555555555555556,
             "#d8576b"
            ],
            [
             0.6666666666666666,
             "#ed7953"
            ],
            [
             0.7777777777777778,
             "#fb9f3a"
            ],
            [
             0.8888888888888888,
             "#fdca26"
            ],
            [
             1,
             "#f0f921"
            ]
           ],
           "sequentialminus": [
            [
             0,
             "#0d0887"
            ],
            [
             0.1111111111111111,
             "#46039f"
            ],
            [
             0.2222222222222222,
             "#7201a8"
            ],
            [
             0.3333333333333333,
             "#9c179e"
            ],
            [
             0.4444444444444444,
             "#bd3786"
            ],
            [
             0.5555555555555556,
             "#d8576b"
            ],
            [
             0.6666666666666666,
             "#ed7953"
            ],
            [
             0.7777777777777778,
             "#fb9f3a"
            ],
            [
             0.8888888888888888,
             "#fdca26"
            ],
            [
             1,
             "#f0f921"
            ]
           ]
          },
          "colorway": [
           "#636efa",
           "#EF553B",
           "#00cc96",
           "#ab63fa",
           "#FFA15A",
           "#19d3f3",
           "#FF6692",
           "#B6E880",
           "#FF97FF",
           "#FECB52"
          ],
          "font": {
           "color": "#2a3f5f"
          },
          "geo": {
           "bgcolor": "white",
           "lakecolor": "white",
           "landcolor": "#E5ECF6",
           "showlakes": true,
           "showland": true,
           "subunitcolor": "white"
          },
          "hoverlabel": {
           "align": "left"
          },
          "hovermode": "closest",
          "mapbox": {
           "style": "light"
          },
          "paper_bgcolor": "white",
          "plot_bgcolor": "#E5ECF6",
          "polar": {
           "angularaxis": {
            "gridcolor": "white",
            "linecolor": "white",
            "ticks": ""
           },
           "bgcolor": "#E5ECF6",
           "radialaxis": {
            "gridcolor": "white",
            "linecolor": "white",
            "ticks": ""
           }
          },
          "scene": {
           "xaxis": {
            "backgroundcolor": "#E5ECF6",
            "gridcolor": "white",
            "gridwidth": 2,
            "linecolor": "white",
            "showbackground": true,
            "ticks": "",
            "zerolinecolor": "white"
           },
           "yaxis": {
            "backgroundcolor": "#E5ECF6",
            "gridcolor": "white",
            "gridwidth": 2,
            "linecolor": "white",
            "showbackground": true,
            "ticks": "",
            "zerolinecolor": "white"
           },
           "zaxis": {
            "backgroundcolor": "#E5ECF6",
            "gridcolor": "white",
            "gridwidth": 2,
            "linecolor": "white",
            "showbackground": true,
            "ticks": "",
            "zerolinecolor": "white"
           }
          },
          "shapedefaults": {
           "line": {
            "color": "#2a3f5f"
           }
          },
          "ternary": {
           "aaxis": {
            "gridcolor": "white",
            "linecolor": "white",
            "ticks": ""
           },
           "baxis": {
            "gridcolor": "white",
            "linecolor": "white",
            "ticks": ""
           },
           "bgcolor": "#E5ECF6",
           "caxis": {
            "gridcolor": "white",
            "linecolor": "white",
            "ticks": ""
           }
          },
          "title": {
           "x": 0.05
          },
          "xaxis": {
           "automargin": true,
           "gridcolor": "white",
           "linecolor": "white",
           "ticks": "",
           "title": {
            "standoff": 15
           },
           "zerolinecolor": "white",
           "zerolinewidth": 2
          },
          "yaxis": {
           "automargin": true,
           "gridcolor": "white",
           "linecolor": "white",
           "ticks": "",
           "title": {
            "standoff": 15
           },
           "zerolinecolor": "white",
           "zerolinewidth": 2
          }
         }
        }
       }
      },
      "text/html": [
       "<div>\n",
       "        \n",
       "        \n",
       "            <div id=\"2d240102-e605-44ea-8e3e-0ddfb0d49b41\" class=\"plotly-graph-div\" style=\"height:525px; width:100%;\"></div>\n",
       "            <script type=\"text/javascript\">\n",
       "                require([\"plotly\"], function(Plotly) {\n",
       "                    window.PLOTLYENV=window.PLOTLYENV || {};\n",
       "                    \n",
       "                if (document.getElementById(\"2d240102-e605-44ea-8e3e-0ddfb0d49b41\")) {\n",
       "                    Plotly.newPlot(\n",
       "                        '2d240102-e605-44ea-8e3e-0ddfb0d49b41',\n",
       "                        [{\"mode\": \"markers\", \"name\": \"DMF\", \"text\": [\"Solvent: DMF Amine: 2Pyrrolidin1ium1ylethylammoniumiodide\", \"Solvent: DMF Amine: MeNH3I\", \"Solvent: DMF Amine: NNDimethylethane12diammoniumiodide\", \"Solvent: DMF Amine: Benzenediaminedihydroiodide\"], \"type\": \"scatter\", \"x\": [-19413.8096924734, 36457.19029987919, -3869.8094460437865, 10166.190213139504], \"y\": [1.0352636408255473, -4.796235503164407, 0.40669640623374026, -2.620121822816045]}, {\"mode\": \"markers\", \"name\": \"DMF:DMSO\", \"text\": [\"Solvent: DMF:DMSO Amine: 2Pyrrolidin1ium1ylethylammoniumiodide\", \"Solvent: DMF:DMSO Amine: NNDimethylethane12diammoniumiodide\", \"Solvent: DMF:DMSO Amine: Benzenediaminedihydroiodide\"], \"type\": \"scatter\", \"x\": [19046.191048368604, 21386.19094276899, 17906.191637112748], \"y\": [1.083253350273391, 0.11186627582854787, 4.278448874034924]}, {\"mode\": \"markers\", \"name\": \"GBL:DMF\", \"text\": [\"Solvent: GBL:DMF Amine: 2Pyrrolidin1ium1ylethylammoniumiodide\", \"Solvent: GBL:DMF Amine: AcNH3I\", \"Solvent: GBL:DMF Amine: MeNH3I\", \"Solvent: GBL:DMF Amine: Propane13diammoniumIodide\", \"Solvent: GBL:DMF Amine: NNDimethylethane12diammoniumiodide\", \"Solvent: GBL:DMF Amine: NNDiethylpropane13diammoniumiodide\", \"Solvent: GBL:DMF Amine: Benzenediaminedihydroiodide\"], \"type\": \"scatter\", \"x\": [-23106.810755316346, -12213.809381921863, 34836.19201322703, -7170.808703199012, -16172.808875326607, -764.8081234739275, -22533.8101813237], \"y\": [-4.221506210114238, 2.0141114605959727, 4.566932875920917, 4.918247843869627, 5.170881425571847, 7.319332888132012, -0.6574298628530539]}, {\"mode\": \"markers\", \"name\": \"GBL\", \"text\": [\"Solvent: GBL Amine: CyclohexylmethylammoniumIodide\", \"Solvent: GBL Amine: AcNH3I\", \"Solvent: GBL Amine: EtNH3I\", \"Solvent: GBL Amine: MeNH3I\", \"Solvent: GBL Amine: PhEtNH3I\", \"Solvent: GBL Amine: NNDiethylpropane13diammoniumiodide\"], \"type\": \"scatter\", \"x\": [-23613.81080859162, -21933.81017949, 23968.190149105023, -8493.809806282925, 16586.190095186084, -21213.810369744788], \"y\": [-4.004533168003079, -1.0125445343578496, -4.3122693996101145, -0.8269156626164246, -3.711809920414465, -2.013042907455655]}, {\"mode\": \"markers\", \"name\": \"DMSO\", \"text\": [\"Solvent: DMSO Amine: NNDimethylethane12diammoniumiodide\"], \"type\": \"scatter\", \"x\": [149.18992440082397], \"y\": [-2.7286260498812016]}],\n",
       "                        {\"annotations\": [{\"ax\": 0, \"ay\": 0, \"text\": \"Best Kin, Mols/sec\", \"x\": -3.780520896342035e-09, \"xanchor\": \"center\", \"y\": 5.4385390988983313e-08, \"yanchor\": \"bottom\"}, {\"ax\": 0, \"ay\": 0, \"text\": \"Best Kout, Mols/sec\", \"x\": 3.188688603325792e-09, \"xanchor\": \"center\", \"y\": 2.5170050471979036e-08, \"yanchor\": \"bottom\"}, {\"ax\": 0, \"ay\": 0, \"text\": \"Best Fit SSE\", \"x\": -0.000148029496990225, \"xanchor\": \"center\", \"y\": -0.0002827836232936273, \"yanchor\": \"bottom\"}, {\"ax\": 0, \"ay\": 0, \"text\": \"Crystallization Time, Seconds\", \"x\": 20116.635087954062, \"xanchor\": \"center\", \"y\": -0.0006891189616897046, \"yanchor\": \"bottom\"}, {\"ax\": 0, \"ay\": 0, \"text\": \"Crystallization Height, cm\", \"x\": 0.21946625572846865, \"xanchor\": \"center\", \"y\": 0.033621426240548154, \"yanchor\": \"bottom\"}, {\"ax\": 0, \"ay\": 0, \"text\": \"Antisolvent Concentration, Mols/L\", \"x\": 3.732336524016674, \"xanchor\": \"center\", \"y\": 3.5932118246211813, \"yanchor\": \"bottom\"}, {\"ax\": 0, \"ay\": 0, \"text\": \"Solvent Concentration, Mols/L\", \"x\": -1.5092506857239785, \"xanchor\": \"center\", \"y\": -0.2787599431340927, \"yanchor\": \"bottom\"}, {\"ax\": 0, \"ay\": 0, \"text\": \"FAH Concentration, Mols/L\", \"x\": -0.34924604096854456, \"xanchor\": \"center\", \"y\": -0.06164744956239918, \"yanchor\": \"bottom\"}, {\"ax\": 0, \"ay\": 0, \"text\": \"Inorganic Concentration, Mols/L\", \"x\": -0.08346665633480593, \"xanchor\": \"center\", \"y\": -0.00745259506282077, \"yanchor\": \"bottom\"}, {\"ax\": 0, \"ay\": 0, \"text\": \"Organic Concentration, Mols/L\", \"x\": -0.12118464442186687, \"xanchor\": \"center\", \"y\": -0.011794698434988444, \"yanchor\": \"bottom\"}], \"shapes\": [{\"type\": \"line\", \"x0\": 0, \"x1\": -3.780520896342035e-09, \"y0\": 0, \"y1\": 5.4385390988983313e-08}, {\"type\": \"line\", \"x0\": 0, \"x1\": 3.188688603325792e-09, \"y0\": 0, \"y1\": 2.5170050471979036e-08}, {\"type\": \"line\", \"x0\": 0, \"x1\": -0.000148029496990225, \"y0\": 0, \"y1\": -0.0002827836232936273}, {\"type\": \"line\", \"x0\": 0, \"x1\": 20116.635087954062, \"y0\": 0, \"y1\": -0.0006891189616897046}, {\"type\": \"line\", \"x0\": 0, \"x1\": 0.21946625572846865, \"y0\": 0, \"y1\": 0.033621426240548154}, {\"type\": \"line\", \"x0\": 0, \"x1\": 3.732336524016674, \"y0\": 0, \"y1\": 3.5932118246211813}, {\"type\": \"line\", \"x0\": 0, \"x1\": -1.5092506857239785, \"y0\": 0, \"y1\": -0.2787599431340927}, {\"type\": \"line\", \"x0\": 0, \"x1\": -0.34924604096854456, \"y0\": 0, \"y1\": -0.06164744956239918}, {\"type\": \"line\", \"x0\": 0, \"x1\": -0.08346665633480593, \"y0\": 0, \"y1\": -0.00745259506282077}, {\"type\": \"line\", \"x0\": 0, \"x1\": -0.12118464442186687, \"y0\": 0, \"y1\": -0.011794698434988444}], \"template\": {\"data\": {\"bar\": [{\"error_x\": {\"color\": \"#2a3f5f\"}, \"error_y\": {\"color\": \"#2a3f5f\"}, \"marker\": {\"line\": {\"color\": \"#E5ECF6\", \"width\": 0.5}}, \"type\": \"bar\"}], \"barpolar\": [{\"marker\": {\"line\": {\"color\": \"#E5ECF6\", \"width\": 0.5}}, \"type\": \"barpolar\"}], \"carpet\": [{\"aaxis\": {\"endlinecolor\": \"#2a3f5f\", \"gridcolor\": \"white\", \"linecolor\": \"white\", \"minorgridcolor\": \"white\", \"startlinecolor\": \"#2a3f5f\"}, \"baxis\": {\"endlinecolor\": \"#2a3f5f\", \"gridcolor\": \"white\", \"linecolor\": \"white\", \"minorgridcolor\": \"white\", \"startlinecolor\": \"#2a3f5f\"}, \"type\": \"carpet\"}], \"choropleth\": [{\"colorbar\": {\"outlinewidth\": 0, \"ticks\": \"\"}, \"type\": \"choropleth\"}], \"contour\": [{\"colorbar\": {\"outlinewidth\": 0, \"ticks\": \"\"}, \"colorscale\": [[0.0, \"#0d0887\"], [0.1111111111111111, \"#46039f\"], [0.2222222222222222, \"#7201a8\"], [0.3333333333333333, \"#9c179e\"], [0.4444444444444444, \"#bd3786\"], [0.5555555555555556, \"#d8576b\"], [0.6666666666666666, \"#ed7953\"], [0.7777777777777778, \"#fb9f3a\"], [0.8888888888888888, \"#fdca26\"], [1.0, \"#f0f921\"]], \"type\": \"contour\"}], \"contourcarpet\": [{\"colorbar\": {\"outlinewidth\": 0, \"ticks\": \"\"}, \"type\": \"contourcarpet\"}], \"heatmap\": [{\"colorbar\": {\"outlinewidth\": 0, \"ticks\": \"\"}, \"colorscale\": [[0.0, \"#0d0887\"], [0.1111111111111111, \"#46039f\"], [0.2222222222222222, \"#7201a8\"], [0.3333333333333333, \"#9c179e\"], [0.4444444444444444, \"#bd3786\"], [0.5555555555555556, \"#d8576b\"], [0.6666666666666666, \"#ed7953\"], [0.7777777777777778, \"#fb9f3a\"], [0.8888888888888888, \"#fdca26\"], [1.0, \"#f0f921\"]], \"type\": \"heatmap\"}], \"heatmapgl\": [{\"colorbar\": {\"outlinewidth\": 0, \"ticks\": \"\"}, \"colorscale\": [[0.0, \"#0d0887\"], [0.1111111111111111, \"#46039f\"], [0.2222222222222222, \"#7201a8\"], [0.3333333333333333, \"#9c179e\"], [0.4444444444444444, \"#bd3786\"], [0.5555555555555556, \"#d8576b\"], [0.6666666666666666, \"#ed7953\"], [0.7777777777777778, \"#fb9f3a\"], [0.8888888888888888, \"#fdca26\"], [1.0, \"#f0f921\"]], \"type\": \"heatmapgl\"}], \"histogram\": [{\"marker\": {\"colorbar\": {\"outlinewidth\": 0, \"ticks\": \"\"}}, \"type\": \"histogram\"}], \"histogram2d\": [{\"colorbar\": {\"outlinewidth\": 0, \"ticks\": \"\"}, \"colorscale\": [[0.0, \"#0d0887\"], [0.1111111111111111, \"#46039f\"], [0.2222222222222222, \"#7201a8\"], [0.3333333333333333, \"#9c179e\"], [0.4444444444444444, \"#bd3786\"], [0.5555555555555556, \"#d8576b\"], [0.6666666666666666, \"#ed7953\"], [0.7777777777777778, \"#fb9f3a\"], [0.8888888888888888, \"#fdca26\"], [1.0, \"#f0f921\"]], \"type\": \"histogram2d\"}], \"histogram2dcontour\": [{\"colorbar\": {\"outlinewidth\": 0, \"ticks\": \"\"}, \"colorscale\": [[0.0, \"#0d0887\"], [0.1111111111111111, \"#46039f\"], [0.2222222222222222, \"#7201a8\"], [0.3333333333333333, \"#9c179e\"], [0.4444444444444444, \"#bd3786\"], [0.5555555555555556, \"#d8576b\"], [0.6666666666666666, \"#ed7953\"], [0.7777777777777778, \"#fb9f3a\"], [0.8888888888888888, \"#fdca26\"], [1.0, \"#f0f921\"]], \"type\": \"histogram2dcontour\"}], \"mesh3d\": [{\"colorbar\": {\"outlinewidth\": 0, \"ticks\": \"\"}, \"type\": \"mesh3d\"}], \"parcoords\": [{\"line\": {\"colorbar\": {\"outlinewidth\": 0, \"ticks\": \"\"}}, \"type\": \"parcoords\"}], \"pie\": [{\"automargin\": true, \"type\": \"pie\"}], \"scatter\": [{\"marker\": {\"colorbar\": {\"outlinewidth\": 0, \"ticks\": \"\"}}, \"type\": \"scatter\"}], \"scatter3d\": [{\"line\": {\"colorbar\": {\"outlinewidth\": 0, \"ticks\": \"\"}}, \"marker\": {\"colorbar\": {\"outlinewidth\": 0, \"ticks\": \"\"}}, \"type\": \"scatter3d\"}], \"scattercarpet\": [{\"marker\": {\"colorbar\": {\"outlinewidth\": 0, \"ticks\": \"\"}}, \"type\": \"scattercarpet\"}], \"scattergeo\": [{\"marker\": {\"colorbar\": {\"outlinewidth\": 0, \"ticks\": \"\"}}, \"type\": \"scattergeo\"}], \"scattergl\": [{\"marker\": {\"colorbar\": {\"outlinewidth\": 0, \"ticks\": \"\"}}, \"type\": \"scattergl\"}], \"scattermapbox\": [{\"marker\": {\"colorbar\": {\"outlinewidth\": 0, \"ticks\": \"\"}}, \"type\": \"scattermapbox\"}], \"scatterpolar\": [{\"marker\": {\"colorbar\": {\"outlinewidth\": 0, \"ticks\": \"\"}}, \"type\": \"scatterpolar\"}], \"scatterpolargl\": [{\"marker\": {\"colorbar\": {\"outlinewidth\": 0, \"ticks\": \"\"}}, \"type\": \"scatterpolargl\"}], \"scatterternary\": [{\"marker\": {\"colorbar\": {\"outlinewidth\": 0, \"ticks\": \"\"}}, \"type\": \"scatterternary\"}], \"surface\": [{\"colorbar\": {\"outlinewidth\": 0, \"ticks\": \"\"}, \"colorscale\": [[0.0, \"#0d0887\"], [0.1111111111111111, \"#46039f\"], [0.2222222222222222, \"#7201a8\"], [0.3333333333333333, \"#9c179e\"], [0.4444444444444444, \"#bd3786\"], [0.5555555555555556, \"#d8576b\"], [0.6666666666666666, \"#ed7953\"], [0.7777777777777778, \"#fb9f3a\"], [0.8888888888888888, \"#fdca26\"], [1.0, \"#f0f921\"]], \"type\": \"surface\"}], \"table\": [{\"cells\": {\"fill\": {\"color\": \"#EBF0F8\"}, \"line\": {\"color\": \"white\"}}, \"header\": {\"fill\": {\"color\": \"#C8D4E3\"}, \"line\": {\"color\": \"white\"}}, \"type\": \"table\"}]}, \"layout\": {\"annotationdefaults\": {\"arrowcolor\": \"#2a3f5f\", \"arrowhead\": 0, \"arrowwidth\": 1}, \"coloraxis\": {\"colorbar\": {\"outlinewidth\": 0, \"ticks\": \"\"}}, \"colorscale\": {\"diverging\": [[0, \"#8e0152\"], [0.1, \"#c51b7d\"], [0.2, \"#de77ae\"], [0.3, \"#f1b6da\"], [0.4, \"#fde0ef\"], [0.5, \"#f7f7f7\"], [0.6, \"#e6f5d0\"], [0.7, \"#b8e186\"], [0.8, \"#7fbc41\"], [0.9, \"#4d9221\"], [1, \"#276419\"]], \"sequential\": [[0.0, \"#0d0887\"], [0.1111111111111111, \"#46039f\"], [0.2222222222222222, \"#7201a8\"], [0.3333333333333333, \"#9c179e\"], [0.4444444444444444, \"#bd3786\"], [0.5555555555555556, \"#d8576b\"], [0.6666666666666666, \"#ed7953\"], [0.7777777777777778, \"#fb9f3a\"], [0.8888888888888888, \"#fdca26\"], [1.0, \"#f0f921\"]], \"sequentialminus\": [[0.0, \"#0d0887\"], [0.1111111111111111, \"#46039f\"], [0.2222222222222222, \"#7201a8\"], [0.3333333333333333, \"#9c179e\"], [0.4444444444444444, \"#bd3786\"], [0.5555555555555556, \"#d8576b\"], [0.6666666666666666, \"#ed7953\"], [0.7777777777777778, \"#fb9f3a\"], [0.8888888888888888, \"#fdca26\"], [1.0, \"#f0f921\"]]}, \"colorway\": [\"#636efa\", \"#EF553B\", \"#00cc96\", \"#ab63fa\", \"#FFA15A\", \"#19d3f3\", \"#FF6692\", \"#B6E880\", \"#FF97FF\", \"#FECB52\"], \"font\": {\"color\": \"#2a3f5f\"}, \"geo\": {\"bgcolor\": \"white\", \"lakecolor\": \"white\", \"landcolor\": \"#E5ECF6\", \"showlakes\": true, \"showland\": true, \"subunitcolor\": \"white\"}, \"hoverlabel\": {\"align\": \"left\"}, \"hovermode\": \"closest\", \"mapbox\": {\"style\": \"light\"}, \"paper_bgcolor\": \"white\", \"plot_bgcolor\": \"#E5ECF6\", \"polar\": {\"angularaxis\": {\"gridcolor\": \"white\", \"linecolor\": \"white\", \"ticks\": \"\"}, \"bgcolor\": \"#E5ECF6\", \"radialaxis\": {\"gridcolor\": \"white\", \"linecolor\": \"white\", \"ticks\": \"\"}}, \"scene\": {\"xaxis\": {\"backgroundcolor\": \"#E5ECF6\", \"gridcolor\": \"white\", \"gridwidth\": 2, \"linecolor\": \"white\", \"showbackground\": true, \"ticks\": \"\", \"zerolinecolor\": \"white\"}, \"yaxis\": {\"backgroundcolor\": \"#E5ECF6\", \"gridcolor\": \"white\", \"gridwidth\": 2, \"linecolor\": \"white\", \"showbackground\": true, \"ticks\": \"\", \"zerolinecolor\": \"white\"}, \"zaxis\": {\"backgroundcolor\": \"#E5ECF6\", \"gridcolor\": \"white\", \"gridwidth\": 2, \"linecolor\": \"white\", \"showbackground\": true, \"ticks\": \"\", \"zerolinecolor\": \"white\"}}, \"shapedefaults\": {\"line\": {\"color\": \"#2a3f5f\"}}, \"ternary\": {\"aaxis\": {\"gridcolor\": \"white\", \"linecolor\": \"white\", \"ticks\": \"\"}, \"baxis\": {\"gridcolor\": \"white\", \"linecolor\": \"white\", \"ticks\": \"\"}, \"bgcolor\": \"#E5ECF6\", \"caxis\": {\"gridcolor\": \"white\", \"linecolor\": \"white\", \"ticks\": \"\"}}, \"title\": {\"x\": 0.05}, \"xaxis\": {\"automargin\": true, \"gridcolor\": \"white\", \"linecolor\": \"white\", \"ticks\": \"\", \"title\": {\"standoff\": 15}, \"zerolinecolor\": \"white\", \"zerolinewidth\": 2}, \"yaxis\": {\"automargin\": true, \"gridcolor\": \"white\", \"linecolor\": \"white\", \"ticks\": \"\", \"title\": {\"standoff\": 15}, \"zerolinecolor\": \"white\", \"zerolinewidth\": 2}}}},\n",
       "                        {\"responsive\": true}\n",
       "                    ).then(function(){\n",
       "                            \n",
       "var gd = document.getElementById('2d240102-e605-44ea-8e3e-0ddfb0d49b41');\n",
       "var x = new MutationObserver(function (mutations, observer) {{\n",
       "        var display = window.getComputedStyle(gd).display;\n",
       "        if (!display || display === 'none') {{\n",
       "            console.log([gd, 'removed!']);\n",
       "            Plotly.purge(gd);\n",
       "            observer.disconnect();\n",
       "        }}\n",
       "}});\n",
       "\n",
       "// Listen for the removal of the full notebook cells\n",
       "var notebookContainer = gd.closest('#notebook-container');\n",
       "if (notebookContainer) {{\n",
       "    x.observe(notebookContainer, {childList: true});\n",
       "}}\n",
       "\n",
       "// Listen for the clearing of the current output cell\n",
       "var outputEl = gd.closest('.output');\n",
       "if (outputEl) {{\n",
       "    x.observe(outputEl, {childList: true});\n",
       "}}\n",
       "\n",
       "                        })\n",
       "                };\n",
       "                });\n",
       "            </script>\n",
       "        </div>"
      ]
     },
     "metadata": {},
     "output_type": "display_data"
    }
   ],
   "source": [
    "traces = []\n",
    "for solvent in solvents:\n",
    "    solvent_df = crystal_data[crystal_data['Solvent']==solvent]\n",
    "    marker_text = [f\"Solvent: {row['Solvent']} Amine: {row['Amine']}\" for idx, row in solvent_df.iterrows()]\n",
    "    trace = go.Scatter(x=solvent_df['PCA_X'], y=solvent_df['PCA_Y'], mode='markers',text=marker_text, name=solvent)\n",
    "    traces.append(trace)\n",
    "PCA2D(loadings, features, traces)"
   ]
  },
  {
   "cell_type": "markdown",
   "metadata": {},
   "source": [
    "## Colored by Amine"
   ]
  },
  {
   "cell_type": "code",
   "execution_count": 73,
   "metadata": {},
   "outputs": [
    {
     "data": {
      "application/vnd.plotly.v1+json": {
       "config": {
        "plotlyServerURL": "https://plot.ly"
       },
       "data": [
        {
         "mode": "markers",
         "name": "2Pyrrolidin1ium1ylethylammoniumiodide",
         "text": [
          "Solvent: DMF Amine: 2Pyrrolidin1ium1ylethylammoniumiodide",
          "Solvent: DMF:DMSO Amine: 2Pyrrolidin1ium1ylethylammoniumiodide",
          "Solvent: GBL:DMF Amine: 2Pyrrolidin1ium1ylethylammoniumiodide"
         ],
         "type": "scatter",
         "x": [
          -19413.8096924734,
          19046.191048368604,
          -23106.810755316346
         ],
         "y": [
          1.0352636408255473,
          1.083253350273391,
          -4.221506210114238
         ]
        },
        {
         "mode": "markers",
         "name": "CyclohexylmethylammoniumIodide",
         "text": [
          "Solvent: GBL Amine: CyclohexylmethylammoniumIodide"
         ],
         "type": "scatter",
         "x": [
          -23613.81080859162
         ],
         "y": [
          -4.004533168003079
         ]
        },
        {
         "mode": "markers",
         "name": "AcNH3I",
         "text": [
          "Solvent: GBL Amine: AcNH3I",
          "Solvent: GBL:DMF Amine: AcNH3I"
         ],
         "type": "scatter",
         "x": [
          -21933.81017949,
          -12213.809381921863
         ],
         "y": [
          -1.0125445343578496,
          2.0141114605959727
         ]
        },
        {
         "mode": "markers",
         "name": "EtNH3I",
         "text": [
          "Solvent: GBL Amine: EtNH3I"
         ],
         "type": "scatter",
         "x": [
          23968.190149105023
         ],
         "y": [
          -4.3122693996101145
         ]
        },
        {
         "mode": "markers",
         "name": "MeNH3I",
         "text": [
          "Solvent: GBL Amine: MeNH3I",
          "Solvent: DMF Amine: MeNH3I",
          "Solvent: GBL:DMF Amine: MeNH3I"
         ],
         "type": "scatter",
         "x": [
          -8493.809806282925,
          36457.19029987919,
          34836.19201322703
         ],
         "y": [
          -0.8269156626164246,
          -4.796235503164407,
          4.566932875920917
         ]
        },
        {
         "mode": "markers",
         "name": "PhEtNH3I",
         "text": [
          "Solvent: GBL Amine: PhEtNH3I"
         ],
         "type": "scatter",
         "x": [
          16586.190095186084
         ],
         "y": [
          -3.711809920414465
         ]
        },
        {
         "mode": "markers",
         "name": "Propane13diammoniumIodide",
         "text": [
          "Solvent: GBL:DMF Amine: Propane13diammoniumIodide"
         ],
         "type": "scatter",
         "x": [
          -7170.808703199012
         ],
         "y": [
          4.918247843869627
         ]
        },
        {
         "mode": "markers",
         "name": "NNDimethylethane12diammoniumiodide",
         "text": [
          "Solvent: DMF Amine: NNDimethylethane12diammoniumiodide",
          "Solvent: DMSO Amine: NNDimethylethane12diammoniumiodide",
          "Solvent: DMF:DMSO Amine: NNDimethylethane12diammoniumiodide",
          "Solvent: GBL:DMF Amine: NNDimethylethane12diammoniumiodide"
         ],
         "type": "scatter",
         "x": [
          -3869.8094460437865,
          149.18992440082397,
          21386.19094276899,
          -16172.808875326607
         ],
         "y": [
          0.40669640623374026,
          -2.7286260498812016,
          0.11186627582854787,
          5.170881425571847
         ]
        },
        {
         "mode": "markers",
         "name": "NNDiethylpropane13diammoniumiodide",
         "text": [
          "Solvent: GBL Amine: NNDiethylpropane13diammoniumiodide",
          "Solvent: GBL:DMF Amine: NNDiethylpropane13diammoniumiodide"
         ],
         "type": "scatter",
         "x": [
          -21213.810369744788,
          -764.8081234739275
         ],
         "y": [
          -2.013042907455655,
          7.319332888132012
         ]
        },
        {
         "mode": "markers",
         "name": "Benzenediaminedihydroiodide",
         "text": [
          "Solvent: DMF Amine: Benzenediaminedihydroiodide",
          "Solvent: DMF:DMSO Amine: Benzenediaminedihydroiodide",
          "Solvent: GBL:DMF Amine: Benzenediaminedihydroiodide"
         ],
         "type": "scatter",
         "x": [
          10166.190213139504,
          17906.191637112748,
          -22533.8101813237
         ],
         "y": [
          -2.620121822816045,
          4.278448874034924,
          -0.6574298628530539
         ]
        }
       ],
       "layout": {
        "annotations": [
         {
          "ax": 0,
          "ay": 0,
          "text": "Best Kin, Mols/sec",
          "x": -3.780520896342035e-09,
          "xanchor": "center",
          "y": 5.4385390988983313e-08,
          "yanchor": "bottom"
         },
         {
          "ax": 0,
          "ay": 0,
          "text": "Best Kout, Mols/sec",
          "x": 3.188688603325792e-09,
          "xanchor": "center",
          "y": 2.5170050471979036e-08,
          "yanchor": "bottom"
         },
         {
          "ax": 0,
          "ay": 0,
          "text": "Best Fit SSE",
          "x": -0.000148029496990225,
          "xanchor": "center",
          "y": -0.0002827836232936273,
          "yanchor": "bottom"
         },
         {
          "ax": 0,
          "ay": 0,
          "text": "Crystallization Time, Seconds",
          "x": 20116.635087954062,
          "xanchor": "center",
          "y": -0.0006891189616897046,
          "yanchor": "bottom"
         },
         {
          "ax": 0,
          "ay": 0,
          "text": "Crystallization Height, cm",
          "x": 0.21946625572846865,
          "xanchor": "center",
          "y": 0.033621426240548154,
          "yanchor": "bottom"
         },
         {
          "ax": 0,
          "ay": 0,
          "text": "Antisolvent Concentration, Mols/L",
          "x": 3.732336524016674,
          "xanchor": "center",
          "y": 3.5932118246211813,
          "yanchor": "bottom"
         },
         {
          "ax": 0,
          "ay": 0,
          "text": "Solvent Concentration, Mols/L",
          "x": -1.5092506857239785,
          "xanchor": "center",
          "y": -0.2787599431340927,
          "yanchor": "bottom"
         },
         {
          "ax": 0,
          "ay": 0,
          "text": "FAH Concentration, Mols/L",
          "x": -0.34924604096854456,
          "xanchor": "center",
          "y": -0.06164744956239918,
          "yanchor": "bottom"
         },
         {
          "ax": 0,
          "ay": 0,
          "text": "Inorganic Concentration, Mols/L",
          "x": -0.08346665633480593,
          "xanchor": "center",
          "y": -0.00745259506282077,
          "yanchor": "bottom"
         },
         {
          "ax": 0,
          "ay": 0,
          "text": "Organic Concentration, Mols/L",
          "x": -0.12118464442186687,
          "xanchor": "center",
          "y": -0.011794698434988444,
          "yanchor": "bottom"
         }
        ],
        "shapes": [
         {
          "type": "line",
          "x0": 0,
          "x1": -3.780520896342035e-09,
          "y0": 0,
          "y1": 5.4385390988983313e-08
         },
         {
          "type": "line",
          "x0": 0,
          "x1": 3.188688603325792e-09,
          "y0": 0,
          "y1": 2.5170050471979036e-08
         },
         {
          "type": "line",
          "x0": 0,
          "x1": -0.000148029496990225,
          "y0": 0,
          "y1": -0.0002827836232936273
         },
         {
          "type": "line",
          "x0": 0,
          "x1": 20116.635087954062,
          "y0": 0,
          "y1": -0.0006891189616897046
         },
         {
          "type": "line",
          "x0": 0,
          "x1": 0.21946625572846865,
          "y0": 0,
          "y1": 0.033621426240548154
         },
         {
          "type": "line",
          "x0": 0,
          "x1": 3.732336524016674,
          "y0": 0,
          "y1": 3.5932118246211813
         },
         {
          "type": "line",
          "x0": 0,
          "x1": -1.5092506857239785,
          "y0": 0,
          "y1": -0.2787599431340927
         },
         {
          "type": "line",
          "x0": 0,
          "x1": -0.34924604096854456,
          "y0": 0,
          "y1": -0.06164744956239918
         },
         {
          "type": "line",
          "x0": 0,
          "x1": -0.08346665633480593,
          "y0": 0,
          "y1": -0.00745259506282077
         },
         {
          "type": "line",
          "x0": 0,
          "x1": -0.12118464442186687,
          "y0": 0,
          "y1": -0.011794698434988444
         }
        ],
        "template": {
         "data": {
          "bar": [
           {
            "error_x": {
             "color": "#2a3f5f"
            },
            "error_y": {
             "color": "#2a3f5f"
            },
            "marker": {
             "line": {
              "color": "#E5ECF6",
              "width": 0.5
             }
            },
            "type": "bar"
           }
          ],
          "barpolar": [
           {
            "marker": {
             "line": {
              "color": "#E5ECF6",
              "width": 0.5
             }
            },
            "type": "barpolar"
           }
          ],
          "carpet": [
           {
            "aaxis": {
             "endlinecolor": "#2a3f5f",
             "gridcolor": "white",
             "linecolor": "white",
             "minorgridcolor": "white",
             "startlinecolor": "#2a3f5f"
            },
            "baxis": {
             "endlinecolor": "#2a3f5f",
             "gridcolor": "white",
             "linecolor": "white",
             "minorgridcolor": "white",
             "startlinecolor": "#2a3f5f"
            },
            "type": "carpet"
           }
          ],
          "choropleth": [
           {
            "colorbar": {
             "outlinewidth": 0,
             "ticks": ""
            },
            "type": "choropleth"
           }
          ],
          "contour": [
           {
            "colorbar": {
             "outlinewidth": 0,
             "ticks": ""
            },
            "colorscale": [
             [
              0,
              "#0d0887"
             ],
             [
              0.1111111111111111,
              "#46039f"
             ],
             [
              0.2222222222222222,
              "#7201a8"
             ],
             [
              0.3333333333333333,
              "#9c179e"
             ],
             [
              0.4444444444444444,
              "#bd3786"
             ],
             [
              0.5555555555555556,
              "#d8576b"
             ],
             [
              0.6666666666666666,
              "#ed7953"
             ],
             [
              0.7777777777777778,
              "#fb9f3a"
             ],
             [
              0.8888888888888888,
              "#fdca26"
             ],
             [
              1,
              "#f0f921"
             ]
            ],
            "type": "contour"
           }
          ],
          "contourcarpet": [
           {
            "colorbar": {
             "outlinewidth": 0,
             "ticks": ""
            },
            "type": "contourcarpet"
           }
          ],
          "heatmap": [
           {
            "colorbar": {
             "outlinewidth": 0,
             "ticks": ""
            },
            "colorscale": [
             [
              0,
              "#0d0887"
             ],
             [
              0.1111111111111111,
              "#46039f"
             ],
             [
              0.2222222222222222,
              "#7201a8"
             ],
             [
              0.3333333333333333,
              "#9c179e"
             ],
             [
              0.4444444444444444,
              "#bd3786"
             ],
             [
              0.5555555555555556,
              "#d8576b"
             ],
             [
              0.6666666666666666,
              "#ed7953"
             ],
             [
              0.7777777777777778,
              "#fb9f3a"
             ],
             [
              0.8888888888888888,
              "#fdca26"
             ],
             [
              1,
              "#f0f921"
             ]
            ],
            "type": "heatmap"
           }
          ],
          "heatmapgl": [
           {
            "colorbar": {
             "outlinewidth": 0,
             "ticks": ""
            },
            "colorscale": [
             [
              0,
              "#0d0887"
             ],
             [
              0.1111111111111111,
              "#46039f"
             ],
             [
              0.2222222222222222,
              "#7201a8"
             ],
             [
              0.3333333333333333,
              "#9c179e"
             ],
             [
              0.4444444444444444,
              "#bd3786"
             ],
             [
              0.5555555555555556,
              "#d8576b"
             ],
             [
              0.6666666666666666,
              "#ed7953"
             ],
             [
              0.7777777777777778,
              "#fb9f3a"
             ],
             [
              0.8888888888888888,
              "#fdca26"
             ],
             [
              1,
              "#f0f921"
             ]
            ],
            "type": "heatmapgl"
           }
          ],
          "histogram": [
           {
            "marker": {
             "colorbar": {
              "outlinewidth": 0,
              "ticks": ""
             }
            },
            "type": "histogram"
           }
          ],
          "histogram2d": [
           {
            "colorbar": {
             "outlinewidth": 0,
             "ticks": ""
            },
            "colorscale": [
             [
              0,
              "#0d0887"
             ],
             [
              0.1111111111111111,
              "#46039f"
             ],
             [
              0.2222222222222222,
              "#7201a8"
             ],
             [
              0.3333333333333333,
              "#9c179e"
             ],
             [
              0.4444444444444444,
              "#bd3786"
             ],
             [
              0.5555555555555556,
              "#d8576b"
             ],
             [
              0.6666666666666666,
              "#ed7953"
             ],
             [
              0.7777777777777778,
              "#fb9f3a"
             ],
             [
              0.8888888888888888,
              "#fdca26"
             ],
             [
              1,
              "#f0f921"
             ]
            ],
            "type": "histogram2d"
           }
          ],
          "histogram2dcontour": [
           {
            "colorbar": {
             "outlinewidth": 0,
             "ticks": ""
            },
            "colorscale": [
             [
              0,
              "#0d0887"
             ],
             [
              0.1111111111111111,
              "#46039f"
             ],
             [
              0.2222222222222222,
              "#7201a8"
             ],
             [
              0.3333333333333333,
              "#9c179e"
             ],
             [
              0.4444444444444444,
              "#bd3786"
             ],
             [
              0.5555555555555556,
              "#d8576b"
             ],
             [
              0.6666666666666666,
              "#ed7953"
             ],
             [
              0.7777777777777778,
              "#fb9f3a"
             ],
             [
              0.8888888888888888,
              "#fdca26"
             ],
             [
              1,
              "#f0f921"
             ]
            ],
            "type": "histogram2dcontour"
           }
          ],
          "mesh3d": [
           {
            "colorbar": {
             "outlinewidth": 0,
             "ticks": ""
            },
            "type": "mesh3d"
           }
          ],
          "parcoords": [
           {
            "line": {
             "colorbar": {
              "outlinewidth": 0,
              "ticks": ""
             }
            },
            "type": "parcoords"
           }
          ],
          "pie": [
           {
            "automargin": true,
            "type": "pie"
           }
          ],
          "scatter": [
           {
            "marker": {
             "colorbar": {
              "outlinewidth": 0,
              "ticks": ""
             }
            },
            "type": "scatter"
           }
          ],
          "scatter3d": [
           {
            "line": {
             "colorbar": {
              "outlinewidth": 0,
              "ticks": ""
             }
            },
            "marker": {
             "colorbar": {
              "outlinewidth": 0,
              "ticks": ""
             }
            },
            "type": "scatter3d"
           }
          ],
          "scattercarpet": [
           {
            "marker": {
             "colorbar": {
              "outlinewidth": 0,
              "ticks": ""
             }
            },
            "type": "scattercarpet"
           }
          ],
          "scattergeo": [
           {
            "marker": {
             "colorbar": {
              "outlinewidth": 0,
              "ticks": ""
             }
            },
            "type": "scattergeo"
           }
          ],
          "scattergl": [
           {
            "marker": {
             "colorbar": {
              "outlinewidth": 0,
              "ticks": ""
             }
            },
            "type": "scattergl"
           }
          ],
          "scattermapbox": [
           {
            "marker": {
             "colorbar": {
              "outlinewidth": 0,
              "ticks": ""
             }
            },
            "type": "scattermapbox"
           }
          ],
          "scatterpolar": [
           {
            "marker": {
             "colorbar": {
              "outlinewidth": 0,
              "ticks": ""
             }
            },
            "type": "scatterpolar"
           }
          ],
          "scatterpolargl": [
           {
            "marker": {
             "colorbar": {
              "outlinewidth": 0,
              "ticks": ""
             }
            },
            "type": "scatterpolargl"
           }
          ],
          "scatterternary": [
           {
            "marker": {
             "colorbar": {
              "outlinewidth": 0,
              "ticks": ""
             }
            },
            "type": "scatterternary"
           }
          ],
          "surface": [
           {
            "colorbar": {
             "outlinewidth": 0,
             "ticks": ""
            },
            "colorscale": [
             [
              0,
              "#0d0887"
             ],
             [
              0.1111111111111111,
              "#46039f"
             ],
             [
              0.2222222222222222,
              "#7201a8"
             ],
             [
              0.3333333333333333,
              "#9c179e"
             ],
             [
              0.4444444444444444,
              "#bd3786"
             ],
             [
              0.5555555555555556,
              "#d8576b"
             ],
             [
              0.6666666666666666,
              "#ed7953"
             ],
             [
              0.7777777777777778,
              "#fb9f3a"
             ],
             [
              0.8888888888888888,
              "#fdca26"
             ],
             [
              1,
              "#f0f921"
             ]
            ],
            "type": "surface"
           }
          ],
          "table": [
           {
            "cells": {
             "fill": {
              "color": "#EBF0F8"
             },
             "line": {
              "color": "white"
             }
            },
            "header": {
             "fill": {
              "color": "#C8D4E3"
             },
             "line": {
              "color": "white"
             }
            },
            "type": "table"
           }
          ]
         },
         "layout": {
          "annotationdefaults": {
           "arrowcolor": "#2a3f5f",
           "arrowhead": 0,
           "arrowwidth": 1
          },
          "coloraxis": {
           "colorbar": {
            "outlinewidth": 0,
            "ticks": ""
           }
          },
          "colorscale": {
           "diverging": [
            [
             0,
             "#8e0152"
            ],
            [
             0.1,
             "#c51b7d"
            ],
            [
             0.2,
             "#de77ae"
            ],
            [
             0.3,
             "#f1b6da"
            ],
            [
             0.4,
             "#fde0ef"
            ],
            [
             0.5,
             "#f7f7f7"
            ],
            [
             0.6,
             "#e6f5d0"
            ],
            [
             0.7,
             "#b8e186"
            ],
            [
             0.8,
             "#7fbc41"
            ],
            [
             0.9,
             "#4d9221"
            ],
            [
             1,
             "#276419"
            ]
           ],
           "sequential": [
            [
             0,
             "#0d0887"
            ],
            [
             0.1111111111111111,
             "#46039f"
            ],
            [
             0.2222222222222222,
             "#7201a8"
            ],
            [
             0.3333333333333333,
             "#9c179e"
            ],
            [
             0.4444444444444444,
             "#bd3786"
            ],
            [
             0.5555555555555556,
             "#d8576b"
            ],
            [
             0.6666666666666666,
             "#ed7953"
            ],
            [
             0.7777777777777778,
             "#fb9f3a"
            ],
            [
             0.8888888888888888,
             "#fdca26"
            ],
            [
             1,
             "#f0f921"
            ]
           ],
           "sequentialminus": [
            [
             0,
             "#0d0887"
            ],
            [
             0.1111111111111111,
             "#46039f"
            ],
            [
             0.2222222222222222,
             "#7201a8"
            ],
            [
             0.3333333333333333,
             "#9c179e"
            ],
            [
             0.4444444444444444,
             "#bd3786"
            ],
            [
             0.5555555555555556,
             "#d8576b"
            ],
            [
             0.6666666666666666,
             "#ed7953"
            ],
            [
             0.7777777777777778,
             "#fb9f3a"
            ],
            [
             0.8888888888888888,
             "#fdca26"
            ],
            [
             1,
             "#f0f921"
            ]
           ]
          },
          "colorway": [
           "#636efa",
           "#EF553B",
           "#00cc96",
           "#ab63fa",
           "#FFA15A",
           "#19d3f3",
           "#FF6692",
           "#B6E880",
           "#FF97FF",
           "#FECB52"
          ],
          "font": {
           "color": "#2a3f5f"
          },
          "geo": {
           "bgcolor": "white",
           "lakecolor": "white",
           "landcolor": "#E5ECF6",
           "showlakes": true,
           "showland": true,
           "subunitcolor": "white"
          },
          "hoverlabel": {
           "align": "left"
          },
          "hovermode": "closest",
          "mapbox": {
           "style": "light"
          },
          "paper_bgcolor": "white",
          "plot_bgcolor": "#E5ECF6",
          "polar": {
           "angularaxis": {
            "gridcolor": "white",
            "linecolor": "white",
            "ticks": ""
           },
           "bgcolor": "#E5ECF6",
           "radialaxis": {
            "gridcolor": "white",
            "linecolor": "white",
            "ticks": ""
           }
          },
          "scene": {
           "xaxis": {
            "backgroundcolor": "#E5ECF6",
            "gridcolor": "white",
            "gridwidth": 2,
            "linecolor": "white",
            "showbackground": true,
            "ticks": "",
            "zerolinecolor": "white"
           },
           "yaxis": {
            "backgroundcolor": "#E5ECF6",
            "gridcolor": "white",
            "gridwidth": 2,
            "linecolor": "white",
            "showbackground": true,
            "ticks": "",
            "zerolinecolor": "white"
           },
           "zaxis": {
            "backgroundcolor": "#E5ECF6",
            "gridcolor": "white",
            "gridwidth": 2,
            "linecolor": "white",
            "showbackground": true,
            "ticks": "",
            "zerolinecolor": "white"
           }
          },
          "shapedefaults": {
           "line": {
            "color": "#2a3f5f"
           }
          },
          "ternary": {
           "aaxis": {
            "gridcolor": "white",
            "linecolor": "white",
            "ticks": ""
           },
           "baxis": {
            "gridcolor": "white",
            "linecolor": "white",
            "ticks": ""
           },
           "bgcolor": "#E5ECF6",
           "caxis": {
            "gridcolor": "white",
            "linecolor": "white",
            "ticks": ""
           }
          },
          "title": {
           "x": 0.05
          },
          "xaxis": {
           "automargin": true,
           "gridcolor": "white",
           "linecolor": "white",
           "ticks": "",
           "title": {
            "standoff": 15
           },
           "zerolinecolor": "white",
           "zerolinewidth": 2
          },
          "yaxis": {
           "automargin": true,
           "gridcolor": "white",
           "linecolor": "white",
           "ticks": "",
           "title": {
            "standoff": 15
           },
           "zerolinecolor": "white",
           "zerolinewidth": 2
          }
         }
        }
       }
      },
      "text/html": [
       "<div>\n",
       "        \n",
       "        \n",
       "            <div id=\"a5b809c8-2477-4baf-ad9f-c838ec01e7e1\" class=\"plotly-graph-div\" style=\"height:525px; width:100%;\"></div>\n",
       "            <script type=\"text/javascript\">\n",
       "                require([\"plotly\"], function(Plotly) {\n",
       "                    window.PLOTLYENV=window.PLOTLYENV || {};\n",
       "                    \n",
       "                if (document.getElementById(\"a5b809c8-2477-4baf-ad9f-c838ec01e7e1\")) {\n",
       "                    Plotly.newPlot(\n",
       "                        'a5b809c8-2477-4baf-ad9f-c838ec01e7e1',\n",
       "                        [{\"mode\": \"markers\", \"name\": \"2Pyrrolidin1ium1ylethylammoniumiodide\", \"text\": [\"Solvent: DMF Amine: 2Pyrrolidin1ium1ylethylammoniumiodide\", \"Solvent: DMF:DMSO Amine: 2Pyrrolidin1ium1ylethylammoniumiodide\", \"Solvent: GBL:DMF Amine: 2Pyrrolidin1ium1ylethylammoniumiodide\"], \"type\": \"scatter\", \"x\": [-19413.8096924734, 19046.191048368604, -23106.810755316346], \"y\": [1.0352636408255473, 1.083253350273391, -4.221506210114238]}, {\"mode\": \"markers\", \"name\": \"CyclohexylmethylammoniumIodide\", \"text\": [\"Solvent: GBL Amine: CyclohexylmethylammoniumIodide\"], \"type\": \"scatter\", \"x\": [-23613.81080859162], \"y\": [-4.004533168003079]}, {\"mode\": \"markers\", \"name\": \"AcNH3I\", \"text\": [\"Solvent: GBL Amine: AcNH3I\", \"Solvent: GBL:DMF Amine: AcNH3I\"], \"type\": \"scatter\", \"x\": [-21933.81017949, -12213.809381921863], \"y\": [-1.0125445343578496, 2.0141114605959727]}, {\"mode\": \"markers\", \"name\": \"EtNH3I\", \"text\": [\"Solvent: GBL Amine: EtNH3I\"], \"type\": \"scatter\", \"x\": [23968.190149105023], \"y\": [-4.3122693996101145]}, {\"mode\": \"markers\", \"name\": \"MeNH3I\", \"text\": [\"Solvent: GBL Amine: MeNH3I\", \"Solvent: DMF Amine: MeNH3I\", \"Solvent: GBL:DMF Amine: MeNH3I\"], \"type\": \"scatter\", \"x\": [-8493.809806282925, 36457.19029987919, 34836.19201322703], \"y\": [-0.8269156626164246, -4.796235503164407, 4.566932875920917]}, {\"mode\": \"markers\", \"name\": \"PhEtNH3I\", \"text\": [\"Solvent: GBL Amine: PhEtNH3I\"], \"type\": \"scatter\", \"x\": [16586.190095186084], \"y\": [-3.711809920414465]}, {\"mode\": \"markers\", \"name\": \"Propane13diammoniumIodide\", \"text\": [\"Solvent: GBL:DMF Amine: Propane13diammoniumIodide\"], \"type\": \"scatter\", \"x\": [-7170.808703199012], \"y\": [4.918247843869627]}, {\"mode\": \"markers\", \"name\": \"NNDimethylethane12diammoniumiodide\", \"text\": [\"Solvent: DMF Amine: NNDimethylethane12diammoniumiodide\", \"Solvent: DMSO Amine: NNDimethylethane12diammoniumiodide\", \"Solvent: DMF:DMSO Amine: NNDimethylethane12diammoniumiodide\", \"Solvent: GBL:DMF Amine: NNDimethylethane12diammoniumiodide\"], \"type\": \"scatter\", \"x\": [-3869.8094460437865, 149.18992440082397, 21386.19094276899, -16172.808875326607], \"y\": [0.40669640623374026, -2.7286260498812016, 0.11186627582854787, 5.170881425571847]}, {\"mode\": \"markers\", \"name\": \"NNDiethylpropane13diammoniumiodide\", \"text\": [\"Solvent: GBL Amine: NNDiethylpropane13diammoniumiodide\", \"Solvent: GBL:DMF Amine: NNDiethylpropane13diammoniumiodide\"], \"type\": \"scatter\", \"x\": [-21213.810369744788, -764.8081234739275], \"y\": [-2.013042907455655, 7.319332888132012]}, {\"mode\": \"markers\", \"name\": \"Benzenediaminedihydroiodide\", \"text\": [\"Solvent: DMF Amine: Benzenediaminedihydroiodide\", \"Solvent: DMF:DMSO Amine: Benzenediaminedihydroiodide\", \"Solvent: GBL:DMF Amine: Benzenediaminedihydroiodide\"], \"type\": \"scatter\", \"x\": [10166.190213139504, 17906.191637112748, -22533.8101813237], \"y\": [-2.620121822816045, 4.278448874034924, -0.6574298628530539]}],\n",
       "                        {\"annotations\": [{\"ax\": 0, \"ay\": 0, \"text\": \"Best Kin, Mols/sec\", \"x\": -3.780520896342035e-09, \"xanchor\": \"center\", \"y\": 5.4385390988983313e-08, \"yanchor\": \"bottom\"}, {\"ax\": 0, \"ay\": 0, \"text\": \"Best Kout, Mols/sec\", \"x\": 3.188688603325792e-09, \"xanchor\": \"center\", \"y\": 2.5170050471979036e-08, \"yanchor\": \"bottom\"}, {\"ax\": 0, \"ay\": 0, \"text\": \"Best Fit SSE\", \"x\": -0.000148029496990225, \"xanchor\": \"center\", \"y\": -0.0002827836232936273, \"yanchor\": \"bottom\"}, {\"ax\": 0, \"ay\": 0, \"text\": \"Crystallization Time, Seconds\", \"x\": 20116.635087954062, \"xanchor\": \"center\", \"y\": -0.0006891189616897046, \"yanchor\": \"bottom\"}, {\"ax\": 0, \"ay\": 0, \"text\": \"Crystallization Height, cm\", \"x\": 0.21946625572846865, \"xanchor\": \"center\", \"y\": 0.033621426240548154, \"yanchor\": \"bottom\"}, {\"ax\": 0, \"ay\": 0, \"text\": \"Antisolvent Concentration, Mols/L\", \"x\": 3.732336524016674, \"xanchor\": \"center\", \"y\": 3.5932118246211813, \"yanchor\": \"bottom\"}, {\"ax\": 0, \"ay\": 0, \"text\": \"Solvent Concentration, Mols/L\", \"x\": -1.5092506857239785, \"xanchor\": \"center\", \"y\": -0.2787599431340927, \"yanchor\": \"bottom\"}, {\"ax\": 0, \"ay\": 0, \"text\": \"FAH Concentration, Mols/L\", \"x\": -0.34924604096854456, \"xanchor\": \"center\", \"y\": -0.06164744956239918, \"yanchor\": \"bottom\"}, {\"ax\": 0, \"ay\": 0, \"text\": \"Inorganic Concentration, Mols/L\", \"x\": -0.08346665633480593, \"xanchor\": \"center\", \"y\": -0.00745259506282077, \"yanchor\": \"bottom\"}, {\"ax\": 0, \"ay\": 0, \"text\": \"Organic Concentration, Mols/L\", \"x\": -0.12118464442186687, \"xanchor\": \"center\", \"y\": -0.011794698434988444, \"yanchor\": \"bottom\"}], \"shapes\": [{\"type\": \"line\", \"x0\": 0, \"x1\": -3.780520896342035e-09, \"y0\": 0, \"y1\": 5.4385390988983313e-08}, {\"type\": \"line\", \"x0\": 0, \"x1\": 3.188688603325792e-09, \"y0\": 0, \"y1\": 2.5170050471979036e-08}, {\"type\": \"line\", \"x0\": 0, \"x1\": -0.000148029496990225, \"y0\": 0, \"y1\": -0.0002827836232936273}, {\"type\": \"line\", \"x0\": 0, \"x1\": 20116.635087954062, \"y0\": 0, \"y1\": -0.0006891189616897046}, {\"type\": \"line\", \"x0\": 0, \"x1\": 0.21946625572846865, \"y0\": 0, \"y1\": 0.033621426240548154}, {\"type\": \"line\", \"x0\": 0, \"x1\": 3.732336524016674, \"y0\": 0, \"y1\": 3.5932118246211813}, {\"type\": \"line\", \"x0\": 0, \"x1\": -1.5092506857239785, \"y0\": 0, \"y1\": -0.2787599431340927}, {\"type\": \"line\", \"x0\": 0, \"x1\": -0.34924604096854456, \"y0\": 0, \"y1\": -0.06164744956239918}, {\"type\": \"line\", \"x0\": 0, \"x1\": -0.08346665633480593, \"y0\": 0, \"y1\": -0.00745259506282077}, {\"type\": \"line\", \"x0\": 0, \"x1\": -0.12118464442186687, \"y0\": 0, \"y1\": -0.011794698434988444}], \"template\": {\"data\": {\"bar\": [{\"error_x\": {\"color\": \"#2a3f5f\"}, \"error_y\": {\"color\": \"#2a3f5f\"}, \"marker\": {\"line\": {\"color\": \"#E5ECF6\", \"width\": 0.5}}, \"type\": \"bar\"}], \"barpolar\": [{\"marker\": {\"line\": {\"color\": \"#E5ECF6\", \"width\": 0.5}}, \"type\": \"barpolar\"}], \"carpet\": [{\"aaxis\": {\"endlinecolor\": \"#2a3f5f\", \"gridcolor\": \"white\", \"linecolor\": \"white\", \"minorgridcolor\": \"white\", \"startlinecolor\": \"#2a3f5f\"}, \"baxis\": {\"endlinecolor\": \"#2a3f5f\", \"gridcolor\": \"white\", \"linecolor\": \"white\", \"minorgridcolor\": \"white\", \"startlinecolor\": \"#2a3f5f\"}, \"type\": \"carpet\"}], \"choropleth\": [{\"colorbar\": {\"outlinewidth\": 0, \"ticks\": \"\"}, \"type\": \"choropleth\"}], \"contour\": [{\"colorbar\": {\"outlinewidth\": 0, \"ticks\": \"\"}, \"colorscale\": [[0.0, \"#0d0887\"], [0.1111111111111111, \"#46039f\"], [0.2222222222222222, \"#7201a8\"], [0.3333333333333333, \"#9c179e\"], [0.4444444444444444, \"#bd3786\"], [0.5555555555555556, \"#d8576b\"], [0.6666666666666666, \"#ed7953\"], [0.7777777777777778, \"#fb9f3a\"], [0.8888888888888888, \"#fdca26\"], [1.0, \"#f0f921\"]], \"type\": \"contour\"}], \"contourcarpet\": [{\"colorbar\": {\"outlinewidth\": 0, \"ticks\": \"\"}, \"type\": \"contourcarpet\"}], \"heatmap\": [{\"colorbar\": {\"outlinewidth\": 0, \"ticks\": \"\"}, \"colorscale\": [[0.0, \"#0d0887\"], [0.1111111111111111, \"#46039f\"], [0.2222222222222222, \"#7201a8\"], [0.3333333333333333, \"#9c179e\"], [0.4444444444444444, \"#bd3786\"], [0.5555555555555556, \"#d8576b\"], [0.6666666666666666, \"#ed7953\"], [0.7777777777777778, \"#fb9f3a\"], [0.8888888888888888, \"#fdca26\"], [1.0, \"#f0f921\"]], \"type\": \"heatmap\"}], \"heatmapgl\": [{\"colorbar\": {\"outlinewidth\": 0, \"ticks\": \"\"}, \"colorscale\": [[0.0, \"#0d0887\"], [0.1111111111111111, \"#46039f\"], [0.2222222222222222, \"#7201a8\"], [0.3333333333333333, \"#9c179e\"], [0.4444444444444444, \"#bd3786\"], [0.5555555555555556, \"#d8576b\"], [0.6666666666666666, \"#ed7953\"], [0.7777777777777778, \"#fb9f3a\"], [0.8888888888888888, \"#fdca26\"], [1.0, \"#f0f921\"]], \"type\": \"heatmapgl\"}], \"histogram\": [{\"marker\": {\"colorbar\": {\"outlinewidth\": 0, \"ticks\": \"\"}}, \"type\": \"histogram\"}], \"histogram2d\": [{\"colorbar\": {\"outlinewidth\": 0, \"ticks\": \"\"}, \"colorscale\": [[0.0, \"#0d0887\"], [0.1111111111111111, \"#46039f\"], [0.2222222222222222, \"#7201a8\"], [0.3333333333333333, \"#9c179e\"], [0.4444444444444444, \"#bd3786\"], [0.5555555555555556, \"#d8576b\"], [0.6666666666666666, \"#ed7953\"], [0.7777777777777778, \"#fb9f3a\"], [0.8888888888888888, \"#fdca26\"], [1.0, \"#f0f921\"]], \"type\": \"histogram2d\"}], \"histogram2dcontour\": [{\"colorbar\": {\"outlinewidth\": 0, \"ticks\": \"\"}, \"colorscale\": [[0.0, \"#0d0887\"], [0.1111111111111111, \"#46039f\"], [0.2222222222222222, \"#7201a8\"], [0.3333333333333333, \"#9c179e\"], [0.4444444444444444, \"#bd3786\"], [0.5555555555555556, \"#d8576b\"], [0.6666666666666666, \"#ed7953\"], [0.7777777777777778, \"#fb9f3a\"], [0.8888888888888888, \"#fdca26\"], [1.0, \"#f0f921\"]], \"type\": \"histogram2dcontour\"}], \"mesh3d\": [{\"colorbar\": {\"outlinewidth\": 0, \"ticks\": \"\"}, \"type\": \"mesh3d\"}], \"parcoords\": [{\"line\": {\"colorbar\": {\"outlinewidth\": 0, \"ticks\": \"\"}}, \"type\": \"parcoords\"}], \"pie\": [{\"automargin\": true, \"type\": \"pie\"}], \"scatter\": [{\"marker\": {\"colorbar\": {\"outlinewidth\": 0, \"ticks\": \"\"}}, \"type\": \"scatter\"}], \"scatter3d\": [{\"line\": {\"colorbar\": {\"outlinewidth\": 0, \"ticks\": \"\"}}, \"marker\": {\"colorbar\": {\"outlinewidth\": 0, \"ticks\": \"\"}}, \"type\": \"scatter3d\"}], \"scattercarpet\": [{\"marker\": {\"colorbar\": {\"outlinewidth\": 0, \"ticks\": \"\"}}, \"type\": \"scattercarpet\"}], \"scattergeo\": [{\"marker\": {\"colorbar\": {\"outlinewidth\": 0, \"ticks\": \"\"}}, \"type\": \"scattergeo\"}], \"scattergl\": [{\"marker\": {\"colorbar\": {\"outlinewidth\": 0, \"ticks\": \"\"}}, \"type\": \"scattergl\"}], \"scattermapbox\": [{\"marker\": {\"colorbar\": {\"outlinewidth\": 0, \"ticks\": \"\"}}, \"type\": \"scattermapbox\"}], \"scatterpolar\": [{\"marker\": {\"colorbar\": {\"outlinewidth\": 0, \"ticks\": \"\"}}, \"type\": \"scatterpolar\"}], \"scatterpolargl\": [{\"marker\": {\"colorbar\": {\"outlinewidth\": 0, \"ticks\": \"\"}}, \"type\": \"scatterpolargl\"}], \"scatterternary\": [{\"marker\": {\"colorbar\": {\"outlinewidth\": 0, \"ticks\": \"\"}}, \"type\": \"scatterternary\"}], \"surface\": [{\"colorbar\": {\"outlinewidth\": 0, \"ticks\": \"\"}, \"colorscale\": [[0.0, \"#0d0887\"], [0.1111111111111111, \"#46039f\"], [0.2222222222222222, \"#7201a8\"], [0.3333333333333333, \"#9c179e\"], [0.4444444444444444, \"#bd3786\"], [0.5555555555555556, \"#d8576b\"], [0.6666666666666666, \"#ed7953\"], [0.7777777777777778, \"#fb9f3a\"], [0.8888888888888888, \"#fdca26\"], [1.0, \"#f0f921\"]], \"type\": \"surface\"}], \"table\": [{\"cells\": {\"fill\": {\"color\": \"#EBF0F8\"}, \"line\": {\"color\": \"white\"}}, \"header\": {\"fill\": {\"color\": \"#C8D4E3\"}, \"line\": {\"color\": \"white\"}}, \"type\": \"table\"}]}, \"layout\": {\"annotationdefaults\": {\"arrowcolor\": \"#2a3f5f\", \"arrowhead\": 0, \"arrowwidth\": 1}, \"coloraxis\": {\"colorbar\": {\"outlinewidth\": 0, \"ticks\": \"\"}}, \"colorscale\": {\"diverging\": [[0, \"#8e0152\"], [0.1, \"#c51b7d\"], [0.2, \"#de77ae\"], [0.3, \"#f1b6da\"], [0.4, \"#fde0ef\"], [0.5, \"#f7f7f7\"], [0.6, \"#e6f5d0\"], [0.7, \"#b8e186\"], [0.8, \"#7fbc41\"], [0.9, \"#4d9221\"], [1, \"#276419\"]], \"sequential\": [[0.0, \"#0d0887\"], [0.1111111111111111, \"#46039f\"], [0.2222222222222222, \"#7201a8\"], [0.3333333333333333, \"#9c179e\"], [0.4444444444444444, \"#bd3786\"], [0.5555555555555556, \"#d8576b\"], [0.6666666666666666, \"#ed7953\"], [0.7777777777777778, \"#fb9f3a\"], [0.8888888888888888, \"#fdca26\"], [1.0, \"#f0f921\"]], \"sequentialminus\": [[0.0, \"#0d0887\"], [0.1111111111111111, \"#46039f\"], [0.2222222222222222, \"#7201a8\"], [0.3333333333333333, \"#9c179e\"], [0.4444444444444444, \"#bd3786\"], [0.5555555555555556, \"#d8576b\"], [0.6666666666666666, \"#ed7953\"], [0.7777777777777778, \"#fb9f3a\"], [0.8888888888888888, \"#fdca26\"], [1.0, \"#f0f921\"]]}, \"colorway\": [\"#636efa\", \"#EF553B\", \"#00cc96\", \"#ab63fa\", \"#FFA15A\", \"#19d3f3\", \"#FF6692\", \"#B6E880\", \"#FF97FF\", \"#FECB52\"], \"font\": {\"color\": \"#2a3f5f\"}, \"geo\": {\"bgcolor\": \"white\", \"lakecolor\": \"white\", \"landcolor\": \"#E5ECF6\", \"showlakes\": true, \"showland\": true, \"subunitcolor\": \"white\"}, \"hoverlabel\": {\"align\": \"left\"}, \"hovermode\": \"closest\", \"mapbox\": {\"style\": \"light\"}, \"paper_bgcolor\": \"white\", \"plot_bgcolor\": \"#E5ECF6\", \"polar\": {\"angularaxis\": {\"gridcolor\": \"white\", \"linecolor\": \"white\", \"ticks\": \"\"}, \"bgcolor\": \"#E5ECF6\", \"radialaxis\": {\"gridcolor\": \"white\", \"linecolor\": \"white\", \"ticks\": \"\"}}, \"scene\": {\"xaxis\": {\"backgroundcolor\": \"#E5ECF6\", \"gridcolor\": \"white\", \"gridwidth\": 2, \"linecolor\": \"white\", \"showbackground\": true, \"ticks\": \"\", \"zerolinecolor\": \"white\"}, \"yaxis\": {\"backgroundcolor\": \"#E5ECF6\", \"gridcolor\": \"white\", \"gridwidth\": 2, \"linecolor\": \"white\", \"showbackground\": true, \"ticks\": \"\", \"zerolinecolor\": \"white\"}, \"zaxis\": {\"backgroundcolor\": \"#E5ECF6\", \"gridcolor\": \"white\", \"gridwidth\": 2, \"linecolor\": \"white\", \"showbackground\": true, \"ticks\": \"\", \"zerolinecolor\": \"white\"}}, \"shapedefaults\": {\"line\": {\"color\": \"#2a3f5f\"}}, \"ternary\": {\"aaxis\": {\"gridcolor\": \"white\", \"linecolor\": \"white\", \"ticks\": \"\"}, \"baxis\": {\"gridcolor\": \"white\", \"linecolor\": \"white\", \"ticks\": \"\"}, \"bgcolor\": \"#E5ECF6\", \"caxis\": {\"gridcolor\": \"white\", \"linecolor\": \"white\", \"ticks\": \"\"}}, \"title\": {\"x\": 0.05}, \"xaxis\": {\"automargin\": true, \"gridcolor\": \"white\", \"linecolor\": \"white\", \"ticks\": \"\", \"title\": {\"standoff\": 15}, \"zerolinecolor\": \"white\", \"zerolinewidth\": 2}, \"yaxis\": {\"automargin\": true, \"gridcolor\": \"white\", \"linecolor\": \"white\", \"ticks\": \"\", \"title\": {\"standoff\": 15}, \"zerolinecolor\": \"white\", \"zerolinewidth\": 2}}}},\n",
       "                        {\"responsive\": true}\n",
       "                    ).then(function(){\n",
       "                            \n",
       "var gd = document.getElementById('a5b809c8-2477-4baf-ad9f-c838ec01e7e1');\n",
       "var x = new MutationObserver(function (mutations, observer) {{\n",
       "        var display = window.getComputedStyle(gd).display;\n",
       "        if (!display || display === 'none') {{\n",
       "            console.log([gd, 'removed!']);\n",
       "            Plotly.purge(gd);\n",
       "            observer.disconnect();\n",
       "        }}\n",
       "}});\n",
       "\n",
       "// Listen for the removal of the full notebook cells\n",
       "var notebookContainer = gd.closest('#notebook-container');\n",
       "if (notebookContainer) {{\n",
       "    x.observe(notebookContainer, {childList: true});\n",
       "}}\n",
       "\n",
       "// Listen for the clearing of the current output cell\n",
       "var outputEl = gd.closest('.output');\n",
       "if (outputEl) {{\n",
       "    x.observe(outputEl, {childList: true});\n",
       "}}\n",
       "\n",
       "                        })\n",
       "                };\n",
       "                });\n",
       "            </script>\n",
       "        </div>"
      ]
     },
     "metadata": {},
     "output_type": "display_data"
    }
   ],
   "source": [
    "traces = []\n",
    "for amine in amines:\n",
    "    solvent_df = crystal_data[crystal_data['Amine']==amine]\n",
    "    marker_text = [f\"Solvent: {row['Solvent']} Amine: {row['Amine']}\" for idx, row in solvent_df.iterrows()]\n",
    "    trace = go.Scatter(x=solvent_df['PCA_X'], y=solvent_df['PCA_Y'], mode='markers',text=marker_text, name=amine)\n",
    "    traces.append(trace)\n",
    "PCA2D(loadings, features, traces)"
   ]
  },
  {
   "cell_type": "code",
   "execution_count": 74,
   "metadata": {},
   "outputs": [
    {
     "data": {
      "application/vnd.plotly.v1+json": {
       "config": {
        "plotlyServerURL": "https://plot.ly"
       },
       "data": [
        {
         "mode": "markers",
         "name": "branch",
         "text": [
          "Solvent: GBL Amine: AcNH3I",
          "Solvent: GBL:DMF Amine: AcNH3I",
          "Solvent: DMF Amine: NNDimethylethane12diammoniumiodide",
          "Solvent: DMSO Amine: NNDimethylethane12diammoniumiodide",
          "Solvent: DMF:DMSO Amine: NNDimethylethane12diammoniumiodide",
          "Solvent: GBL:DMF Amine: NNDimethylethane12diammoniumiodide",
          "Solvent: GBL Amine: NNDiethylpropane13diammoniumiodide",
          "Solvent: GBL:DMF Amine: NNDiethylpropane13diammoniumiodide"
         ],
         "type": "scatter",
         "x": [
          -21933.81017949,
          -12213.809381921863,
          -3869.8094460437865,
          149.18992440082397,
          21386.19094276899,
          -16172.808875326607,
          -21213.810369744788,
          -764.8081234739275
         ],
         "y": [
          -1.0125445343578496,
          2.0141114605959727,
          0.40669640623374026,
          -2.7286260498812016,
          0.11186627582854787,
          5.170881425571847,
          -2.013042907455655,
          7.319332888132012
         ]
        },
        {
         "mode": "markers",
         "name": "6-membered-ring",
         "text": [
          "Solvent: GBL Amine: CyclohexylmethylammoniumIodide",
          "Solvent: GBL Amine: PhEtNH3I",
          "Solvent: DMF Amine: Benzenediaminedihydroiodide",
          "Solvent: DMF:DMSO Amine: Benzenediaminedihydroiodide",
          "Solvent: GBL:DMF Amine: Benzenediaminedihydroiodide"
         ],
         "type": "scatter",
         "x": [
          -23613.81080859162,
          16586.190095186084,
          10166.190213139504,
          17906.191637112748,
          -22533.8101813237
         ],
         "y": [
          -4.004533168003079,
          -3.711809920414465,
          -2.620121822816045,
          4.278448874034924,
          -0.6574298628530539
         ]
        },
        {
         "mode": "markers",
         "name": "5-membered-ring",
         "text": [
          "Solvent: DMF Amine: 2Pyrrolidin1ium1ylethylammoniumiodide",
          "Solvent: DMF:DMSO Amine: 2Pyrrolidin1ium1ylethylammoniumiodide",
          "Solvent: GBL:DMF Amine: 2Pyrrolidin1ium1ylethylammoniumiodide"
         ],
         "type": "scatter",
         "x": [
          -19413.8096924734,
          19046.191048368604,
          -23106.810755316346
         ],
         "y": [
          1.0352636408255473,
          1.083253350273391,
          -4.221506210114238
         ]
        },
        {
         "mode": "markers",
         "name": "chain",
         "text": [
          "Solvent: GBL Amine: EtNH3I",
          "Solvent: GBL Amine: MeNH3I",
          "Solvent: DMF Amine: MeNH3I",
          "Solvent: GBL:DMF Amine: MeNH3I",
          "Solvent: GBL:DMF Amine: Propane13diammoniumIodide"
         ],
         "type": "scatter",
         "x": [
          23968.190149105023,
          -8493.809806282925,
          36457.19029987919,
          34836.19201322703,
          -7170.808703199012
         ],
         "y": [
          -4.3122693996101145,
          -0.8269156626164246,
          -4.796235503164407,
          4.566932875920917,
          4.918247843869627
         ]
        }
       ],
       "layout": {
        "annotations": [
         {
          "ax": 0,
          "ay": 0,
          "text": "Best Kin, Mols/sec",
          "x": -3.780520896342035e-09,
          "xanchor": "center",
          "y": 5.4385390988983313e-08,
          "yanchor": "bottom"
         },
         {
          "ax": 0,
          "ay": 0,
          "text": "Best Kout, Mols/sec",
          "x": 3.188688603325792e-09,
          "xanchor": "center",
          "y": 2.5170050471979036e-08,
          "yanchor": "bottom"
         },
         {
          "ax": 0,
          "ay": 0,
          "text": "Best Fit SSE",
          "x": -0.000148029496990225,
          "xanchor": "center",
          "y": -0.0002827836232936273,
          "yanchor": "bottom"
         },
         {
          "ax": 0,
          "ay": 0,
          "text": "Crystallization Time, Seconds",
          "x": 20116.635087954062,
          "xanchor": "center",
          "y": -0.0006891189616897046,
          "yanchor": "bottom"
         },
         {
          "ax": 0,
          "ay": 0,
          "text": "Crystallization Height, cm",
          "x": 0.21946625572846865,
          "xanchor": "center",
          "y": 0.033621426240548154,
          "yanchor": "bottom"
         },
         {
          "ax": 0,
          "ay": 0,
          "text": "Antisolvent Concentration, Mols/L",
          "x": 3.732336524016674,
          "xanchor": "center",
          "y": 3.5932118246211813,
          "yanchor": "bottom"
         },
         {
          "ax": 0,
          "ay": 0,
          "text": "Solvent Concentration, Mols/L",
          "x": -1.5092506857239785,
          "xanchor": "center",
          "y": -0.2787599431340927,
          "yanchor": "bottom"
         },
         {
          "ax": 0,
          "ay": 0,
          "text": "FAH Concentration, Mols/L",
          "x": -0.34924604096854456,
          "xanchor": "center",
          "y": -0.06164744956239918,
          "yanchor": "bottom"
         },
         {
          "ax": 0,
          "ay": 0,
          "text": "Inorganic Concentration, Mols/L",
          "x": -0.08346665633480593,
          "xanchor": "center",
          "y": -0.00745259506282077,
          "yanchor": "bottom"
         },
         {
          "ax": 0,
          "ay": 0,
          "text": "Organic Concentration, Mols/L",
          "x": -0.12118464442186687,
          "xanchor": "center",
          "y": -0.011794698434988444,
          "yanchor": "bottom"
         }
        ],
        "shapes": [
         {
          "type": "line",
          "x0": 0,
          "x1": -3.780520896342035e-09,
          "y0": 0,
          "y1": 5.4385390988983313e-08
         },
         {
          "type": "line",
          "x0": 0,
          "x1": 3.188688603325792e-09,
          "y0": 0,
          "y1": 2.5170050471979036e-08
         },
         {
          "type": "line",
          "x0": 0,
          "x1": -0.000148029496990225,
          "y0": 0,
          "y1": -0.0002827836232936273
         },
         {
          "type": "line",
          "x0": 0,
          "x1": 20116.635087954062,
          "y0": 0,
          "y1": -0.0006891189616897046
         },
         {
          "type": "line",
          "x0": 0,
          "x1": 0.21946625572846865,
          "y0": 0,
          "y1": 0.033621426240548154
         },
         {
          "type": "line",
          "x0": 0,
          "x1": 3.732336524016674,
          "y0": 0,
          "y1": 3.5932118246211813
         },
         {
          "type": "line",
          "x0": 0,
          "x1": -1.5092506857239785,
          "y0": 0,
          "y1": -0.2787599431340927
         },
         {
          "type": "line",
          "x0": 0,
          "x1": -0.34924604096854456,
          "y0": 0,
          "y1": -0.06164744956239918
         },
         {
          "type": "line",
          "x0": 0,
          "x1": -0.08346665633480593,
          "y0": 0,
          "y1": -0.00745259506282077
         },
         {
          "type": "line",
          "x0": 0,
          "x1": -0.12118464442186687,
          "y0": 0,
          "y1": -0.011794698434988444
         }
        ],
        "template": {
         "data": {
          "bar": [
           {
            "error_x": {
             "color": "#2a3f5f"
            },
            "error_y": {
             "color": "#2a3f5f"
            },
            "marker": {
             "line": {
              "color": "#E5ECF6",
              "width": 0.5
             }
            },
            "type": "bar"
           }
          ],
          "barpolar": [
           {
            "marker": {
             "line": {
              "color": "#E5ECF6",
              "width": 0.5
             }
            },
            "type": "barpolar"
           }
          ],
          "carpet": [
           {
            "aaxis": {
             "endlinecolor": "#2a3f5f",
             "gridcolor": "white",
             "linecolor": "white",
             "minorgridcolor": "white",
             "startlinecolor": "#2a3f5f"
            },
            "baxis": {
             "endlinecolor": "#2a3f5f",
             "gridcolor": "white",
             "linecolor": "white",
             "minorgridcolor": "white",
             "startlinecolor": "#2a3f5f"
            },
            "type": "carpet"
           }
          ],
          "choropleth": [
           {
            "colorbar": {
             "outlinewidth": 0,
             "ticks": ""
            },
            "type": "choropleth"
           }
          ],
          "contour": [
           {
            "colorbar": {
             "outlinewidth": 0,
             "ticks": ""
            },
            "colorscale": [
             [
              0,
              "#0d0887"
             ],
             [
              0.1111111111111111,
              "#46039f"
             ],
             [
              0.2222222222222222,
              "#7201a8"
             ],
             [
              0.3333333333333333,
              "#9c179e"
             ],
             [
              0.4444444444444444,
              "#bd3786"
             ],
             [
              0.5555555555555556,
              "#d8576b"
             ],
             [
              0.6666666666666666,
              "#ed7953"
             ],
             [
              0.7777777777777778,
              "#fb9f3a"
             ],
             [
              0.8888888888888888,
              "#fdca26"
             ],
             [
              1,
              "#f0f921"
             ]
            ],
            "type": "contour"
           }
          ],
          "contourcarpet": [
           {
            "colorbar": {
             "outlinewidth": 0,
             "ticks": ""
            },
            "type": "contourcarpet"
           }
          ],
          "heatmap": [
           {
            "colorbar": {
             "outlinewidth": 0,
             "ticks": ""
            },
            "colorscale": [
             [
              0,
              "#0d0887"
             ],
             [
              0.1111111111111111,
              "#46039f"
             ],
             [
              0.2222222222222222,
              "#7201a8"
             ],
             [
              0.3333333333333333,
              "#9c179e"
             ],
             [
              0.4444444444444444,
              "#bd3786"
             ],
             [
              0.5555555555555556,
              "#d8576b"
             ],
             [
              0.6666666666666666,
              "#ed7953"
             ],
             [
              0.7777777777777778,
              "#fb9f3a"
             ],
             [
              0.8888888888888888,
              "#fdca26"
             ],
             [
              1,
              "#f0f921"
             ]
            ],
            "type": "heatmap"
           }
          ],
          "heatmapgl": [
           {
            "colorbar": {
             "outlinewidth": 0,
             "ticks": ""
            },
            "colorscale": [
             [
              0,
              "#0d0887"
             ],
             [
              0.1111111111111111,
              "#46039f"
             ],
             [
              0.2222222222222222,
              "#7201a8"
             ],
             [
              0.3333333333333333,
              "#9c179e"
             ],
             [
              0.4444444444444444,
              "#bd3786"
             ],
             [
              0.5555555555555556,
              "#d8576b"
             ],
             [
              0.6666666666666666,
              "#ed7953"
             ],
             [
              0.7777777777777778,
              "#fb9f3a"
             ],
             [
              0.8888888888888888,
              "#fdca26"
             ],
             [
              1,
              "#f0f921"
             ]
            ],
            "type": "heatmapgl"
           }
          ],
          "histogram": [
           {
            "marker": {
             "colorbar": {
              "outlinewidth": 0,
              "ticks": ""
             }
            },
            "type": "histogram"
           }
          ],
          "histogram2d": [
           {
            "colorbar": {
             "outlinewidth": 0,
             "ticks": ""
            },
            "colorscale": [
             [
              0,
              "#0d0887"
             ],
             [
              0.1111111111111111,
              "#46039f"
             ],
             [
              0.2222222222222222,
              "#7201a8"
             ],
             [
              0.3333333333333333,
              "#9c179e"
             ],
             [
              0.4444444444444444,
              "#bd3786"
             ],
             [
              0.5555555555555556,
              "#d8576b"
             ],
             [
              0.6666666666666666,
              "#ed7953"
             ],
             [
              0.7777777777777778,
              "#fb9f3a"
             ],
             [
              0.8888888888888888,
              "#fdca26"
             ],
             [
              1,
              "#f0f921"
             ]
            ],
            "type": "histogram2d"
           }
          ],
          "histogram2dcontour": [
           {
            "colorbar": {
             "outlinewidth": 0,
             "ticks": ""
            },
            "colorscale": [
             [
              0,
              "#0d0887"
             ],
             [
              0.1111111111111111,
              "#46039f"
             ],
             [
              0.2222222222222222,
              "#7201a8"
             ],
             [
              0.3333333333333333,
              "#9c179e"
             ],
             [
              0.4444444444444444,
              "#bd3786"
             ],
             [
              0.5555555555555556,
              "#d8576b"
             ],
             [
              0.6666666666666666,
              "#ed7953"
             ],
             [
              0.7777777777777778,
              "#fb9f3a"
             ],
             [
              0.8888888888888888,
              "#fdca26"
             ],
             [
              1,
              "#f0f921"
             ]
            ],
            "type": "histogram2dcontour"
           }
          ],
          "mesh3d": [
           {
            "colorbar": {
             "outlinewidth": 0,
             "ticks": ""
            },
            "type": "mesh3d"
           }
          ],
          "parcoords": [
           {
            "line": {
             "colorbar": {
              "outlinewidth": 0,
              "ticks": ""
             }
            },
            "type": "parcoords"
           }
          ],
          "pie": [
           {
            "automargin": true,
            "type": "pie"
           }
          ],
          "scatter": [
           {
            "marker": {
             "colorbar": {
              "outlinewidth": 0,
              "ticks": ""
             }
            },
            "type": "scatter"
           }
          ],
          "scatter3d": [
           {
            "line": {
             "colorbar": {
              "outlinewidth": 0,
              "ticks": ""
             }
            },
            "marker": {
             "colorbar": {
              "outlinewidth": 0,
              "ticks": ""
             }
            },
            "type": "scatter3d"
           }
          ],
          "scattercarpet": [
           {
            "marker": {
             "colorbar": {
              "outlinewidth": 0,
              "ticks": ""
             }
            },
            "type": "scattercarpet"
           }
          ],
          "scattergeo": [
           {
            "marker": {
             "colorbar": {
              "outlinewidth": 0,
              "ticks": ""
             }
            },
            "type": "scattergeo"
           }
          ],
          "scattergl": [
           {
            "marker": {
             "colorbar": {
              "outlinewidth": 0,
              "ticks": ""
             }
            },
            "type": "scattergl"
           }
          ],
          "scattermapbox": [
           {
            "marker": {
             "colorbar": {
              "outlinewidth": 0,
              "ticks": ""
             }
            },
            "type": "scattermapbox"
           }
          ],
          "scatterpolar": [
           {
            "marker": {
             "colorbar": {
              "outlinewidth": 0,
              "ticks": ""
             }
            },
            "type": "scatterpolar"
           }
          ],
          "scatterpolargl": [
           {
            "marker": {
             "colorbar": {
              "outlinewidth": 0,
              "ticks": ""
             }
            },
            "type": "scatterpolargl"
           }
          ],
          "scatterternary": [
           {
            "marker": {
             "colorbar": {
              "outlinewidth": 0,
              "ticks": ""
             }
            },
            "type": "scatterternary"
           }
          ],
          "surface": [
           {
            "colorbar": {
             "outlinewidth": 0,
             "ticks": ""
            },
            "colorscale": [
             [
              0,
              "#0d0887"
             ],
             [
              0.1111111111111111,
              "#46039f"
             ],
             [
              0.2222222222222222,
              "#7201a8"
             ],
             [
              0.3333333333333333,
              "#9c179e"
             ],
             [
              0.4444444444444444,
              "#bd3786"
             ],
             [
              0.5555555555555556,
              "#d8576b"
             ],
             [
              0.6666666666666666,
              "#ed7953"
             ],
             [
              0.7777777777777778,
              "#fb9f3a"
             ],
             [
              0.8888888888888888,
              "#fdca26"
             ],
             [
              1,
              "#f0f921"
             ]
            ],
            "type": "surface"
           }
          ],
          "table": [
           {
            "cells": {
             "fill": {
              "color": "#EBF0F8"
             },
             "line": {
              "color": "white"
             }
            },
            "header": {
             "fill": {
              "color": "#C8D4E3"
             },
             "line": {
              "color": "white"
             }
            },
            "type": "table"
           }
          ]
         },
         "layout": {
          "annotationdefaults": {
           "arrowcolor": "#2a3f5f",
           "arrowhead": 0,
           "arrowwidth": 1
          },
          "coloraxis": {
           "colorbar": {
            "outlinewidth": 0,
            "ticks": ""
           }
          },
          "colorscale": {
           "diverging": [
            [
             0,
             "#8e0152"
            ],
            [
             0.1,
             "#c51b7d"
            ],
            [
             0.2,
             "#de77ae"
            ],
            [
             0.3,
             "#f1b6da"
            ],
            [
             0.4,
             "#fde0ef"
            ],
            [
             0.5,
             "#f7f7f7"
            ],
            [
             0.6,
             "#e6f5d0"
            ],
            [
             0.7,
             "#b8e186"
            ],
            [
             0.8,
             "#7fbc41"
            ],
            [
             0.9,
             "#4d9221"
            ],
            [
             1,
             "#276419"
            ]
           ],
           "sequential": [
            [
             0,
             "#0d0887"
            ],
            [
             0.1111111111111111,
             "#46039f"
            ],
            [
             0.2222222222222222,
             "#7201a8"
            ],
            [
             0.3333333333333333,
             "#9c179e"
            ],
            [
             0.4444444444444444,
             "#bd3786"
            ],
            [
             0.5555555555555556,
             "#d8576b"
            ],
            [
             0.6666666666666666,
             "#ed7953"
            ],
            [
             0.7777777777777778,
             "#fb9f3a"
            ],
            [
             0.8888888888888888,
             "#fdca26"
            ],
            [
             1,
             "#f0f921"
            ]
           ],
           "sequentialminus": [
            [
             0,
             "#0d0887"
            ],
            [
             0.1111111111111111,
             "#46039f"
            ],
            [
             0.2222222222222222,
             "#7201a8"
            ],
            [
             0.3333333333333333,
             "#9c179e"
            ],
            [
             0.4444444444444444,
             "#bd3786"
            ],
            [
             0.5555555555555556,
             "#d8576b"
            ],
            [
             0.6666666666666666,
             "#ed7953"
            ],
            [
             0.7777777777777778,
             "#fb9f3a"
            ],
            [
             0.8888888888888888,
             "#fdca26"
            ],
            [
             1,
             "#f0f921"
            ]
           ]
          },
          "colorway": [
           "#636efa",
           "#EF553B",
           "#00cc96",
           "#ab63fa",
           "#FFA15A",
           "#19d3f3",
           "#FF6692",
           "#B6E880",
           "#FF97FF",
           "#FECB52"
          ],
          "font": {
           "color": "#2a3f5f"
          },
          "geo": {
           "bgcolor": "white",
           "lakecolor": "white",
           "landcolor": "#E5ECF6",
           "showlakes": true,
           "showland": true,
           "subunitcolor": "white"
          },
          "hoverlabel": {
           "align": "left"
          },
          "hovermode": "closest",
          "mapbox": {
           "style": "light"
          },
          "paper_bgcolor": "white",
          "plot_bgcolor": "#E5ECF6",
          "polar": {
           "angularaxis": {
            "gridcolor": "white",
            "linecolor": "white",
            "ticks": ""
           },
           "bgcolor": "#E5ECF6",
           "radialaxis": {
            "gridcolor": "white",
            "linecolor": "white",
            "ticks": ""
           }
          },
          "scene": {
           "xaxis": {
            "backgroundcolor": "#E5ECF6",
            "gridcolor": "white",
            "gridwidth": 2,
            "linecolor": "white",
            "showbackground": true,
            "ticks": "",
            "zerolinecolor": "white"
           },
           "yaxis": {
            "backgroundcolor": "#E5ECF6",
            "gridcolor": "white",
            "gridwidth": 2,
            "linecolor": "white",
            "showbackground": true,
            "ticks": "",
            "zerolinecolor": "white"
           },
           "zaxis": {
            "backgroundcolor": "#E5ECF6",
            "gridcolor": "white",
            "gridwidth": 2,
            "linecolor": "white",
            "showbackground": true,
            "ticks": "",
            "zerolinecolor": "white"
           }
          },
          "shapedefaults": {
           "line": {
            "color": "#2a3f5f"
           }
          },
          "ternary": {
           "aaxis": {
            "gridcolor": "white",
            "linecolor": "white",
            "ticks": ""
           },
           "baxis": {
            "gridcolor": "white",
            "linecolor": "white",
            "ticks": ""
           },
           "bgcolor": "#E5ECF6",
           "caxis": {
            "gridcolor": "white",
            "linecolor": "white",
            "ticks": ""
           }
          },
          "title": {
           "x": 0.05
          },
          "xaxis": {
           "automargin": true,
           "gridcolor": "white",
           "linecolor": "white",
           "ticks": "",
           "title": {
            "standoff": 15
           },
           "zerolinecolor": "white",
           "zerolinewidth": 2
          },
          "yaxis": {
           "automargin": true,
           "gridcolor": "white",
           "linecolor": "white",
           "ticks": "",
           "title": {
            "standoff": 15
           },
           "zerolinecolor": "white",
           "zerolinewidth": 2
          }
         }
        }
       }
      },
      "text/html": [
       "<div>\n",
       "        \n",
       "        \n",
       "            <div id=\"299a165c-2786-492c-b8b0-b4fc20af3a4b\" class=\"plotly-graph-div\" style=\"height:525px; width:100%;\"></div>\n",
       "            <script type=\"text/javascript\">\n",
       "                require([\"plotly\"], function(Plotly) {\n",
       "                    window.PLOTLYENV=window.PLOTLYENV || {};\n",
       "                    \n",
       "                if (document.getElementById(\"299a165c-2786-492c-b8b0-b4fc20af3a4b\")) {\n",
       "                    Plotly.newPlot(\n",
       "                        '299a165c-2786-492c-b8b0-b4fc20af3a4b',\n",
       "                        [{\"mode\": \"markers\", \"name\": \"branch\", \"text\": [\"Solvent: GBL Amine: AcNH3I\", \"Solvent: GBL:DMF Amine: AcNH3I\", \"Solvent: DMF Amine: NNDimethylethane12diammoniumiodide\", \"Solvent: DMSO Amine: NNDimethylethane12diammoniumiodide\", \"Solvent: DMF:DMSO Amine: NNDimethylethane12diammoniumiodide\", \"Solvent: GBL:DMF Amine: NNDimethylethane12diammoniumiodide\", \"Solvent: GBL Amine: NNDiethylpropane13diammoniumiodide\", \"Solvent: GBL:DMF Amine: NNDiethylpropane13diammoniumiodide\"], \"type\": \"scatter\", \"x\": [-21933.81017949, -12213.809381921863, -3869.8094460437865, 149.18992440082397, 21386.19094276899, -16172.808875326607, -21213.810369744788, -764.8081234739275], \"y\": [-1.0125445343578496, 2.0141114605959727, 0.40669640623374026, -2.7286260498812016, 0.11186627582854787, 5.170881425571847, -2.013042907455655, 7.319332888132012]}, {\"mode\": \"markers\", \"name\": \"6-membered-ring\", \"text\": [\"Solvent: GBL Amine: CyclohexylmethylammoniumIodide\", \"Solvent: GBL Amine: PhEtNH3I\", \"Solvent: DMF Amine: Benzenediaminedihydroiodide\", \"Solvent: DMF:DMSO Amine: Benzenediaminedihydroiodide\", \"Solvent: GBL:DMF Amine: Benzenediaminedihydroiodide\"], \"type\": \"scatter\", \"x\": [-23613.81080859162, 16586.190095186084, 10166.190213139504, 17906.191637112748, -22533.8101813237], \"y\": [-4.004533168003079, -3.711809920414465, -2.620121822816045, 4.278448874034924, -0.6574298628530539]}, {\"mode\": \"markers\", \"name\": \"5-membered-ring\", \"text\": [\"Solvent: DMF Amine: 2Pyrrolidin1ium1ylethylammoniumiodide\", \"Solvent: DMF:DMSO Amine: 2Pyrrolidin1ium1ylethylammoniumiodide\", \"Solvent: GBL:DMF Amine: 2Pyrrolidin1ium1ylethylammoniumiodide\"], \"type\": \"scatter\", \"x\": [-19413.8096924734, 19046.191048368604, -23106.810755316346], \"y\": [1.0352636408255473, 1.083253350273391, -4.221506210114238]}, {\"mode\": \"markers\", \"name\": \"chain\", \"text\": [\"Solvent: GBL Amine: EtNH3I\", \"Solvent: GBL Amine: MeNH3I\", \"Solvent: DMF Amine: MeNH3I\", \"Solvent: GBL:DMF Amine: MeNH3I\", \"Solvent: GBL:DMF Amine: Propane13diammoniumIodide\"], \"type\": \"scatter\", \"x\": [23968.190149105023, -8493.809806282925, 36457.19029987919, 34836.19201322703, -7170.808703199012], \"y\": [-4.3122693996101145, -0.8269156626164246, -4.796235503164407, 4.566932875920917, 4.918247843869627]}],\n",
       "                        {\"annotations\": [{\"ax\": 0, \"ay\": 0, \"text\": \"Best Kin, Mols/sec\", \"x\": -3.780520896342035e-09, \"xanchor\": \"center\", \"y\": 5.4385390988983313e-08, \"yanchor\": \"bottom\"}, {\"ax\": 0, \"ay\": 0, \"text\": \"Best Kout, Mols/sec\", \"x\": 3.188688603325792e-09, \"xanchor\": \"center\", \"y\": 2.5170050471979036e-08, \"yanchor\": \"bottom\"}, {\"ax\": 0, \"ay\": 0, \"text\": \"Best Fit SSE\", \"x\": -0.000148029496990225, \"xanchor\": \"center\", \"y\": -0.0002827836232936273, \"yanchor\": \"bottom\"}, {\"ax\": 0, \"ay\": 0, \"text\": \"Crystallization Time, Seconds\", \"x\": 20116.635087954062, \"xanchor\": \"center\", \"y\": -0.0006891189616897046, \"yanchor\": \"bottom\"}, {\"ax\": 0, \"ay\": 0, \"text\": \"Crystallization Height, cm\", \"x\": 0.21946625572846865, \"xanchor\": \"center\", \"y\": 0.033621426240548154, \"yanchor\": \"bottom\"}, {\"ax\": 0, \"ay\": 0, \"text\": \"Antisolvent Concentration, Mols/L\", \"x\": 3.732336524016674, \"xanchor\": \"center\", \"y\": 3.5932118246211813, \"yanchor\": \"bottom\"}, {\"ax\": 0, \"ay\": 0, \"text\": \"Solvent Concentration, Mols/L\", \"x\": -1.5092506857239785, \"xanchor\": \"center\", \"y\": -0.2787599431340927, \"yanchor\": \"bottom\"}, {\"ax\": 0, \"ay\": 0, \"text\": \"FAH Concentration, Mols/L\", \"x\": -0.34924604096854456, \"xanchor\": \"center\", \"y\": -0.06164744956239918, \"yanchor\": \"bottom\"}, {\"ax\": 0, \"ay\": 0, \"text\": \"Inorganic Concentration, Mols/L\", \"x\": -0.08346665633480593, \"xanchor\": \"center\", \"y\": -0.00745259506282077, \"yanchor\": \"bottom\"}, {\"ax\": 0, \"ay\": 0, \"text\": \"Organic Concentration, Mols/L\", \"x\": -0.12118464442186687, \"xanchor\": \"center\", \"y\": -0.011794698434988444, \"yanchor\": \"bottom\"}], \"shapes\": [{\"type\": \"line\", \"x0\": 0, \"x1\": -3.780520896342035e-09, \"y0\": 0, \"y1\": 5.4385390988983313e-08}, {\"type\": \"line\", \"x0\": 0, \"x1\": 3.188688603325792e-09, \"y0\": 0, \"y1\": 2.5170050471979036e-08}, {\"type\": \"line\", \"x0\": 0, \"x1\": -0.000148029496990225, \"y0\": 0, \"y1\": -0.0002827836232936273}, {\"type\": \"line\", \"x0\": 0, \"x1\": 20116.635087954062, \"y0\": 0, \"y1\": -0.0006891189616897046}, {\"type\": \"line\", \"x0\": 0, \"x1\": 0.21946625572846865, \"y0\": 0, \"y1\": 0.033621426240548154}, {\"type\": \"line\", \"x0\": 0, \"x1\": 3.732336524016674, \"y0\": 0, \"y1\": 3.5932118246211813}, {\"type\": \"line\", \"x0\": 0, \"x1\": -1.5092506857239785, \"y0\": 0, \"y1\": -0.2787599431340927}, {\"type\": \"line\", \"x0\": 0, \"x1\": -0.34924604096854456, \"y0\": 0, \"y1\": -0.06164744956239918}, {\"type\": \"line\", \"x0\": 0, \"x1\": -0.08346665633480593, \"y0\": 0, \"y1\": -0.00745259506282077}, {\"type\": \"line\", \"x0\": 0, \"x1\": -0.12118464442186687, \"y0\": 0, \"y1\": -0.011794698434988444}], \"template\": {\"data\": {\"bar\": [{\"error_x\": {\"color\": \"#2a3f5f\"}, \"error_y\": {\"color\": \"#2a3f5f\"}, \"marker\": {\"line\": {\"color\": \"#E5ECF6\", \"width\": 0.5}}, \"type\": \"bar\"}], \"barpolar\": [{\"marker\": {\"line\": {\"color\": \"#E5ECF6\", \"width\": 0.5}}, \"type\": \"barpolar\"}], \"carpet\": [{\"aaxis\": {\"endlinecolor\": \"#2a3f5f\", \"gridcolor\": \"white\", \"linecolor\": \"white\", \"minorgridcolor\": \"white\", \"startlinecolor\": \"#2a3f5f\"}, \"baxis\": {\"endlinecolor\": \"#2a3f5f\", \"gridcolor\": \"white\", \"linecolor\": \"white\", \"minorgridcolor\": \"white\", \"startlinecolor\": \"#2a3f5f\"}, \"type\": \"carpet\"}], \"choropleth\": [{\"colorbar\": {\"outlinewidth\": 0, \"ticks\": \"\"}, \"type\": \"choropleth\"}], \"contour\": [{\"colorbar\": {\"outlinewidth\": 0, \"ticks\": \"\"}, \"colorscale\": [[0.0, \"#0d0887\"], [0.1111111111111111, \"#46039f\"], [0.2222222222222222, \"#7201a8\"], [0.3333333333333333, \"#9c179e\"], [0.4444444444444444, \"#bd3786\"], [0.5555555555555556, \"#d8576b\"], [0.6666666666666666, \"#ed7953\"], [0.7777777777777778, \"#fb9f3a\"], [0.8888888888888888, \"#fdca26\"], [1.0, \"#f0f921\"]], \"type\": \"contour\"}], \"contourcarpet\": [{\"colorbar\": {\"outlinewidth\": 0, \"ticks\": \"\"}, \"type\": \"contourcarpet\"}], \"heatmap\": [{\"colorbar\": {\"outlinewidth\": 0, \"ticks\": \"\"}, \"colorscale\": [[0.0, \"#0d0887\"], [0.1111111111111111, \"#46039f\"], [0.2222222222222222, \"#7201a8\"], [0.3333333333333333, \"#9c179e\"], [0.4444444444444444, \"#bd3786\"], [0.5555555555555556, \"#d8576b\"], [0.6666666666666666, \"#ed7953\"], [0.7777777777777778, \"#fb9f3a\"], [0.8888888888888888, \"#fdca26\"], [1.0, \"#f0f921\"]], \"type\": \"heatmap\"}], \"heatmapgl\": [{\"colorbar\": {\"outlinewidth\": 0, \"ticks\": \"\"}, \"colorscale\": [[0.0, \"#0d0887\"], [0.1111111111111111, \"#46039f\"], [0.2222222222222222, \"#7201a8\"], [0.3333333333333333, \"#9c179e\"], [0.4444444444444444, \"#bd3786\"], [0.5555555555555556, \"#d8576b\"], [0.6666666666666666, \"#ed7953\"], [0.7777777777777778, \"#fb9f3a\"], [0.8888888888888888, \"#fdca26\"], [1.0, \"#f0f921\"]], \"type\": \"heatmapgl\"}], \"histogram\": [{\"marker\": {\"colorbar\": {\"outlinewidth\": 0, \"ticks\": \"\"}}, \"type\": \"histogram\"}], \"histogram2d\": [{\"colorbar\": {\"outlinewidth\": 0, \"ticks\": \"\"}, \"colorscale\": [[0.0, \"#0d0887\"], [0.1111111111111111, \"#46039f\"], [0.2222222222222222, \"#7201a8\"], [0.3333333333333333, \"#9c179e\"], [0.4444444444444444, \"#bd3786\"], [0.5555555555555556, \"#d8576b\"], [0.6666666666666666, \"#ed7953\"], [0.7777777777777778, \"#fb9f3a\"], [0.8888888888888888, \"#fdca26\"], [1.0, \"#f0f921\"]], \"type\": \"histogram2d\"}], \"histogram2dcontour\": [{\"colorbar\": {\"outlinewidth\": 0, \"ticks\": \"\"}, \"colorscale\": [[0.0, \"#0d0887\"], [0.1111111111111111, \"#46039f\"], [0.2222222222222222, \"#7201a8\"], [0.3333333333333333, \"#9c179e\"], [0.4444444444444444, \"#bd3786\"], [0.5555555555555556, \"#d8576b\"], [0.6666666666666666, \"#ed7953\"], [0.7777777777777778, \"#fb9f3a\"], [0.8888888888888888, \"#fdca26\"], [1.0, \"#f0f921\"]], \"type\": \"histogram2dcontour\"}], \"mesh3d\": [{\"colorbar\": {\"outlinewidth\": 0, \"ticks\": \"\"}, \"type\": \"mesh3d\"}], \"parcoords\": [{\"line\": {\"colorbar\": {\"outlinewidth\": 0, \"ticks\": \"\"}}, \"type\": \"parcoords\"}], \"pie\": [{\"automargin\": true, \"type\": \"pie\"}], \"scatter\": [{\"marker\": {\"colorbar\": {\"outlinewidth\": 0, \"ticks\": \"\"}}, \"type\": \"scatter\"}], \"scatter3d\": [{\"line\": {\"colorbar\": {\"outlinewidth\": 0, \"ticks\": \"\"}}, \"marker\": {\"colorbar\": {\"outlinewidth\": 0, \"ticks\": \"\"}}, \"type\": \"scatter3d\"}], \"scattercarpet\": [{\"marker\": {\"colorbar\": {\"outlinewidth\": 0, \"ticks\": \"\"}}, \"type\": \"scattercarpet\"}], \"scattergeo\": [{\"marker\": {\"colorbar\": {\"outlinewidth\": 0, \"ticks\": \"\"}}, \"type\": \"scattergeo\"}], \"scattergl\": [{\"marker\": {\"colorbar\": {\"outlinewidth\": 0, \"ticks\": \"\"}}, \"type\": \"scattergl\"}], \"scattermapbox\": [{\"marker\": {\"colorbar\": {\"outlinewidth\": 0, \"ticks\": \"\"}}, \"type\": \"scattermapbox\"}], \"scatterpolar\": [{\"marker\": {\"colorbar\": {\"outlinewidth\": 0, \"ticks\": \"\"}}, \"type\": \"scatterpolar\"}], \"scatterpolargl\": [{\"marker\": {\"colorbar\": {\"outlinewidth\": 0, \"ticks\": \"\"}}, \"type\": \"scatterpolargl\"}], \"scatterternary\": [{\"marker\": {\"colorbar\": {\"outlinewidth\": 0, \"ticks\": \"\"}}, \"type\": \"scatterternary\"}], \"surface\": [{\"colorbar\": {\"outlinewidth\": 0, \"ticks\": \"\"}, \"colorscale\": [[0.0, \"#0d0887\"], [0.1111111111111111, \"#46039f\"], [0.2222222222222222, \"#7201a8\"], [0.3333333333333333, \"#9c179e\"], [0.4444444444444444, \"#bd3786\"], [0.5555555555555556, \"#d8576b\"], [0.6666666666666666, \"#ed7953\"], [0.7777777777777778, \"#fb9f3a\"], [0.8888888888888888, \"#fdca26\"], [1.0, \"#f0f921\"]], \"type\": \"surface\"}], \"table\": [{\"cells\": {\"fill\": {\"color\": \"#EBF0F8\"}, \"line\": {\"color\": \"white\"}}, \"header\": {\"fill\": {\"color\": \"#C8D4E3\"}, \"line\": {\"color\": \"white\"}}, \"type\": \"table\"}]}, \"layout\": {\"annotationdefaults\": {\"arrowcolor\": \"#2a3f5f\", \"arrowhead\": 0, \"arrowwidth\": 1}, \"coloraxis\": {\"colorbar\": {\"outlinewidth\": 0, \"ticks\": \"\"}}, \"colorscale\": {\"diverging\": [[0, \"#8e0152\"], [0.1, \"#c51b7d\"], [0.2, \"#de77ae\"], [0.3, \"#f1b6da\"], [0.4, \"#fde0ef\"], [0.5, \"#f7f7f7\"], [0.6, \"#e6f5d0\"], [0.7, \"#b8e186\"], [0.8, \"#7fbc41\"], [0.9, \"#4d9221\"], [1, \"#276419\"]], \"sequential\": [[0.0, \"#0d0887\"], [0.1111111111111111, \"#46039f\"], [0.2222222222222222, \"#7201a8\"], [0.3333333333333333, \"#9c179e\"], [0.4444444444444444, \"#bd3786\"], [0.5555555555555556, \"#d8576b\"], [0.6666666666666666, \"#ed7953\"], [0.7777777777777778, \"#fb9f3a\"], [0.8888888888888888, \"#fdca26\"], [1.0, \"#f0f921\"]], \"sequentialminus\": [[0.0, \"#0d0887\"], [0.1111111111111111, \"#46039f\"], [0.2222222222222222, \"#7201a8\"], [0.3333333333333333, \"#9c179e\"], [0.4444444444444444, \"#bd3786\"], [0.5555555555555556, \"#d8576b\"], [0.6666666666666666, \"#ed7953\"], [0.7777777777777778, \"#fb9f3a\"], [0.8888888888888888, \"#fdca26\"], [1.0, \"#f0f921\"]]}, \"colorway\": [\"#636efa\", \"#EF553B\", \"#00cc96\", \"#ab63fa\", \"#FFA15A\", \"#19d3f3\", \"#FF6692\", \"#B6E880\", \"#FF97FF\", \"#FECB52\"], \"font\": {\"color\": \"#2a3f5f\"}, \"geo\": {\"bgcolor\": \"white\", \"lakecolor\": \"white\", \"landcolor\": \"#E5ECF6\", \"showlakes\": true, \"showland\": true, \"subunitcolor\": \"white\"}, \"hoverlabel\": {\"align\": \"left\"}, \"hovermode\": \"closest\", \"mapbox\": {\"style\": \"light\"}, \"paper_bgcolor\": \"white\", \"plot_bgcolor\": \"#E5ECF6\", \"polar\": {\"angularaxis\": {\"gridcolor\": \"white\", \"linecolor\": \"white\", \"ticks\": \"\"}, \"bgcolor\": \"#E5ECF6\", \"radialaxis\": {\"gridcolor\": \"white\", \"linecolor\": \"white\", \"ticks\": \"\"}}, \"scene\": {\"xaxis\": {\"backgroundcolor\": \"#E5ECF6\", \"gridcolor\": \"white\", \"gridwidth\": 2, \"linecolor\": \"white\", \"showbackground\": true, \"ticks\": \"\", \"zerolinecolor\": \"white\"}, \"yaxis\": {\"backgroundcolor\": \"#E5ECF6\", \"gridcolor\": \"white\", \"gridwidth\": 2, \"linecolor\": \"white\", \"showbackground\": true, \"ticks\": \"\", \"zerolinecolor\": \"white\"}, \"zaxis\": {\"backgroundcolor\": \"#E5ECF6\", \"gridcolor\": \"white\", \"gridwidth\": 2, \"linecolor\": \"white\", \"showbackground\": true, \"ticks\": \"\", \"zerolinecolor\": \"white\"}}, \"shapedefaults\": {\"line\": {\"color\": \"#2a3f5f\"}}, \"ternary\": {\"aaxis\": {\"gridcolor\": \"white\", \"linecolor\": \"white\", \"ticks\": \"\"}, \"baxis\": {\"gridcolor\": \"white\", \"linecolor\": \"white\", \"ticks\": \"\"}, \"bgcolor\": \"#E5ECF6\", \"caxis\": {\"gridcolor\": \"white\", \"linecolor\": \"white\", \"ticks\": \"\"}}, \"title\": {\"x\": 0.05}, \"xaxis\": {\"automargin\": true, \"gridcolor\": \"white\", \"linecolor\": \"white\", \"ticks\": \"\", \"title\": {\"standoff\": 15}, \"zerolinecolor\": \"white\", \"zerolinewidth\": 2}, \"yaxis\": {\"automargin\": true, \"gridcolor\": \"white\", \"linecolor\": \"white\", \"ticks\": \"\", \"title\": {\"standoff\": 15}, \"zerolinecolor\": \"white\", \"zerolinewidth\": 2}}}},\n",
       "                        {\"responsive\": true}\n",
       "                    ).then(function(){\n",
       "                            \n",
       "var gd = document.getElementById('299a165c-2786-492c-b8b0-b4fc20af3a4b');\n",
       "var x = new MutationObserver(function (mutations, observer) {{\n",
       "        var display = window.getComputedStyle(gd).display;\n",
       "        if (!display || display === 'none') {{\n",
       "            console.log([gd, 'removed!']);\n",
       "            Plotly.purge(gd);\n",
       "            observer.disconnect();\n",
       "        }}\n",
       "}});\n",
       "\n",
       "// Listen for the removal of the full notebook cells\n",
       "var notebookContainer = gd.closest('#notebook-container');\n",
       "if (notebookContainer) {{\n",
       "    x.observe(notebookContainer, {childList: true});\n",
       "}}\n",
       "\n",
       "// Listen for the clearing of the current output cell\n",
       "var outputEl = gd.closest('.output');\n",
       "if (outputEl) {{\n",
       "    x.observe(outputEl, {childList: true});\n",
       "}}\n",
       "\n",
       "                        })\n",
       "                };\n",
       "                });\n",
       "            </script>\n",
       "        </div>"
      ]
     },
     "metadata": {},
     "output_type": "display_data"
    }
   ],
   "source": [
    "traces = []\n",
    "for mol_type in types:\n",
    "    solvent_df = crystal_data[crystal_data['Molecule Type']==mol_type]\n",
    "    marker_text = [f\"Solvent: {row['Solvent']} Amine: {row['Amine']}\" for idx, row in solvent_df.iterrows()]\n",
    "    trace = go.Scatter(x=solvent_df['PCA_X'], y=solvent_df['PCA_Y'], mode='markers',text=marker_text, name=mol_type)\n",
    "    traces.append(trace)\n",
    "PCA2D(loadings, features, traces)"
   ]
  },
  {
   "cell_type": "code",
   "execution_count": 75,
   "metadata": {},
   "outputs": [],
   "source": [
    "pca3d = PCA(n_components=3)\n",
    "pca3d.fit(numeric_cdata)\n",
    "features3d = list(numeric_cdata.columns)\n",
    "pca_res3d = pca3d.transform(numeric_cdata)\n",
    "loadings3d = pca3d.components_.T * np.sqrt(pca3d.explained_variance_)"
   ]
  },
  {
   "cell_type": "code",
   "execution_count": 77,
   "metadata": {},
   "outputs": [
    {
     "name": "stderr",
     "output_type": "stream",
     "text": [
      "/Users/vshekar/anaconda3/lib/python3.7/site-packages/ipykernel_launcher.py:1: SettingWithCopyWarning:\n",
      "\n",
      "\n",
      "A value is trying to be set on a copy of a slice from a DataFrame.\n",
      "Try using .loc[row_indexer,col_indexer] = value instead\n",
      "\n",
      "See the caveats in the documentation: http://pandas.pydata.org/pandas-docs/stable/indexing.html#indexing-view-versus-copy\n",
      "\n",
      "/Users/vshekar/anaconda3/lib/python3.7/site-packages/ipykernel_launcher.py:2: SettingWithCopyWarning:\n",
      "\n",
      "\n",
      "A value is trying to be set on a copy of a slice from a DataFrame.\n",
      "Try using .loc[row_indexer,col_indexer] = value instead\n",
      "\n",
      "See the caveats in the documentation: http://pandas.pydata.org/pandas-docs/stable/indexing.html#indexing-view-versus-copy\n",
      "\n",
      "/Users/vshekar/anaconda3/lib/python3.7/site-packages/ipykernel_launcher.py:3: SettingWithCopyWarning:\n",
      "\n",
      "\n",
      "A value is trying to be set on a copy of a slice from a DataFrame.\n",
      "Try using .loc[row_indexer,col_indexer] = value instead\n",
      "\n",
      "See the caveats in the documentation: http://pandas.pydata.org/pandas-docs/stable/indexing.html#indexing-view-versus-copy\n",
      "\n"
     ]
    }
   ],
   "source": [
    "crystal_data['PCA3D_X'] = pca_res3d[:,0]\n",
    "crystal_data['PCA3D_Y'] = pca_res3d[:,1]\n",
    "crystal_data['PCA3D_Z'] = pca_res3d[:,2]"
   ]
  },
  {
   "cell_type": "code",
   "execution_count": 96,
   "metadata": {},
   "outputs": [
    {
     "data": {
      "application/vnd.plotly.v1+json": {
       "config": {
        "plotlyServerURL": "https://plot.ly"
       },
       "data": [
        {
         "mode": "markers",
         "name": "DMF",
         "text": [
          "Solvent: DMF Amine: 2Pyrrolidin1ium1ylethylammoniumiodide",
          "Solvent: DMF Amine: MeNH3I",
          "Solvent: DMF Amine: NNDimethylethane12diammoniumiodide",
          "Solvent: DMF Amine: Benzenediaminedihydroiodide"
         ],
         "type": "scatter3d",
         "x": [
          -19413.8096924734,
          36457.19029987919,
          -3869.8094460437865,
          10166.190213139504
         ],
         "y": [
          1.0352636408255473,
          -4.796235503164407,
          0.40669640623374026,
          -2.620121822816045
         ],
         "z": [
          0.4202504964597345,
          0.02049699683946062,
          1.2428648891426963,
          0.5006062324102134
         ]
        },
        {
         "mode": "markers",
         "name": "DMF:DMSO",
         "text": [
          "Solvent: DMF:DMSO Amine: 2Pyrrolidin1ium1ylethylammoniumiodide",
          "Solvent: DMF:DMSO Amine: NNDimethylethane12diammoniumiodide",
          "Solvent: DMF:DMSO Amine: Benzenediaminedihydroiodide"
         ],
         "type": "scatter3d",
         "x": [
          19046.191048368604,
          21386.19094276899,
          17906.191637112748
         ],
         "y": [
          1.083253350273391,
          0.11186627582854787,
          4.278448874034924
         ],
         "z": [
          -0.327437437851527,
          0.19339250411534964,
          -0.3212174550342938
         ]
        },
        {
         "mode": "markers",
         "name": "GBL:DMF",
         "text": [
          "Solvent: GBL:DMF Amine: 2Pyrrolidin1ium1ylethylammoniumiodide",
          "Solvent: GBL:DMF Amine: AcNH3I",
          "Solvent: GBL:DMF Amine: MeNH3I",
          "Solvent: GBL:DMF Amine: Propane13diammoniumIodide",
          "Solvent: GBL:DMF Amine: NNDimethylethane12diammoniumiodide",
          "Solvent: GBL:DMF Amine: NNDiethylpropane13diammoniumiodide",
          "Solvent: GBL:DMF Amine: Benzenediaminedihydroiodide"
         ],
         "type": "scatter3d",
         "x": [
          -23106.810755316346,
          -12213.809381921863,
          34836.19201322703,
          -7170.808703199012,
          -16172.808875326607,
          -764.8081234739275,
          -22533.8101813237
         ],
         "y": [
          -4.221506210114238,
          2.0141114605959727,
          4.566932875920917,
          4.918247843869627,
          5.170881425571847,
          7.319332888132012,
          -0.6574298628530539
         ],
         "z": [
          0.6998640731211667,
          0.07845227815401712,
          -0.6722468198669125,
          0.41512586562792964,
          -0.1952235625792732,
          0.26470896100287433,
          -1.2030074510844224
         ]
        },
        {
         "mode": "markers",
         "name": "GBL",
         "text": [
          "Solvent: GBL Amine: CyclohexylmethylammoniumIodide",
          "Solvent: GBL Amine: AcNH3I",
          "Solvent: GBL Amine: EtNH3I",
          "Solvent: GBL Amine: MeNH3I",
          "Solvent: GBL Amine: PhEtNH3I",
          "Solvent: GBL Amine: NNDiethylpropane13diammoniumiodide"
         ],
         "type": "scatter3d",
         "x": [
          -23613.81080859162,
          -21933.81017949,
          23968.190149105023,
          -8493.809806282925,
          16586.190095186084,
          -21213.810369744788
         ],
         "y": [
          -4.004533168003079,
          -1.0125445343578496,
          -4.3122693996101145,
          -0.8269156626164246,
          -3.711809920414465,
          -2.013042907455655
         ],
         "z": [
          -0.650042373272575,
          -0.2881107644136543,
          0.1945120135047896,
          0.7649853441939466,
          -0.11177666133516354,
          -0.49708628715274317
         ]
        },
        {
         "mode": "markers",
         "name": "DMSO",
         "text": [
          "Solvent: DMSO Amine: NNDimethylethane12diammoniumiodide"
         ],
         "type": "scatter3d",
         "x": [
          149.18992440082397
         ],
         "y": [
          -2.7286260498812016
         ],
         "z": [
          -0.5291108419816295
         ]
        },
        {
         "mode": "lines",
         "name": "PCA components",
         "type": "scatter3d",
         "x": [
          0,
          -3.780520896342035e-09,
          0,
          3.188688603325792e-09,
          0,
          -0.000148029496990225,
          0,
          20116.635087954062,
          0,
          0.21946625572846865,
          0,
          3.732336524016674,
          0,
          -1.5092506857239785,
          0,
          -0.34924604096854456,
          0,
          -0.08346665633480593,
          0,
          -0.12118464442186687
         ],
         "y": [
          0,
          5.4385390988983313e-08,
          0,
          2.5170050471979036e-08,
          0,
          -0.0002827836232936273,
          0,
          -0.0006891189616897046,
          0,
          0.033621426240548154,
          0,
          3.5932118246211813,
          0,
          -0.2787599431340927,
          0,
          -0.06164744956239918,
          0,
          -0.00745259506282077,
          0,
          -0.011794698434988444
         ],
         "z": [
          0,
          2.2957096603183824e-08,
          0,
          3.3954266296755776e-08,
          0,
          0.00031749617749389297,
          0,
          -3.5920298122555595e-05,
          0,
          0.022399387149342802,
          0,
          -0.04555329000351525,
          0,
          -0.5559816512225311,
          0,
          -0.11684593397330205,
          0,
          -0.02373283264082984,
          0,
          -0.047822120224044216
         ]
        }
       ],
       "layout": {
        "scene": {
         "annotations": [
          {
           "opacity": 0.7,
           "showarrow": false,
           "text": "Best Kin, Mols/sec",
           "x": -3.780520896342035e-09,
           "xanchor": "left",
           "xshift": 10,
           "y": 5.4385390988983313e-08,
           "z": 2.2957096603183824e-08
          },
          {
           "opacity": 0.7,
           "showarrow": false,
           "text": "Best Kout, Mols/sec",
           "x": 3.188688603325792e-09,
           "xanchor": "left",
           "xshift": 10,
           "y": 2.5170050471979036e-08,
           "z": 3.3954266296755776e-08
          },
          {
           "opacity": 0.7,
           "showarrow": false,
           "text": "Best Fit SSE",
           "x": -0.000148029496990225,
           "xanchor": "left",
           "xshift": 10,
           "y": -0.0002827836232936273,
           "z": 0.00031749617749389297
          },
          {
           "opacity": 0.7,
           "showarrow": false,
           "text": "Crystallization Time, Seconds",
           "x": 20116.635087954062,
           "xanchor": "left",
           "xshift": 10,
           "y": -0.0006891189616897046,
           "z": -3.5920298122555595e-05
          },
          {
           "opacity": 0.7,
           "showarrow": false,
           "text": "Crystallization Height, cm",
           "x": 0.21946625572846865,
           "xanchor": "left",
           "xshift": 10,
           "y": 0.033621426240548154,
           "z": 0.022399387149342802
          },
          {
           "opacity": 0.7,
           "showarrow": false,
           "text": "Antisolvent Concentration, Mols/L",
           "x": 3.732336524016674,
           "xanchor": "left",
           "xshift": 10,
           "y": 3.5932118246211813,
           "z": -0.04555329000351525
          },
          {
           "opacity": 0.7,
           "showarrow": false,
           "text": "Solvent Concentration, Mols/L",
           "x": -1.5092506857239785,
           "xanchor": "left",
           "xshift": 10,
           "y": -0.2787599431340927,
           "z": -0.5559816512225311
          },
          {
           "opacity": 0.7,
           "showarrow": false,
           "text": "FAH Concentration, Mols/L",
           "x": -0.34924604096854456,
           "xanchor": "left",
           "xshift": 10,
           "y": -0.06164744956239918,
           "z": -0.11684593397330205
          },
          {
           "opacity": 0.7,
           "showarrow": false,
           "text": "Inorganic Concentration, Mols/L",
           "x": -0.08346665633480593,
           "xanchor": "left",
           "xshift": 10,
           "y": -0.00745259506282077,
           "z": -0.02373283264082984
          },
          {
           "opacity": 0.7,
           "showarrow": false,
           "text": "Organic Concentration, Mols/L",
           "x": -0.12118464442186687,
           "xanchor": "left",
           "xshift": 10,
           "y": -0.011794698434988444,
           "z": -0.047822120224044216
          }
         ]
        },
        "template": {
         "data": {
          "bar": [
           {
            "error_x": {
             "color": "#2a3f5f"
            },
            "error_y": {
             "color": "#2a3f5f"
            },
            "marker": {
             "line": {
              "color": "#E5ECF6",
              "width": 0.5
             }
            },
            "type": "bar"
           }
          ],
          "barpolar": [
           {
            "marker": {
             "line": {
              "color": "#E5ECF6",
              "width": 0.5
             }
            },
            "type": "barpolar"
           }
          ],
          "carpet": [
           {
            "aaxis": {
             "endlinecolor": "#2a3f5f",
             "gridcolor": "white",
             "linecolor": "white",
             "minorgridcolor": "white",
             "startlinecolor": "#2a3f5f"
            },
            "baxis": {
             "endlinecolor": "#2a3f5f",
             "gridcolor": "white",
             "linecolor": "white",
             "minorgridcolor": "white",
             "startlinecolor": "#2a3f5f"
            },
            "type": "carpet"
           }
          ],
          "choropleth": [
           {
            "colorbar": {
             "outlinewidth": 0,
             "ticks": ""
            },
            "type": "choropleth"
           }
          ],
          "contour": [
           {
            "colorbar": {
             "outlinewidth": 0,
             "ticks": ""
            },
            "colorscale": [
             [
              0,
              "#0d0887"
             ],
             [
              0.1111111111111111,
              "#46039f"
             ],
             [
              0.2222222222222222,
              "#7201a8"
             ],
             [
              0.3333333333333333,
              "#9c179e"
             ],
             [
              0.4444444444444444,
              "#bd3786"
             ],
             [
              0.5555555555555556,
              "#d8576b"
             ],
             [
              0.6666666666666666,
              "#ed7953"
             ],
             [
              0.7777777777777778,
              "#fb9f3a"
             ],
             [
              0.8888888888888888,
              "#fdca26"
             ],
             [
              1,
              "#f0f921"
             ]
            ],
            "type": "contour"
           }
          ],
          "contourcarpet": [
           {
            "colorbar": {
             "outlinewidth": 0,
             "ticks": ""
            },
            "type": "contourcarpet"
           }
          ],
          "heatmap": [
           {
            "colorbar": {
             "outlinewidth": 0,
             "ticks": ""
            },
            "colorscale": [
             [
              0,
              "#0d0887"
             ],
             [
              0.1111111111111111,
              "#46039f"
             ],
             [
              0.2222222222222222,
              "#7201a8"
             ],
             [
              0.3333333333333333,
              "#9c179e"
             ],
             [
              0.4444444444444444,
              "#bd3786"
             ],
             [
              0.5555555555555556,
              "#d8576b"
             ],
             [
              0.6666666666666666,
              "#ed7953"
             ],
             [
              0.7777777777777778,
              "#fb9f3a"
             ],
             [
              0.8888888888888888,
              "#fdca26"
             ],
             [
              1,
              "#f0f921"
             ]
            ],
            "type": "heatmap"
           }
          ],
          "heatmapgl": [
           {
            "colorbar": {
             "outlinewidth": 0,
             "ticks": ""
            },
            "colorscale": [
             [
              0,
              "#0d0887"
             ],
             [
              0.1111111111111111,
              "#46039f"
             ],
             [
              0.2222222222222222,
              "#7201a8"
             ],
             [
              0.3333333333333333,
              "#9c179e"
             ],
             [
              0.4444444444444444,
              "#bd3786"
             ],
             [
              0.5555555555555556,
              "#d8576b"
             ],
             [
              0.6666666666666666,
              "#ed7953"
             ],
             [
              0.7777777777777778,
              "#fb9f3a"
             ],
             [
              0.8888888888888888,
              "#fdca26"
             ],
             [
              1,
              "#f0f921"
             ]
            ],
            "type": "heatmapgl"
           }
          ],
          "histogram": [
           {
            "marker": {
             "colorbar": {
              "outlinewidth": 0,
              "ticks": ""
             }
            },
            "type": "histogram"
           }
          ],
          "histogram2d": [
           {
            "colorbar": {
             "outlinewidth": 0,
             "ticks": ""
            },
            "colorscale": [
             [
              0,
              "#0d0887"
             ],
             [
              0.1111111111111111,
              "#46039f"
             ],
             [
              0.2222222222222222,
              "#7201a8"
             ],
             [
              0.3333333333333333,
              "#9c179e"
             ],
             [
              0.4444444444444444,
              "#bd3786"
             ],
             [
              0.5555555555555556,
              "#d8576b"
             ],
             [
              0.6666666666666666,
              "#ed7953"
             ],
             [
              0.7777777777777778,
              "#fb9f3a"
             ],
             [
              0.8888888888888888,
              "#fdca26"
             ],
             [
              1,
              "#f0f921"
             ]
            ],
            "type": "histogram2d"
           }
          ],
          "histogram2dcontour": [
           {
            "colorbar": {
             "outlinewidth": 0,
             "ticks": ""
            },
            "colorscale": [
             [
              0,
              "#0d0887"
             ],
             [
              0.1111111111111111,
              "#46039f"
             ],
             [
              0.2222222222222222,
              "#7201a8"
             ],
             [
              0.3333333333333333,
              "#9c179e"
             ],
             [
              0.4444444444444444,
              "#bd3786"
             ],
             [
              0.5555555555555556,
              "#d8576b"
             ],
             [
              0.6666666666666666,
              "#ed7953"
             ],
             [
              0.7777777777777778,
              "#fb9f3a"
             ],
             [
              0.8888888888888888,
              "#fdca26"
             ],
             [
              1,
              "#f0f921"
             ]
            ],
            "type": "histogram2dcontour"
           }
          ],
          "mesh3d": [
           {
            "colorbar": {
             "outlinewidth": 0,
             "ticks": ""
            },
            "type": "mesh3d"
           }
          ],
          "parcoords": [
           {
            "line": {
             "colorbar": {
              "outlinewidth": 0,
              "ticks": ""
             }
            },
            "type": "parcoords"
           }
          ],
          "pie": [
           {
            "automargin": true,
            "type": "pie"
           }
          ],
          "scatter": [
           {
            "marker": {
             "colorbar": {
              "outlinewidth": 0,
              "ticks": ""
             }
            },
            "type": "scatter"
           }
          ],
          "scatter3d": [
           {
            "line": {
             "colorbar": {
              "outlinewidth": 0,
              "ticks": ""
             }
            },
            "marker": {
             "colorbar": {
              "outlinewidth": 0,
              "ticks": ""
             }
            },
            "type": "scatter3d"
           }
          ],
          "scattercarpet": [
           {
            "marker": {
             "colorbar": {
              "outlinewidth": 0,
              "ticks": ""
             }
            },
            "type": "scattercarpet"
           }
          ],
          "scattergeo": [
           {
            "marker": {
             "colorbar": {
              "outlinewidth": 0,
              "ticks": ""
             }
            },
            "type": "scattergeo"
           }
          ],
          "scattergl": [
           {
            "marker": {
             "colorbar": {
              "outlinewidth": 0,
              "ticks": ""
             }
            },
            "type": "scattergl"
           }
          ],
          "scattermapbox": [
           {
            "marker": {
             "colorbar": {
              "outlinewidth": 0,
              "ticks": ""
             }
            },
            "type": "scattermapbox"
           }
          ],
          "scatterpolar": [
           {
            "marker": {
             "colorbar": {
              "outlinewidth": 0,
              "ticks": ""
             }
            },
            "type": "scatterpolar"
           }
          ],
          "scatterpolargl": [
           {
            "marker": {
             "colorbar": {
              "outlinewidth": 0,
              "ticks": ""
             }
            },
            "type": "scatterpolargl"
           }
          ],
          "scatterternary": [
           {
            "marker": {
             "colorbar": {
              "outlinewidth": 0,
              "ticks": ""
             }
            },
            "type": "scatterternary"
           }
          ],
          "surface": [
           {
            "colorbar": {
             "outlinewidth": 0,
             "ticks": ""
            },
            "colorscale": [
             [
              0,
              "#0d0887"
             ],
             [
              0.1111111111111111,
              "#46039f"
             ],
             [
              0.2222222222222222,
              "#7201a8"
             ],
             [
              0.3333333333333333,
              "#9c179e"
             ],
             [
              0.4444444444444444,
              "#bd3786"
             ],
             [
              0.5555555555555556,
              "#d8576b"
             ],
             [
              0.6666666666666666,
              "#ed7953"
             ],
             [
              0.7777777777777778,
              "#fb9f3a"
             ],
             [
              0.8888888888888888,
              "#fdca26"
             ],
             [
              1,
              "#f0f921"
             ]
            ],
            "type": "surface"
           }
          ],
          "table": [
           {
            "cells": {
             "fill": {
              "color": "#EBF0F8"
             },
             "line": {
              "color": "white"
             }
            },
            "header": {
             "fill": {
              "color": "#C8D4E3"
             },
             "line": {
              "color": "white"
             }
            },
            "type": "table"
           }
          ]
         },
         "layout": {
          "annotationdefaults": {
           "arrowcolor": "#2a3f5f",
           "arrowhead": 0,
           "arrowwidth": 1
          },
          "coloraxis": {
           "colorbar": {
            "outlinewidth": 0,
            "ticks": ""
           }
          },
          "colorscale": {
           "diverging": [
            [
             0,
             "#8e0152"
            ],
            [
             0.1,
             "#c51b7d"
            ],
            [
             0.2,
             "#de77ae"
            ],
            [
             0.3,
             "#f1b6da"
            ],
            [
             0.4,
             "#fde0ef"
            ],
            [
             0.5,
             "#f7f7f7"
            ],
            [
             0.6,
             "#e6f5d0"
            ],
            [
             0.7,
             "#b8e186"
            ],
            [
             0.8,
             "#7fbc41"
            ],
            [
             0.9,
             "#4d9221"
            ],
            [
             1,
             "#276419"
            ]
           ],
           "sequential": [
            [
             0,
             "#0d0887"
            ],
            [
             0.1111111111111111,
             "#46039f"
            ],
            [
             0.2222222222222222,
             "#7201a8"
            ],
            [
             0.3333333333333333,
             "#9c179e"
            ],
            [
             0.4444444444444444,
             "#bd3786"
            ],
            [
             0.5555555555555556,
             "#d8576b"
            ],
            [
             0.6666666666666666,
             "#ed7953"
            ],
            [
             0.7777777777777778,
             "#fb9f3a"
            ],
            [
             0.8888888888888888,
             "#fdca26"
            ],
            [
             1,
             "#f0f921"
            ]
           ],
           "sequentialminus": [
            [
             0,
             "#0d0887"
            ],
            [
             0.1111111111111111,
             "#46039f"
            ],
            [
             0.2222222222222222,
             "#7201a8"
            ],
            [
             0.3333333333333333,
             "#9c179e"
            ],
            [
             0.4444444444444444,
             "#bd3786"
            ],
            [
             0.5555555555555556,
             "#d8576b"
            ],
            [
             0.6666666666666666,
             "#ed7953"
            ],
            [
             0.7777777777777778,
             "#fb9f3a"
            ],
            [
             0.8888888888888888,
             "#fdca26"
            ],
            [
             1,
             "#f0f921"
            ]
           ]
          },
          "colorway": [
           "#636efa",
           "#EF553B",
           "#00cc96",
           "#ab63fa",
           "#FFA15A",
           "#19d3f3",
           "#FF6692",
           "#B6E880",
           "#FF97FF",
           "#FECB52"
          ],
          "font": {
           "color": "#2a3f5f"
          },
          "geo": {
           "bgcolor": "white",
           "lakecolor": "white",
           "landcolor": "#E5ECF6",
           "showlakes": true,
           "showland": true,
           "subunitcolor": "white"
          },
          "hoverlabel": {
           "align": "left"
          },
          "hovermode": "closest",
          "mapbox": {
           "style": "light"
          },
          "paper_bgcolor": "white",
          "plot_bgcolor": "#E5ECF6",
          "polar": {
           "angularaxis": {
            "gridcolor": "white",
            "linecolor": "white",
            "ticks": ""
           },
           "bgcolor": "#E5ECF6",
           "radialaxis": {
            "gridcolor": "white",
            "linecolor": "white",
            "ticks": ""
           }
          },
          "scene": {
           "xaxis": {
            "backgroundcolor": "#E5ECF6",
            "gridcolor": "white",
            "gridwidth": 2,
            "linecolor": "white",
            "showbackground": true,
            "ticks": "",
            "zerolinecolor": "white"
           },
           "yaxis": {
            "backgroundcolor": "#E5ECF6",
            "gridcolor": "white",
            "gridwidth": 2,
            "linecolor": "white",
            "showbackground": true,
            "ticks": "",
            "zerolinecolor": "white"
           },
           "zaxis": {
            "backgroundcolor": "#E5ECF6",
            "gridcolor": "white",
            "gridwidth": 2,
            "linecolor": "white",
            "showbackground": true,
            "ticks": "",
            "zerolinecolor": "white"
           }
          },
          "shapedefaults": {
           "line": {
            "color": "#2a3f5f"
           }
          },
          "ternary": {
           "aaxis": {
            "gridcolor": "white",
            "linecolor": "white",
            "ticks": ""
           },
           "baxis": {
            "gridcolor": "white",
            "linecolor": "white",
            "ticks": ""
           },
           "bgcolor": "#E5ECF6",
           "caxis": {
            "gridcolor": "white",
            "linecolor": "white",
            "ticks": ""
           }
          },
          "title": {
           "x": 0.05
          },
          "xaxis": {
           "automargin": true,
           "gridcolor": "white",
           "linecolor": "white",
           "ticks": "",
           "title": {
            "standoff": 15
           },
           "zerolinecolor": "white",
           "zerolinewidth": 2
          },
          "yaxis": {
           "automargin": true,
           "gridcolor": "white",
           "linecolor": "white",
           "ticks": "",
           "title": {
            "standoff": 15
           },
           "zerolinecolor": "white",
           "zerolinewidth": 2
          }
         }
        }
       }
      },
      "text/html": [
       "<div>\n",
       "        \n",
       "        \n",
       "            <div id=\"5188990f-e08d-4753-83d0-74a8a4534109\" class=\"plotly-graph-div\" style=\"height:525px; width:100%;\"></div>\n",
       "            <script type=\"text/javascript\">\n",
       "                require([\"plotly\"], function(Plotly) {\n",
       "                    window.PLOTLYENV=window.PLOTLYENV || {};\n",
       "                    \n",
       "                if (document.getElementById(\"5188990f-e08d-4753-83d0-74a8a4534109\")) {\n",
       "                    Plotly.newPlot(\n",
       "                        '5188990f-e08d-4753-83d0-74a8a4534109',\n",
       "                        [{\"mode\": \"markers\", \"name\": \"DMF\", \"text\": [\"Solvent: DMF Amine: 2Pyrrolidin1ium1ylethylammoniumiodide\", \"Solvent: DMF Amine: MeNH3I\", \"Solvent: DMF Amine: NNDimethylethane12diammoniumiodide\", \"Solvent: DMF Amine: Benzenediaminedihydroiodide\"], \"type\": \"scatter3d\", \"x\": [-19413.8096924734, 36457.19029987919, -3869.8094460437865, 10166.190213139504], \"y\": [1.0352636408255473, -4.796235503164407, 0.40669640623374026, -2.620121822816045], \"z\": [0.4202504964597345, 0.02049699683946062, 1.2428648891426963, 0.5006062324102134]}, {\"mode\": \"markers\", \"name\": \"DMF:DMSO\", \"text\": [\"Solvent: DMF:DMSO Amine: 2Pyrrolidin1ium1ylethylammoniumiodide\", \"Solvent: DMF:DMSO Amine: NNDimethylethane12diammoniumiodide\", \"Solvent: DMF:DMSO Amine: Benzenediaminedihydroiodide\"], \"type\": \"scatter3d\", \"x\": [19046.191048368604, 21386.19094276899, 17906.191637112748], \"y\": [1.083253350273391, 0.11186627582854787, 4.278448874034924], \"z\": [-0.327437437851527, 0.19339250411534964, -0.3212174550342938]}, {\"mode\": \"markers\", \"name\": \"GBL:DMF\", \"text\": [\"Solvent: GBL:DMF Amine: 2Pyrrolidin1ium1ylethylammoniumiodide\", \"Solvent: GBL:DMF Amine: AcNH3I\", \"Solvent: GBL:DMF Amine: MeNH3I\", \"Solvent: GBL:DMF Amine: Propane13diammoniumIodide\", \"Solvent: GBL:DMF Amine: NNDimethylethane12diammoniumiodide\", \"Solvent: GBL:DMF Amine: NNDiethylpropane13diammoniumiodide\", \"Solvent: GBL:DMF Amine: Benzenediaminedihydroiodide\"], \"type\": \"scatter3d\", \"x\": [-23106.810755316346, -12213.809381921863, 34836.19201322703, -7170.808703199012, -16172.808875326607, -764.8081234739275, -22533.8101813237], \"y\": [-4.221506210114238, 2.0141114605959727, 4.566932875920917, 4.918247843869627, 5.170881425571847, 7.319332888132012, -0.6574298628530539], \"z\": [0.6998640731211667, 0.07845227815401712, -0.6722468198669125, 0.41512586562792964, -0.1952235625792732, 0.26470896100287433, -1.2030074510844224]}, {\"mode\": \"markers\", \"name\": \"GBL\", \"text\": [\"Solvent: GBL Amine: CyclohexylmethylammoniumIodide\", \"Solvent: GBL Amine: AcNH3I\", \"Solvent: GBL Amine: EtNH3I\", \"Solvent: GBL Amine: MeNH3I\", \"Solvent: GBL Amine: PhEtNH3I\", \"Solvent: GBL Amine: NNDiethylpropane13diammoniumiodide\"], \"type\": \"scatter3d\", \"x\": [-23613.81080859162, -21933.81017949, 23968.190149105023, -8493.809806282925, 16586.190095186084, -21213.810369744788], \"y\": [-4.004533168003079, -1.0125445343578496, -4.3122693996101145, -0.8269156626164246, -3.711809920414465, -2.013042907455655], \"z\": [-0.650042373272575, -0.2881107644136543, 0.1945120135047896, 0.7649853441939466, -0.11177666133516354, -0.49708628715274317]}, {\"mode\": \"markers\", \"name\": \"DMSO\", \"text\": [\"Solvent: DMSO Amine: NNDimethylethane12diammoniumiodide\"], \"type\": \"scatter3d\", \"x\": [149.18992440082397], \"y\": [-2.7286260498812016], \"z\": [-0.5291108419816295]}, {\"mode\": \"lines\", \"name\": \"PCA components\", \"type\": \"scatter3d\", \"x\": [0.0, -3.780520896342035e-09, 0.0, 3.188688603325792e-09, 0.0, -0.000148029496990225, 0.0, 20116.635087954062, 0.0, 0.21946625572846865, 0.0, 3.732336524016674, 0.0, -1.5092506857239785, 0.0, -0.34924604096854456, 0.0, -0.08346665633480593, 0.0, -0.12118464442186687], \"y\": [0.0, 5.4385390988983313e-08, 0.0, 2.5170050471979036e-08, 0.0, -0.0002827836232936273, 0.0, -0.0006891189616897046, 0.0, 0.033621426240548154, 0.0, 3.5932118246211813, 0.0, -0.2787599431340927, 0.0, -0.06164744956239918, 0.0, -0.00745259506282077, 0.0, -0.011794698434988444], \"z\": [0.0, 2.2957096603183824e-08, 0.0, 3.3954266296755776e-08, 0.0, 0.00031749617749389297, 0.0, -3.5920298122555595e-05, 0.0, 0.022399387149342802, 0.0, -0.04555329000351525, 0.0, -0.5559816512225311, 0.0, -0.11684593397330205, 0.0, -0.02373283264082984, 0.0, -0.047822120224044216]}],\n",
       "                        {\"scene\": {\"annotations\": [{\"opacity\": 0.7, \"showarrow\": false, \"text\": \"Best Kin, Mols/sec\", \"x\": -3.780520896342035e-09, \"xanchor\": \"left\", \"xshift\": 10, \"y\": 5.4385390988983313e-08, \"z\": 2.2957096603183824e-08}, {\"opacity\": 0.7, \"showarrow\": false, \"text\": \"Best Kout, Mols/sec\", \"x\": 3.188688603325792e-09, \"xanchor\": \"left\", \"xshift\": 10, \"y\": 2.5170050471979036e-08, \"z\": 3.3954266296755776e-08}, {\"opacity\": 0.7, \"showarrow\": false, \"text\": \"Best Fit SSE\", \"x\": -0.000148029496990225, \"xanchor\": \"left\", \"xshift\": 10, \"y\": -0.0002827836232936273, \"z\": 0.00031749617749389297}, {\"opacity\": 0.7, \"showarrow\": false, \"text\": \"Crystallization Time, Seconds\", \"x\": 20116.635087954062, \"xanchor\": \"left\", \"xshift\": 10, \"y\": -0.0006891189616897046, \"z\": -3.5920298122555595e-05}, {\"opacity\": 0.7, \"showarrow\": false, \"text\": \"Crystallization Height, cm\", \"x\": 0.21946625572846865, \"xanchor\": \"left\", \"xshift\": 10, \"y\": 0.033621426240548154, \"z\": 0.022399387149342802}, {\"opacity\": 0.7, \"showarrow\": false, \"text\": \"Antisolvent Concentration, Mols/L\", \"x\": 3.732336524016674, \"xanchor\": \"left\", \"xshift\": 10, \"y\": 3.5932118246211813, \"z\": -0.04555329000351525}, {\"opacity\": 0.7, \"showarrow\": false, \"text\": \"Solvent Concentration, Mols/L\", \"x\": -1.5092506857239785, \"xanchor\": \"left\", \"xshift\": 10, \"y\": -0.2787599431340927, \"z\": -0.5559816512225311}, {\"opacity\": 0.7, \"showarrow\": false, \"text\": \"FAH Concentration, Mols/L\", \"x\": -0.34924604096854456, \"xanchor\": \"left\", \"xshift\": 10, \"y\": -0.06164744956239918, \"z\": -0.11684593397330205}, {\"opacity\": 0.7, \"showarrow\": false, \"text\": \"Inorganic Concentration, Mols/L\", \"x\": -0.08346665633480593, \"xanchor\": \"left\", \"xshift\": 10, \"y\": -0.00745259506282077, \"z\": -0.02373283264082984}, {\"opacity\": 0.7, \"showarrow\": false, \"text\": \"Organic Concentration, Mols/L\", \"x\": -0.12118464442186687, \"xanchor\": \"left\", \"xshift\": 10, \"y\": -0.011794698434988444, \"z\": -0.047822120224044216}]}, \"template\": {\"data\": {\"bar\": [{\"error_x\": {\"color\": \"#2a3f5f\"}, \"error_y\": {\"color\": \"#2a3f5f\"}, \"marker\": {\"line\": {\"color\": \"#E5ECF6\", \"width\": 0.5}}, \"type\": \"bar\"}], \"barpolar\": [{\"marker\": {\"line\": {\"color\": \"#E5ECF6\", \"width\": 0.5}}, \"type\": \"barpolar\"}], \"carpet\": [{\"aaxis\": {\"endlinecolor\": \"#2a3f5f\", \"gridcolor\": \"white\", \"linecolor\": \"white\", \"minorgridcolor\": \"white\", \"startlinecolor\": \"#2a3f5f\"}, \"baxis\": {\"endlinecolor\": \"#2a3f5f\", \"gridcolor\": \"white\", \"linecolor\": \"white\", \"minorgridcolor\": \"white\", \"startlinecolor\": \"#2a3f5f\"}, \"type\": \"carpet\"}], \"choropleth\": [{\"colorbar\": {\"outlinewidth\": 0, \"ticks\": \"\"}, \"type\": \"choropleth\"}], \"contour\": [{\"colorbar\": {\"outlinewidth\": 0, \"ticks\": \"\"}, \"colorscale\": [[0.0, \"#0d0887\"], [0.1111111111111111, \"#46039f\"], [0.2222222222222222, \"#7201a8\"], [0.3333333333333333, \"#9c179e\"], [0.4444444444444444, \"#bd3786\"], [0.5555555555555556, \"#d8576b\"], [0.6666666666666666, \"#ed7953\"], [0.7777777777777778, \"#fb9f3a\"], [0.8888888888888888, \"#fdca26\"], [1.0, \"#f0f921\"]], \"type\": \"contour\"}], \"contourcarpet\": [{\"colorbar\": {\"outlinewidth\": 0, \"ticks\": \"\"}, \"type\": \"contourcarpet\"}], \"heatmap\": [{\"colorbar\": {\"outlinewidth\": 0, \"ticks\": \"\"}, \"colorscale\": [[0.0, \"#0d0887\"], [0.1111111111111111, \"#46039f\"], [0.2222222222222222, \"#7201a8\"], [0.3333333333333333, \"#9c179e\"], [0.4444444444444444, \"#bd3786\"], [0.5555555555555556, \"#d8576b\"], [0.6666666666666666, \"#ed7953\"], [0.7777777777777778, \"#fb9f3a\"], [0.8888888888888888, \"#fdca26\"], [1.0, \"#f0f921\"]], \"type\": \"heatmap\"}], \"heatmapgl\": [{\"colorbar\": {\"outlinewidth\": 0, \"ticks\": \"\"}, \"colorscale\": [[0.0, \"#0d0887\"], [0.1111111111111111, \"#46039f\"], [0.2222222222222222, \"#7201a8\"], [0.3333333333333333, \"#9c179e\"], [0.4444444444444444, \"#bd3786\"], [0.5555555555555556, \"#d8576b\"], [0.6666666666666666, \"#ed7953\"], [0.7777777777777778, \"#fb9f3a\"], [0.8888888888888888, \"#fdca26\"], [1.0, \"#f0f921\"]], \"type\": \"heatmapgl\"}], \"histogram\": [{\"marker\": {\"colorbar\": {\"outlinewidth\": 0, \"ticks\": \"\"}}, \"type\": \"histogram\"}], \"histogram2d\": [{\"colorbar\": {\"outlinewidth\": 0, \"ticks\": \"\"}, \"colorscale\": [[0.0, \"#0d0887\"], [0.1111111111111111, \"#46039f\"], [0.2222222222222222, \"#7201a8\"], [0.3333333333333333, \"#9c179e\"], [0.4444444444444444, \"#bd3786\"], [0.5555555555555556, \"#d8576b\"], [0.6666666666666666, \"#ed7953\"], [0.7777777777777778, \"#fb9f3a\"], [0.8888888888888888, \"#fdca26\"], [1.0, \"#f0f921\"]], \"type\": \"histogram2d\"}], \"histogram2dcontour\": [{\"colorbar\": {\"outlinewidth\": 0, \"ticks\": \"\"}, \"colorscale\": [[0.0, \"#0d0887\"], [0.1111111111111111, \"#46039f\"], [0.2222222222222222, \"#7201a8\"], [0.3333333333333333, \"#9c179e\"], [0.4444444444444444, \"#bd3786\"], [0.5555555555555556, \"#d8576b\"], [0.6666666666666666, \"#ed7953\"], [0.7777777777777778, \"#fb9f3a\"], [0.8888888888888888, \"#fdca26\"], [1.0, \"#f0f921\"]], \"type\": \"histogram2dcontour\"}], \"mesh3d\": [{\"colorbar\": {\"outlinewidth\": 0, \"ticks\": \"\"}, \"type\": \"mesh3d\"}], \"parcoords\": [{\"line\": {\"colorbar\": {\"outlinewidth\": 0, \"ticks\": \"\"}}, \"type\": \"parcoords\"}], \"pie\": [{\"automargin\": true, \"type\": \"pie\"}], \"scatter\": [{\"marker\": {\"colorbar\": {\"outlinewidth\": 0, \"ticks\": \"\"}}, \"type\": \"scatter\"}], \"scatter3d\": [{\"line\": {\"colorbar\": {\"outlinewidth\": 0, \"ticks\": \"\"}}, \"marker\": {\"colorbar\": {\"outlinewidth\": 0, \"ticks\": \"\"}}, \"type\": \"scatter3d\"}], \"scattercarpet\": [{\"marker\": {\"colorbar\": {\"outlinewidth\": 0, \"ticks\": \"\"}}, \"type\": \"scattercarpet\"}], \"scattergeo\": [{\"marker\": {\"colorbar\": {\"outlinewidth\": 0, \"ticks\": \"\"}}, \"type\": \"scattergeo\"}], \"scattergl\": [{\"marker\": {\"colorbar\": {\"outlinewidth\": 0, \"ticks\": \"\"}}, \"type\": \"scattergl\"}], \"scattermapbox\": [{\"marker\": {\"colorbar\": {\"outlinewidth\": 0, \"ticks\": \"\"}}, \"type\": \"scattermapbox\"}], \"scatterpolar\": [{\"marker\": {\"colorbar\": {\"outlinewidth\": 0, \"ticks\": \"\"}}, \"type\": \"scatterpolar\"}], \"scatterpolargl\": [{\"marker\": {\"colorbar\": {\"outlinewidth\": 0, \"ticks\": \"\"}}, \"type\": \"scatterpolargl\"}], \"scatterternary\": [{\"marker\": {\"colorbar\": {\"outlinewidth\": 0, \"ticks\": \"\"}}, \"type\": \"scatterternary\"}], \"surface\": [{\"colorbar\": {\"outlinewidth\": 0, \"ticks\": \"\"}, \"colorscale\": [[0.0, \"#0d0887\"], [0.1111111111111111, \"#46039f\"], [0.2222222222222222, \"#7201a8\"], [0.3333333333333333, \"#9c179e\"], [0.4444444444444444, \"#bd3786\"], [0.5555555555555556, \"#d8576b\"], [0.6666666666666666, \"#ed7953\"], [0.7777777777777778, \"#fb9f3a\"], [0.8888888888888888, \"#fdca26\"], [1.0, \"#f0f921\"]], \"type\": \"surface\"}], \"table\": [{\"cells\": {\"fill\": {\"color\": \"#EBF0F8\"}, \"line\": {\"color\": \"white\"}}, \"header\": {\"fill\": {\"color\": \"#C8D4E3\"}, \"line\": {\"color\": \"white\"}}, \"type\": \"table\"}]}, \"layout\": {\"annotationdefaults\": {\"arrowcolor\": \"#2a3f5f\", \"arrowhead\": 0, \"arrowwidth\": 1}, \"coloraxis\": {\"colorbar\": {\"outlinewidth\": 0, \"ticks\": \"\"}}, \"colorscale\": {\"diverging\": [[0, \"#8e0152\"], [0.1, \"#c51b7d\"], [0.2, \"#de77ae\"], [0.3, \"#f1b6da\"], [0.4, \"#fde0ef\"], [0.5, \"#f7f7f7\"], [0.6, \"#e6f5d0\"], [0.7, \"#b8e186\"], [0.8, \"#7fbc41\"], [0.9, \"#4d9221\"], [1, \"#276419\"]], \"sequential\": [[0.0, \"#0d0887\"], [0.1111111111111111, \"#46039f\"], [0.2222222222222222, \"#7201a8\"], [0.3333333333333333, \"#9c179e\"], [0.4444444444444444, \"#bd3786\"], [0.5555555555555556, \"#d8576b\"], [0.6666666666666666, \"#ed7953\"], [0.7777777777777778, \"#fb9f3a\"], [0.8888888888888888, \"#fdca26\"], [1.0, \"#f0f921\"]], \"sequentialminus\": [[0.0, \"#0d0887\"], [0.1111111111111111, \"#46039f\"], [0.2222222222222222, \"#7201a8\"], [0.3333333333333333, \"#9c179e\"], [0.4444444444444444, \"#bd3786\"], [0.5555555555555556, \"#d8576b\"], [0.6666666666666666, \"#ed7953\"], [0.7777777777777778, \"#fb9f3a\"], [0.8888888888888888, \"#fdca26\"], [1.0, \"#f0f921\"]]}, \"colorway\": [\"#636efa\", \"#EF553B\", \"#00cc96\", \"#ab63fa\", \"#FFA15A\", \"#19d3f3\", \"#FF6692\", \"#B6E880\", \"#FF97FF\", \"#FECB52\"], \"font\": {\"color\": \"#2a3f5f\"}, \"geo\": {\"bgcolor\": \"white\", \"lakecolor\": \"white\", \"landcolor\": \"#E5ECF6\", \"showlakes\": true, \"showland\": true, \"subunitcolor\": \"white\"}, \"hoverlabel\": {\"align\": \"left\"}, \"hovermode\": \"closest\", \"mapbox\": {\"style\": \"light\"}, \"paper_bgcolor\": \"white\", \"plot_bgcolor\": \"#E5ECF6\", \"polar\": {\"angularaxis\": {\"gridcolor\": \"white\", \"linecolor\": \"white\", \"ticks\": \"\"}, \"bgcolor\": \"#E5ECF6\", \"radialaxis\": {\"gridcolor\": \"white\", \"linecolor\": \"white\", \"ticks\": \"\"}}, \"scene\": {\"xaxis\": {\"backgroundcolor\": \"#E5ECF6\", \"gridcolor\": \"white\", \"gridwidth\": 2, \"linecolor\": \"white\", \"showbackground\": true, \"ticks\": \"\", \"zerolinecolor\": \"white\"}, \"yaxis\": {\"backgroundcolor\": \"#E5ECF6\", \"gridcolor\": \"white\", \"gridwidth\": 2, \"linecolor\": \"white\", \"showbackground\": true, \"ticks\": \"\", \"zerolinecolor\": \"white\"}, \"zaxis\": {\"backgroundcolor\": \"#E5ECF6\", \"gridcolor\": \"white\", \"gridwidth\": 2, \"linecolor\": \"white\", \"showbackground\": true, \"ticks\": \"\", \"zerolinecolor\": \"white\"}}, \"shapedefaults\": {\"line\": {\"color\": \"#2a3f5f\"}}, \"ternary\": {\"aaxis\": {\"gridcolor\": \"white\", \"linecolor\": \"white\", \"ticks\": \"\"}, \"baxis\": {\"gridcolor\": \"white\", \"linecolor\": \"white\", \"ticks\": \"\"}, \"bgcolor\": \"#E5ECF6\", \"caxis\": {\"gridcolor\": \"white\", \"linecolor\": \"white\", \"ticks\": \"\"}}, \"title\": {\"x\": 0.05}, \"xaxis\": {\"automargin\": true, \"gridcolor\": \"white\", \"linecolor\": \"white\", \"ticks\": \"\", \"title\": {\"standoff\": 15}, \"zerolinecolor\": \"white\", \"zerolinewidth\": 2}, \"yaxis\": {\"automargin\": true, \"gridcolor\": \"white\", \"linecolor\": \"white\", \"ticks\": \"\", \"title\": {\"standoff\": 15}, \"zerolinecolor\": \"white\", \"zerolinewidth\": 2}}}},\n",
       "                        {\"responsive\": true}\n",
       "                    ).then(function(){\n",
       "                            \n",
       "var gd = document.getElementById('5188990f-e08d-4753-83d0-74a8a4534109');\n",
       "var x = new MutationObserver(function (mutations, observer) {{\n",
       "        var display = window.getComputedStyle(gd).display;\n",
       "        if (!display || display === 'none') {{\n",
       "            console.log([gd, 'removed!']);\n",
       "            Plotly.purge(gd);\n",
       "            observer.disconnect();\n",
       "        }}\n",
       "}});\n",
       "\n",
       "// Listen for the removal of the full notebook cells\n",
       "var notebookContainer = gd.closest('#notebook-container');\n",
       "if (notebookContainer) {{\n",
       "    x.observe(notebookContainer, {childList: true});\n",
       "}}\n",
       "\n",
       "// Listen for the clearing of the current output cell\n",
       "var outputEl = gd.closest('.output');\n",
       "if (outputEl) {{\n",
       "    x.observe(outputEl, {childList: true});\n",
       "}}\n",
       "\n",
       "                        })\n",
       "                };\n",
       "                });\n",
       "            </script>\n",
       "        </div>"
      ]
     },
     "metadata": {},
     "output_type": "display_data"
    }
   ],
   "source": [
    "traces = []\n",
    "for solvent in solvents:\n",
    "    solvent_df = crystal_data[crystal_data['Solvent']==solvent]\n",
    "    marker_text = [f\"Solvent: {row['Solvent']} Amine: {row['Amine']}\" for idx, row in solvent_df.iterrows()]\n",
    "    trace = go.Scatter3d(x=solvent_df['PCA3D_X'], y=solvent_df['PCA3D_Y'], z=solvent_df['PCA3D_Z'], mode='markers',text=marker_text, name=solvent)\n",
    "    traces.append(trace)\n",
    "PCA3D(loadings3d, features3d, traces)"
   ]
  },
  {
   "cell_type": "code",
   "execution_count": 98,
   "metadata": {},
   "outputs": [
    {
     "data": {
      "application/vnd.plotly.v1+json": {
       "config": {
        "plotlyServerURL": "https://plot.ly"
       },
       "data": [
        {
         "mode": "markers",
         "name": "2Pyrrolidin1ium1ylethylammoniumiodide",
         "text": [
          "Solvent: DMSO Amine: NNDimethylethane12diammoniumiodide"
         ],
         "type": "scatter3d",
         "x": [
          -19413.8096924734,
          19046.191048368604,
          -23106.810755316346
         ],
         "y": [
          1.0352636408255473,
          1.083253350273391,
          -4.221506210114238
         ],
         "z": [
          0.4202504964597345,
          -0.327437437851527,
          0.6998640731211667
         ]
        },
        {
         "mode": "markers",
         "name": "CyclohexylmethylammoniumIodide",
         "text": [
          "Solvent: DMSO Amine: NNDimethylethane12diammoniumiodide"
         ],
         "type": "scatter3d",
         "x": [
          -23613.81080859162
         ],
         "y": [
          -4.004533168003079
         ],
         "z": [
          -0.650042373272575
         ]
        },
        {
         "mode": "markers",
         "name": "AcNH3I",
         "text": [
          "Solvent: DMSO Amine: NNDimethylethane12diammoniumiodide"
         ],
         "type": "scatter3d",
         "x": [
          -21933.81017949,
          -12213.809381921863
         ],
         "y": [
          -1.0125445343578496,
          2.0141114605959727
         ],
         "z": [
          -0.2881107644136543,
          0.07845227815401712
         ]
        },
        {
         "mode": "markers",
         "name": "EtNH3I",
         "text": [
          "Solvent: DMSO Amine: NNDimethylethane12diammoniumiodide"
         ],
         "type": "scatter3d",
         "x": [
          23968.190149105023
         ],
         "y": [
          -4.3122693996101145
         ],
         "z": [
          0.1945120135047896
         ]
        },
        {
         "mode": "markers",
         "name": "MeNH3I",
         "text": [
          "Solvent: DMSO Amine: NNDimethylethane12diammoniumiodide"
         ],
         "type": "scatter3d",
         "x": [
          -8493.809806282925,
          36457.19029987919,
          34836.19201322703
         ],
         "y": [
          -0.8269156626164246,
          -4.796235503164407,
          4.566932875920917
         ],
         "z": [
          0.7649853441939466,
          0.02049699683946062,
          -0.6722468198669125
         ]
        },
        {
         "mode": "markers",
         "name": "PhEtNH3I",
         "text": [
          "Solvent: DMSO Amine: NNDimethylethane12diammoniumiodide"
         ],
         "type": "scatter3d",
         "x": [
          16586.190095186084
         ],
         "y": [
          -3.711809920414465
         ],
         "z": [
          -0.11177666133516354
         ]
        },
        {
         "mode": "markers",
         "name": "Propane13diammoniumIodide",
         "text": [
          "Solvent: DMSO Amine: NNDimethylethane12diammoniumiodide"
         ],
         "type": "scatter3d",
         "x": [
          -7170.808703199012
         ],
         "y": [
          4.918247843869627
         ],
         "z": [
          0.41512586562792964
         ]
        },
        {
         "mode": "markers",
         "name": "NNDimethylethane12diammoniumiodide",
         "text": [
          "Solvent: DMSO Amine: NNDimethylethane12diammoniumiodide"
         ],
         "type": "scatter3d",
         "x": [
          -3869.8094460437865,
          149.18992440082397,
          21386.19094276899,
          -16172.808875326607
         ],
         "y": [
          0.40669640623374026,
          -2.7286260498812016,
          0.11186627582854787,
          5.170881425571847
         ],
         "z": [
          1.2428648891426963,
          -0.5291108419816295,
          0.19339250411534964,
          -0.1952235625792732
         ]
        },
        {
         "mode": "markers",
         "name": "NNDiethylpropane13diammoniumiodide",
         "text": [
          "Solvent: DMSO Amine: NNDimethylethane12diammoniumiodide"
         ],
         "type": "scatter3d",
         "x": [
          -21213.810369744788,
          -764.8081234739275
         ],
         "y": [
          -2.013042907455655,
          7.319332888132012
         ],
         "z": [
          -0.49708628715274317,
          0.26470896100287433
         ]
        },
        {
         "mode": "markers",
         "name": "Benzenediaminedihydroiodide",
         "text": [
          "Solvent: DMSO Amine: NNDimethylethane12diammoniumiodide"
         ],
         "type": "scatter3d",
         "x": [
          10166.190213139504,
          17906.191637112748,
          -22533.8101813237
         ],
         "y": [
          -2.620121822816045,
          4.278448874034924,
          -0.6574298628530539
         ],
         "z": [
          0.5006062324102134,
          -0.3212174550342938,
          -1.2030074510844224
         ]
        },
        {
         "mode": "lines",
         "name": "PCA components",
         "type": "scatter3d",
         "x": [
          0,
          -3.780520896342035e-09,
          0,
          3.188688603325792e-09,
          0,
          -0.000148029496990225,
          0,
          20116.635087954062,
          0,
          0.21946625572846865,
          0,
          3.732336524016674,
          0,
          -1.5092506857239785,
          0,
          -0.34924604096854456,
          0,
          -0.08346665633480593,
          0,
          -0.12118464442186687
         ],
         "y": [
          0,
          5.4385390988983313e-08,
          0,
          2.5170050471979036e-08,
          0,
          -0.0002827836232936273,
          0,
          -0.0006891189616897046,
          0,
          0.033621426240548154,
          0,
          3.5932118246211813,
          0,
          -0.2787599431340927,
          0,
          -0.06164744956239918,
          0,
          -0.00745259506282077,
          0,
          -0.011794698434988444
         ],
         "z": [
          0,
          2.2957096603183824e-08,
          0,
          3.3954266296755776e-08,
          0,
          0.00031749617749389297,
          0,
          -3.5920298122555595e-05,
          0,
          0.022399387149342802,
          0,
          -0.04555329000351525,
          0,
          -0.5559816512225311,
          0,
          -0.11684593397330205,
          0,
          -0.02373283264082984,
          0,
          -0.047822120224044216
         ]
        }
       ],
       "layout": {
        "scene": {
         "annotations": [
          {
           "opacity": 0.7,
           "showarrow": false,
           "text": "Best Kin, Mols/sec",
           "x": -3.780520896342035e-09,
           "xanchor": "left",
           "xshift": 10,
           "y": 5.4385390988983313e-08,
           "z": 2.2957096603183824e-08
          },
          {
           "opacity": 0.7,
           "showarrow": false,
           "text": "Best Kout, Mols/sec",
           "x": 3.188688603325792e-09,
           "xanchor": "left",
           "xshift": 10,
           "y": 2.5170050471979036e-08,
           "z": 3.3954266296755776e-08
          },
          {
           "opacity": 0.7,
           "showarrow": false,
           "text": "Best Fit SSE",
           "x": -0.000148029496990225,
           "xanchor": "left",
           "xshift": 10,
           "y": -0.0002827836232936273,
           "z": 0.00031749617749389297
          },
          {
           "opacity": 0.7,
           "showarrow": false,
           "text": "Crystallization Time, Seconds",
           "x": 20116.635087954062,
           "xanchor": "left",
           "xshift": 10,
           "y": -0.0006891189616897046,
           "z": -3.5920298122555595e-05
          },
          {
           "opacity": 0.7,
           "showarrow": false,
           "text": "Crystallization Height, cm",
           "x": 0.21946625572846865,
           "xanchor": "left",
           "xshift": 10,
           "y": 0.033621426240548154,
           "z": 0.022399387149342802
          },
          {
           "opacity": 0.7,
           "showarrow": false,
           "text": "Antisolvent Concentration, Mols/L",
           "x": 3.732336524016674,
           "xanchor": "left",
           "xshift": 10,
           "y": 3.5932118246211813,
           "z": -0.04555329000351525
          },
          {
           "opacity": 0.7,
           "showarrow": false,
           "text": "Solvent Concentration, Mols/L",
           "x": -1.5092506857239785,
           "xanchor": "left",
           "xshift": 10,
           "y": -0.2787599431340927,
           "z": -0.5559816512225311
          },
          {
           "opacity": 0.7,
           "showarrow": false,
           "text": "FAH Concentration, Mols/L",
           "x": -0.34924604096854456,
           "xanchor": "left",
           "xshift": 10,
           "y": -0.06164744956239918,
           "z": -0.11684593397330205
          },
          {
           "opacity": 0.7,
           "showarrow": false,
           "text": "Inorganic Concentration, Mols/L",
           "x": -0.08346665633480593,
           "xanchor": "left",
           "xshift": 10,
           "y": -0.00745259506282077,
           "z": -0.02373283264082984
          },
          {
           "opacity": 0.7,
           "showarrow": false,
           "text": "Organic Concentration, Mols/L",
           "x": -0.12118464442186687,
           "xanchor": "left",
           "xshift": 10,
           "y": -0.011794698434988444,
           "z": -0.047822120224044216
          }
         ]
        },
        "template": {
         "data": {
          "bar": [
           {
            "error_x": {
             "color": "#2a3f5f"
            },
            "error_y": {
             "color": "#2a3f5f"
            },
            "marker": {
             "line": {
              "color": "#E5ECF6",
              "width": 0.5
             }
            },
            "type": "bar"
           }
          ],
          "barpolar": [
           {
            "marker": {
             "line": {
              "color": "#E5ECF6",
              "width": 0.5
             }
            },
            "type": "barpolar"
           }
          ],
          "carpet": [
           {
            "aaxis": {
             "endlinecolor": "#2a3f5f",
             "gridcolor": "white",
             "linecolor": "white",
             "minorgridcolor": "white",
             "startlinecolor": "#2a3f5f"
            },
            "baxis": {
             "endlinecolor": "#2a3f5f",
             "gridcolor": "white",
             "linecolor": "white",
             "minorgridcolor": "white",
             "startlinecolor": "#2a3f5f"
            },
            "type": "carpet"
           }
          ],
          "choropleth": [
           {
            "colorbar": {
             "outlinewidth": 0,
             "ticks": ""
            },
            "type": "choropleth"
           }
          ],
          "contour": [
           {
            "colorbar": {
             "outlinewidth": 0,
             "ticks": ""
            },
            "colorscale": [
             [
              0,
              "#0d0887"
             ],
             [
              0.1111111111111111,
              "#46039f"
             ],
             [
              0.2222222222222222,
              "#7201a8"
             ],
             [
              0.3333333333333333,
              "#9c179e"
             ],
             [
              0.4444444444444444,
              "#bd3786"
             ],
             [
              0.5555555555555556,
              "#d8576b"
             ],
             [
              0.6666666666666666,
              "#ed7953"
             ],
             [
              0.7777777777777778,
              "#fb9f3a"
             ],
             [
              0.8888888888888888,
              "#fdca26"
             ],
             [
              1,
              "#f0f921"
             ]
            ],
            "type": "contour"
           }
          ],
          "contourcarpet": [
           {
            "colorbar": {
             "outlinewidth": 0,
             "ticks": ""
            },
            "type": "contourcarpet"
           }
          ],
          "heatmap": [
           {
            "colorbar": {
             "outlinewidth": 0,
             "ticks": ""
            },
            "colorscale": [
             [
              0,
              "#0d0887"
             ],
             [
              0.1111111111111111,
              "#46039f"
             ],
             [
              0.2222222222222222,
              "#7201a8"
             ],
             [
              0.3333333333333333,
              "#9c179e"
             ],
             [
              0.4444444444444444,
              "#bd3786"
             ],
             [
              0.5555555555555556,
              "#d8576b"
             ],
             [
              0.6666666666666666,
              "#ed7953"
             ],
             [
              0.7777777777777778,
              "#fb9f3a"
             ],
             [
              0.8888888888888888,
              "#fdca26"
             ],
             [
              1,
              "#f0f921"
             ]
            ],
            "type": "heatmap"
           }
          ],
          "heatmapgl": [
           {
            "colorbar": {
             "outlinewidth": 0,
             "ticks": ""
            },
            "colorscale": [
             [
              0,
              "#0d0887"
             ],
             [
              0.1111111111111111,
              "#46039f"
             ],
             [
              0.2222222222222222,
              "#7201a8"
             ],
             [
              0.3333333333333333,
              "#9c179e"
             ],
             [
              0.4444444444444444,
              "#bd3786"
             ],
             [
              0.5555555555555556,
              "#d8576b"
             ],
             [
              0.6666666666666666,
              "#ed7953"
             ],
             [
              0.7777777777777778,
              "#fb9f3a"
             ],
             [
              0.8888888888888888,
              "#fdca26"
             ],
             [
              1,
              "#f0f921"
             ]
            ],
            "type": "heatmapgl"
           }
          ],
          "histogram": [
           {
            "marker": {
             "colorbar": {
              "outlinewidth": 0,
              "ticks": ""
             }
            },
            "type": "histogram"
           }
          ],
          "histogram2d": [
           {
            "colorbar": {
             "outlinewidth": 0,
             "ticks": ""
            },
            "colorscale": [
             [
              0,
              "#0d0887"
             ],
             [
              0.1111111111111111,
              "#46039f"
             ],
             [
              0.2222222222222222,
              "#7201a8"
             ],
             [
              0.3333333333333333,
              "#9c179e"
             ],
             [
              0.4444444444444444,
              "#bd3786"
             ],
             [
              0.5555555555555556,
              "#d8576b"
             ],
             [
              0.6666666666666666,
              "#ed7953"
             ],
             [
              0.7777777777777778,
              "#fb9f3a"
             ],
             [
              0.8888888888888888,
              "#fdca26"
             ],
             [
              1,
              "#f0f921"
             ]
            ],
            "type": "histogram2d"
           }
          ],
          "histogram2dcontour": [
           {
            "colorbar": {
             "outlinewidth": 0,
             "ticks": ""
            },
            "colorscale": [
             [
              0,
              "#0d0887"
             ],
             [
              0.1111111111111111,
              "#46039f"
             ],
             [
              0.2222222222222222,
              "#7201a8"
             ],
             [
              0.3333333333333333,
              "#9c179e"
             ],
             [
              0.4444444444444444,
              "#bd3786"
             ],
             [
              0.5555555555555556,
              "#d8576b"
             ],
             [
              0.6666666666666666,
              "#ed7953"
             ],
             [
              0.7777777777777778,
              "#fb9f3a"
             ],
             [
              0.8888888888888888,
              "#fdca26"
             ],
             [
              1,
              "#f0f921"
             ]
            ],
            "type": "histogram2dcontour"
           }
          ],
          "mesh3d": [
           {
            "colorbar": {
             "outlinewidth": 0,
             "ticks": ""
            },
            "type": "mesh3d"
           }
          ],
          "parcoords": [
           {
            "line": {
             "colorbar": {
              "outlinewidth": 0,
              "ticks": ""
             }
            },
            "type": "parcoords"
           }
          ],
          "pie": [
           {
            "automargin": true,
            "type": "pie"
           }
          ],
          "scatter": [
           {
            "marker": {
             "colorbar": {
              "outlinewidth": 0,
              "ticks": ""
             }
            },
            "type": "scatter"
           }
          ],
          "scatter3d": [
           {
            "line": {
             "colorbar": {
              "outlinewidth": 0,
              "ticks": ""
             }
            },
            "marker": {
             "colorbar": {
              "outlinewidth": 0,
              "ticks": ""
             }
            },
            "type": "scatter3d"
           }
          ],
          "scattercarpet": [
           {
            "marker": {
             "colorbar": {
              "outlinewidth": 0,
              "ticks": ""
             }
            },
            "type": "scattercarpet"
           }
          ],
          "scattergeo": [
           {
            "marker": {
             "colorbar": {
              "outlinewidth": 0,
              "ticks": ""
             }
            },
            "type": "scattergeo"
           }
          ],
          "scattergl": [
           {
            "marker": {
             "colorbar": {
              "outlinewidth": 0,
              "ticks": ""
             }
            },
            "type": "scattergl"
           }
          ],
          "scattermapbox": [
           {
            "marker": {
             "colorbar": {
              "outlinewidth": 0,
              "ticks": ""
             }
            },
            "type": "scattermapbox"
           }
          ],
          "scatterpolar": [
           {
            "marker": {
             "colorbar": {
              "outlinewidth": 0,
              "ticks": ""
             }
            },
            "type": "scatterpolar"
           }
          ],
          "scatterpolargl": [
           {
            "marker": {
             "colorbar": {
              "outlinewidth": 0,
              "ticks": ""
             }
            },
            "type": "scatterpolargl"
           }
          ],
          "scatterternary": [
           {
            "marker": {
             "colorbar": {
              "outlinewidth": 0,
              "ticks": ""
             }
            },
            "type": "scatterternary"
           }
          ],
          "surface": [
           {
            "colorbar": {
             "outlinewidth": 0,
             "ticks": ""
            },
            "colorscale": [
             [
              0,
              "#0d0887"
             ],
             [
              0.1111111111111111,
              "#46039f"
             ],
             [
              0.2222222222222222,
              "#7201a8"
             ],
             [
              0.3333333333333333,
              "#9c179e"
             ],
             [
              0.4444444444444444,
              "#bd3786"
             ],
             [
              0.5555555555555556,
              "#d8576b"
             ],
             [
              0.6666666666666666,
              "#ed7953"
             ],
             [
              0.7777777777777778,
              "#fb9f3a"
             ],
             [
              0.8888888888888888,
              "#fdca26"
             ],
             [
              1,
              "#f0f921"
             ]
            ],
            "type": "surface"
           }
          ],
          "table": [
           {
            "cells": {
             "fill": {
              "color": "#EBF0F8"
             },
             "line": {
              "color": "white"
             }
            },
            "header": {
             "fill": {
              "color": "#C8D4E3"
             },
             "line": {
              "color": "white"
             }
            },
            "type": "table"
           }
          ]
         },
         "layout": {
          "annotationdefaults": {
           "arrowcolor": "#2a3f5f",
           "arrowhead": 0,
           "arrowwidth": 1
          },
          "coloraxis": {
           "colorbar": {
            "outlinewidth": 0,
            "ticks": ""
           }
          },
          "colorscale": {
           "diverging": [
            [
             0,
             "#8e0152"
            ],
            [
             0.1,
             "#c51b7d"
            ],
            [
             0.2,
             "#de77ae"
            ],
            [
             0.3,
             "#f1b6da"
            ],
            [
             0.4,
             "#fde0ef"
            ],
            [
             0.5,
             "#f7f7f7"
            ],
            [
             0.6,
             "#e6f5d0"
            ],
            [
             0.7,
             "#b8e186"
            ],
            [
             0.8,
             "#7fbc41"
            ],
            [
             0.9,
             "#4d9221"
            ],
            [
             1,
             "#276419"
            ]
           ],
           "sequential": [
            [
             0,
             "#0d0887"
            ],
            [
             0.1111111111111111,
             "#46039f"
            ],
            [
             0.2222222222222222,
             "#7201a8"
            ],
            [
             0.3333333333333333,
             "#9c179e"
            ],
            [
             0.4444444444444444,
             "#bd3786"
            ],
            [
             0.5555555555555556,
             "#d8576b"
            ],
            [
             0.6666666666666666,
             "#ed7953"
            ],
            [
             0.7777777777777778,
             "#fb9f3a"
            ],
            [
             0.8888888888888888,
             "#fdca26"
            ],
            [
             1,
             "#f0f921"
            ]
           ],
           "sequentialminus": [
            [
             0,
             "#0d0887"
            ],
            [
             0.1111111111111111,
             "#46039f"
            ],
            [
             0.2222222222222222,
             "#7201a8"
            ],
            [
             0.3333333333333333,
             "#9c179e"
            ],
            [
             0.4444444444444444,
             "#bd3786"
            ],
            [
             0.5555555555555556,
             "#d8576b"
            ],
            [
             0.6666666666666666,
             "#ed7953"
            ],
            [
             0.7777777777777778,
             "#fb9f3a"
            ],
            [
             0.8888888888888888,
             "#fdca26"
            ],
            [
             1,
             "#f0f921"
            ]
           ]
          },
          "colorway": [
           "#636efa",
           "#EF553B",
           "#00cc96",
           "#ab63fa",
           "#FFA15A",
           "#19d3f3",
           "#FF6692",
           "#B6E880",
           "#FF97FF",
           "#FECB52"
          ],
          "font": {
           "color": "#2a3f5f"
          },
          "geo": {
           "bgcolor": "white",
           "lakecolor": "white",
           "landcolor": "#E5ECF6",
           "showlakes": true,
           "showland": true,
           "subunitcolor": "white"
          },
          "hoverlabel": {
           "align": "left"
          },
          "hovermode": "closest",
          "mapbox": {
           "style": "light"
          },
          "paper_bgcolor": "white",
          "plot_bgcolor": "#E5ECF6",
          "polar": {
           "angularaxis": {
            "gridcolor": "white",
            "linecolor": "white",
            "ticks": ""
           },
           "bgcolor": "#E5ECF6",
           "radialaxis": {
            "gridcolor": "white",
            "linecolor": "white",
            "ticks": ""
           }
          },
          "scene": {
           "xaxis": {
            "backgroundcolor": "#E5ECF6",
            "gridcolor": "white",
            "gridwidth": 2,
            "linecolor": "white",
            "showbackground": true,
            "ticks": "",
            "zerolinecolor": "white"
           },
           "yaxis": {
            "backgroundcolor": "#E5ECF6",
            "gridcolor": "white",
            "gridwidth": 2,
            "linecolor": "white",
            "showbackground": true,
            "ticks": "",
            "zerolinecolor": "white"
           },
           "zaxis": {
            "backgroundcolor": "#E5ECF6",
            "gridcolor": "white",
            "gridwidth": 2,
            "linecolor": "white",
            "showbackground": true,
            "ticks": "",
            "zerolinecolor": "white"
           }
          },
          "shapedefaults": {
           "line": {
            "color": "#2a3f5f"
           }
          },
          "ternary": {
           "aaxis": {
            "gridcolor": "white",
            "linecolor": "white",
            "ticks": ""
           },
           "baxis": {
            "gridcolor": "white",
            "linecolor": "white",
            "ticks": ""
           },
           "bgcolor": "#E5ECF6",
           "caxis": {
            "gridcolor": "white",
            "linecolor": "white",
            "ticks": ""
           }
          },
          "title": {
           "x": 0.05
          },
          "xaxis": {
           "automargin": true,
           "gridcolor": "white",
           "linecolor": "white",
           "ticks": "",
           "title": {
            "standoff": 15
           },
           "zerolinecolor": "white",
           "zerolinewidth": 2
          },
          "yaxis": {
           "automargin": true,
           "gridcolor": "white",
           "linecolor": "white",
           "ticks": "",
           "title": {
            "standoff": 15
           },
           "zerolinecolor": "white",
           "zerolinewidth": 2
          }
         }
        }
       }
      },
      "text/html": [
       "<div>\n",
       "        \n",
       "        \n",
       "            <div id=\"9845dfa4-5ec8-4e9e-a099-585d9a1a634f\" class=\"plotly-graph-div\" style=\"height:525px; width:100%;\"></div>\n",
       "            <script type=\"text/javascript\">\n",
       "                require([\"plotly\"], function(Plotly) {\n",
       "                    window.PLOTLYENV=window.PLOTLYENV || {};\n",
       "                    \n",
       "                if (document.getElementById(\"9845dfa4-5ec8-4e9e-a099-585d9a1a634f\")) {\n",
       "                    Plotly.newPlot(\n",
       "                        '9845dfa4-5ec8-4e9e-a099-585d9a1a634f',\n",
       "                        [{\"mode\": \"markers\", \"name\": \"2Pyrrolidin1ium1ylethylammoniumiodide\", \"text\": [\"Solvent: DMSO Amine: NNDimethylethane12diammoniumiodide\"], \"type\": \"scatter3d\", \"x\": [-19413.8096924734, 19046.191048368604, -23106.810755316346], \"y\": [1.0352636408255473, 1.083253350273391, -4.221506210114238], \"z\": [0.4202504964597345, -0.327437437851527, 0.6998640731211667]}, {\"mode\": \"markers\", \"name\": \"CyclohexylmethylammoniumIodide\", \"text\": [\"Solvent: DMSO Amine: NNDimethylethane12diammoniumiodide\"], \"type\": \"scatter3d\", \"x\": [-23613.81080859162], \"y\": [-4.004533168003079], \"z\": [-0.650042373272575]}, {\"mode\": \"markers\", \"name\": \"AcNH3I\", \"text\": [\"Solvent: DMSO Amine: NNDimethylethane12diammoniumiodide\"], \"type\": \"scatter3d\", \"x\": [-21933.81017949, -12213.809381921863], \"y\": [-1.0125445343578496, 2.0141114605959727], \"z\": [-0.2881107644136543, 0.07845227815401712]}, {\"mode\": \"markers\", \"name\": \"EtNH3I\", \"text\": [\"Solvent: DMSO Amine: NNDimethylethane12diammoniumiodide\"], \"type\": \"scatter3d\", \"x\": [23968.190149105023], \"y\": [-4.3122693996101145], \"z\": [0.1945120135047896]}, {\"mode\": \"markers\", \"name\": \"MeNH3I\", \"text\": [\"Solvent: DMSO Amine: NNDimethylethane12diammoniumiodide\"], \"type\": \"scatter3d\", \"x\": [-8493.809806282925, 36457.19029987919, 34836.19201322703], \"y\": [-0.8269156626164246, -4.796235503164407, 4.566932875920917], \"z\": [0.7649853441939466, 0.02049699683946062, -0.6722468198669125]}, {\"mode\": \"markers\", \"name\": \"PhEtNH3I\", \"text\": [\"Solvent: DMSO Amine: NNDimethylethane12diammoniumiodide\"], \"type\": \"scatter3d\", \"x\": [16586.190095186084], \"y\": [-3.711809920414465], \"z\": [-0.11177666133516354]}, {\"mode\": \"markers\", \"name\": \"Propane13diammoniumIodide\", \"text\": [\"Solvent: DMSO Amine: NNDimethylethane12diammoniumiodide\"], \"type\": \"scatter3d\", \"x\": [-7170.808703199012], \"y\": [4.918247843869627], \"z\": [0.41512586562792964]}, {\"mode\": \"markers\", \"name\": \"NNDimethylethane12diammoniumiodide\", \"text\": [\"Solvent: DMSO Amine: NNDimethylethane12diammoniumiodide\"], \"type\": \"scatter3d\", \"x\": [-3869.8094460437865, 149.18992440082397, 21386.19094276899, -16172.808875326607], \"y\": [0.40669640623374026, -2.7286260498812016, 0.11186627582854787, 5.170881425571847], \"z\": [1.2428648891426963, -0.5291108419816295, 0.19339250411534964, -0.1952235625792732]}, {\"mode\": \"markers\", \"name\": \"NNDiethylpropane13diammoniumiodide\", \"text\": [\"Solvent: DMSO Amine: NNDimethylethane12diammoniumiodide\"], \"type\": \"scatter3d\", \"x\": [-21213.810369744788, -764.8081234739275], \"y\": [-2.013042907455655, 7.319332888132012], \"z\": [-0.49708628715274317, 0.26470896100287433]}, {\"mode\": \"markers\", \"name\": \"Benzenediaminedihydroiodide\", \"text\": [\"Solvent: DMSO Amine: NNDimethylethane12diammoniumiodide\"], \"type\": \"scatter3d\", \"x\": [10166.190213139504, 17906.191637112748, -22533.8101813237], \"y\": [-2.620121822816045, 4.278448874034924, -0.6574298628530539], \"z\": [0.5006062324102134, -0.3212174550342938, -1.2030074510844224]}, {\"mode\": \"lines\", \"name\": \"PCA components\", \"type\": \"scatter3d\", \"x\": [0.0, -3.780520896342035e-09, 0.0, 3.188688603325792e-09, 0.0, -0.000148029496990225, 0.0, 20116.635087954062, 0.0, 0.21946625572846865, 0.0, 3.732336524016674, 0.0, -1.5092506857239785, 0.0, -0.34924604096854456, 0.0, -0.08346665633480593, 0.0, -0.12118464442186687], \"y\": [0.0, 5.4385390988983313e-08, 0.0, 2.5170050471979036e-08, 0.0, -0.0002827836232936273, 0.0, -0.0006891189616897046, 0.0, 0.033621426240548154, 0.0, 3.5932118246211813, 0.0, -0.2787599431340927, 0.0, -0.06164744956239918, 0.0, -0.00745259506282077, 0.0, -0.011794698434988444], \"z\": [0.0, 2.2957096603183824e-08, 0.0, 3.3954266296755776e-08, 0.0, 0.00031749617749389297, 0.0, -3.5920298122555595e-05, 0.0, 0.022399387149342802, 0.0, -0.04555329000351525, 0.0, -0.5559816512225311, 0.0, -0.11684593397330205, 0.0, -0.02373283264082984, 0.0, -0.047822120224044216]}],\n",
       "                        {\"scene\": {\"annotations\": [{\"opacity\": 0.7, \"showarrow\": false, \"text\": \"Best Kin, Mols/sec\", \"x\": -3.780520896342035e-09, \"xanchor\": \"left\", \"xshift\": 10, \"y\": 5.4385390988983313e-08, \"z\": 2.2957096603183824e-08}, {\"opacity\": 0.7, \"showarrow\": false, \"text\": \"Best Kout, Mols/sec\", \"x\": 3.188688603325792e-09, \"xanchor\": \"left\", \"xshift\": 10, \"y\": 2.5170050471979036e-08, \"z\": 3.3954266296755776e-08}, {\"opacity\": 0.7, \"showarrow\": false, \"text\": \"Best Fit SSE\", \"x\": -0.000148029496990225, \"xanchor\": \"left\", \"xshift\": 10, \"y\": -0.0002827836232936273, \"z\": 0.00031749617749389297}, {\"opacity\": 0.7, \"showarrow\": false, \"text\": \"Crystallization Time, Seconds\", \"x\": 20116.635087954062, \"xanchor\": \"left\", \"xshift\": 10, \"y\": -0.0006891189616897046, \"z\": -3.5920298122555595e-05}, {\"opacity\": 0.7, \"showarrow\": false, \"text\": \"Crystallization Height, cm\", \"x\": 0.21946625572846865, \"xanchor\": \"left\", \"xshift\": 10, \"y\": 0.033621426240548154, \"z\": 0.022399387149342802}, {\"opacity\": 0.7, \"showarrow\": false, \"text\": \"Antisolvent Concentration, Mols/L\", \"x\": 3.732336524016674, \"xanchor\": \"left\", \"xshift\": 10, \"y\": 3.5932118246211813, \"z\": -0.04555329000351525}, {\"opacity\": 0.7, \"showarrow\": false, \"text\": \"Solvent Concentration, Mols/L\", \"x\": -1.5092506857239785, \"xanchor\": \"left\", \"xshift\": 10, \"y\": -0.2787599431340927, \"z\": -0.5559816512225311}, {\"opacity\": 0.7, \"showarrow\": false, \"text\": \"FAH Concentration, Mols/L\", \"x\": -0.34924604096854456, \"xanchor\": \"left\", \"xshift\": 10, \"y\": -0.06164744956239918, \"z\": -0.11684593397330205}, {\"opacity\": 0.7, \"showarrow\": false, \"text\": \"Inorganic Concentration, Mols/L\", \"x\": -0.08346665633480593, \"xanchor\": \"left\", \"xshift\": 10, \"y\": -0.00745259506282077, \"z\": -0.02373283264082984}, {\"opacity\": 0.7, \"showarrow\": false, \"text\": \"Organic Concentration, Mols/L\", \"x\": -0.12118464442186687, \"xanchor\": \"left\", \"xshift\": 10, \"y\": -0.011794698434988444, \"z\": -0.047822120224044216}]}, \"template\": {\"data\": {\"bar\": [{\"error_x\": {\"color\": \"#2a3f5f\"}, \"error_y\": {\"color\": \"#2a3f5f\"}, \"marker\": {\"line\": {\"color\": \"#E5ECF6\", \"width\": 0.5}}, \"type\": \"bar\"}], \"barpolar\": [{\"marker\": {\"line\": {\"color\": \"#E5ECF6\", \"width\": 0.5}}, \"type\": \"barpolar\"}], \"carpet\": [{\"aaxis\": {\"endlinecolor\": \"#2a3f5f\", \"gridcolor\": \"white\", \"linecolor\": \"white\", \"minorgridcolor\": \"white\", \"startlinecolor\": \"#2a3f5f\"}, \"baxis\": {\"endlinecolor\": \"#2a3f5f\", \"gridcolor\": \"white\", \"linecolor\": \"white\", \"minorgridcolor\": \"white\", \"startlinecolor\": \"#2a3f5f\"}, \"type\": \"carpet\"}], \"choropleth\": [{\"colorbar\": {\"outlinewidth\": 0, \"ticks\": \"\"}, \"type\": \"choropleth\"}], \"contour\": [{\"colorbar\": {\"outlinewidth\": 0, \"ticks\": \"\"}, \"colorscale\": [[0.0, \"#0d0887\"], [0.1111111111111111, \"#46039f\"], [0.2222222222222222, \"#7201a8\"], [0.3333333333333333, \"#9c179e\"], [0.4444444444444444, \"#bd3786\"], [0.5555555555555556, \"#d8576b\"], [0.6666666666666666, \"#ed7953\"], [0.7777777777777778, \"#fb9f3a\"], [0.8888888888888888, \"#fdca26\"], [1.0, \"#f0f921\"]], \"type\": \"contour\"}], \"contourcarpet\": [{\"colorbar\": {\"outlinewidth\": 0, \"ticks\": \"\"}, \"type\": \"contourcarpet\"}], \"heatmap\": [{\"colorbar\": {\"outlinewidth\": 0, \"ticks\": \"\"}, \"colorscale\": [[0.0, \"#0d0887\"], [0.1111111111111111, \"#46039f\"], [0.2222222222222222, \"#7201a8\"], [0.3333333333333333, \"#9c179e\"], [0.4444444444444444, \"#bd3786\"], [0.5555555555555556, \"#d8576b\"], [0.6666666666666666, \"#ed7953\"], [0.7777777777777778, \"#fb9f3a\"], [0.8888888888888888, \"#fdca26\"], [1.0, \"#f0f921\"]], \"type\": \"heatmap\"}], \"heatmapgl\": [{\"colorbar\": {\"outlinewidth\": 0, \"ticks\": \"\"}, \"colorscale\": [[0.0, \"#0d0887\"], [0.1111111111111111, \"#46039f\"], [0.2222222222222222, \"#7201a8\"], [0.3333333333333333, \"#9c179e\"], [0.4444444444444444, \"#bd3786\"], [0.5555555555555556, \"#d8576b\"], [0.6666666666666666, \"#ed7953\"], [0.7777777777777778, \"#fb9f3a\"], [0.8888888888888888, \"#fdca26\"], [1.0, \"#f0f921\"]], \"type\": \"heatmapgl\"}], \"histogram\": [{\"marker\": {\"colorbar\": {\"outlinewidth\": 0, \"ticks\": \"\"}}, \"type\": \"histogram\"}], \"histogram2d\": [{\"colorbar\": {\"outlinewidth\": 0, \"ticks\": \"\"}, \"colorscale\": [[0.0, \"#0d0887\"], [0.1111111111111111, \"#46039f\"], [0.2222222222222222, \"#7201a8\"], [0.3333333333333333, \"#9c179e\"], [0.4444444444444444, \"#bd3786\"], [0.5555555555555556, \"#d8576b\"], [0.6666666666666666, \"#ed7953\"], [0.7777777777777778, \"#fb9f3a\"], [0.8888888888888888, \"#fdca26\"], [1.0, \"#f0f921\"]], \"type\": \"histogram2d\"}], \"histogram2dcontour\": [{\"colorbar\": {\"outlinewidth\": 0, \"ticks\": \"\"}, \"colorscale\": [[0.0, \"#0d0887\"], [0.1111111111111111, \"#46039f\"], [0.2222222222222222, \"#7201a8\"], [0.3333333333333333, \"#9c179e\"], [0.4444444444444444, \"#bd3786\"], [0.5555555555555556, \"#d8576b\"], [0.6666666666666666, \"#ed7953\"], [0.7777777777777778, \"#fb9f3a\"], [0.8888888888888888, \"#fdca26\"], [1.0, \"#f0f921\"]], \"type\": \"histogram2dcontour\"}], \"mesh3d\": [{\"colorbar\": {\"outlinewidth\": 0, \"ticks\": \"\"}, \"type\": \"mesh3d\"}], \"parcoords\": [{\"line\": {\"colorbar\": {\"outlinewidth\": 0, \"ticks\": \"\"}}, \"type\": \"parcoords\"}], \"pie\": [{\"automargin\": true, \"type\": \"pie\"}], \"scatter\": [{\"marker\": {\"colorbar\": {\"outlinewidth\": 0, \"ticks\": \"\"}}, \"type\": \"scatter\"}], \"scatter3d\": [{\"line\": {\"colorbar\": {\"outlinewidth\": 0, \"ticks\": \"\"}}, \"marker\": {\"colorbar\": {\"outlinewidth\": 0, \"ticks\": \"\"}}, \"type\": \"scatter3d\"}], \"scattercarpet\": [{\"marker\": {\"colorbar\": {\"outlinewidth\": 0, \"ticks\": \"\"}}, \"type\": \"scattercarpet\"}], \"scattergeo\": [{\"marker\": {\"colorbar\": {\"outlinewidth\": 0, \"ticks\": \"\"}}, \"type\": \"scattergeo\"}], \"scattergl\": [{\"marker\": {\"colorbar\": {\"outlinewidth\": 0, \"ticks\": \"\"}}, \"type\": \"scattergl\"}], \"scattermapbox\": [{\"marker\": {\"colorbar\": {\"outlinewidth\": 0, \"ticks\": \"\"}}, \"type\": \"scattermapbox\"}], \"scatterpolar\": [{\"marker\": {\"colorbar\": {\"outlinewidth\": 0, \"ticks\": \"\"}}, \"type\": \"scatterpolar\"}], \"scatterpolargl\": [{\"marker\": {\"colorbar\": {\"outlinewidth\": 0, \"ticks\": \"\"}}, \"type\": \"scatterpolargl\"}], \"scatterternary\": [{\"marker\": {\"colorbar\": {\"outlinewidth\": 0, \"ticks\": \"\"}}, \"type\": \"scatterternary\"}], \"surface\": [{\"colorbar\": {\"outlinewidth\": 0, \"ticks\": \"\"}, \"colorscale\": [[0.0, \"#0d0887\"], [0.1111111111111111, \"#46039f\"], [0.2222222222222222, \"#7201a8\"], [0.3333333333333333, \"#9c179e\"], [0.4444444444444444, \"#bd3786\"], [0.5555555555555556, \"#d8576b\"], [0.6666666666666666, \"#ed7953\"], [0.7777777777777778, \"#fb9f3a\"], [0.8888888888888888, \"#fdca26\"], [1.0, \"#f0f921\"]], \"type\": \"surface\"}], \"table\": [{\"cells\": {\"fill\": {\"color\": \"#EBF0F8\"}, \"line\": {\"color\": \"white\"}}, \"header\": {\"fill\": {\"color\": \"#C8D4E3\"}, \"line\": {\"color\": \"white\"}}, \"type\": \"table\"}]}, \"layout\": {\"annotationdefaults\": {\"arrowcolor\": \"#2a3f5f\", \"arrowhead\": 0, \"arrowwidth\": 1}, \"coloraxis\": {\"colorbar\": {\"outlinewidth\": 0, \"ticks\": \"\"}}, \"colorscale\": {\"diverging\": [[0, \"#8e0152\"], [0.1, \"#c51b7d\"], [0.2, \"#de77ae\"], [0.3, \"#f1b6da\"], [0.4, \"#fde0ef\"], [0.5, \"#f7f7f7\"], [0.6, \"#e6f5d0\"], [0.7, \"#b8e186\"], [0.8, \"#7fbc41\"], [0.9, \"#4d9221\"], [1, \"#276419\"]], \"sequential\": [[0.0, \"#0d0887\"], [0.1111111111111111, \"#46039f\"], [0.2222222222222222, \"#7201a8\"], [0.3333333333333333, \"#9c179e\"], [0.4444444444444444, \"#bd3786\"], [0.5555555555555556, \"#d8576b\"], [0.6666666666666666, \"#ed7953\"], [0.7777777777777778, \"#fb9f3a\"], [0.8888888888888888, \"#fdca26\"], [1.0, \"#f0f921\"]], \"sequentialminus\": [[0.0, \"#0d0887\"], [0.1111111111111111, \"#46039f\"], [0.2222222222222222, \"#7201a8\"], [0.3333333333333333, \"#9c179e\"], [0.4444444444444444, \"#bd3786\"], [0.5555555555555556, \"#d8576b\"], [0.6666666666666666, \"#ed7953\"], [0.7777777777777778, \"#fb9f3a\"], [0.8888888888888888, \"#fdca26\"], [1.0, \"#f0f921\"]]}, \"colorway\": [\"#636efa\", \"#EF553B\", \"#00cc96\", \"#ab63fa\", \"#FFA15A\", \"#19d3f3\", \"#FF6692\", \"#B6E880\", \"#FF97FF\", \"#FECB52\"], \"font\": {\"color\": \"#2a3f5f\"}, \"geo\": {\"bgcolor\": \"white\", \"lakecolor\": \"white\", \"landcolor\": \"#E5ECF6\", \"showlakes\": true, \"showland\": true, \"subunitcolor\": \"white\"}, \"hoverlabel\": {\"align\": \"left\"}, \"hovermode\": \"closest\", \"mapbox\": {\"style\": \"light\"}, \"paper_bgcolor\": \"white\", \"plot_bgcolor\": \"#E5ECF6\", \"polar\": {\"angularaxis\": {\"gridcolor\": \"white\", \"linecolor\": \"white\", \"ticks\": \"\"}, \"bgcolor\": \"#E5ECF6\", \"radialaxis\": {\"gridcolor\": \"white\", \"linecolor\": \"white\", \"ticks\": \"\"}}, \"scene\": {\"xaxis\": {\"backgroundcolor\": \"#E5ECF6\", \"gridcolor\": \"white\", \"gridwidth\": 2, \"linecolor\": \"white\", \"showbackground\": true, \"ticks\": \"\", \"zerolinecolor\": \"white\"}, \"yaxis\": {\"backgroundcolor\": \"#E5ECF6\", \"gridcolor\": \"white\", \"gridwidth\": 2, \"linecolor\": \"white\", \"showbackground\": true, \"ticks\": \"\", \"zerolinecolor\": \"white\"}, \"zaxis\": {\"backgroundcolor\": \"#E5ECF6\", \"gridcolor\": \"white\", \"gridwidth\": 2, \"linecolor\": \"white\", \"showbackground\": true, \"ticks\": \"\", \"zerolinecolor\": \"white\"}}, \"shapedefaults\": {\"line\": {\"color\": \"#2a3f5f\"}}, \"ternary\": {\"aaxis\": {\"gridcolor\": \"white\", \"linecolor\": \"white\", \"ticks\": \"\"}, \"baxis\": {\"gridcolor\": \"white\", \"linecolor\": \"white\", \"ticks\": \"\"}, \"bgcolor\": \"#E5ECF6\", \"caxis\": {\"gridcolor\": \"white\", \"linecolor\": \"white\", \"ticks\": \"\"}}, \"title\": {\"x\": 0.05}, \"xaxis\": {\"automargin\": true, \"gridcolor\": \"white\", \"linecolor\": \"white\", \"ticks\": \"\", \"title\": {\"standoff\": 15}, \"zerolinecolor\": \"white\", \"zerolinewidth\": 2}, \"yaxis\": {\"automargin\": true, \"gridcolor\": \"white\", \"linecolor\": \"white\", \"ticks\": \"\", \"title\": {\"standoff\": 15}, \"zerolinecolor\": \"white\", \"zerolinewidth\": 2}}}},\n",
       "                        {\"responsive\": true}\n",
       "                    ).then(function(){\n",
       "                            \n",
       "var gd = document.getElementById('9845dfa4-5ec8-4e9e-a099-585d9a1a634f');\n",
       "var x = new MutationObserver(function (mutations, observer) {{\n",
       "        var display = window.getComputedStyle(gd).display;\n",
       "        if (!display || display === 'none') {{\n",
       "            console.log([gd, 'removed!']);\n",
       "            Plotly.purge(gd);\n",
       "            observer.disconnect();\n",
       "        }}\n",
       "}});\n",
       "\n",
       "// Listen for the removal of the full notebook cells\n",
       "var notebookContainer = gd.closest('#notebook-container');\n",
       "if (notebookContainer) {{\n",
       "    x.observe(notebookContainer, {childList: true});\n",
       "}}\n",
       "\n",
       "// Listen for the clearing of the current output cell\n",
       "var outputEl = gd.closest('.output');\n",
       "if (outputEl) {{\n",
       "    x.observe(outputEl, {childList: true});\n",
       "}}\n",
       "\n",
       "                        })\n",
       "                };\n",
       "                });\n",
       "            </script>\n",
       "        </div>"
      ]
     },
     "metadata": {},
     "output_type": "display_data"
    }
   ],
   "source": [
    "traces = []\n",
    "for amine in amines:\n",
    "    amine_df = crystal_data[crystal_data['Amine']==amine]\n",
    "    marker_text = [f\"Solvent: {row['Solvent']} Amine: {row['Amine']}\" for idx, row in solvent_df.iterrows()]\n",
    "    trace = go.Scatter3d(x=amine_df['PCA3D_X'], y=amine_df['PCA3D_Y'], z=amine_df['PCA3D_Z'], mode='markers',text=marker_text, name=amine)\n",
    "    traces.append(trace)\n",
    "PCA3D(loadings3d, features3d, traces)"
   ]
  },
  {
   "cell_type": "code",
   "execution_count": 99,
   "metadata": {},
   "outputs": [
    {
     "data": {
      "application/vnd.plotly.v1+json": {
       "config": {
        "plotlyServerURL": "https://plot.ly"
       },
       "data": [
        {
         "mode": "markers",
         "name": "branch",
         "text": [
          "Solvent: DMSO Amine: NNDimethylethane12diammoniumiodide"
         ],
         "type": "scatter3d",
         "x": [
          -21933.81017949,
          -12213.809381921863,
          -3869.8094460437865,
          149.18992440082397,
          21386.19094276899,
          -16172.808875326607,
          -21213.810369744788,
          -764.8081234739275
         ],
         "y": [
          -1.0125445343578496,
          2.0141114605959727,
          0.40669640623374026,
          -2.7286260498812016,
          0.11186627582854787,
          5.170881425571847,
          -2.013042907455655,
          7.319332888132012
         ],
         "z": [
          -0.2881107644136543,
          0.07845227815401712,
          1.2428648891426963,
          -0.5291108419816295,
          0.19339250411534964,
          -0.1952235625792732,
          -0.49708628715274317,
          0.26470896100287433
         ]
        },
        {
         "mode": "markers",
         "name": "6-membered-ring",
         "text": [
          "Solvent: DMSO Amine: NNDimethylethane12diammoniumiodide"
         ],
         "type": "scatter3d",
         "x": [
          -23613.81080859162,
          16586.190095186084,
          10166.190213139504,
          17906.191637112748,
          -22533.8101813237
         ],
         "y": [
          -4.004533168003079,
          -3.711809920414465,
          -2.620121822816045,
          4.278448874034924,
          -0.6574298628530539
         ],
         "z": [
          -0.650042373272575,
          -0.11177666133516354,
          0.5006062324102134,
          -0.3212174550342938,
          -1.2030074510844224
         ]
        },
        {
         "mode": "markers",
         "name": "5-membered-ring",
         "text": [
          "Solvent: DMSO Amine: NNDimethylethane12diammoniumiodide"
         ],
         "type": "scatter3d",
         "x": [
          -19413.8096924734,
          19046.191048368604,
          -23106.810755316346
         ],
         "y": [
          1.0352636408255473,
          1.083253350273391,
          -4.221506210114238
         ],
         "z": [
          0.4202504964597345,
          -0.327437437851527,
          0.6998640731211667
         ]
        },
        {
         "mode": "markers",
         "name": "chain",
         "text": [
          "Solvent: DMSO Amine: NNDimethylethane12diammoniumiodide"
         ],
         "type": "scatter3d",
         "x": [
          23968.190149105023,
          -8493.809806282925,
          36457.19029987919,
          34836.19201322703,
          -7170.808703199012
         ],
         "y": [
          -4.3122693996101145,
          -0.8269156626164246,
          -4.796235503164407,
          4.566932875920917,
          4.918247843869627
         ],
         "z": [
          0.1945120135047896,
          0.7649853441939466,
          0.02049699683946062,
          -0.6722468198669125,
          0.41512586562792964
         ]
        },
        {
         "mode": "lines",
         "name": "PCA components",
         "type": "scatter3d",
         "x": [
          0,
          -3.780520896342035e-09,
          0,
          3.188688603325792e-09,
          0,
          -0.000148029496990225,
          0,
          20116.635087954062,
          0,
          0.21946625572846865,
          0,
          3.732336524016674,
          0,
          -1.5092506857239785,
          0,
          -0.34924604096854456,
          0,
          -0.08346665633480593,
          0,
          -0.12118464442186687
         ],
         "y": [
          0,
          5.4385390988983313e-08,
          0,
          2.5170050471979036e-08,
          0,
          -0.0002827836232936273,
          0,
          -0.0006891189616897046,
          0,
          0.033621426240548154,
          0,
          3.5932118246211813,
          0,
          -0.2787599431340927,
          0,
          -0.06164744956239918,
          0,
          -0.00745259506282077,
          0,
          -0.011794698434988444
         ],
         "z": [
          0,
          2.2957096603183824e-08,
          0,
          3.3954266296755776e-08,
          0,
          0.00031749617749389297,
          0,
          -3.5920298122555595e-05,
          0,
          0.022399387149342802,
          0,
          -0.04555329000351525,
          0,
          -0.5559816512225311,
          0,
          -0.11684593397330205,
          0,
          -0.02373283264082984,
          0,
          -0.047822120224044216
         ]
        }
       ],
       "layout": {
        "scene": {
         "annotations": [
          {
           "opacity": 0.7,
           "showarrow": false,
           "text": "Best Kin, Mols/sec",
           "x": -3.780520896342035e-09,
           "xanchor": "left",
           "xshift": 10,
           "y": 5.4385390988983313e-08,
           "z": 2.2957096603183824e-08
          },
          {
           "opacity": 0.7,
           "showarrow": false,
           "text": "Best Kout, Mols/sec",
           "x": 3.188688603325792e-09,
           "xanchor": "left",
           "xshift": 10,
           "y": 2.5170050471979036e-08,
           "z": 3.3954266296755776e-08
          },
          {
           "opacity": 0.7,
           "showarrow": false,
           "text": "Best Fit SSE",
           "x": -0.000148029496990225,
           "xanchor": "left",
           "xshift": 10,
           "y": -0.0002827836232936273,
           "z": 0.00031749617749389297
          },
          {
           "opacity": 0.7,
           "showarrow": false,
           "text": "Crystallization Time, Seconds",
           "x": 20116.635087954062,
           "xanchor": "left",
           "xshift": 10,
           "y": -0.0006891189616897046,
           "z": -3.5920298122555595e-05
          },
          {
           "opacity": 0.7,
           "showarrow": false,
           "text": "Crystallization Height, cm",
           "x": 0.21946625572846865,
           "xanchor": "left",
           "xshift": 10,
           "y": 0.033621426240548154,
           "z": 0.022399387149342802
          },
          {
           "opacity": 0.7,
           "showarrow": false,
           "text": "Antisolvent Concentration, Mols/L",
           "x": 3.732336524016674,
           "xanchor": "left",
           "xshift": 10,
           "y": 3.5932118246211813,
           "z": -0.04555329000351525
          },
          {
           "opacity": 0.7,
           "showarrow": false,
           "text": "Solvent Concentration, Mols/L",
           "x": -1.5092506857239785,
           "xanchor": "left",
           "xshift": 10,
           "y": -0.2787599431340927,
           "z": -0.5559816512225311
          },
          {
           "opacity": 0.7,
           "showarrow": false,
           "text": "FAH Concentration, Mols/L",
           "x": -0.34924604096854456,
           "xanchor": "left",
           "xshift": 10,
           "y": -0.06164744956239918,
           "z": -0.11684593397330205
          },
          {
           "opacity": 0.7,
           "showarrow": false,
           "text": "Inorganic Concentration, Mols/L",
           "x": -0.08346665633480593,
           "xanchor": "left",
           "xshift": 10,
           "y": -0.00745259506282077,
           "z": -0.02373283264082984
          },
          {
           "opacity": 0.7,
           "showarrow": false,
           "text": "Organic Concentration, Mols/L",
           "x": -0.12118464442186687,
           "xanchor": "left",
           "xshift": 10,
           "y": -0.011794698434988444,
           "z": -0.047822120224044216
          }
         ]
        },
        "template": {
         "data": {
          "bar": [
           {
            "error_x": {
             "color": "#2a3f5f"
            },
            "error_y": {
             "color": "#2a3f5f"
            },
            "marker": {
             "line": {
              "color": "#E5ECF6",
              "width": 0.5
             }
            },
            "type": "bar"
           }
          ],
          "barpolar": [
           {
            "marker": {
             "line": {
              "color": "#E5ECF6",
              "width": 0.5
             }
            },
            "type": "barpolar"
           }
          ],
          "carpet": [
           {
            "aaxis": {
             "endlinecolor": "#2a3f5f",
             "gridcolor": "white",
             "linecolor": "white",
             "minorgridcolor": "white",
             "startlinecolor": "#2a3f5f"
            },
            "baxis": {
             "endlinecolor": "#2a3f5f",
             "gridcolor": "white",
             "linecolor": "white",
             "minorgridcolor": "white",
             "startlinecolor": "#2a3f5f"
            },
            "type": "carpet"
           }
          ],
          "choropleth": [
           {
            "colorbar": {
             "outlinewidth": 0,
             "ticks": ""
            },
            "type": "choropleth"
           }
          ],
          "contour": [
           {
            "colorbar": {
             "outlinewidth": 0,
             "ticks": ""
            },
            "colorscale": [
             [
              0,
              "#0d0887"
             ],
             [
              0.1111111111111111,
              "#46039f"
             ],
             [
              0.2222222222222222,
              "#7201a8"
             ],
             [
              0.3333333333333333,
              "#9c179e"
             ],
             [
              0.4444444444444444,
              "#bd3786"
             ],
             [
              0.5555555555555556,
              "#d8576b"
             ],
             [
              0.6666666666666666,
              "#ed7953"
             ],
             [
              0.7777777777777778,
              "#fb9f3a"
             ],
             [
              0.8888888888888888,
              "#fdca26"
             ],
             [
              1,
              "#f0f921"
             ]
            ],
            "type": "contour"
           }
          ],
          "contourcarpet": [
           {
            "colorbar": {
             "outlinewidth": 0,
             "ticks": ""
            },
            "type": "contourcarpet"
           }
          ],
          "heatmap": [
           {
            "colorbar": {
             "outlinewidth": 0,
             "ticks": ""
            },
            "colorscale": [
             [
              0,
              "#0d0887"
             ],
             [
              0.1111111111111111,
              "#46039f"
             ],
             [
              0.2222222222222222,
              "#7201a8"
             ],
             [
              0.3333333333333333,
              "#9c179e"
             ],
             [
              0.4444444444444444,
              "#bd3786"
             ],
             [
              0.5555555555555556,
              "#d8576b"
             ],
             [
              0.6666666666666666,
              "#ed7953"
             ],
             [
              0.7777777777777778,
              "#fb9f3a"
             ],
             [
              0.8888888888888888,
              "#fdca26"
             ],
             [
              1,
              "#f0f921"
             ]
            ],
            "type": "heatmap"
           }
          ],
          "heatmapgl": [
           {
            "colorbar": {
             "outlinewidth": 0,
             "ticks": ""
            },
            "colorscale": [
             [
              0,
              "#0d0887"
             ],
             [
              0.1111111111111111,
              "#46039f"
             ],
             [
              0.2222222222222222,
              "#7201a8"
             ],
             [
              0.3333333333333333,
              "#9c179e"
             ],
             [
              0.4444444444444444,
              "#bd3786"
             ],
             [
              0.5555555555555556,
              "#d8576b"
             ],
             [
              0.6666666666666666,
              "#ed7953"
             ],
             [
              0.7777777777777778,
              "#fb9f3a"
             ],
             [
              0.8888888888888888,
              "#fdca26"
             ],
             [
              1,
              "#f0f921"
             ]
            ],
            "type": "heatmapgl"
           }
          ],
          "histogram": [
           {
            "marker": {
             "colorbar": {
              "outlinewidth": 0,
              "ticks": ""
             }
            },
            "type": "histogram"
           }
          ],
          "histogram2d": [
           {
            "colorbar": {
             "outlinewidth": 0,
             "ticks": ""
            },
            "colorscale": [
             [
              0,
              "#0d0887"
             ],
             [
              0.1111111111111111,
              "#46039f"
             ],
             [
              0.2222222222222222,
              "#7201a8"
             ],
             [
              0.3333333333333333,
              "#9c179e"
             ],
             [
              0.4444444444444444,
              "#bd3786"
             ],
             [
              0.5555555555555556,
              "#d8576b"
             ],
             [
              0.6666666666666666,
              "#ed7953"
             ],
             [
              0.7777777777777778,
              "#fb9f3a"
             ],
             [
              0.8888888888888888,
              "#fdca26"
             ],
             [
              1,
              "#f0f921"
             ]
            ],
            "type": "histogram2d"
           }
          ],
          "histogram2dcontour": [
           {
            "colorbar": {
             "outlinewidth": 0,
             "ticks": ""
            },
            "colorscale": [
             [
              0,
              "#0d0887"
             ],
             [
              0.1111111111111111,
              "#46039f"
             ],
             [
              0.2222222222222222,
              "#7201a8"
             ],
             [
              0.3333333333333333,
              "#9c179e"
             ],
             [
              0.4444444444444444,
              "#bd3786"
             ],
             [
              0.5555555555555556,
              "#d8576b"
             ],
             [
              0.6666666666666666,
              "#ed7953"
             ],
             [
              0.7777777777777778,
              "#fb9f3a"
             ],
             [
              0.8888888888888888,
              "#fdca26"
             ],
             [
              1,
              "#f0f921"
             ]
            ],
            "type": "histogram2dcontour"
           }
          ],
          "mesh3d": [
           {
            "colorbar": {
             "outlinewidth": 0,
             "ticks": ""
            },
            "type": "mesh3d"
           }
          ],
          "parcoords": [
           {
            "line": {
             "colorbar": {
              "outlinewidth": 0,
              "ticks": ""
             }
            },
            "type": "parcoords"
           }
          ],
          "pie": [
           {
            "automargin": true,
            "type": "pie"
           }
          ],
          "scatter": [
           {
            "marker": {
             "colorbar": {
              "outlinewidth": 0,
              "ticks": ""
             }
            },
            "type": "scatter"
           }
          ],
          "scatter3d": [
           {
            "line": {
             "colorbar": {
              "outlinewidth": 0,
              "ticks": ""
             }
            },
            "marker": {
             "colorbar": {
              "outlinewidth": 0,
              "ticks": ""
             }
            },
            "type": "scatter3d"
           }
          ],
          "scattercarpet": [
           {
            "marker": {
             "colorbar": {
              "outlinewidth": 0,
              "ticks": ""
             }
            },
            "type": "scattercarpet"
           }
          ],
          "scattergeo": [
           {
            "marker": {
             "colorbar": {
              "outlinewidth": 0,
              "ticks": ""
             }
            },
            "type": "scattergeo"
           }
          ],
          "scattergl": [
           {
            "marker": {
             "colorbar": {
              "outlinewidth": 0,
              "ticks": ""
             }
            },
            "type": "scattergl"
           }
          ],
          "scattermapbox": [
           {
            "marker": {
             "colorbar": {
              "outlinewidth": 0,
              "ticks": ""
             }
            },
            "type": "scattermapbox"
           }
          ],
          "scatterpolar": [
           {
            "marker": {
             "colorbar": {
              "outlinewidth": 0,
              "ticks": ""
             }
            },
            "type": "scatterpolar"
           }
          ],
          "scatterpolargl": [
           {
            "marker": {
             "colorbar": {
              "outlinewidth": 0,
              "ticks": ""
             }
            },
            "type": "scatterpolargl"
           }
          ],
          "scatterternary": [
           {
            "marker": {
             "colorbar": {
              "outlinewidth": 0,
              "ticks": ""
             }
            },
            "type": "scatterternary"
           }
          ],
          "surface": [
           {
            "colorbar": {
             "outlinewidth": 0,
             "ticks": ""
            },
            "colorscale": [
             [
              0,
              "#0d0887"
             ],
             [
              0.1111111111111111,
              "#46039f"
             ],
             [
              0.2222222222222222,
              "#7201a8"
             ],
             [
              0.3333333333333333,
              "#9c179e"
             ],
             [
              0.4444444444444444,
              "#bd3786"
             ],
             [
              0.5555555555555556,
              "#d8576b"
             ],
             [
              0.6666666666666666,
              "#ed7953"
             ],
             [
              0.7777777777777778,
              "#fb9f3a"
             ],
             [
              0.8888888888888888,
              "#fdca26"
             ],
             [
              1,
              "#f0f921"
             ]
            ],
            "type": "surface"
           }
          ],
          "table": [
           {
            "cells": {
             "fill": {
              "color": "#EBF0F8"
             },
             "line": {
              "color": "white"
             }
            },
            "header": {
             "fill": {
              "color": "#C8D4E3"
             },
             "line": {
              "color": "white"
             }
            },
            "type": "table"
           }
          ]
         },
         "layout": {
          "annotationdefaults": {
           "arrowcolor": "#2a3f5f",
           "arrowhead": 0,
           "arrowwidth": 1
          },
          "coloraxis": {
           "colorbar": {
            "outlinewidth": 0,
            "ticks": ""
           }
          },
          "colorscale": {
           "diverging": [
            [
             0,
             "#8e0152"
            ],
            [
             0.1,
             "#c51b7d"
            ],
            [
             0.2,
             "#de77ae"
            ],
            [
             0.3,
             "#f1b6da"
            ],
            [
             0.4,
             "#fde0ef"
            ],
            [
             0.5,
             "#f7f7f7"
            ],
            [
             0.6,
             "#e6f5d0"
            ],
            [
             0.7,
             "#b8e186"
            ],
            [
             0.8,
             "#7fbc41"
            ],
            [
             0.9,
             "#4d9221"
            ],
            [
             1,
             "#276419"
            ]
           ],
           "sequential": [
            [
             0,
             "#0d0887"
            ],
            [
             0.1111111111111111,
             "#46039f"
            ],
            [
             0.2222222222222222,
             "#7201a8"
            ],
            [
             0.3333333333333333,
             "#9c179e"
            ],
            [
             0.4444444444444444,
             "#bd3786"
            ],
            [
             0.5555555555555556,
             "#d8576b"
            ],
            [
             0.6666666666666666,
             "#ed7953"
            ],
            [
             0.7777777777777778,
             "#fb9f3a"
            ],
            [
             0.8888888888888888,
             "#fdca26"
            ],
            [
             1,
             "#f0f921"
            ]
           ],
           "sequentialminus": [
            [
             0,
             "#0d0887"
            ],
            [
             0.1111111111111111,
             "#46039f"
            ],
            [
             0.2222222222222222,
             "#7201a8"
            ],
            [
             0.3333333333333333,
             "#9c179e"
            ],
            [
             0.4444444444444444,
             "#bd3786"
            ],
            [
             0.5555555555555556,
             "#d8576b"
            ],
            [
             0.6666666666666666,
             "#ed7953"
            ],
            [
             0.7777777777777778,
             "#fb9f3a"
            ],
            [
             0.8888888888888888,
             "#fdca26"
            ],
            [
             1,
             "#f0f921"
            ]
           ]
          },
          "colorway": [
           "#636efa",
           "#EF553B",
           "#00cc96",
           "#ab63fa",
           "#FFA15A",
           "#19d3f3",
           "#FF6692",
           "#B6E880",
           "#FF97FF",
           "#FECB52"
          ],
          "font": {
           "color": "#2a3f5f"
          },
          "geo": {
           "bgcolor": "white",
           "lakecolor": "white",
           "landcolor": "#E5ECF6",
           "showlakes": true,
           "showland": true,
           "subunitcolor": "white"
          },
          "hoverlabel": {
           "align": "left"
          },
          "hovermode": "closest",
          "mapbox": {
           "style": "light"
          },
          "paper_bgcolor": "white",
          "plot_bgcolor": "#E5ECF6",
          "polar": {
           "angularaxis": {
            "gridcolor": "white",
            "linecolor": "white",
            "ticks": ""
           },
           "bgcolor": "#E5ECF6",
           "radialaxis": {
            "gridcolor": "white",
            "linecolor": "white",
            "ticks": ""
           }
          },
          "scene": {
           "xaxis": {
            "backgroundcolor": "#E5ECF6",
            "gridcolor": "white",
            "gridwidth": 2,
            "linecolor": "white",
            "showbackground": true,
            "ticks": "",
            "zerolinecolor": "white"
           },
           "yaxis": {
            "backgroundcolor": "#E5ECF6",
            "gridcolor": "white",
            "gridwidth": 2,
            "linecolor": "white",
            "showbackground": true,
            "ticks": "",
            "zerolinecolor": "white"
           },
           "zaxis": {
            "backgroundcolor": "#E5ECF6",
            "gridcolor": "white",
            "gridwidth": 2,
            "linecolor": "white",
            "showbackground": true,
            "ticks": "",
            "zerolinecolor": "white"
           }
          },
          "shapedefaults": {
           "line": {
            "color": "#2a3f5f"
           }
          },
          "ternary": {
           "aaxis": {
            "gridcolor": "white",
            "linecolor": "white",
            "ticks": ""
           },
           "baxis": {
            "gridcolor": "white",
            "linecolor": "white",
            "ticks": ""
           },
           "bgcolor": "#E5ECF6",
           "caxis": {
            "gridcolor": "white",
            "linecolor": "white",
            "ticks": ""
           }
          },
          "title": {
           "x": 0.05
          },
          "xaxis": {
           "automargin": true,
           "gridcolor": "white",
           "linecolor": "white",
           "ticks": "",
           "title": {
            "standoff": 15
           },
           "zerolinecolor": "white",
           "zerolinewidth": 2
          },
          "yaxis": {
           "automargin": true,
           "gridcolor": "white",
           "linecolor": "white",
           "ticks": "",
           "title": {
            "standoff": 15
           },
           "zerolinecolor": "white",
           "zerolinewidth": 2
          }
         }
        }
       }
      },
      "text/html": [
       "<div>\n",
       "        \n",
       "        \n",
       "            <div id=\"644761d9-dab9-48a3-8854-339980315c2a\" class=\"plotly-graph-div\" style=\"height:525px; width:100%;\"></div>\n",
       "            <script type=\"text/javascript\">\n",
       "                require([\"plotly\"], function(Plotly) {\n",
       "                    window.PLOTLYENV=window.PLOTLYENV || {};\n",
       "                    \n",
       "                if (document.getElementById(\"644761d9-dab9-48a3-8854-339980315c2a\")) {\n",
       "                    Plotly.newPlot(\n",
       "                        '644761d9-dab9-48a3-8854-339980315c2a',\n",
       "                        [{\"mode\": \"markers\", \"name\": \"branch\", \"text\": [\"Solvent: DMSO Amine: NNDimethylethane12diammoniumiodide\"], \"type\": \"scatter3d\", \"x\": [-21933.81017949, -12213.809381921863, -3869.8094460437865, 149.18992440082397, 21386.19094276899, -16172.808875326607, -21213.810369744788, -764.8081234739275], \"y\": [-1.0125445343578496, 2.0141114605959727, 0.40669640623374026, -2.7286260498812016, 0.11186627582854787, 5.170881425571847, -2.013042907455655, 7.319332888132012], \"z\": [-0.2881107644136543, 0.07845227815401712, 1.2428648891426963, -0.5291108419816295, 0.19339250411534964, -0.1952235625792732, -0.49708628715274317, 0.26470896100287433]}, {\"mode\": \"markers\", \"name\": \"6-membered-ring\", \"text\": [\"Solvent: DMSO Amine: NNDimethylethane12diammoniumiodide\"], \"type\": \"scatter3d\", \"x\": [-23613.81080859162, 16586.190095186084, 10166.190213139504, 17906.191637112748, -22533.8101813237], \"y\": [-4.004533168003079, -3.711809920414465, -2.620121822816045, 4.278448874034924, -0.6574298628530539], \"z\": [-0.650042373272575, -0.11177666133516354, 0.5006062324102134, -0.3212174550342938, -1.2030074510844224]}, {\"mode\": \"markers\", \"name\": \"5-membered-ring\", \"text\": [\"Solvent: DMSO Amine: NNDimethylethane12diammoniumiodide\"], \"type\": \"scatter3d\", \"x\": [-19413.8096924734, 19046.191048368604, -23106.810755316346], \"y\": [1.0352636408255473, 1.083253350273391, -4.221506210114238], \"z\": [0.4202504964597345, -0.327437437851527, 0.6998640731211667]}, {\"mode\": \"markers\", \"name\": \"chain\", \"text\": [\"Solvent: DMSO Amine: NNDimethylethane12diammoniumiodide\"], \"type\": \"scatter3d\", \"x\": [23968.190149105023, -8493.809806282925, 36457.19029987919, 34836.19201322703, -7170.808703199012], \"y\": [-4.3122693996101145, -0.8269156626164246, -4.796235503164407, 4.566932875920917, 4.918247843869627], \"z\": [0.1945120135047896, 0.7649853441939466, 0.02049699683946062, -0.6722468198669125, 0.41512586562792964]}, {\"mode\": \"lines\", \"name\": \"PCA components\", \"type\": \"scatter3d\", \"x\": [0.0, -3.780520896342035e-09, 0.0, 3.188688603325792e-09, 0.0, -0.000148029496990225, 0.0, 20116.635087954062, 0.0, 0.21946625572846865, 0.0, 3.732336524016674, 0.0, -1.5092506857239785, 0.0, -0.34924604096854456, 0.0, -0.08346665633480593, 0.0, -0.12118464442186687], \"y\": [0.0, 5.4385390988983313e-08, 0.0, 2.5170050471979036e-08, 0.0, -0.0002827836232936273, 0.0, -0.0006891189616897046, 0.0, 0.033621426240548154, 0.0, 3.5932118246211813, 0.0, -0.2787599431340927, 0.0, -0.06164744956239918, 0.0, -0.00745259506282077, 0.0, -0.011794698434988444], \"z\": [0.0, 2.2957096603183824e-08, 0.0, 3.3954266296755776e-08, 0.0, 0.00031749617749389297, 0.0, -3.5920298122555595e-05, 0.0, 0.022399387149342802, 0.0, -0.04555329000351525, 0.0, -0.5559816512225311, 0.0, -0.11684593397330205, 0.0, -0.02373283264082984, 0.0, -0.047822120224044216]}],\n",
       "                        {\"scene\": {\"annotations\": [{\"opacity\": 0.7, \"showarrow\": false, \"text\": \"Best Kin, Mols/sec\", \"x\": -3.780520896342035e-09, \"xanchor\": \"left\", \"xshift\": 10, \"y\": 5.4385390988983313e-08, \"z\": 2.2957096603183824e-08}, {\"opacity\": 0.7, \"showarrow\": false, \"text\": \"Best Kout, Mols/sec\", \"x\": 3.188688603325792e-09, \"xanchor\": \"left\", \"xshift\": 10, \"y\": 2.5170050471979036e-08, \"z\": 3.3954266296755776e-08}, {\"opacity\": 0.7, \"showarrow\": false, \"text\": \"Best Fit SSE\", \"x\": -0.000148029496990225, \"xanchor\": \"left\", \"xshift\": 10, \"y\": -0.0002827836232936273, \"z\": 0.00031749617749389297}, {\"opacity\": 0.7, \"showarrow\": false, \"text\": \"Crystallization Time, Seconds\", \"x\": 20116.635087954062, \"xanchor\": \"left\", \"xshift\": 10, \"y\": -0.0006891189616897046, \"z\": -3.5920298122555595e-05}, {\"opacity\": 0.7, \"showarrow\": false, \"text\": \"Crystallization Height, cm\", \"x\": 0.21946625572846865, \"xanchor\": \"left\", \"xshift\": 10, \"y\": 0.033621426240548154, \"z\": 0.022399387149342802}, {\"opacity\": 0.7, \"showarrow\": false, \"text\": \"Antisolvent Concentration, Mols/L\", \"x\": 3.732336524016674, \"xanchor\": \"left\", \"xshift\": 10, \"y\": 3.5932118246211813, \"z\": -0.04555329000351525}, {\"opacity\": 0.7, \"showarrow\": false, \"text\": \"Solvent Concentration, Mols/L\", \"x\": -1.5092506857239785, \"xanchor\": \"left\", \"xshift\": 10, \"y\": -0.2787599431340927, \"z\": -0.5559816512225311}, {\"opacity\": 0.7, \"showarrow\": false, \"text\": \"FAH Concentration, Mols/L\", \"x\": -0.34924604096854456, \"xanchor\": \"left\", \"xshift\": 10, \"y\": -0.06164744956239918, \"z\": -0.11684593397330205}, {\"opacity\": 0.7, \"showarrow\": false, \"text\": \"Inorganic Concentration, Mols/L\", \"x\": -0.08346665633480593, \"xanchor\": \"left\", \"xshift\": 10, \"y\": -0.00745259506282077, \"z\": -0.02373283264082984}, {\"opacity\": 0.7, \"showarrow\": false, \"text\": \"Organic Concentration, Mols/L\", \"x\": -0.12118464442186687, \"xanchor\": \"left\", \"xshift\": 10, \"y\": -0.011794698434988444, \"z\": -0.047822120224044216}]}, \"template\": {\"data\": {\"bar\": [{\"error_x\": {\"color\": \"#2a3f5f\"}, \"error_y\": {\"color\": \"#2a3f5f\"}, \"marker\": {\"line\": {\"color\": \"#E5ECF6\", \"width\": 0.5}}, \"type\": \"bar\"}], \"barpolar\": [{\"marker\": {\"line\": {\"color\": \"#E5ECF6\", \"width\": 0.5}}, \"type\": \"barpolar\"}], \"carpet\": [{\"aaxis\": {\"endlinecolor\": \"#2a3f5f\", \"gridcolor\": \"white\", \"linecolor\": \"white\", \"minorgridcolor\": \"white\", \"startlinecolor\": \"#2a3f5f\"}, \"baxis\": {\"endlinecolor\": \"#2a3f5f\", \"gridcolor\": \"white\", \"linecolor\": \"white\", \"minorgridcolor\": \"white\", \"startlinecolor\": \"#2a3f5f\"}, \"type\": \"carpet\"}], \"choropleth\": [{\"colorbar\": {\"outlinewidth\": 0, \"ticks\": \"\"}, \"type\": \"choropleth\"}], \"contour\": [{\"colorbar\": {\"outlinewidth\": 0, \"ticks\": \"\"}, \"colorscale\": [[0.0, \"#0d0887\"], [0.1111111111111111, \"#46039f\"], [0.2222222222222222, \"#7201a8\"], [0.3333333333333333, \"#9c179e\"], [0.4444444444444444, \"#bd3786\"], [0.5555555555555556, \"#d8576b\"], [0.6666666666666666, \"#ed7953\"], [0.7777777777777778, \"#fb9f3a\"], [0.8888888888888888, \"#fdca26\"], [1.0, \"#f0f921\"]], \"type\": \"contour\"}], \"contourcarpet\": [{\"colorbar\": {\"outlinewidth\": 0, \"ticks\": \"\"}, \"type\": \"contourcarpet\"}], \"heatmap\": [{\"colorbar\": {\"outlinewidth\": 0, \"ticks\": \"\"}, \"colorscale\": [[0.0, \"#0d0887\"], [0.1111111111111111, \"#46039f\"], [0.2222222222222222, \"#7201a8\"], [0.3333333333333333, \"#9c179e\"], [0.4444444444444444, \"#bd3786\"], [0.5555555555555556, \"#d8576b\"], [0.6666666666666666, \"#ed7953\"], [0.7777777777777778, \"#fb9f3a\"], [0.8888888888888888, \"#fdca26\"], [1.0, \"#f0f921\"]], \"type\": \"heatmap\"}], \"heatmapgl\": [{\"colorbar\": {\"outlinewidth\": 0, \"ticks\": \"\"}, \"colorscale\": [[0.0, \"#0d0887\"], [0.1111111111111111, \"#46039f\"], [0.2222222222222222, \"#7201a8\"], [0.3333333333333333, \"#9c179e\"], [0.4444444444444444, \"#bd3786\"], [0.5555555555555556, \"#d8576b\"], [0.6666666666666666, \"#ed7953\"], [0.7777777777777778, \"#fb9f3a\"], [0.8888888888888888, \"#fdca26\"], [1.0, \"#f0f921\"]], \"type\": \"heatmapgl\"}], \"histogram\": [{\"marker\": {\"colorbar\": {\"outlinewidth\": 0, \"ticks\": \"\"}}, \"type\": \"histogram\"}], \"histogram2d\": [{\"colorbar\": {\"outlinewidth\": 0, \"ticks\": \"\"}, \"colorscale\": [[0.0, \"#0d0887\"], [0.1111111111111111, \"#46039f\"], [0.2222222222222222, \"#7201a8\"], [0.3333333333333333, \"#9c179e\"], [0.4444444444444444, \"#bd3786\"], [0.5555555555555556, \"#d8576b\"], [0.6666666666666666, \"#ed7953\"], [0.7777777777777778, \"#fb9f3a\"], [0.8888888888888888, \"#fdca26\"], [1.0, \"#f0f921\"]], \"type\": \"histogram2d\"}], \"histogram2dcontour\": [{\"colorbar\": {\"outlinewidth\": 0, \"ticks\": \"\"}, \"colorscale\": [[0.0, \"#0d0887\"], [0.1111111111111111, \"#46039f\"], [0.2222222222222222, \"#7201a8\"], [0.3333333333333333, \"#9c179e\"], [0.4444444444444444, \"#bd3786\"], [0.5555555555555556, \"#d8576b\"], [0.6666666666666666, \"#ed7953\"], [0.7777777777777778, \"#fb9f3a\"], [0.8888888888888888, \"#fdca26\"], [1.0, \"#f0f921\"]], \"type\": \"histogram2dcontour\"}], \"mesh3d\": [{\"colorbar\": {\"outlinewidth\": 0, \"ticks\": \"\"}, \"type\": \"mesh3d\"}], \"parcoords\": [{\"line\": {\"colorbar\": {\"outlinewidth\": 0, \"ticks\": \"\"}}, \"type\": \"parcoords\"}], \"pie\": [{\"automargin\": true, \"type\": \"pie\"}], \"scatter\": [{\"marker\": {\"colorbar\": {\"outlinewidth\": 0, \"ticks\": \"\"}}, \"type\": \"scatter\"}], \"scatter3d\": [{\"line\": {\"colorbar\": {\"outlinewidth\": 0, \"ticks\": \"\"}}, \"marker\": {\"colorbar\": {\"outlinewidth\": 0, \"ticks\": \"\"}}, \"type\": \"scatter3d\"}], \"scattercarpet\": [{\"marker\": {\"colorbar\": {\"outlinewidth\": 0, \"ticks\": \"\"}}, \"type\": \"scattercarpet\"}], \"scattergeo\": [{\"marker\": {\"colorbar\": {\"outlinewidth\": 0, \"ticks\": \"\"}}, \"type\": \"scattergeo\"}], \"scattergl\": [{\"marker\": {\"colorbar\": {\"outlinewidth\": 0, \"ticks\": \"\"}}, \"type\": \"scattergl\"}], \"scattermapbox\": [{\"marker\": {\"colorbar\": {\"outlinewidth\": 0, \"ticks\": \"\"}}, \"type\": \"scattermapbox\"}], \"scatterpolar\": [{\"marker\": {\"colorbar\": {\"outlinewidth\": 0, \"ticks\": \"\"}}, \"type\": \"scatterpolar\"}], \"scatterpolargl\": [{\"marker\": {\"colorbar\": {\"outlinewidth\": 0, \"ticks\": \"\"}}, \"type\": \"scatterpolargl\"}], \"scatterternary\": [{\"marker\": {\"colorbar\": {\"outlinewidth\": 0, \"ticks\": \"\"}}, \"type\": \"scatterternary\"}], \"surface\": [{\"colorbar\": {\"outlinewidth\": 0, \"ticks\": \"\"}, \"colorscale\": [[0.0, \"#0d0887\"], [0.1111111111111111, \"#46039f\"], [0.2222222222222222, \"#7201a8\"], [0.3333333333333333, \"#9c179e\"], [0.4444444444444444, \"#bd3786\"], [0.5555555555555556, \"#d8576b\"], [0.6666666666666666, \"#ed7953\"], [0.7777777777777778, \"#fb9f3a\"], [0.8888888888888888, \"#fdca26\"], [1.0, \"#f0f921\"]], \"type\": \"surface\"}], \"table\": [{\"cells\": {\"fill\": {\"color\": \"#EBF0F8\"}, \"line\": {\"color\": \"white\"}}, \"header\": {\"fill\": {\"color\": \"#C8D4E3\"}, \"line\": {\"color\": \"white\"}}, \"type\": \"table\"}]}, \"layout\": {\"annotationdefaults\": {\"arrowcolor\": \"#2a3f5f\", \"arrowhead\": 0, \"arrowwidth\": 1}, \"coloraxis\": {\"colorbar\": {\"outlinewidth\": 0, \"ticks\": \"\"}}, \"colorscale\": {\"diverging\": [[0, \"#8e0152\"], [0.1, \"#c51b7d\"], [0.2, \"#de77ae\"], [0.3, \"#f1b6da\"], [0.4, \"#fde0ef\"], [0.5, \"#f7f7f7\"], [0.6, \"#e6f5d0\"], [0.7, \"#b8e186\"], [0.8, \"#7fbc41\"], [0.9, \"#4d9221\"], [1, \"#276419\"]], \"sequential\": [[0.0, \"#0d0887\"], [0.1111111111111111, \"#46039f\"], [0.2222222222222222, \"#7201a8\"], [0.3333333333333333, \"#9c179e\"], [0.4444444444444444, \"#bd3786\"], [0.5555555555555556, \"#d8576b\"], [0.6666666666666666, \"#ed7953\"], [0.7777777777777778, \"#fb9f3a\"], [0.8888888888888888, \"#fdca26\"], [1.0, \"#f0f921\"]], \"sequentialminus\": [[0.0, \"#0d0887\"], [0.1111111111111111, \"#46039f\"], [0.2222222222222222, \"#7201a8\"], [0.3333333333333333, \"#9c179e\"], [0.4444444444444444, \"#bd3786\"], [0.5555555555555556, \"#d8576b\"], [0.6666666666666666, \"#ed7953\"], [0.7777777777777778, \"#fb9f3a\"], [0.8888888888888888, \"#fdca26\"], [1.0, \"#f0f921\"]]}, \"colorway\": [\"#636efa\", \"#EF553B\", \"#00cc96\", \"#ab63fa\", \"#FFA15A\", \"#19d3f3\", \"#FF6692\", \"#B6E880\", \"#FF97FF\", \"#FECB52\"], \"font\": {\"color\": \"#2a3f5f\"}, \"geo\": {\"bgcolor\": \"white\", \"lakecolor\": \"white\", \"landcolor\": \"#E5ECF6\", \"showlakes\": true, \"showland\": true, \"subunitcolor\": \"white\"}, \"hoverlabel\": {\"align\": \"left\"}, \"hovermode\": \"closest\", \"mapbox\": {\"style\": \"light\"}, \"paper_bgcolor\": \"white\", \"plot_bgcolor\": \"#E5ECF6\", \"polar\": {\"angularaxis\": {\"gridcolor\": \"white\", \"linecolor\": \"white\", \"ticks\": \"\"}, \"bgcolor\": \"#E5ECF6\", \"radialaxis\": {\"gridcolor\": \"white\", \"linecolor\": \"white\", \"ticks\": \"\"}}, \"scene\": {\"xaxis\": {\"backgroundcolor\": \"#E5ECF6\", \"gridcolor\": \"white\", \"gridwidth\": 2, \"linecolor\": \"white\", \"showbackground\": true, \"ticks\": \"\", \"zerolinecolor\": \"white\"}, \"yaxis\": {\"backgroundcolor\": \"#E5ECF6\", \"gridcolor\": \"white\", \"gridwidth\": 2, \"linecolor\": \"white\", \"showbackground\": true, \"ticks\": \"\", \"zerolinecolor\": \"white\"}, \"zaxis\": {\"backgroundcolor\": \"#E5ECF6\", \"gridcolor\": \"white\", \"gridwidth\": 2, \"linecolor\": \"white\", \"showbackground\": true, \"ticks\": \"\", \"zerolinecolor\": \"white\"}}, \"shapedefaults\": {\"line\": {\"color\": \"#2a3f5f\"}}, \"ternary\": {\"aaxis\": {\"gridcolor\": \"white\", \"linecolor\": \"white\", \"ticks\": \"\"}, \"baxis\": {\"gridcolor\": \"white\", \"linecolor\": \"white\", \"ticks\": \"\"}, \"bgcolor\": \"#E5ECF6\", \"caxis\": {\"gridcolor\": \"white\", \"linecolor\": \"white\", \"ticks\": \"\"}}, \"title\": {\"x\": 0.05}, \"xaxis\": {\"automargin\": true, \"gridcolor\": \"white\", \"linecolor\": \"white\", \"ticks\": \"\", \"title\": {\"standoff\": 15}, \"zerolinecolor\": \"white\", \"zerolinewidth\": 2}, \"yaxis\": {\"automargin\": true, \"gridcolor\": \"white\", \"linecolor\": \"white\", \"ticks\": \"\", \"title\": {\"standoff\": 15}, \"zerolinecolor\": \"white\", \"zerolinewidth\": 2}}}},\n",
       "                        {\"responsive\": true}\n",
       "                    ).then(function(){\n",
       "                            \n",
       "var gd = document.getElementById('644761d9-dab9-48a3-8854-339980315c2a');\n",
       "var x = new MutationObserver(function (mutations, observer) {{\n",
       "        var display = window.getComputedStyle(gd).display;\n",
       "        if (!display || display === 'none') {{\n",
       "            console.log([gd, 'removed!']);\n",
       "            Plotly.purge(gd);\n",
       "            observer.disconnect();\n",
       "        }}\n",
       "}});\n",
       "\n",
       "// Listen for the removal of the full notebook cells\n",
       "var notebookContainer = gd.closest('#notebook-container');\n",
       "if (notebookContainer) {{\n",
       "    x.observe(notebookContainer, {childList: true});\n",
       "}}\n",
       "\n",
       "// Listen for the clearing of the current output cell\n",
       "var outputEl = gd.closest('.output');\n",
       "if (outputEl) {{\n",
       "    x.observe(outputEl, {childList: true});\n",
       "}}\n",
       "\n",
       "                        })\n",
       "                };\n",
       "                });\n",
       "            </script>\n",
       "        </div>"
      ]
     },
     "metadata": {},
     "output_type": "display_data"
    }
   ],
   "source": [
    "traces = []\n",
    "for mol_type in types:\n",
    "    amine_df = crystal_data[crystal_data['Molecule Type']==mol_type]\n",
    "    marker_text = [f\"Solvent: {row['Solvent']} Amine: {row['Amine']}\" for idx, row in solvent_df.iterrows()]\n",
    "    trace = go.Scatter3d(x=amine_df['PCA3D_X'], y=amine_df['PCA3D_Y'], z=amine_df['PCA3D_Z'], mode='markers',text=marker_text, name=mol_type)\n",
    "    traces.append(trace)\n",
    "PCA3D(loadings3d, features3d, traces)"
   ]
  },
  {
   "cell_type": "code",
   "execution_count": null,
   "metadata": {},
   "outputs": [],
   "source": []
  }
 ],
 "metadata": {
  "hide_input": false,
  "kernelspec": {
   "display_name": "Python [conda env:root] *",
   "language": "python",
   "name": "conda-root-py"
  },
  "language_info": {
   "codemirror_mode": {
    "name": "ipython",
    "version": 3
   },
   "file_extension": ".py",
   "mimetype": "text/x-python",
   "name": "python",
   "nbconvert_exporter": "python",
   "pygments_lexer": "ipython3",
   "version": "3.7.3"
  }
 },
 "nbformat": 4,
 "nbformat_minor": 4
}
