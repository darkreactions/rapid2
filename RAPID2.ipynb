{
 "cells": [
  {
   "cell_type": "markdown",
   "metadata": {},
   "source": [
    "<center><h1>RAPID 2 Interactive Data Visualization and Analysis Interface</h1></center>\n",
    "<p>\n",
    "<center><h3>Mansoor Ani Najeeb<sup>1</sup>, Rodolfo Keesey<sup>1</sup>, Margaret Zeile<sup>1</sup>, Zhi Li<sup>2</sup>, Venkateswaran Shekar<sup>3</sup>, Nicholas Leiby<sup>4</sup>, Matthias Zeller<sup>4</sup>, Emory Chan<sup>2</sup>, Joshua Schrier<sup>1,5</sup>, Alexander J. Norquist<sup>1</sup></h3></center>\n",
    "<br>\n",
    "\n",
    "1. Department of Chemistry, Haverford College, 370 Lancaster Avenue, Haverford, Pennsylvania 19041, USA\n",
    "2. Molecular Foundry, Lawrence Berkeley National Laboratory, 1 Cyclotron Road, Berkeley, California 94720, USA\n",
    "3. Department of Computer Science, Haverford College, 370 Lancaster Avenue, Haverford, Pennsylvania 19041, USA\n",
    "4. Two Six Technologies, 901 N. Stuart Street, Arlington, Virginia, 22203, USA\n",
    "4. Department of Chemistry, Purdue University, West Lafayette IN 47907, USA\n",
    "5. Department of Chemistry, Fordham University, 441 E. Fordham Road, The Bronx, New York, 10458, USA"
   ]
  },
  {
   "cell_type": "markdown",
   "metadata": {},
   "source": [
    "# Visualization\n",
    "\n",
    "If accessing this jupyter notebook via mybinder.org, please wait for the notebook to load completely, it may take around 10-20 minutes for mybinder to load.\n",
    "\n",
    "1) To display visualizations click on the \"Cell\" menu above and click on \"Run All\". \n",
    "\n",
    "2) It may take a few minutes on an average for the cells to process. If not, refresh the page and try Step 1 again\n"
   ]
  },
  {
   "cell_type": "code",
   "execution_count": 31,
   "metadata": {
    "scrolled": true
   },
   "outputs": [
    {
     "data": {
      "text/html": [
       "<style>.container { width:100% !important; }</style>"
      ],
      "text/plain": [
       "<IPython.core.display.HTML object>"
      ]
     },
     "metadata": {},
     "output_type": "display_data"
    },
    {
     "name": "stdout",
     "output_type": "stream",
     "text": [
      "The autoreload extension is already loaded. To reload it, use:\n",
      "  %reload_ext autoreload\n"
     ]
    }
   ],
   "source": [
    "import plotly.graph_objects as go\n",
    "import pandas as pd\n",
    "import src.plots as plots\n",
    "import src.cif_plots as cif_plots\n",
    "from IPython.core.display import display, HTML\n",
    "display(HTML(\"<style>.container { width:100% !important; }</style>\"))\n",
    "%load_ext autoreload\n",
    "%autoreload 2"
   ]
  },
  {
   "cell_type": "markdown",
   "metadata": {},
   "source": [
    "# Solvent Type vs. Antisolvent concentration"
   ]
  },
  {
   "cell_type": "code",
   "execution_count": 10,
   "metadata": {},
   "outputs": [
    {
     "data": {
      "application/vnd.plotly.v1+json": {
       "config": {
        "plotlyServerURL": "https://plot.ly"
       },
       "data": [
        {
         "customdata": [
          [
           4.24774449
          ],
          [
           3.044163276
          ],
          [
           4.277007327
          ]
         ],
         "hovertemplate": "Amine=aep<br>Solvent Type=%{x}<br>Antisolvent [M]=%{y}<br>Solvent [M]=%{customdata[0]}<extra></extra>",
         "legendgroup": "aep",
         "marker": {
          "color": "#636efa",
          "size": [
           4.24774449,
           3.044163276,
           4.277007327
          ],
          "sizemode": "area",
          "sizeref": 0.0139012100625,
          "symbol": "circle"
         },
         "mode": "markers",
         "name": "aep",
         "orientation": "v",
         "showlegend": true,
         "type": "scatter",
         "x": [
          "DMF",
          "DMF:DMSO",
          "GBL:DMF"
         ],
         "xaxis": "x",
         "y": [
          8.777488113,
          11.01630811,
          8.881591674
         ],
         "yaxis": "y"
        },
        {
         "customdata": [
          [
           5.06456
          ]
         ],
         "hovertemplate": "Amine=chma<br>Solvent Type=%{x}<br>Antisolvent [M]=%{y}<br>Solvent [M]=%{customdata[0]}<extra></extra>",
         "legendgroup": "chma",
         "marker": {
          "color": "#EF553B",
          "size": [
           5.06456
          ],
          "sizemode": "area",
          "sizeref": 0.0139012100625,
          "symbol": "circle"
         },
         "mode": "markers",
         "name": "chma",
         "orientation": "v",
         "showlegend": true,
         "type": "scatter",
         "x": [
          "GBL"
         ],
         "xaxis": "x",
         "y": [
          7.590674351
         ],
         "yaxis": "y"
        },
        {
         "customdata": [
          [
           5.042906073
          ],
          [
           5.206428266
          ]
         ],
         "hovertemplate": "Amine=acet<br>Solvent Type=%{x}<br>Antisolvent [M]=%{y}<br>Solvent [M]=%{customdata[0]}<extra></extra>",
         "legendgroup": "acet",
         "marker": {
          "color": "#00cc96",
          "size": [
           5.042906073,
           5.206428266
          ],
          "sizemode": "area",
          "sizeref": 0.0139012100625,
          "symbol": "circle"
         },
         "mode": "markers",
         "name": "acet",
         "orientation": "v",
         "showlegend": true,
         "type": "scatter",
         "x": [
          "GBL",
          "GBL:DMF"
         ],
         "xaxis": "x",
         "y": [
          8.147847854,
          7.857412384
         ],
         "yaxis": "y"
        },
        {
         "customdata": [
          [
           4.143108499
          ]
         ],
         "hovertemplate": "Amine=ea<br>Solvent Type=%{x}<br>Antisolvent [M]=%{y}<br>Solvent [M]=%{customdata[0]}<extra></extra>",
         "legendgroup": "ea",
         "marker": {
          "color": "#ab63fa",
          "size": [
           4.143108499
          ],
          "sizemode": "area",
          "sizeref": 0.0139012100625,
          "symbol": "circle"
         },
         "mode": "markers",
         "name": "ea",
         "orientation": "v",
         "showlegend": true,
         "type": "scatter",
         "x": [
          "GBL"
         ],
         "xaxis": "x",
         "y": [
          9.487251328
         ],
         "yaxis": "y"
        },
        {
         "customdata": [
          [
           4.935148912
          ],
          [
           2.948271546
          ],
          [
           0.49985046
          ]
         ],
         "hovertemplate": "Amine=ma<br>Solvent Type=%{x}<br>Antisolvent [M]=%{y}<br>Solvent [M]=%{customdata[0]}<extra></extra>",
         "legendgroup": "ma",
         "marker": {
          "color": "#FFA15A",
          "size": [
           4.935148912,
           2.948271546,
           0.49985046
          ],
          "sizemode": "area",
          "sizeref": 0.0139012100625,
          "symbol": "circle"
         },
         "mode": "markers",
         "name": "ma",
         "orientation": "v",
         "showlegend": true,
         "type": "scatter",
         "x": [
          "GBL",
          "DMF",
          "GBL:DMF"
         ],
         "xaxis": "x",
         "y": [
          8.402139959,
          11.31681991,
          14.9139324
         ],
         "yaxis": "y"
        },
        {
         "customdata": [
          [
           4.219133709
          ]
         ],
         "hovertemplate": "Amine=phenea<br>Solvent Type=%{x}<br>Antisolvent [M]=%{y}<br>Solvent [M]=%{customdata[0]}<extra></extra>",
         "legendgroup": "phenea",
         "marker": {
          "color": "#19d3f3",
          "size": [
           4.219133709
          ],
          "sizemode": "area",
          "sizeref": 0.0139012100625,
          "symbol": "circle"
         },
         "mode": "markers",
         "name": "phenea",
         "orientation": "v",
         "showlegend": true,
         "type": "scatter",
         "x": [
          "GBL"
         ],
         "xaxis": "x",
         "y": [
          8.987453145
         ],
         "yaxis": "y"
        },
        {
         "customdata": [
          [
           3.384686106
          ]
         ],
         "hovertemplate": "Amine=1,3-dap<br>Solvent Type=%{x}<br>Antisolvent [M]=%{y}<br>Solvent [M]=%{customdata[0]}<extra></extra>",
         "legendgroup": "1,3-dap",
         "marker": {
          "color": "#FF6692",
          "size": [
           3.384686106
          ],
          "sizemode": "area",
          "sizeref": 0.0139012100625,
          "symbol": "circle"
         },
         "mode": "markers",
         "name": "1,3-dap",
         "orientation": "v",
         "showlegend": true,
         "type": "scatter",
         "x": [
          "GBL:DMF"
         ],
         "xaxis": "x",
         "y": [
          10.25232549
         ],
         "yaxis": "y"
        },
        {
         "customdata": [
          [
           3.817136269
          ],
          [
           5.446682821
          ],
          [
           2.576180488
          ],
          [
           4.307388959
          ]
         ],
         "hovertemplate": "Amine=dmed<br>Solvent Type=%{x}<br>Antisolvent [M]=%{y}<br>Solvent [M]=%{customdata[0]}<extra></extra>",
         "legendgroup": "dmed",
         "marker": {
          "color": "#B6E880",
          "size": [
           3.817136269,
           5.446682821,
           2.576180488,
           4.307388959
          ],
          "sizemode": "area",
          "sizeref": 0.0139012100625,
          "symbol": "circle"
         },
         "mode": "markers",
         "name": "dmed",
         "orientation": "v",
         "showlegend": true,
         "type": "scatter",
         "x": [
          "DMF",
          "DMSO",
          "DMF:DMSO",
          "GBL:DMF"
         ],
         "xaxis": "x",
         "y": [
          9.621356857,
          7.733626615,
          11.75330002,
          8.833802563
         ],
         "yaxis": "y"
        },
        {
         "customdata": [
          [
           4.769058704
          ],
          [
           2.550841639
          ]
         ],
         "hovertemplate": "Amine=dedap<br>Solvent Type=%{x}<br>Antisolvent [M]=%{y}<br>Solvent [M]=%{customdata[0]}<extra></extra>",
         "legendgroup": "dedap",
         "marker": {
          "color": "#FF97FF",
          "size": [
           4.769058704,
           2.550841639
          ],
          "sizemode": "area",
          "sizeref": 0.0139012100625,
          "symbol": "circle"
         },
         "mode": "markers",
         "name": "dedap",
         "orientation": "v",
         "showlegend": true,
         "type": "scatter",
         "x": [
          "GBL",
          "GBL:DMF"
         ],
         "xaxis": "x",
         "y": [
          7.719510642,
          11.40895572
         ],
         "yaxis": "y"
        },
        {
         "customdata": [
          [
           3.982920974
          ],
          [
           2.060248332
          ],
          [
           5.560484025
          ]
         ],
         "hovertemplate": "Amine=dabz<br>Solvent Type=%{x}<br>Antisolvent [M]=%{y}<br>Solvent [M]=%{customdata[0]}<extra></extra>",
         "legendgroup": "dabz",
         "marker": {
          "color": "#FECB52",
          "size": [
           3.982920974,
           2.060248332,
           5.560484025
          ],
          "sizemode": "area",
          "sizeref": 0.0139012100625,
          "symbol": "circle"
         },
         "mode": "markers",
         "name": "dabz",
         "orientation": "v",
         "showlegend": true,
         "type": "scatter",
         "x": [
          "DMF",
          "DMF:DMSO",
          "GBL:DMF"
         ],
         "xaxis": "x",
         "y": [
          9.366331181,
          12.52275107,
          6.851795951
         ],
         "yaxis": "y"
        }
       ],
       "layout": {
        "height": 600,
        "legend": {
         "itemsizing": "constant",
         "title": {
          "text": "Amine"
         },
         "tracegroupgap": 0
        },
        "margin": {
         "t": 60
        },
        "template": {
         "data": {
          "bar": [
           {
            "error_x": {
             "color": "#2a3f5f"
            },
            "error_y": {
             "color": "#2a3f5f"
            },
            "marker": {
             "line": {
              "color": "#E5ECF6",
              "width": 0.5
             },
             "pattern": {
              "fillmode": "overlay",
              "size": 10,
              "solidity": 0.2
             }
            },
            "type": "bar"
           }
          ],
          "barpolar": [
           {
            "marker": {
             "line": {
              "color": "#E5ECF6",
              "width": 0.5
             },
             "pattern": {
              "fillmode": "overlay",
              "size": 10,
              "solidity": 0.2
             }
            },
            "type": "barpolar"
           }
          ],
          "carpet": [
           {
            "aaxis": {
             "endlinecolor": "#2a3f5f",
             "gridcolor": "white",
             "linecolor": "white",
             "minorgridcolor": "white",
             "startlinecolor": "#2a3f5f"
            },
            "baxis": {
             "endlinecolor": "#2a3f5f",
             "gridcolor": "white",
             "linecolor": "white",
             "minorgridcolor": "white",
             "startlinecolor": "#2a3f5f"
            },
            "type": "carpet"
           }
          ],
          "choropleth": [
           {
            "colorbar": {
             "outlinewidth": 0,
             "ticks": ""
            },
            "type": "choropleth"
           }
          ],
          "contour": [
           {
            "colorbar": {
             "outlinewidth": 0,
             "ticks": ""
            },
            "colorscale": [
             [
              0,
              "#0d0887"
             ],
             [
              0.1111111111111111,
              "#46039f"
             ],
             [
              0.2222222222222222,
              "#7201a8"
             ],
             [
              0.3333333333333333,
              "#9c179e"
             ],
             [
              0.4444444444444444,
              "#bd3786"
             ],
             [
              0.5555555555555556,
              "#d8576b"
             ],
             [
              0.6666666666666666,
              "#ed7953"
             ],
             [
              0.7777777777777778,
              "#fb9f3a"
             ],
             [
              0.8888888888888888,
              "#fdca26"
             ],
             [
              1,
              "#f0f921"
             ]
            ],
            "type": "contour"
           }
          ],
          "contourcarpet": [
           {
            "colorbar": {
             "outlinewidth": 0,
             "ticks": ""
            },
            "type": "contourcarpet"
           }
          ],
          "heatmap": [
           {
            "colorbar": {
             "outlinewidth": 0,
             "ticks": ""
            },
            "colorscale": [
             [
              0,
              "#0d0887"
             ],
             [
              0.1111111111111111,
              "#46039f"
             ],
             [
              0.2222222222222222,
              "#7201a8"
             ],
             [
              0.3333333333333333,
              "#9c179e"
             ],
             [
              0.4444444444444444,
              "#bd3786"
             ],
             [
              0.5555555555555556,
              "#d8576b"
             ],
             [
              0.6666666666666666,
              "#ed7953"
             ],
             [
              0.7777777777777778,
              "#fb9f3a"
             ],
             [
              0.8888888888888888,
              "#fdca26"
             ],
             [
              1,
              "#f0f921"
             ]
            ],
            "type": "heatmap"
           }
          ],
          "heatmapgl": [
           {
            "colorbar": {
             "outlinewidth": 0,
             "ticks": ""
            },
            "colorscale": [
             [
              0,
              "#0d0887"
             ],
             [
              0.1111111111111111,
              "#46039f"
             ],
             [
              0.2222222222222222,
              "#7201a8"
             ],
             [
              0.3333333333333333,
              "#9c179e"
             ],
             [
              0.4444444444444444,
              "#bd3786"
             ],
             [
              0.5555555555555556,
              "#d8576b"
             ],
             [
              0.6666666666666666,
              "#ed7953"
             ],
             [
              0.7777777777777778,
              "#fb9f3a"
             ],
             [
              0.8888888888888888,
              "#fdca26"
             ],
             [
              1,
              "#f0f921"
             ]
            ],
            "type": "heatmapgl"
           }
          ],
          "histogram": [
           {
            "marker": {
             "pattern": {
              "fillmode": "overlay",
              "size": 10,
              "solidity": 0.2
             }
            },
            "type": "histogram"
           }
          ],
          "histogram2d": [
           {
            "colorbar": {
             "outlinewidth": 0,
             "ticks": ""
            },
            "colorscale": [
             [
              0,
              "#0d0887"
             ],
             [
              0.1111111111111111,
              "#46039f"
             ],
             [
              0.2222222222222222,
              "#7201a8"
             ],
             [
              0.3333333333333333,
              "#9c179e"
             ],
             [
              0.4444444444444444,
              "#bd3786"
             ],
             [
              0.5555555555555556,
              "#d8576b"
             ],
             [
              0.6666666666666666,
              "#ed7953"
             ],
             [
              0.7777777777777778,
              "#fb9f3a"
             ],
             [
              0.8888888888888888,
              "#fdca26"
             ],
             [
              1,
              "#f0f921"
             ]
            ],
            "type": "histogram2d"
           }
          ],
          "histogram2dcontour": [
           {
            "colorbar": {
             "outlinewidth": 0,
             "ticks": ""
            },
            "colorscale": [
             [
              0,
              "#0d0887"
             ],
             [
              0.1111111111111111,
              "#46039f"
             ],
             [
              0.2222222222222222,
              "#7201a8"
             ],
             [
              0.3333333333333333,
              "#9c179e"
             ],
             [
              0.4444444444444444,
              "#bd3786"
             ],
             [
              0.5555555555555556,
              "#d8576b"
             ],
             [
              0.6666666666666666,
              "#ed7953"
             ],
             [
              0.7777777777777778,
              "#fb9f3a"
             ],
             [
              0.8888888888888888,
              "#fdca26"
             ],
             [
              1,
              "#f0f921"
             ]
            ],
            "type": "histogram2dcontour"
           }
          ],
          "mesh3d": [
           {
            "colorbar": {
             "outlinewidth": 0,
             "ticks": ""
            },
            "type": "mesh3d"
           }
          ],
          "parcoords": [
           {
            "line": {
             "colorbar": {
              "outlinewidth": 0,
              "ticks": ""
             }
            },
            "type": "parcoords"
           }
          ],
          "pie": [
           {
            "automargin": true,
            "type": "pie"
           }
          ],
          "scatter": [
           {
            "marker": {
             "colorbar": {
              "outlinewidth": 0,
              "ticks": ""
             }
            },
            "type": "scatter"
           }
          ],
          "scatter3d": [
           {
            "line": {
             "colorbar": {
              "outlinewidth": 0,
              "ticks": ""
             }
            },
            "marker": {
             "colorbar": {
              "outlinewidth": 0,
              "ticks": ""
             }
            },
            "type": "scatter3d"
           }
          ],
          "scattercarpet": [
           {
            "marker": {
             "colorbar": {
              "outlinewidth": 0,
              "ticks": ""
             }
            },
            "type": "scattercarpet"
           }
          ],
          "scattergeo": [
           {
            "marker": {
             "colorbar": {
              "outlinewidth": 0,
              "ticks": ""
             }
            },
            "type": "scattergeo"
           }
          ],
          "scattergl": [
           {
            "marker": {
             "colorbar": {
              "outlinewidth": 0,
              "ticks": ""
             }
            },
            "type": "scattergl"
           }
          ],
          "scattermapbox": [
           {
            "marker": {
             "colorbar": {
              "outlinewidth": 0,
              "ticks": ""
             }
            },
            "type": "scattermapbox"
           }
          ],
          "scatterpolar": [
           {
            "marker": {
             "colorbar": {
              "outlinewidth": 0,
              "ticks": ""
             }
            },
            "type": "scatterpolar"
           }
          ],
          "scatterpolargl": [
           {
            "marker": {
             "colorbar": {
              "outlinewidth": 0,
              "ticks": ""
             }
            },
            "type": "scatterpolargl"
           }
          ],
          "scatterternary": [
           {
            "marker": {
             "colorbar": {
              "outlinewidth": 0,
              "ticks": ""
             }
            },
            "type": "scatterternary"
           }
          ],
          "surface": [
           {
            "colorbar": {
             "outlinewidth": 0,
             "ticks": ""
            },
            "colorscale": [
             [
              0,
              "#0d0887"
             ],
             [
              0.1111111111111111,
              "#46039f"
             ],
             [
              0.2222222222222222,
              "#7201a8"
             ],
             [
              0.3333333333333333,
              "#9c179e"
             ],
             [
              0.4444444444444444,
              "#bd3786"
             ],
             [
              0.5555555555555556,
              "#d8576b"
             ],
             [
              0.6666666666666666,
              "#ed7953"
             ],
             [
              0.7777777777777778,
              "#fb9f3a"
             ],
             [
              0.8888888888888888,
              "#fdca26"
             ],
             [
              1,
              "#f0f921"
             ]
            ],
            "type": "surface"
           }
          ],
          "table": [
           {
            "cells": {
             "fill": {
              "color": "#EBF0F8"
             },
             "line": {
              "color": "white"
             }
            },
            "header": {
             "fill": {
              "color": "#C8D4E3"
             },
             "line": {
              "color": "white"
             }
            },
            "type": "table"
           }
          ]
         },
         "layout": {
          "annotationdefaults": {
           "arrowcolor": "#2a3f5f",
           "arrowhead": 0,
           "arrowwidth": 1
          },
          "autotypenumbers": "strict",
          "coloraxis": {
           "colorbar": {
            "outlinewidth": 0,
            "ticks": ""
           }
          },
          "colorscale": {
           "diverging": [
            [
             0,
             "#8e0152"
            ],
            [
             0.1,
             "#c51b7d"
            ],
            [
             0.2,
             "#de77ae"
            ],
            [
             0.3,
             "#f1b6da"
            ],
            [
             0.4,
             "#fde0ef"
            ],
            [
             0.5,
             "#f7f7f7"
            ],
            [
             0.6,
             "#e6f5d0"
            ],
            [
             0.7,
             "#b8e186"
            ],
            [
             0.8,
             "#7fbc41"
            ],
            [
             0.9,
             "#4d9221"
            ],
            [
             1,
             "#276419"
            ]
           ],
           "sequential": [
            [
             0,
             "#0d0887"
            ],
            [
             0.1111111111111111,
             "#46039f"
            ],
            [
             0.2222222222222222,
             "#7201a8"
            ],
            [
             0.3333333333333333,
             "#9c179e"
            ],
            [
             0.4444444444444444,
             "#bd3786"
            ],
            [
             0.5555555555555556,
             "#d8576b"
            ],
            [
             0.6666666666666666,
             "#ed7953"
            ],
            [
             0.7777777777777778,
             "#fb9f3a"
            ],
            [
             0.8888888888888888,
             "#fdca26"
            ],
            [
             1,
             "#f0f921"
            ]
           ],
           "sequentialminus": [
            [
             0,
             "#0d0887"
            ],
            [
             0.1111111111111111,
             "#46039f"
            ],
            [
             0.2222222222222222,
             "#7201a8"
            ],
            [
             0.3333333333333333,
             "#9c179e"
            ],
            [
             0.4444444444444444,
             "#bd3786"
            ],
            [
             0.5555555555555556,
             "#d8576b"
            ],
            [
             0.6666666666666666,
             "#ed7953"
            ],
            [
             0.7777777777777778,
             "#fb9f3a"
            ],
            [
             0.8888888888888888,
             "#fdca26"
            ],
            [
             1,
             "#f0f921"
            ]
           ]
          },
          "colorway": [
           "#636efa",
           "#EF553B",
           "#00cc96",
           "#ab63fa",
           "#FFA15A",
           "#19d3f3",
           "#FF6692",
           "#B6E880",
           "#FF97FF",
           "#FECB52"
          ],
          "font": {
           "color": "#2a3f5f"
          },
          "geo": {
           "bgcolor": "white",
           "lakecolor": "white",
           "landcolor": "#E5ECF6",
           "showlakes": true,
           "showland": true,
           "subunitcolor": "white"
          },
          "hoverlabel": {
           "align": "left"
          },
          "hovermode": "closest",
          "mapbox": {
           "style": "light"
          },
          "paper_bgcolor": "white",
          "plot_bgcolor": "#E5ECF6",
          "polar": {
           "angularaxis": {
            "gridcolor": "white",
            "linecolor": "white",
            "ticks": ""
           },
           "bgcolor": "#E5ECF6",
           "radialaxis": {
            "gridcolor": "white",
            "linecolor": "white",
            "ticks": ""
           }
          },
          "scene": {
           "xaxis": {
            "backgroundcolor": "#E5ECF6",
            "gridcolor": "white",
            "gridwidth": 2,
            "linecolor": "white",
            "showbackground": true,
            "ticks": "",
            "zerolinecolor": "white"
           },
           "yaxis": {
            "backgroundcolor": "#E5ECF6",
            "gridcolor": "white",
            "gridwidth": 2,
            "linecolor": "white",
            "showbackground": true,
            "ticks": "",
            "zerolinecolor": "white"
           },
           "zaxis": {
            "backgroundcolor": "#E5ECF6",
            "gridcolor": "white",
            "gridwidth": 2,
            "linecolor": "white",
            "showbackground": true,
            "ticks": "",
            "zerolinecolor": "white"
           }
          },
          "shapedefaults": {
           "line": {
            "color": "#2a3f5f"
           }
          },
          "ternary": {
           "aaxis": {
            "gridcolor": "white",
            "linecolor": "white",
            "ticks": ""
           },
           "baxis": {
            "gridcolor": "white",
            "linecolor": "white",
            "ticks": ""
           },
           "bgcolor": "#E5ECF6",
           "caxis": {
            "gridcolor": "white",
            "linecolor": "white",
            "ticks": ""
           }
          },
          "title": {
           "x": 0.05
          },
          "xaxis": {
           "automargin": true,
           "gridcolor": "white",
           "linecolor": "white",
           "ticks": "",
           "title": {
            "standoff": 15
           },
           "zerolinecolor": "white",
           "zerolinewidth": 2
          },
          "yaxis": {
           "automargin": true,
           "gridcolor": "white",
           "linecolor": "white",
           "ticks": "",
           "title": {
            "standoff": 15
           },
           "zerolinecolor": "white",
           "zerolinewidth": 2
          }
         }
        },
        "width": 1000,
        "xaxis": {
         "anchor": "y",
         "domain": [
          0,
          1
         ],
         "title": {
          "text": "Solvent Type"
         }
        },
        "yaxis": {
         "anchor": "x",
         "domain": [
          0,
          1
         ],
         "title": {
          "text": "Antisolvent [M]"
         }
        }
       }
      },
      "text/html": [
       "<div>                            <div id=\"bb73e0d3-986f-4478-a241-e4565c081ada\" class=\"plotly-graph-div\" style=\"height:600px; width:1000px;\"></div>            <script type=\"text/javascript\">                require([\"plotly\"], function(Plotly) {                    window.PLOTLYENV=window.PLOTLYENV || {};                                    if (document.getElementById(\"bb73e0d3-986f-4478-a241-e4565c081ada\")) {                    Plotly.newPlot(                        \"bb73e0d3-986f-4478-a241-e4565c081ada\",                        [{\"customdata\":[[4.24774449],[3.044163276],[4.277007327]],\"hovertemplate\":\"Amine=aep<br>Solvent Type=%{x}<br>Antisolvent [M]=%{y}<br>Solvent [M]=%{customdata[0]}<extra></extra>\",\"legendgroup\":\"aep\",\"marker\":{\"color\":\"#636efa\",\"size\":[4.24774449,3.044163276,4.277007327],\"sizemode\":\"area\",\"sizeref\":0.0139012100625,\"symbol\":\"circle\"},\"mode\":\"markers\",\"name\":\"aep\",\"orientation\":\"v\",\"showlegend\":true,\"type\":\"scatter\",\"x\":[\"DMF\",\"DMF:DMSO\",\"GBL:DMF\"],\"xaxis\":\"x\",\"y\":[8.777488113,11.01630811,8.881591674],\"yaxis\":\"y\"},{\"customdata\":[[5.06456]],\"hovertemplate\":\"Amine=chma<br>Solvent Type=%{x}<br>Antisolvent [M]=%{y}<br>Solvent [M]=%{customdata[0]}<extra></extra>\",\"legendgroup\":\"chma\",\"marker\":{\"color\":\"#EF553B\",\"size\":[5.06456],\"sizemode\":\"area\",\"sizeref\":0.0139012100625,\"symbol\":\"circle\"},\"mode\":\"markers\",\"name\":\"chma\",\"orientation\":\"v\",\"showlegend\":true,\"type\":\"scatter\",\"x\":[\"GBL\"],\"xaxis\":\"x\",\"y\":[7.590674351],\"yaxis\":\"y\"},{\"customdata\":[[5.042906073],[5.206428266]],\"hovertemplate\":\"Amine=acet<br>Solvent Type=%{x}<br>Antisolvent [M]=%{y}<br>Solvent [M]=%{customdata[0]}<extra></extra>\",\"legendgroup\":\"acet\",\"marker\":{\"color\":\"#00cc96\",\"size\":[5.042906073,5.206428266],\"sizemode\":\"area\",\"sizeref\":0.0139012100625,\"symbol\":\"circle\"},\"mode\":\"markers\",\"name\":\"acet\",\"orientation\":\"v\",\"showlegend\":true,\"type\":\"scatter\",\"x\":[\"GBL\",\"GBL:DMF\"],\"xaxis\":\"x\",\"y\":[8.147847854,7.857412384],\"yaxis\":\"y\"},{\"customdata\":[[4.143108499]],\"hovertemplate\":\"Amine=ea<br>Solvent Type=%{x}<br>Antisolvent [M]=%{y}<br>Solvent [M]=%{customdata[0]}<extra></extra>\",\"legendgroup\":\"ea\",\"marker\":{\"color\":\"#ab63fa\",\"size\":[4.143108499],\"sizemode\":\"area\",\"sizeref\":0.0139012100625,\"symbol\":\"circle\"},\"mode\":\"markers\",\"name\":\"ea\",\"orientation\":\"v\",\"showlegend\":true,\"type\":\"scatter\",\"x\":[\"GBL\"],\"xaxis\":\"x\",\"y\":[9.487251328],\"yaxis\":\"y\"},{\"customdata\":[[4.935148912],[2.948271546],[0.49985046]],\"hovertemplate\":\"Amine=ma<br>Solvent Type=%{x}<br>Antisolvent [M]=%{y}<br>Solvent [M]=%{customdata[0]}<extra></extra>\",\"legendgroup\":\"ma\",\"marker\":{\"color\":\"#FFA15A\",\"size\":[4.935148912,2.948271546,0.49985046],\"sizemode\":\"area\",\"sizeref\":0.0139012100625,\"symbol\":\"circle\"},\"mode\":\"markers\",\"name\":\"ma\",\"orientation\":\"v\",\"showlegend\":true,\"type\":\"scatter\",\"x\":[\"GBL\",\"DMF\",\"GBL:DMF\"],\"xaxis\":\"x\",\"y\":[8.402139959,11.31681991,14.9139324],\"yaxis\":\"y\"},{\"customdata\":[[4.219133709]],\"hovertemplate\":\"Amine=phenea<br>Solvent Type=%{x}<br>Antisolvent [M]=%{y}<br>Solvent [M]=%{customdata[0]}<extra></extra>\",\"legendgroup\":\"phenea\",\"marker\":{\"color\":\"#19d3f3\",\"size\":[4.219133709],\"sizemode\":\"area\",\"sizeref\":0.0139012100625,\"symbol\":\"circle\"},\"mode\":\"markers\",\"name\":\"phenea\",\"orientation\":\"v\",\"showlegend\":true,\"type\":\"scatter\",\"x\":[\"GBL\"],\"xaxis\":\"x\",\"y\":[8.987453145],\"yaxis\":\"y\"},{\"customdata\":[[3.384686106]],\"hovertemplate\":\"Amine=1,3-dap<br>Solvent Type=%{x}<br>Antisolvent [M]=%{y}<br>Solvent [M]=%{customdata[0]}<extra></extra>\",\"legendgroup\":\"1,3-dap\",\"marker\":{\"color\":\"#FF6692\",\"size\":[3.384686106],\"sizemode\":\"area\",\"sizeref\":0.0139012100625,\"symbol\":\"circle\"},\"mode\":\"markers\",\"name\":\"1,3-dap\",\"orientation\":\"v\",\"showlegend\":true,\"type\":\"scatter\",\"x\":[\"GBL:DMF\"],\"xaxis\":\"x\",\"y\":[10.25232549],\"yaxis\":\"y\"},{\"customdata\":[[3.817136269],[5.446682821],[2.576180488],[4.307388959]],\"hovertemplate\":\"Amine=dmed<br>Solvent Type=%{x}<br>Antisolvent [M]=%{y}<br>Solvent [M]=%{customdata[0]}<extra></extra>\",\"legendgroup\":\"dmed\",\"marker\":{\"color\":\"#B6E880\",\"size\":[3.817136269,5.446682821,2.576180488,4.307388959],\"sizemode\":\"area\",\"sizeref\":0.0139012100625,\"symbol\":\"circle\"},\"mode\":\"markers\",\"name\":\"dmed\",\"orientation\":\"v\",\"showlegend\":true,\"type\":\"scatter\",\"x\":[\"DMF\",\"DMSO\",\"DMF:DMSO\",\"GBL:DMF\"],\"xaxis\":\"x\",\"y\":[9.621356857,7.733626615,11.75330002,8.833802563],\"yaxis\":\"y\"},{\"customdata\":[[4.769058704],[2.550841639]],\"hovertemplate\":\"Amine=dedap<br>Solvent Type=%{x}<br>Antisolvent [M]=%{y}<br>Solvent [M]=%{customdata[0]}<extra></extra>\",\"legendgroup\":\"dedap\",\"marker\":{\"color\":\"#FF97FF\",\"size\":[4.769058704,2.550841639],\"sizemode\":\"area\",\"sizeref\":0.0139012100625,\"symbol\":\"circle\"},\"mode\":\"markers\",\"name\":\"dedap\",\"orientation\":\"v\",\"showlegend\":true,\"type\":\"scatter\",\"x\":[\"GBL\",\"GBL:DMF\"],\"xaxis\":\"x\",\"y\":[7.719510642,11.40895572],\"yaxis\":\"y\"},{\"customdata\":[[3.982920974],[2.060248332],[5.560484025]],\"hovertemplate\":\"Amine=dabz<br>Solvent Type=%{x}<br>Antisolvent [M]=%{y}<br>Solvent [M]=%{customdata[0]}<extra></extra>\",\"legendgroup\":\"dabz\",\"marker\":{\"color\":\"#FECB52\",\"size\":[3.982920974,2.060248332,5.560484025],\"sizemode\":\"area\",\"sizeref\":0.0139012100625,\"symbol\":\"circle\"},\"mode\":\"markers\",\"name\":\"dabz\",\"orientation\":\"v\",\"showlegend\":true,\"type\":\"scatter\",\"x\":[\"DMF\",\"DMF:DMSO\",\"GBL:DMF\"],\"xaxis\":\"x\",\"y\":[9.366331181,12.52275107,6.851795951],\"yaxis\":\"y\"}],                        {\"height\":600,\"legend\":{\"itemsizing\":\"constant\",\"title\":{\"text\":\"Amine\"},\"tracegroupgap\":0},\"margin\":{\"t\":60},\"template\":{\"data\":{\"bar\":[{\"error_x\":{\"color\":\"#2a3f5f\"},\"error_y\":{\"color\":\"#2a3f5f\"},\"marker\":{\"line\":{\"color\":\"#E5ECF6\",\"width\":0.5},\"pattern\":{\"fillmode\":\"overlay\",\"size\":10,\"solidity\":0.2}},\"type\":\"bar\"}],\"barpolar\":[{\"marker\":{\"line\":{\"color\":\"#E5ECF6\",\"width\":0.5},\"pattern\":{\"fillmode\":\"overlay\",\"size\":10,\"solidity\":0.2}},\"type\":\"barpolar\"}],\"carpet\":[{\"aaxis\":{\"endlinecolor\":\"#2a3f5f\",\"gridcolor\":\"white\",\"linecolor\":\"white\",\"minorgridcolor\":\"white\",\"startlinecolor\":\"#2a3f5f\"},\"baxis\":{\"endlinecolor\":\"#2a3f5f\",\"gridcolor\":\"white\",\"linecolor\":\"white\",\"minorgridcolor\":\"white\",\"startlinecolor\":\"#2a3f5f\"},\"type\":\"carpet\"}],\"choropleth\":[{\"colorbar\":{\"outlinewidth\":0,\"ticks\":\"\"},\"type\":\"choropleth\"}],\"contour\":[{\"colorbar\":{\"outlinewidth\":0,\"ticks\":\"\"},\"colorscale\":[[0.0,\"#0d0887\"],[0.1111111111111111,\"#46039f\"],[0.2222222222222222,\"#7201a8\"],[0.3333333333333333,\"#9c179e\"],[0.4444444444444444,\"#bd3786\"],[0.5555555555555556,\"#d8576b\"],[0.6666666666666666,\"#ed7953\"],[0.7777777777777778,\"#fb9f3a\"],[0.8888888888888888,\"#fdca26\"],[1.0,\"#f0f921\"]],\"type\":\"contour\"}],\"contourcarpet\":[{\"colorbar\":{\"outlinewidth\":0,\"ticks\":\"\"},\"type\":\"contourcarpet\"}],\"heatmap\":[{\"colorbar\":{\"outlinewidth\":0,\"ticks\":\"\"},\"colorscale\":[[0.0,\"#0d0887\"],[0.1111111111111111,\"#46039f\"],[0.2222222222222222,\"#7201a8\"],[0.3333333333333333,\"#9c179e\"],[0.4444444444444444,\"#bd3786\"],[0.5555555555555556,\"#d8576b\"],[0.6666666666666666,\"#ed7953\"],[0.7777777777777778,\"#fb9f3a\"],[0.8888888888888888,\"#fdca26\"],[1.0,\"#f0f921\"]],\"type\":\"heatmap\"}],\"heatmapgl\":[{\"colorbar\":{\"outlinewidth\":0,\"ticks\":\"\"},\"colorscale\":[[0.0,\"#0d0887\"],[0.1111111111111111,\"#46039f\"],[0.2222222222222222,\"#7201a8\"],[0.3333333333333333,\"#9c179e\"],[0.4444444444444444,\"#bd3786\"],[0.5555555555555556,\"#d8576b\"],[0.6666666666666666,\"#ed7953\"],[0.7777777777777778,\"#fb9f3a\"],[0.8888888888888888,\"#fdca26\"],[1.0,\"#f0f921\"]],\"type\":\"heatmapgl\"}],\"histogram\":[{\"marker\":{\"pattern\":{\"fillmode\":\"overlay\",\"size\":10,\"solidity\":0.2}},\"type\":\"histogram\"}],\"histogram2d\":[{\"colorbar\":{\"outlinewidth\":0,\"ticks\":\"\"},\"colorscale\":[[0.0,\"#0d0887\"],[0.1111111111111111,\"#46039f\"],[0.2222222222222222,\"#7201a8\"],[0.3333333333333333,\"#9c179e\"],[0.4444444444444444,\"#bd3786\"],[0.5555555555555556,\"#d8576b\"],[0.6666666666666666,\"#ed7953\"],[0.7777777777777778,\"#fb9f3a\"],[0.8888888888888888,\"#fdca26\"],[1.0,\"#f0f921\"]],\"type\":\"histogram2d\"}],\"histogram2dcontour\":[{\"colorbar\":{\"outlinewidth\":0,\"ticks\":\"\"},\"colorscale\":[[0.0,\"#0d0887\"],[0.1111111111111111,\"#46039f\"],[0.2222222222222222,\"#7201a8\"],[0.3333333333333333,\"#9c179e\"],[0.4444444444444444,\"#bd3786\"],[0.5555555555555556,\"#d8576b\"],[0.6666666666666666,\"#ed7953\"],[0.7777777777777778,\"#fb9f3a\"],[0.8888888888888888,\"#fdca26\"],[1.0,\"#f0f921\"]],\"type\":\"histogram2dcontour\"}],\"mesh3d\":[{\"colorbar\":{\"outlinewidth\":0,\"ticks\":\"\"},\"type\":\"mesh3d\"}],\"parcoords\":[{\"line\":{\"colorbar\":{\"outlinewidth\":0,\"ticks\":\"\"}},\"type\":\"parcoords\"}],\"pie\":[{\"automargin\":true,\"type\":\"pie\"}],\"scatter\":[{\"marker\":{\"colorbar\":{\"outlinewidth\":0,\"ticks\":\"\"}},\"type\":\"scatter\"}],\"scatter3d\":[{\"line\":{\"colorbar\":{\"outlinewidth\":0,\"ticks\":\"\"}},\"marker\":{\"colorbar\":{\"outlinewidth\":0,\"ticks\":\"\"}},\"type\":\"scatter3d\"}],\"scattercarpet\":[{\"marker\":{\"colorbar\":{\"outlinewidth\":0,\"ticks\":\"\"}},\"type\":\"scattercarpet\"}],\"scattergeo\":[{\"marker\":{\"colorbar\":{\"outlinewidth\":0,\"ticks\":\"\"}},\"type\":\"scattergeo\"}],\"scattergl\":[{\"marker\":{\"colorbar\":{\"outlinewidth\":0,\"ticks\":\"\"}},\"type\":\"scattergl\"}],\"scattermapbox\":[{\"marker\":{\"colorbar\":{\"outlinewidth\":0,\"ticks\":\"\"}},\"type\":\"scattermapbox\"}],\"scatterpolar\":[{\"marker\":{\"colorbar\":{\"outlinewidth\":0,\"ticks\":\"\"}},\"type\":\"scatterpolar\"}],\"scatterpolargl\":[{\"marker\":{\"colorbar\":{\"outlinewidth\":0,\"ticks\":\"\"}},\"type\":\"scatterpolargl\"}],\"scatterternary\":[{\"marker\":{\"colorbar\":{\"outlinewidth\":0,\"ticks\":\"\"}},\"type\":\"scatterternary\"}],\"surface\":[{\"colorbar\":{\"outlinewidth\":0,\"ticks\":\"\"},\"colorscale\":[[0.0,\"#0d0887\"],[0.1111111111111111,\"#46039f\"],[0.2222222222222222,\"#7201a8\"],[0.3333333333333333,\"#9c179e\"],[0.4444444444444444,\"#bd3786\"],[0.5555555555555556,\"#d8576b\"],[0.6666666666666666,\"#ed7953\"],[0.7777777777777778,\"#fb9f3a\"],[0.8888888888888888,\"#fdca26\"],[1.0,\"#f0f921\"]],\"type\":\"surface\"}],\"table\":[{\"cells\":{\"fill\":{\"color\":\"#EBF0F8\"},\"line\":{\"color\":\"white\"}},\"header\":{\"fill\":{\"color\":\"#C8D4E3\"},\"line\":{\"color\":\"white\"}},\"type\":\"table\"}]},\"layout\":{\"annotationdefaults\":{\"arrowcolor\":\"#2a3f5f\",\"arrowhead\":0,\"arrowwidth\":1},\"autotypenumbers\":\"strict\",\"coloraxis\":{\"colorbar\":{\"outlinewidth\":0,\"ticks\":\"\"}},\"colorscale\":{\"diverging\":[[0,\"#8e0152\"],[0.1,\"#c51b7d\"],[0.2,\"#de77ae\"],[0.3,\"#f1b6da\"],[0.4,\"#fde0ef\"],[0.5,\"#f7f7f7\"],[0.6,\"#e6f5d0\"],[0.7,\"#b8e186\"],[0.8,\"#7fbc41\"],[0.9,\"#4d9221\"],[1,\"#276419\"]],\"sequential\":[[0.0,\"#0d0887\"],[0.1111111111111111,\"#46039f\"],[0.2222222222222222,\"#7201a8\"],[0.3333333333333333,\"#9c179e\"],[0.4444444444444444,\"#bd3786\"],[0.5555555555555556,\"#d8576b\"],[0.6666666666666666,\"#ed7953\"],[0.7777777777777778,\"#fb9f3a\"],[0.8888888888888888,\"#fdca26\"],[1.0,\"#f0f921\"]],\"sequentialminus\":[[0.0,\"#0d0887\"],[0.1111111111111111,\"#46039f\"],[0.2222222222222222,\"#7201a8\"],[0.3333333333333333,\"#9c179e\"],[0.4444444444444444,\"#bd3786\"],[0.5555555555555556,\"#d8576b\"],[0.6666666666666666,\"#ed7953\"],[0.7777777777777778,\"#fb9f3a\"],[0.8888888888888888,\"#fdca26\"],[1.0,\"#f0f921\"]]},\"colorway\":[\"#636efa\",\"#EF553B\",\"#00cc96\",\"#ab63fa\",\"#FFA15A\",\"#19d3f3\",\"#FF6692\",\"#B6E880\",\"#FF97FF\",\"#FECB52\"],\"font\":{\"color\":\"#2a3f5f\"},\"geo\":{\"bgcolor\":\"white\",\"lakecolor\":\"white\",\"landcolor\":\"#E5ECF6\",\"showlakes\":true,\"showland\":true,\"subunitcolor\":\"white\"},\"hoverlabel\":{\"align\":\"left\"},\"hovermode\":\"closest\",\"mapbox\":{\"style\":\"light\"},\"paper_bgcolor\":\"white\",\"plot_bgcolor\":\"#E5ECF6\",\"polar\":{\"angularaxis\":{\"gridcolor\":\"white\",\"linecolor\":\"white\",\"ticks\":\"\"},\"bgcolor\":\"#E5ECF6\",\"radialaxis\":{\"gridcolor\":\"white\",\"linecolor\":\"white\",\"ticks\":\"\"}},\"scene\":{\"xaxis\":{\"backgroundcolor\":\"#E5ECF6\",\"gridcolor\":\"white\",\"gridwidth\":2,\"linecolor\":\"white\",\"showbackground\":true,\"ticks\":\"\",\"zerolinecolor\":\"white\"},\"yaxis\":{\"backgroundcolor\":\"#E5ECF6\",\"gridcolor\":\"white\",\"gridwidth\":2,\"linecolor\":\"white\",\"showbackground\":true,\"ticks\":\"\",\"zerolinecolor\":\"white\"},\"zaxis\":{\"backgroundcolor\":\"#E5ECF6\",\"gridcolor\":\"white\",\"gridwidth\":2,\"linecolor\":\"white\",\"showbackground\":true,\"ticks\":\"\",\"zerolinecolor\":\"white\"}},\"shapedefaults\":{\"line\":{\"color\":\"#2a3f5f\"}},\"ternary\":{\"aaxis\":{\"gridcolor\":\"white\",\"linecolor\":\"white\",\"ticks\":\"\"},\"baxis\":{\"gridcolor\":\"white\",\"linecolor\":\"white\",\"ticks\":\"\"},\"bgcolor\":\"#E5ECF6\",\"caxis\":{\"gridcolor\":\"white\",\"linecolor\":\"white\",\"ticks\":\"\"}},\"title\":{\"x\":0.05},\"xaxis\":{\"automargin\":true,\"gridcolor\":\"white\",\"linecolor\":\"white\",\"ticks\":\"\",\"title\":{\"standoff\":15},\"zerolinecolor\":\"white\",\"zerolinewidth\":2},\"yaxis\":{\"automargin\":true,\"gridcolor\":\"white\",\"linecolor\":\"white\",\"ticks\":\"\",\"title\":{\"standoff\":15},\"zerolinecolor\":\"white\",\"zerolinewidth\":2}}},\"width\":1000,\"xaxis\":{\"anchor\":\"y\",\"domain\":[0.0,1.0],\"title\":{\"text\":\"Solvent Type\"}},\"yaxis\":{\"anchor\":\"x\",\"domain\":[0.0,1.0],\"title\":{\"text\":\"Antisolvent [M]\"}}},                        {\"responsive\": true}                    ).then(function(){\n",
       "                            \n",
       "var gd = document.getElementById('bb73e0d3-986f-4478-a241-e4565c081ada');\n",
       "var x = new MutationObserver(function (mutations, observer) {{\n",
       "        var display = window.getComputedStyle(gd).display;\n",
       "        if (!display || display === 'none') {{\n",
       "            console.log([gd, 'removed!']);\n",
       "            Plotly.purge(gd);\n",
       "            observer.disconnect();\n",
       "        }}\n",
       "}});\n",
       "\n",
       "// Listen for the removal of the full notebook cells\n",
       "var notebookContainer = gd.closest('#notebook-container');\n",
       "if (notebookContainer) {{\n",
       "    x.observe(notebookContainer, {childList: true});\n",
       "}}\n",
       "\n",
       "// Listen for the clearing of the current output cell\n",
       "var outputEl = gd.closest('.output');\n",
       "if (outputEl) {{\n",
       "    x.observe(outputEl, {childList: true});\n",
       "}}\n",
       "\n",
       "                        })                };                });            </script>        </div>"
      ]
     },
     "metadata": {},
     "output_type": "display_data"
    }
   ],
   "source": [
    "import plotly.express as px\n",
    "# temps\n",
    "data = pd.read_excel('./data/only4_diffusion_topcolmn.xlsx', engine='openpyxl')\n",
    "data = data.rename(columns={'[DCM]': 'Antisolvent [M]', '[Solvent]': 'Solvent [M]', 'Solvent': 'Solvent Type'})\n",
    "fig = px.scatter(data, x=\"Solvent Type\", y=\"Antisolvent [M]\", color=\"Amine\",\n",
    "                 size='Solvent [M]', hover_data=['Solvent [M]'], width=1000, height=600)\n",
    "fig.show()"
   ]
  },
  {
   "cell_type": "markdown",
   "metadata": {},
   "source": [
    "# Max Amine vs. Max PbI"
   ]
  },
  {
   "cell_type": "code",
   "execution_count": 24,
   "metadata": {},
   "outputs": [
    {
     "data": {
      "application/vnd.jupyter.widget-view+json": {
       "model_id": "4eb7d68870be46b5899012c4c360fa36",
       "version_major": 2,
       "version_minor": 0
      },
      "text/plain": [
       "VBox(children=(Dropdown(description='Amine: ', options=(('Methylammonium Iodide', 0), ('Ethylammonium Iodide',…"
      ]
     },
     "metadata": {},
     "output_type": "display_data"
    }
   ],
   "source": [
    "sp = plots.SolubilityPlot('./data/Solubility_Data_for_RAPID2 - mmol.csv')\n",
    "sp.plot()"
   ]
  },
  {
   "cell_type": "code",
   "execution_count": 27,
   "metadata": {},
   "outputs": [
    {
     "data": {
      "text/html": [
       "<style>\n",
       ".jupyter-widgets.widget-tab > .p-TabBar .p-TabBar-tab {\n",
       "    flex: 0 1 auto\n",
       "}\n",
       "</style>\n"
      ],
      "text/plain": [
       "<IPython.core.display.HTML object>"
      ]
     },
     "metadata": {},
     "output_type": "display_data"
    }
   ],
   "source": [
    "%%html\n",
    "<style>\n",
    ".jupyter-widgets.widget-tab > .p-TabBar .p-TabBar-tab {\n",
    "    flex: 0 1 auto\n",
    "}\n",
    "</style>\n"
   ]
  },
  {
   "cell_type": "code",
   "execution_count": 28,
   "metadata": {
    "scrolled": false
   },
   "outputs": [
    {
     "data": {
      "application/vnd.jupyter.widget-view+json": {
       "model_id": "e26cca04984a411fbfee28d71420704f",
       "version_major": 2,
       "version_minor": 0
      },
      "text/plain": [
       "VBox(children=(HBox(children=(VBox(children=(HTML(value='<b>Solvent</b>'), HTML(value='<b>GBL</b>'), HTML(valu…"
      ]
     },
     "metadata": {},
     "output_type": "display_data"
    }
   ],
   "source": [
    "ro = plots.ReactionOutcomeWidget('./data/reaction_outcome.csv')\n",
    "display(ro.render_plot())"
   ]
  },
  {
   "cell_type": "code",
   "execution_count": 30,
   "metadata": {},
   "outputs": [
    {
     "data": {
      "image/png": "[encoded data removed]",
      "text/plain": [
       "<IPython.core.display.Image object>"
      ]
     },
     "execution_count": 30,
     "metadata": {},
     "output_type": "execute_result"
    }
   ],
   "source": [
    "from IPython.display import Image\n",
    "Image(filename='./data/images/decision_tree.png')"
   ]
  },
  {
   "cell_type": "code",
   "execution_count": 36,
   "metadata": {
    "scrolled": false
   },
   "outputs": [
    {
     "data": {
      "text/html": [
       "\n",
       "                    <!doctype html>\n",
       "                    <html>\n",
       "                    <head>\n",
       "                    <meta content=\"text/html; charset=UTF-8\" http-equiv=\"content-type\">\n",
       "                    <script\n",
       "                        src=\"https://code.jquery.com/jquery-3.4.1.min.js\"\n",
       "                        integrity=\"sha256-CSXorXvZcTkaix6Yvo6HppcZGetbYMGWSFlBw8HfCJo=\"\n",
       "                        crossorigin=\"anonymous\"></script>\n",
       "\n",
       "                    <script type=\"text/javascript\" src=\"jsmol/JSmol.min.js\"></script>\n",
       "                    <style type=\"text/css\">\n",
       "                    .plot_div{\n",
       "                        display: inline;\n",
       "                        margin: 15px;\n",
       "                        float: left;\n",
       "                    }\n",
       "                    </style>\n",
       "                    \n",
       "                    <!-- CSS Style Inline: -->\n",
       "                    <style type=\"text/css\">\n",
       "                        /* Jmol Applet */\n",
       "                        /* defines height, width and orientation of the Jmol div element */\n",
       "                        #jmol_div_0{\n",
       "                            height: 600px;\n",
       "                            width:  600px;\n",
       "                            margin: 5px;\n",
       "                        }\n",
       "                    </style>\n",
       "                    <!-- calls to jQuery and Jmol (inline) -->\n",
       "                    <script type=\"text/javascript\">\n",
       "                        // Jmol readyFunction\n",
       "                        // is called when Jmol is ready\n",
       "\n",
       "                        jmol_isReady_0 = function(applet) {\n",
       "                            Jmol._getElement(applet, \"appletdiv\").style.border=\"1px solid blue\";\n",
       "                        }\n",
       "                        // initialize Jmol Applet\n",
       "                        var myJmol_0 = \"myJmol_0\";\n",
       "                        var Info_0 = {\n",
       "                            width:   \"100%\",\n",
       "                            height:  \"100%\",\n",
       "                            color:   \"#000000\", //black\n",
       "                            use:     \"HTML5\",\n",
       "                            j2sPath: \"./jsmol/j2s\", \n",
       "                            jarPath: \"./jsmol/java\",\n",
       "                            jarFile: \"JmolAppletSigned.jar\",\n",
       "                            debug:   false,\n",
       "                            readyFunction: jmol_isReady_0,\n",
       "                            script:  'load \"./data/cifs/ajn19-019.cif\" ; hide _H;',\n",
       "                            //script: 'load \":tylenol\";',\n",
       "                            allowJavaScript: true,\n",
       "                            disableJ2SLoadMonitor: true,\n",
       "                        }\n",
       "                        // jQuery ready functions\n",
       "                        // is called when page has been completely loaded\n",
       "                        $(document).ready(function() {\n",
       "                            console.log('Document is ready');\n",
       "                            \n",
       "                        } )\n",
       "                        function populate_jmol_0(){\n",
       "                            html_text = \"<center><h3>[dmedH2]3[Pb2I9][CO2H]</h3></center>\" + Jmol.getAppletHtml(myJmol_0, Info_0);\n",
       "                            html_text += Jmol.jmolButton(myJmol_0,'load \"./data/cifs/ajn19-019.cif\"  SUPERCELL {2 2 2}; hide _H;', \"Show 2x2x2 supercell\");\n",
       "                            html_text += Jmol.jmolButton(myJmol_0,'load \"./data/cifs/ajn19-019.cif\"; hide _H;', \"Reset\");\n",
       "                            // html_text += '<a href=\"/./data/cifs/ajn19-019.cif\" target=\"_blank\"><button> Download [dmedH2]3[Pb2I9][CO2H] CIF</button></a>'\n",
       "                            $(\"#jmol_div_0\").html(html_text);\n",
       "                        }\n",
       "                        var lastPrompt=0;\n",
       "                    </script>\n",
       "                    \n",
       "                    <!-- CSS Style Inline: -->\n",
       "                    <style type=\"text/css\">\n",
       "                        /* Jmol Applet */\n",
       "                        /* defines height, width and orientation of the Jmol div element */\n",
       "                        #jmol_div_1{\n",
       "                            height: 600px;\n",
       "                            width:  600px;\n",
       "                            margin: 5px;\n",
       "                        }\n",
       "                    </style>\n",
       "                    <!-- calls to jQuery and Jmol (inline) -->\n",
       "                    <script type=\"text/javascript\">\n",
       "                        // Jmol readyFunction\n",
       "                        // is called when Jmol is ready\n",
       "\n",
       "                        jmol_isReady_1 = function(applet) {\n",
       "                            Jmol._getElement(applet, \"appletdiv\").style.border=\"1px solid blue\";\n",
       "                        }\n",
       "                        // initialize Jmol Applet\n",
       "                        var myJmol_1 = \"myJmol_1\";\n",
       "                        var Info_1 = {\n",
       "                            width:   \"100%\",\n",
       "                            height:  \"100%\",\n",
       "                            color:   \"#000000\", //black\n",
       "                            use:     \"HTML5\",\n",
       "                            j2sPath: \"./jsmol/j2s\", \n",
       "                            jarPath: \"./jsmol/java\",\n",
       "                            jarFile: \"JmolAppletSigned.jar\",\n",
       "                            debug:   false,\n",
       "                            readyFunction: jmol_isReady_1,\n",
       "                            script:  'load \"./data/cifs/ajn21-003.cif\" ; hide _H;',\n",
       "                            //script: 'load \":tylenol\";',\n",
       "                            allowJavaScript: true,\n",
       "                            disableJ2SLoadMonitor: true,\n",
       "                        }\n",
       "                        // jQuery ready functions\n",
       "                        // is called when page has been completely loaded\n",
       "                        $(document).ready(function() {\n",
       "                            console.log('Document is ready');\n",
       "                            \n",
       "                        } )\n",
       "                        function populate_jmol_1(){\n",
       "                            html_text = \"<center><h3>[dmedH2]3[Pb3I12]·4DMF</h3></center>\" + Jmol.getAppletHtml(myJmol_1, Info_1);\n",
       "                            html_text += Jmol.jmolButton(myJmol_1,'load \"./data/cifs/ajn21-003.cif\"  SUPERCELL {2 2 2}; hide _H;', \"Show 2x2x2 supercell\");\n",
       "                            html_text += Jmol.jmolButton(myJmol_1,'load \"./data/cifs/ajn21-003.cif\"; hide _H;', \"Reset\");\n",
       "                            // html_text += '<a href=\"/./data/cifs/ajn21-003.cif\" target=\"_blank\"><button> Download [dmedH2]3[Pb3I12]·4DMF CIF</button></a>'\n",
       "                            $(\"#jmol_div_1\").html(html_text);\n",
       "                        }\n",
       "                        var lastPrompt=0;\n",
       "                    </script>\n",
       "                    \n",
       "                    <!-- CSS Style Inline: -->\n",
       "                    <style type=\"text/css\">\n",
       "                        /* Jmol Applet */\n",
       "                        /* defines height, width and orientation of the Jmol div element */\n",
       "                        #jmol_div_2{\n",
       "                            height: 600px;\n",
       "                            width:  600px;\n",
       "                            margin: 5px;\n",
       "                        }\n",
       "                    </style>\n",
       "                    <!-- calls to jQuery and Jmol (inline) -->\n",
       "                    <script type=\"text/javascript\">\n",
       "                        // Jmol readyFunction\n",
       "                        // is called when Jmol is ready\n",
       "\n",
       "                        jmol_isReady_2 = function(applet) {\n",
       "                            Jmol._getElement(applet, \"appletdiv\").style.border=\"1px solid blue\";\n",
       "                        }\n",
       "                        // initialize Jmol Applet\n",
       "                        var myJmol_2 = \"myJmol_2\";\n",
       "                        var Info_2 = {\n",
       "                            width:   \"100%\",\n",
       "                            height:  \"100%\",\n",
       "                            color:   \"#000000\", //black\n",
       "                            use:     \"HTML5\",\n",
       "                            j2sPath: \"./jsmol/j2s\", \n",
       "                            jarPath: \"./jsmol/java\",\n",
       "                            jarFile: \"JmolAppletSigned.jar\",\n",
       "                            debug:   false,\n",
       "                            readyFunction: jmol_isReady_2,\n",
       "                            script:  'load \"./data/cifs/ajn20-016.cif\" ; hide _H;',\n",
       "                            //script: 'load \":tylenol\";',\n",
       "                            allowJavaScript: true,\n",
       "                            disableJ2SLoadMonitor: true,\n",
       "                        }\n",
       "                        // jQuery ready functions\n",
       "                        // is called when page has been completely loaded\n",
       "                        $(document).ready(function() {\n",
       "                            console.log('Document is ready');\n",
       "                            \n",
       "                        } )\n",
       "                        function populate_jmol_2(){\n",
       "                            html_text = \"<center><h3>[dmedH2]2[Pb3I10]·2DMSO</h3></center>\" + Jmol.getAppletHtml(myJmol_2, Info_2);\n",
       "                            html_text += Jmol.jmolButton(myJmol_2,'load \"./data/cifs/ajn20-016.cif\"  SUPERCELL {2 2 2}; hide _H;', \"Show 2x2x2 supercell\");\n",
       "                            html_text += Jmol.jmolButton(myJmol_2,'load \"./data/cifs/ajn20-016.cif\"; hide _H;', \"Reset\");\n",
       "                            // html_text += '<a href=\"/./data/cifs/ajn20-016.cif\" target=\"_blank\"><button> Download [dmedH2]2[Pb3I10]·2DMSO CIF</button></a>'\n",
       "                            $(\"#jmol_div_2\").html(html_text);\n",
       "                        }\n",
       "                        var lastPrompt=0;\n",
       "                    </script>\n",
       "                    \n",
       "                    <!-- CSS Style Inline: -->\n",
       "                    <style type=\"text/css\">\n",
       "                        /* Jmol Applet */\n",
       "                        /* defines height, width and orientation of the Jmol div element */\n",
       "                        #jmol_div_3{\n",
       "                            height: 600px;\n",
       "                            width:  600px;\n",
       "                            margin: 5px;\n",
       "                        }\n",
       "                    </style>\n",
       "                    <!-- calls to jQuery and Jmol (inline) -->\n",
       "                    <script type=\"text/javascript\">\n",
       "                        // Jmol readyFunction\n",
       "                        // is called when Jmol is ready\n",
       "\n",
       "                        jmol_isReady_3 = function(applet) {\n",
       "                            Jmol._getElement(applet, \"appletdiv\").style.border=\"1px solid blue\";\n",
       "                        }\n",
       "                        // initialize Jmol Applet\n",
       "                        var myJmol_3 = \"myJmol_3\";\n",
       "                        var Info_3 = {\n",
       "                            width:   \"100%\",\n",
       "                            height:  \"100%\",\n",
       "                            color:   \"#000000\", //black\n",
       "                            use:     \"HTML5\",\n",
       "                            j2sPath: \"./jsmol/j2s\", \n",
       "                            jarPath: \"./jsmol/java\",\n",
       "                            jarFile: \"JmolAppletSigned.jar\",\n",
       "                            debug:   false,\n",
       "                            readyFunction: jmol_isReady_3,\n",
       "                            script:  'load \"./data/cifs/ajn19-018.cif\" ; hide _H;',\n",
       "                            //script: 'load \":tylenol\";',\n",
       "                            allowJavaScript: true,\n",
       "                            disableJ2SLoadMonitor: true,\n",
       "                        }\n",
       "                        // jQuery ready functions\n",
       "                        // is called when page has been completely loaded\n",
       "                        $(document).ready(function() {\n",
       "                            console.log('Document is ready');\n",
       "                            \n",
       "                        } )\n",
       "                        function populate_jmol_3(){\n",
       "                            html_text = \"<center><h3>[dedapH]2[PbI6]</h3></center>\" + Jmol.getAppletHtml(myJmol_3, Info_3);\n",
       "                            html_text += Jmol.jmolButton(myJmol_3,'load \"./data/cifs/ajn19-018.cif\"  SUPERCELL {2 2 2}; hide _H;', \"Show 2x2x2 supercell\");\n",
       "                            html_text += Jmol.jmolButton(myJmol_3,'load \"./data/cifs/ajn19-018.cif\"; hide _H;', \"Reset\");\n",
       "                            // html_text += '<a href=\"/./data/cifs/ajn19-018.cif\" target=\"_blank\"><button> Download [dedapH]2[PbI6] CIF</button></a>'\n",
       "                            $(\"#jmol_div_3\").html(html_text);\n",
       "                        }\n",
       "                        var lastPrompt=0;\n",
       "                    </script>\n",
       "                    \n",
       "                    <!-- CSS Style Inline: -->\n",
       "                    <style type=\"text/css\">\n",
       "                        /* Jmol Applet */\n",
       "                        /* defines height, width and orientation of the Jmol div element */\n",
       "                        #jmol_div_4{\n",
       "                            height: 600px;\n",
       "                            width:  600px;\n",
       "                            margin: 5px;\n",
       "                        }\n",
       "                    </style>\n",
       "                    <!-- calls to jQuery and Jmol (inline) -->\n",
       "                    <script type=\"text/javascript\">\n",
       "                        // Jmol readyFunction\n",
       "                        // is called when Jmol is ready\n",
       "\n",
       "                        jmol_isReady_4 = function(applet) {\n",
       "                            Jmol._getElement(applet, \"appletdiv\").style.border=\"1px solid blue\";\n",
       "                        }\n",
       "                        // initialize Jmol Applet\n",
       "                        var myJmol_4 = \"myJmol_4\";\n",
       "                        var Info_4 = {\n",
       "                            width:   \"100%\",\n",
       "                            height:  \"100%\",\n",
       "                            color:   \"#000000\", //black\n",
       "                            use:     \"HTML5\",\n",
       "                            j2sPath: \"./jsmol/j2s\", \n",
       "                            jarPath: \"./jsmol/java\",\n",
       "                            jarFile: \"JmolAppletSigned.jar\",\n",
       "                            debug:   false,\n",
       "                            readyFunction: jmol_isReady_4,\n",
       "                            script:  'load \"./data/cifs/ajn20-015.cif\" ; hide _H;',\n",
       "                            //script: 'load \":tylenol\";',\n",
       "                            allowJavaScript: true,\n",
       "                            disableJ2SLoadMonitor: true,\n",
       "                        }\n",
       "                        // jQuery ready functions\n",
       "                        // is called when page has been completely loaded\n",
       "                        $(document).ready(function() {\n",
       "                            console.log('Document is ready');\n",
       "                            \n",
       "                        } )\n",
       "                        function populate_jmol_4(){\n",
       "                            html_text = \"<center><h3>[dabzH2][PbI3]2·2GBL·2DMF</h3></center>\" + Jmol.getAppletHtml(myJmol_4, Info_4);\n",
       "                            html_text += Jmol.jmolButton(myJmol_4,'load \"./data/cifs/ajn20-015.cif\"  SUPERCELL {2 2 2}; hide _H;', \"Show 2x2x2 supercell\");\n",
       "                            html_text += Jmol.jmolButton(myJmol_4,'load \"./data/cifs/ajn20-015.cif\"; hide _H;', \"Reset\");\n",
       "                            // html_text += '<a href=\"/./data/cifs/ajn20-015.cif\" target=\"_blank\"><button> Download [dabzH2][PbI3]2·2GBL·2DMF CIF</button></a>'\n",
       "                            $(\"#jmol_div_4\").html(html_text);\n",
       "                        }\n",
       "                        var lastPrompt=0;\n",
       "                    </script>\n",
       "                    \n",
       "                    <!-- CSS Style Inline: -->\n",
       "                    <style type=\"text/css\">\n",
       "                        /* Jmol Applet */\n",
       "                        /* defines height, width and orientation of the Jmol div element */\n",
       "                        #jmol_div_5{\n",
       "                            height: 600px;\n",
       "                            width:  600px;\n",
       "                            margin: 5px;\n",
       "                        }\n",
       "                    </style>\n",
       "                    <!-- calls to jQuery and Jmol (inline) -->\n",
       "                    <script type=\"text/javascript\">\n",
       "                        // Jmol readyFunction\n",
       "                        // is called when Jmol is ready\n",
       "\n",
       "                        jmol_isReady_5 = function(applet) {\n",
       "                            Jmol._getElement(applet, \"appletdiv\").style.border=\"1px solid blue\";\n",
       "                        }\n",
       "                        // initialize Jmol Applet\n",
       "                        var myJmol_5 = \"myJmol_5\";\n",
       "                        var Info_5 = {\n",
       "                            width:   \"100%\",\n",
       "                            height:  \"100%\",\n",
       "                            color:   \"#000000\", //black\n",
       "                            use:     \"HTML5\",\n",
       "                            j2sPath: \"./jsmol/j2s\", \n",
       "                            jarPath: \"./jsmol/java\",\n",
       "                            jarFile: \"JmolAppletSigned.jar\",\n",
       "                            debug:   false,\n",
       "                            readyFunction: jmol_isReady_5,\n",
       "                            script:  'load \"./data/cifs/ajn21-004.cif\" ; hide _H;',\n",
       "                            //script: 'load \":tylenol\";',\n",
       "                            allowJavaScript: true,\n",
       "                            disableJ2SLoadMonitor: true,\n",
       "                        }\n",
       "                        // jQuery ready functions\n",
       "                        // is called when page has been completely loaded\n",
       "                        $(document).ready(function() {\n",
       "                            console.log('Document is ready');\n",
       "                            \n",
       "                        } )\n",
       "                        function populate_jmol_5(){\n",
       "                            html_text = \"<center><h3>[dabzH2][PbI3]2·4DMF</h3></center>\" + Jmol.getAppletHtml(myJmol_5, Info_5);\n",
       "                            html_text += Jmol.jmolButton(myJmol_5,'load \"./data/cifs/ajn21-004.cif\"  SUPERCELL {2 2 2}; hide _H;', \"Show 2x2x2 supercell\");\n",
       "                            html_text += Jmol.jmolButton(myJmol_5,'load \"./data/cifs/ajn21-004.cif\"; hide _H;', \"Reset\");\n",
       "                            // html_text += '<a href=\"/./data/cifs/ajn21-004.cif\" target=\"_blank\"><button> Download [dabzH2][PbI3]2·4DMF CIF</button></a>'\n",
       "                            $(\"#jmol_div_5\").html(html_text);\n",
       "                        }\n",
       "                        var lastPrompt=0;\n",
       "                    </script>\n",
       "                    \n",
       "                    <!-- CSS Style Inline: -->\n",
       "                    <style type=\"text/css\">\n",
       "                        /* Jmol Applet */\n",
       "                        /* defines height, width and orientation of the Jmol div element */\n",
       "                        #jmol_div_6{\n",
       "                            height: 600px;\n",
       "                            width:  600px;\n",
       "                            margin: 5px;\n",
       "                        }\n",
       "                    </style>\n",
       "                    <!-- calls to jQuery and Jmol (inline) -->\n",
       "                    <script type=\"text/javascript\">\n",
       "                        // Jmol readyFunction\n",
       "                        // is called when Jmol is ready\n",
       "\n",
       "                        jmol_isReady_6 = function(applet) {\n",
       "                            Jmol._getElement(applet, \"appletdiv\").style.border=\"1px solid blue\";\n",
       "                        }\n",
       "                        // initialize Jmol Applet\n",
       "                        var myJmol_6 = \"myJmol_6\";\n",
       "                        var Info_6 = {\n",
       "                            width:   \"100%\",\n",
       "                            height:  \"100%\",\n",
       "                            color:   \"#000000\", //black\n",
       "                            use:     \"HTML5\",\n",
       "                            j2sPath: \"./jsmol/j2s\", \n",
       "                            jarPath: \"./jsmol/java\",\n",
       "                            jarFile: \"JmolAppletSigned.jar\",\n",
       "                            debug:   false,\n",
       "                            readyFunction: jmol_isReady_6,\n",
       "                            script:  'load \"./data/cifs/ajn19-015.cif\" ; hide _H;',\n",
       "                            //script: 'load \":tylenol\";',\n",
       "                            allowJavaScript: true,\n",
       "                            disableJ2SLoadMonitor: true,\n",
       "                        }\n",
       "                        // jQuery ready functions\n",
       "                        // is called when page has been completely loaded\n",
       "                        $(document).ready(function() {\n",
       "                            console.log('Document is ready');\n",
       "                            \n",
       "                        } )\n",
       "                        function populate_jmol_6(){\n",
       "                            html_text = \"<center><h3>[dabzH2][PbI3]2·4DMSO</h3></center>\" + Jmol.getAppletHtml(myJmol_6, Info_6);\n",
       "                            html_text += Jmol.jmolButton(myJmol_6,'load \"./data/cifs/ajn19-015.cif\"  SUPERCELL {2 2 2}; hide _H;', \"Show 2x2x2 supercell\");\n",
       "                            html_text += Jmol.jmolButton(myJmol_6,'load \"./data/cifs/ajn19-015.cif\"; hide _H;', \"Reset\");\n",
       "                            // html_text += '<a href=\"/./data/cifs/ajn19-015.cif\" target=\"_blank\"><button> Download [dabzH2][PbI3]2·4DMSO CIF</button></a>'\n",
       "                            $(\"#jmol_div_6\").html(html_text);\n",
       "                        }\n",
       "                        var lastPrompt=0;\n",
       "                    </script>\n",
       "                    \n",
       "                    <!-- CSS Style Inline: -->\n",
       "                    <style type=\"text/css\">\n",
       "                        /* Jmol Applet */\n",
       "                        /* defines height, width and orientation of the Jmol div element */\n",
       "                        #jmol_div_7{\n",
       "                            height: 600px;\n",
       "                            width:  600px;\n",
       "                            margin: 5px;\n",
       "                        }\n",
       "                    </style>\n",
       "                    <!-- calls to jQuery and Jmol (inline) -->\n",
       "                    <script type=\"text/javascript\">\n",
       "                        // Jmol readyFunction\n",
       "                        // is called when Jmol is ready\n",
       "\n",
       "                        jmol_isReady_7 = function(applet) {\n",
       "                            Jmol._getElement(applet, \"appletdiv\").style.border=\"1px solid blue\";\n",
       "                        }\n",
       "                        // initialize Jmol Applet\n",
       "                        var myJmol_7 = \"myJmol_7\";\n",
       "                        var Info_7 = {\n",
       "                            width:   \"100%\",\n",
       "                            height:  \"100%\",\n",
       "                            color:   \"#000000\", //black\n",
       "                            use:     \"HTML5\",\n",
       "                            j2sPath: \"./jsmol/j2s\", \n",
       "                            jarPath: \"./jsmol/java\",\n",
       "                            jarFile: \"JmolAppletSigned.jar\",\n",
       "                            debug:   false,\n",
       "                            readyFunction: jmol_isReady_7,\n",
       "                            script:  'load \"./data/cifs/ajn19-021.cif\" ; hide _H;',\n",
       "                            //script: 'load \":tylenol\";',\n",
       "                            allowJavaScript: true,\n",
       "                            disableJ2SLoadMonitor: true,\n",
       "                        }\n",
       "                        // jQuery ready functions\n",
       "                        // is called when page has been completely loaded\n",
       "                        $(document).ready(function() {\n",
       "                            console.log('Document is ready');\n",
       "                            \n",
       "                        } )\n",
       "                        function populate_jmol_7(){\n",
       "                            html_text = \"<center><h3>[aepH2]2[Pb3I10]·2DMF</h3></center>\" + Jmol.getAppletHtml(myJmol_7, Info_7);\n",
       "                            html_text += Jmol.jmolButton(myJmol_7,'load \"./data/cifs/ajn19-021.cif\"  SUPERCELL {2 2 2}; hide _H;', \"Show 2x2x2 supercell\");\n",
       "                            html_text += Jmol.jmolButton(myJmol_7,'load \"./data/cifs/ajn19-021.cif\"; hide _H;', \"Reset\");\n",
       "                            // html_text += '<a href=\"/./data/cifs/ajn19-021.cif\" target=\"_blank\"><button> Download [aepH2]2[Pb3I10]·2DMF CIF</button></a>'\n",
       "                            $(\"#jmol_div_7\").html(html_text);\n",
       "                        }\n",
       "                        var lastPrompt=0;\n",
       "                    </script>\n",
       "                    \n",
       "                    <!-- CSS Style Inline: -->\n",
       "                    <style type=\"text/css\">\n",
       "                        /* Jmol Applet */\n",
       "                        /* defines height, width and orientation of the Jmol div element */\n",
       "                        #jmol_div_8{\n",
       "                            height: 600px;\n",
       "                            width:  600px;\n",
       "                            margin: 5px;\n",
       "                        }\n",
       "                    </style>\n",
       "                    <!-- calls to jQuery and Jmol (inline) -->\n",
       "                    <script type=\"text/javascript\">\n",
       "                        // Jmol readyFunction\n",
       "                        // is called when Jmol is ready\n",
       "\n",
       "                        jmol_isReady_8 = function(applet) {\n",
       "                            Jmol._getElement(applet, \"appletdiv\").style.border=\"1px solid blue\";\n",
       "                        }\n",
       "                        // initialize Jmol Applet\n",
       "                        var myJmol_8 = \"myJmol_8\";\n",
       "                        var Info_8 = {\n",
       "                            width:   \"100%\",\n",
       "                            height:  \"100%\",\n",
       "                            color:   \"#000000\", //black\n",
       "                            use:     \"HTML5\",\n",
       "                            j2sPath: \"./jsmol/j2s\", \n",
       "                            jarPath: \"./jsmol/java\",\n",
       "                            jarFile: \"JmolAppletSigned.jar\",\n",
       "                            debug:   false,\n",
       "                            readyFunction: jmol_isReady_8,\n",
       "                            script:  'load \"./data/cifs/ajn21-002.cif\" ; hide _H;',\n",
       "                            //script: 'load \":tylenol\";',\n",
       "                            allowJavaScript: true,\n",
       "                            disableJ2SLoadMonitor: true,\n",
       "                        }\n",
       "                        // jQuery ready functions\n",
       "                        // is called when page has been completely loaded\n",
       "                        $(document).ready(function() {\n",
       "                            console.log('Document is ready');\n",
       "                            \n",
       "                        } )\n",
       "                        function populate_jmol_8(){\n",
       "                            html_text = \"<center><h3>[aepH2]4[Pb3I12][CO2H]2·2DMSO</h3></center>\" + Jmol.getAppletHtml(myJmol_8, Info_8);\n",
       "                            html_text += Jmol.jmolButton(myJmol_8,'load \"./data/cifs/ajn21-002.cif\"  SUPERCELL {2 2 2}; hide _H;', \"Show 2x2x2 supercell\");\n",
       "                            html_text += Jmol.jmolButton(myJmol_8,'load \"./data/cifs/ajn21-002.cif\"; hide _H;', \"Reset\");\n",
       "                            // html_text += '<a href=\"/./data/cifs/ajn21-002.cif\" target=\"_blank\"><button> Download [aepH2]4[Pb3I12][CO2H]2·2DMSO CIF</button></a>'\n",
       "                            $(\"#jmol_div_8\").html(html_text);\n",
       "                        }\n",
       "                        var lastPrompt=0;\n",
       "                    </script>\n",
       "                    </head> <body>\n",
       "                        <div class='plot_div'>\n",
       "                            <div id='jmol_div_0'> \n",
       "                                <div style=\"text-align: center;\">\n",
       "                                    <button type=\"button\" onclick=populate_jmol_0()>Show Molecule</button>\n",
       "                                </div> \n",
       "                            </div>\n",
       "                        </div>\n",
       "                        \n",
       "                        <div class='plot_div'>\n",
       "                            <div id='jmol_div_1'> \n",
       "                                <div style=\"text-align: center;\">\n",
       "                                    <button type=\"button\" onclick=populate_jmol_1()>Show Molecule</button>\n",
       "                                </div> \n",
       "                            </div>\n",
       "                        </div>\n",
       "                        \n",
       "                        <div class='plot_div'>\n",
       "                            <div id='jmol_div_2'> \n",
       "                                <div style=\"text-align: center;\">\n",
       "                                    <button type=\"button\" onclick=populate_jmol_2()>Show Molecule</button>\n",
       "                                </div> \n",
       "                            </div>\n",
       "                        </div>\n",
       "                        \n",
       "                        <div class='plot_div'>\n",
       "                            <div id='jmol_div_3'> \n",
       "                                <div style=\"text-align: center;\">\n",
       "                                    <button type=\"button\" onclick=populate_jmol_3()>Show Molecule</button>\n",
       "                                </div> \n",
       "                            </div>\n",
       "                        </div>\n",
       "                        \n",
       "                        <div class='plot_div'>\n",
       "                            <div id='jmol_div_4'> \n",
       "                                <div style=\"text-align: center;\">\n",
       "                                    <button type=\"button\" onclick=populate_jmol_4()>Show Molecule</button>\n",
       "                                </div> \n",
       "                            </div>\n",
       "                        </div>\n",
       "                        \n",
       "                        <div class='plot_div'>\n",
       "                            <div id='jmol_div_5'> \n",
       "                                <div style=\"text-align: center;\">\n",
       "                                    <button type=\"button\" onclick=populate_jmol_5()>Show Molecule</button>\n",
       "                                </div> \n",
       "                            </div>\n",
       "                        </div>\n",
       "                        \n",
       "                        <div class='plot_div'>\n",
       "                            <div id='jmol_div_6'> \n",
       "                                <div style=\"text-align: center;\">\n",
       "                                    <button type=\"button\" onclick=populate_jmol_6()>Show Molecule</button>\n",
       "                                </div> \n",
       "                            </div>\n",
       "                        </div>\n",
       "                        \n",
       "                        <div class='plot_div'>\n",
       "                            <div id='jmol_div_7'> \n",
       "                                <div style=\"text-align: center;\">\n",
       "                                    <button type=\"button\" onclick=populate_jmol_7()>Show Molecule</button>\n",
       "                                </div> \n",
       "                            </div>\n",
       "                        </div>\n",
       "                        \n",
       "                        <div class='plot_div'>\n",
       "                            <div id='jmol_div_8'> \n",
       "                                <div style=\"text-align: center;\">\n",
       "                                    <button type=\"button\" onclick=populate_jmol_8()>Show Molecule</button>\n",
       "                                </div> \n",
       "                            </div>\n",
       "                        </div>\n",
       "                        </body> </html>"
      ],
      "text/plain": [
       "<IPython.core.display.HTML object>"
      ]
     },
     "execution_count": 36,
     "metadata": {},
     "output_type": "execute_result"
    }
   ],
   "source": [
    "\n",
    "cif_paths = ['./data/cifs/ajn19-019.cif','./data/cifs/ajn21-003.cif',\n",
    "             './data/cifs/ajn20-016.cif','./data/cifs/ajn19-018.cif',\n",
    "             './data/cifs/ajn20-015.cif','./data/cifs/ajn21-004.cif',\n",
    "             './data/cifs/ajn19-015.cif','./data/cifs/ajn19-021.cif','./data/cifs/ajn21-002.cif']\n",
    "fig_names = ['[dmedH2]3[Pb2I9][CO2H]','[dmedH2]3[Pb3I12]·4DMF',\n",
    "             '[dmedH2]2[Pb3I10]·2DMSO','[dedapH]2[PbI6]',\n",
    "             '[dabzH2][PbI3]2·2GBL·2DMF','[dabzH2][PbI3]2·4DMF',\n",
    "             '[dabzH2][PbI3]2·4DMSO', '[aepH2]2[Pb3I10]·2DMF','[aepH2]4[Pb3I12][CO2H]2·2DMSO',]\n",
    "#doi_values = {'AcetPbI3':'10.5517/cc1j04rf', 'CHMA2PbI4': '10.5517/ccdc.csd.cc1j88bd'}\n",
    "doi_values = {}\n",
    "fig4 = cif_plots.JsMolFigure(cif_paths, fig_names, doi_values, widget_side=600)\n",
    "fig4.plot"
   ]
  },
  {
   "cell_type": "code",
   "execution_count": null,
   "metadata": {},
   "outputs": [],
   "source": []
  },
  {
   "cell_type": "code",
   "execution_count": null,
   "metadata": {},
   "outputs": [],
   "source": []
  }
 ],
 "metadata": {
  "hide_input": false,
  "interpreter": {
   "hash": "8bb13bc6247e218731a573ba8383dce8aaa8b215df6c456035cc05f55f4de175"
  },
  "kernelspec": {
   "display_name": "nextgen",
   "language": "python",
   "name": "nextgen"
  },
  "language_info": {
   "codemirror_mode": {
    "name": "ipython",
    "version": 3
   },
   "file_extension": ".py",
   "mimetype": "text/x-python",
   "name": "python",
   "nbconvert_exporter": "python",
   "pygments_lexer": "ipython3",
   "version": "3.7.4"
  }
 },
 "nbformat": 4,
 "nbformat_minor": 2
}
