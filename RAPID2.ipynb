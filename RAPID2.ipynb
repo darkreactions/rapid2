{
 "metadata": {
  "language_info": {
   "codemirror_mode": {
    "name": "ipython",
    "version": 3
   },
   "file_extension": ".py",
   "mimetype": "text/x-python",
   "name": "python",
   "nbconvert_exporter": "python",
   "pygments_lexer": "ipython3",
   "version": "3.6.8"
  },
  "orig_nbformat": 2,
  "kernelspec": {
   "name": "python368jvsc74a57bd0102007e42dea7c281cbcddb9689e3156c625dffd0874bd635a4a6e9aca6dbbc8",
   "display_name": "Python 3.6.8 64-bit ('escalate': conda)"
  }
 },
 "nbformat": 4,
 "nbformat_minor": 2,
 "cells": [
  {
   "cell_type": "code",
   "execution_count": 1,
   "metadata": {},
   "outputs": [],
   "source": [
    "import plotly.graph_objects as go\n",
    "import pandas as pd"
   ]
  },
  {
   "cell_type": "code",
   "execution_count": 2,
   "metadata": {},
   "outputs": [],
   "source": [
    "data = pd.read_excel('./data/only4_diffusion_topcolmn.xlsx')"
   ]
  },
  {
   "cell_type": "code",
   "execution_count": 3,
   "metadata": {},
   "outputs": [
    {
     "output_type": "execute_result",
     "data": {
      "text/plain": [
       "   Connectivity Reaction ID   Solvent    Amine  \\\n",
       "0            0D    MA 333 1       DMF      aep   \n",
       "1         0D/2D    MA 333 3  DMF:DMSO      aep   \n",
       "2            2D    MA 333 4   GBL:DMF      aep   \n",
       "3            1D    MA 336 4       GBL     chma   \n",
       "4            1D    MA 350 1       GBL     acet   \n",
       "5            1D    MA 350 5   GBL:DMF     acet   \n",
       "6            1D    MA 351 1       GBL       ea   \n",
       "7            3D    MA 354 1       GBL       ma   \n",
       "8            1D    MA 354 2       DMF       ma   \n",
       "9            1D    MA 354 5   GBL:DMF       ma   \n",
       "10           2D   MA 355 1b       GBL   phenea   \n",
       "11          NaN    MA 356 5   GBL:DMF  1,3-dap   \n",
       "12           0D    MA 357 2       DMF     dmed   \n",
       "13           1D    MA 380 7      DMSO     dmed   \n",
       "14           1D    MA 397 1  DMF:DMSO     dmed   \n",
       "15           0D    MA 357 5   GBL:DMF     dmed   \n",
       "16           0D    MA 338 2       GBL    dedap   \n",
       "17           0D    MZ 341 3   GBL:DMF    dedap   \n",
       "18           1D    MA 358 2       DMF     dabz   \n",
       "19           1D    MA 358 4  DMF:DMSO     dabz   \n",
       "20           1D    MA 358 5   GBL:DMF     dabz   \n",
       "\n",
       "    Expected Diffusion Coefficient  \\\n",
       "0                         0.000006   \n",
       "1                         0.000002   \n",
       "2                         0.000001   \n",
       "3                         0.000005   \n",
       "4                         0.000005   \n",
       "5                         0.000001   \n",
       "6                         0.000005   \n",
       "7                         0.000005   \n",
       "8                         0.000006   \n",
       "9                         0.000001   \n",
       "10                        0.000005   \n",
       "11                        0.000001   \n",
       "12                        0.000006   \n",
       "13                        0.000012   \n",
       "14                        0.000002   \n",
       "15                        0.000001   \n",
       "16                        0.000005   \n",
       "17                        0.000001   \n",
       "18                        0.000006   \n",
       "19                        0.000002   \n",
       "20                        0.000001   \n",
       "\n",
       "    Best Kin, Expected Diffusion Coeff, Mols/sec  \\\n",
       "0                                   4.430000e-07   \n",
       "1                                   4.030000e-07   \n",
       "2                                   5.000000e-07   \n",
       "3                                   3.530000e-07   \n",
       "4                                   2.820000e-07   \n",
       "5                                   1.560000e-07   \n",
       "6                                   3.410000e-07   \n",
       "7                                   2.840000e-07   \n",
       "8                                   3.520000e-07   \n",
       "9                                   4.200000e-07   \n",
       "10                                  1.290000e-07   \n",
       "11                                  2.500000e-07   \n",
       "12                                  4.940000e-07   \n",
       "13                                  1.000000e-07   \n",
       "14                                  9.100000e-07   \n",
       "15                                  2.080000e-07   \n",
       "16                                  1.970000e-07   \n",
       "17                                  6.730000e-07   \n",
       "18                                  4.540000e-07   \n",
       "19                                  2.690000e-07   \n",
       "20                                  1.440000e-07   \n",
       "\n",
       "    Best Kout, Expected Diffusion Coeff, Mols/sec  \\\n",
       "0                                    4.910000e-07   \n",
       "1                                    4.460000e-07   \n",
       "2                                    4.610000e-07   \n",
       "3                                    4.730000e-07   \n",
       "4                                    3.160000e-07   \n",
       "5                                    1.110000e-07   \n",
       "6                                    4.500000e-07   \n",
       "7                                    3.470000e-07   \n",
       "8                                    4.260000e-07   \n",
       "9                                    3.970000e-07   \n",
       "10                                   1.520000e-07   \n",
       "11                                   2.070000e-07   \n",
       "12                                   5.960000e-07   \n",
       "13                                   1.390000e-07   \n",
       "14                                   9.820000e-07   \n",
       "15                                   1.690000e-07   \n",
       "16                                   2.440000e-07   \n",
       "17                                   6.890000e-07   \n",
       "18                                   6.620000e-07   \n",
       "19                                   2.630000e-07   \n",
       "20                                   1.160000e-07   \n",
       "\n",
       "    Best Fit SSE, Expected Diffusion Coeff Crystallization Data?  \\\n",
       "0                                 0.004254                   Yes   \n",
       "1                                 0.001938                   Yes   \n",
       "2                                 0.006535                   Yes   \n",
       "3                                 0.001641                   Yes   \n",
       "4                                 0.004050                   Yes   \n",
       "5                                 0.001193                   Yes   \n",
       "6                                 0.000933                   Yes   \n",
       "7                                 0.002835                   Yes   \n",
       "8                                 0.000718                   Yes   \n",
       "9                                 0.002432                   Yes   \n",
       "10                                0.001561                   Yes   \n",
       "11                                0.000695                   Yes   \n",
       "12                                0.001545                   Yes   \n",
       "13                                0.002190                   Yes   \n",
       "14                                0.010655                   Yes   \n",
       "15                                0.000582                   Yes   \n",
       "16                                0.001842                   Yes   \n",
       "17                                0.003555                   Yes   \n",
       "18                                0.001146                   Yes   \n",
       "19                                0.001176                   Yes   \n",
       "20                                0.002509                   Yes   \n",
       "\n",
       "    Crystallization Time, Seconds  Crystallization Height, cm      [DCM]  \\\n",
       "0                            4500                    0.698565   8.777488   \n",
       "1                           42960                    0.954839  11.016308   \n",
       "2                            3740                    0.650902   8.881592   \n",
       "3                             300                    0.486957   7.590674   \n",
       "4                            1980                    0.596767   8.147848   \n",
       "5                           11700                    0.600995   7.857412   \n",
       "6                           47880                    0.951304   9.487251   \n",
       "7                           15420                    0.690164   8.402140   \n",
       "8                           60380                    1.249448  11.316820   \n",
       "9                           58760                    1.239560  14.913932   \n",
       "10                          40500                    0.880357   8.987453   \n",
       "11                          16740                    0.734821  10.252325   \n",
       "12                          20040                    0.884305   9.621357   \n",
       "13                          24060                    0.730018   7.733627   \n",
       "14                          45300                    0.994762  11.753300   \n",
       "15                           7740                    0.654128   8.833803   \n",
       "16                           2700                    0.528926   7.719511   \n",
       "17                          23140                    0.873810  11.408956   \n",
       "18                          34080                    0.980909   9.366331   \n",
       "19                          41820                    1.065471  12.522751   \n",
       "20                           1380                    0.538197   6.851796   \n",
       "\n",
       "    [Solvent]  Expected FAH Concentration, Mols/L  \\\n",
       "0    4.247744                            1.163860   \n",
       "1    3.044163                            0.784685   \n",
       "2    4.277007                            1.146228   \n",
       "3    5.064560                            1.364863   \n",
       "4    5.042906                            1.270498   \n",
       "5    5.206428                            1.319687   \n",
       "6    4.143108                            1.043652   \n",
       "7    4.935149                            1.227430   \n",
       "8    2.948272                            0.733790   \n",
       "9    0.499850                            0.124570   \n",
       "10   4.219134                            1.128299   \n",
       "11   3.384686                            0.914076   \n",
       "12   3.817136                            1.020939   \n",
       "13   5.446683                            1.340652   \n",
       "14   2.576180                            0.659866   \n",
       "15   4.307389                            1.154322   \n",
       "16   4.769059                            1.343042   \n",
       "17   2.550842                            0.718185   \n",
       "18   3.982921                            1.064131   \n",
       "19   2.060248                            0.529549   \n",
       "20   5.560484                            1.490002   \n",
       "\n",
       "    Expected Inorganic Concentration, Mols/L  \\\n",
       "0                                   0.237124   \n",
       "1                                   0.138555   \n",
       "2                                   0.190718   \n",
       "3                                   0.227096   \n",
       "4                                   0.215709   \n",
       "5                                   0.228541   \n",
       "6                                   0.180738   \n",
       "7                                   0.216732   \n",
       "8                                   0.124585   \n",
       "9                                   0.021150   \n",
       "10                                  0.199228   \n",
       "11                                  0.158298   \n",
       "12                                  0.173338   \n",
       "13                                  0.232172   \n",
       "14                                  0.112034   \n",
       "15                                  0.203823   \n",
       "16                                  0.228025   \n",
       "17                                  0.124374   \n",
       "18                                  0.184285   \n",
       "19                                  0.093505   \n",
       "20                                  0.252977   \n",
       "\n",
       "    Expected Organic Concentration, Mols/L  \n",
       "0                                 0.280597  \n",
       "1                                 0.175858  \n",
       "2                                 0.256885  \n",
       "3                                 0.356864  \n",
       "4                                 0.323563  \n",
       "5                                 0.354015  \n",
       "6                                 0.265791  \n",
       "7                                 0.312595  \n",
       "8                                 0.184386  \n",
       "9                                 0.032994  \n",
       "10                                0.287349  \n",
       "11                                0.242103  \n",
       "12                                0.249607  \n",
       "13                                0.323220  \n",
       "14                                0.161329  \n",
       "15                                0.286137  \n",
       "16                                0.346599  \n",
       "17                                0.182903  \n",
       "18                                0.260166  \n",
       "19                                0.133064  \n",
       "20                                0.379465  "
      ],
      "text/html": "<div>\n<style scoped>\n    .dataframe tbody tr th:only-of-type {\n        vertical-align: middle;\n    }\n\n    .dataframe tbody tr th {\n        vertical-align: top;\n    }\n\n    .dataframe thead th {\n        text-align: right;\n    }\n</style>\n<table border=\"1\" class=\"dataframe\">\n  <thead>\n    <tr style=\"text-align: right;\">\n      <th></th>\n      <th>Connectivity</th>\n      <th>Reaction ID</th>\n      <th>Solvent</th>\n      <th>Amine</th>\n      <th>Expected Diffusion Coefficient</th>\n      <th>Best Kin, Expected Diffusion Coeff, Mols/sec</th>\n      <th>Best Kout, Expected Diffusion Coeff, Mols/sec</th>\n      <th>Best Fit SSE, Expected Diffusion Coeff</th>\n      <th>Crystallization Data?</th>\n      <th>Crystallization Time, Seconds</th>\n      <th>Crystallization Height, cm</th>\n      <th>[DCM]</th>\n      <th>[Solvent]</th>\n      <th>Expected FAH Concentration, Mols/L</th>\n      <th>Expected Inorganic Concentration, Mols/L</th>\n      <th>Expected Organic Concentration, Mols/L</th>\n    </tr>\n  </thead>\n  <tbody>\n    <tr>\n      <th>0</th>\n      <td>0D</td>\n      <td>MA 333 1</td>\n      <td>DMF</td>\n      <td>aep</td>\n      <td>0.000006</td>\n      <td>4.430000e-07</td>\n      <td>4.910000e-07</td>\n      <td>0.004254</td>\n      <td>Yes</td>\n      <td>4500</td>\n      <td>0.698565</td>\n      <td>8.777488</td>\n      <td>4.247744</td>\n      <td>1.163860</td>\n      <td>0.237124</td>\n      <td>0.280597</td>\n    </tr>\n    <tr>\n      <th>1</th>\n      <td>0D/2D</td>\n      <td>MA 333 3</td>\n      <td>DMF:DMSO</td>\n      <td>aep</td>\n      <td>0.000002</td>\n      <td>4.030000e-07</td>\n      <td>4.460000e-07</td>\n      <td>0.001938</td>\n      <td>Yes</td>\n      <td>42960</td>\n      <td>0.954839</td>\n      <td>11.016308</td>\n      <td>3.044163</td>\n      <td>0.784685</td>\n      <td>0.138555</td>\n      <td>0.175858</td>\n    </tr>\n    <tr>\n      <th>2</th>\n      <td>2D</td>\n      <td>MA 333 4</td>\n      <td>GBL:DMF</td>\n      <td>aep</td>\n      <td>0.000001</td>\n      <td>5.000000e-07</td>\n      <td>4.610000e-07</td>\n      <td>0.006535</td>\n      <td>Yes</td>\n      <td>3740</td>\n      <td>0.650902</td>\n      <td>8.881592</td>\n      <td>4.277007</td>\n      <td>1.146228</td>\n      <td>0.190718</td>\n      <td>0.256885</td>\n    </tr>\n    <tr>\n      <th>3</th>\n      <td>1D</td>\n      <td>MA 336 4</td>\n      <td>GBL</td>\n      <td>chma</td>\n      <td>0.000005</td>\n      <td>3.530000e-07</td>\n      <td>4.730000e-07</td>\n      <td>0.001641</td>\n      <td>Yes</td>\n      <td>300</td>\n      <td>0.486957</td>\n      <td>7.590674</td>\n      <td>5.064560</td>\n      <td>1.364863</td>\n      <td>0.227096</td>\n      <td>0.356864</td>\n    </tr>\n    <tr>\n      <th>4</th>\n      <td>1D</td>\n      <td>MA 350 1</td>\n      <td>GBL</td>\n      <td>acet</td>\n      <td>0.000005</td>\n      <td>2.820000e-07</td>\n      <td>3.160000e-07</td>\n      <td>0.004050</td>\n      <td>Yes</td>\n      <td>1980</td>\n      <td>0.596767</td>\n      <td>8.147848</td>\n      <td>5.042906</td>\n      <td>1.270498</td>\n      <td>0.215709</td>\n      <td>0.323563</td>\n    </tr>\n    <tr>\n      <th>5</th>\n      <td>1D</td>\n      <td>MA 350 5</td>\n      <td>GBL:DMF</td>\n      <td>acet</td>\n      <td>0.000001</td>\n      <td>1.560000e-07</td>\n      <td>1.110000e-07</td>\n      <td>0.001193</td>\n      <td>Yes</td>\n      <td>11700</td>\n      <td>0.600995</td>\n      <td>7.857412</td>\n      <td>5.206428</td>\n      <td>1.319687</td>\n      <td>0.228541</td>\n      <td>0.354015</td>\n    </tr>\n    <tr>\n      <th>6</th>\n      <td>1D</td>\n      <td>MA 351 1</td>\n      <td>GBL</td>\n      <td>ea</td>\n      <td>0.000005</td>\n      <td>3.410000e-07</td>\n      <td>4.500000e-07</td>\n      <td>0.000933</td>\n      <td>Yes</td>\n      <td>47880</td>\n      <td>0.951304</td>\n      <td>9.487251</td>\n      <td>4.143108</td>\n      <td>1.043652</td>\n      <td>0.180738</td>\n      <td>0.265791</td>\n    </tr>\n    <tr>\n      <th>7</th>\n      <td>3D</td>\n      <td>MA 354 1</td>\n      <td>GBL</td>\n      <td>ma</td>\n      <td>0.000005</td>\n      <td>2.840000e-07</td>\n      <td>3.470000e-07</td>\n      <td>0.002835</td>\n      <td>Yes</td>\n      <td>15420</td>\n      <td>0.690164</td>\n      <td>8.402140</td>\n      <td>4.935149</td>\n      <td>1.227430</td>\n      <td>0.216732</td>\n      <td>0.312595</td>\n    </tr>\n    <tr>\n      <th>8</th>\n      <td>1D</td>\n      <td>MA 354 2</td>\n      <td>DMF</td>\n      <td>ma</td>\n      <td>0.000006</td>\n      <td>3.520000e-07</td>\n      <td>4.260000e-07</td>\n      <td>0.000718</td>\n      <td>Yes</td>\n      <td>60380</td>\n      <td>1.249448</td>\n      <td>11.316820</td>\n      <td>2.948272</td>\n      <td>0.733790</td>\n      <td>0.124585</td>\n      <td>0.184386</td>\n    </tr>\n    <tr>\n      <th>9</th>\n      <td>1D</td>\n      <td>MA 354 5</td>\n      <td>GBL:DMF</td>\n      <td>ma</td>\n      <td>0.000001</td>\n      <td>4.200000e-07</td>\n      <td>3.970000e-07</td>\n      <td>0.002432</td>\n      <td>Yes</td>\n      <td>58760</td>\n      <td>1.239560</td>\n      <td>14.913932</td>\n      <td>0.499850</td>\n      <td>0.124570</td>\n      <td>0.021150</td>\n      <td>0.032994</td>\n    </tr>\n    <tr>\n      <th>10</th>\n      <td>2D</td>\n      <td>MA 355 1b</td>\n      <td>GBL</td>\n      <td>phenea</td>\n      <td>0.000005</td>\n      <td>1.290000e-07</td>\n      <td>1.520000e-07</td>\n      <td>0.001561</td>\n      <td>Yes</td>\n      <td>40500</td>\n      <td>0.880357</td>\n      <td>8.987453</td>\n      <td>4.219134</td>\n      <td>1.128299</td>\n      <td>0.199228</td>\n      <td>0.287349</td>\n    </tr>\n    <tr>\n      <th>11</th>\n      <td>NaN</td>\n      <td>MA 356 5</td>\n      <td>GBL:DMF</td>\n      <td>1,3-dap</td>\n      <td>0.000001</td>\n      <td>2.500000e-07</td>\n      <td>2.070000e-07</td>\n      <td>0.000695</td>\n      <td>Yes</td>\n      <td>16740</td>\n      <td>0.734821</td>\n      <td>10.252325</td>\n      <td>3.384686</td>\n      <td>0.914076</td>\n      <td>0.158298</td>\n      <td>0.242103</td>\n    </tr>\n    <tr>\n      <th>12</th>\n      <td>0D</td>\n      <td>MA 357 2</td>\n      <td>DMF</td>\n      <td>dmed</td>\n      <td>0.000006</td>\n      <td>4.940000e-07</td>\n      <td>5.960000e-07</td>\n      <td>0.001545</td>\n      <td>Yes</td>\n      <td>20040</td>\n      <td>0.884305</td>\n      <td>9.621357</td>\n      <td>3.817136</td>\n      <td>1.020939</td>\n      <td>0.173338</td>\n      <td>0.249607</td>\n    </tr>\n    <tr>\n      <th>13</th>\n      <td>1D</td>\n      <td>MA 380 7</td>\n      <td>DMSO</td>\n      <td>dmed</td>\n      <td>0.000012</td>\n      <td>1.000000e-07</td>\n      <td>1.390000e-07</td>\n      <td>0.002190</td>\n      <td>Yes</td>\n      <td>24060</td>\n      <td>0.730018</td>\n      <td>7.733627</td>\n      <td>5.446683</td>\n      <td>1.340652</td>\n      <td>0.232172</td>\n      <td>0.323220</td>\n    </tr>\n    <tr>\n      <th>14</th>\n      <td>1D</td>\n      <td>MA 397 1</td>\n      <td>DMF:DMSO</td>\n      <td>dmed</td>\n      <td>0.000002</td>\n      <td>9.100000e-07</td>\n      <td>9.820000e-07</td>\n      <td>0.010655</td>\n      <td>Yes</td>\n      <td>45300</td>\n      <td>0.994762</td>\n      <td>11.753300</td>\n      <td>2.576180</td>\n      <td>0.659866</td>\n      <td>0.112034</td>\n      <td>0.161329</td>\n    </tr>\n    <tr>\n      <th>15</th>\n      <td>0D</td>\n      <td>MA 357 5</td>\n      <td>GBL:DMF</td>\n      <td>dmed</td>\n      <td>0.000001</td>\n      <td>2.080000e-07</td>\n      <td>1.690000e-07</td>\n      <td>0.000582</td>\n      <td>Yes</td>\n      <td>7740</td>\n      <td>0.654128</td>\n      <td>8.833803</td>\n      <td>4.307389</td>\n      <td>1.154322</td>\n      <td>0.203823</td>\n      <td>0.286137</td>\n    </tr>\n    <tr>\n      <th>16</th>\n      <td>0D</td>\n      <td>MA 338 2</td>\n      <td>GBL</td>\n      <td>dedap</td>\n      <td>0.000005</td>\n      <td>1.970000e-07</td>\n      <td>2.440000e-07</td>\n      <td>0.001842</td>\n      <td>Yes</td>\n      <td>2700</td>\n      <td>0.528926</td>\n      <td>7.719511</td>\n      <td>4.769059</td>\n      <td>1.343042</td>\n      <td>0.228025</td>\n      <td>0.346599</td>\n    </tr>\n    <tr>\n      <th>17</th>\n      <td>0D</td>\n      <td>MZ 341 3</td>\n      <td>GBL:DMF</td>\n      <td>dedap</td>\n      <td>0.000001</td>\n      <td>6.730000e-07</td>\n      <td>6.890000e-07</td>\n      <td>0.003555</td>\n      <td>Yes</td>\n      <td>23140</td>\n      <td>0.873810</td>\n      <td>11.408956</td>\n      <td>2.550842</td>\n      <td>0.718185</td>\n      <td>0.124374</td>\n      <td>0.182903</td>\n    </tr>\n    <tr>\n      <th>18</th>\n      <td>1D</td>\n      <td>MA 358 2</td>\n      <td>DMF</td>\n      <td>dabz</td>\n      <td>0.000006</td>\n      <td>4.540000e-07</td>\n      <td>6.620000e-07</td>\n      <td>0.001146</td>\n      <td>Yes</td>\n      <td>34080</td>\n      <td>0.980909</td>\n      <td>9.366331</td>\n      <td>3.982921</td>\n      <td>1.064131</td>\n      <td>0.184285</td>\n      <td>0.260166</td>\n    </tr>\n    <tr>\n      <th>19</th>\n      <td>1D</td>\n      <td>MA 358 4</td>\n      <td>DMF:DMSO</td>\n      <td>dabz</td>\n      <td>0.000002</td>\n      <td>2.690000e-07</td>\n      <td>2.630000e-07</td>\n      <td>0.001176</td>\n      <td>Yes</td>\n      <td>41820</td>\n      <td>1.065471</td>\n      <td>12.522751</td>\n      <td>2.060248</td>\n      <td>0.529549</td>\n      <td>0.093505</td>\n      <td>0.133064</td>\n    </tr>\n    <tr>\n      <th>20</th>\n      <td>1D</td>\n      <td>MA 358 5</td>\n      <td>GBL:DMF</td>\n      <td>dabz</td>\n      <td>0.000001</td>\n      <td>1.440000e-07</td>\n      <td>1.160000e-07</td>\n      <td>0.002509</td>\n      <td>Yes</td>\n      <td>1380</td>\n      <td>0.538197</td>\n      <td>6.851796</td>\n      <td>5.560484</td>\n      <td>1.490002</td>\n      <td>0.252977</td>\n      <td>0.379465</td>\n    </tr>\n  </tbody>\n</table>\n</div>"
     },
     "metadata": {},
     "execution_count": 3
    }
   ],
   "source": [
    "data"
   ]
  },
  {
   "cell_type": "code",
   "execution_count": 50,
   "metadata": {},
   "outputs": [
    {
     "output_type": "display_data",
     "data": {
      "application/vnd.plotly.v1+json": {
       "config": {
        "plotlyServerURL": "https://plot.ly"
       },
       "data": [
        {
         "customdata": [
          [
           4.24774449
          ],
          [
           3.044163276
          ],
          [
           4.277007327
          ]
         ],
         "hoverlabel": {
          "namelength": 0
         },
         "hovertemplate": "Amine=aep<br>Solvent Type=%{x}<br>Antisolvent [M]=%{y}<br>Solvent [M]=%{customdata[0]}",
         "legendgroup": "Amine=aep",
         "marker": {
          "color": "#636efa",
          "size": [
           4.24774449,
           3.044163276,
           4.277007327
          ],
          "sizemode": "area",
          "sizeref": 0.0139012100625,
          "symbol": "circle"
         },
         "mode": "markers",
         "name": "Amine=aep",
         "showlegend": true,
         "type": "scatter",
         "x": [
          "DMF",
          "DMF:DMSO",
          "GBL:DMF"
         ],
         "xaxis": "x",
         "y": [
          8.777488113,
          11.01630811,
          8.881591674
         ],
         "yaxis": "y"
        },
        {
         "customdata": [
          [
           5.06456
          ]
         ],
         "hoverlabel": {
          "namelength": 0
         },
         "hovertemplate": "Amine=chma<br>Solvent Type=%{x}<br>Antisolvent [M]=%{y}<br>Solvent [M]=%{customdata[0]}",
         "legendgroup": "Amine=chma",
         "marker": {
          "color": "#EF553B",
          "size": [
           5.06456
          ],
          "sizemode": "area",
          "sizeref": 0.0139012100625,
          "symbol": "circle"
         },
         "mode": "markers",
         "name": "Amine=chma",
         "showlegend": true,
         "type": "scatter",
         "x": [
          "GBL"
         ],
         "xaxis": "x",
         "y": [
          7.590674351
         ],
         "yaxis": "y"
        },
        {
         "customdata": [
          [
           5.042906073
          ],
          [
           5.206428266
          ]
         ],
         "hoverlabel": {
          "namelength": 0
         },
         "hovertemplate": "Amine=acet<br>Solvent Type=%{x}<br>Antisolvent [M]=%{y}<br>Solvent [M]=%{customdata[0]}",
         "legendgroup": "Amine=acet",
         "marker": {
          "color": "#00cc96",
          "size": [
           5.042906073,
           5.206428266
          ],
          "sizemode": "area",
          "sizeref": 0.0139012100625,
          "symbol": "circle"
         },
         "mode": "markers",
         "name": "Amine=acet",
         "showlegend": true,
         "type": "scatter",
         "x": [
          "GBL",
          "GBL:DMF"
         ],
         "xaxis": "x",
         "y": [
          8.147847854,
          7.857412384
         ],
         "yaxis": "y"
        },
        {
         "customdata": [
          [
           4.143108499
          ]
         ],
         "hoverlabel": {
          "namelength": 0
         },
         "hovertemplate": "Amine=ea<br>Solvent Type=%{x}<br>Antisolvent [M]=%{y}<br>Solvent [M]=%{customdata[0]}",
         "legendgroup": "Amine=ea",
         "marker": {
          "color": "#ab63fa",
          "size": [
           4.143108499
          ],
          "sizemode": "area",
          "sizeref": 0.0139012100625,
          "symbol": "circle"
         },
         "mode": "markers",
         "name": "Amine=ea",
         "showlegend": true,
         "type": "scatter",
         "x": [
          "GBL"
         ],
         "xaxis": "x",
         "y": [
          9.487251328
         ],
         "yaxis": "y"
        },
        {
         "customdata": [
          [
           4.935148912
          ],
          [
           2.948271546
          ],
          [
           0.49985046
          ]
         ],
         "hoverlabel": {
          "namelength": 0
         },
         "hovertemplate": "Amine=ma<br>Solvent Type=%{x}<br>Antisolvent [M]=%{y}<br>Solvent [M]=%{customdata[0]}",
         "legendgroup": "Amine=ma",
         "marker": {
          "color": "#FFA15A",
          "size": [
           4.935148912,
           2.948271546,
           0.49985046
          ],
          "sizemode": "area",
          "sizeref": 0.0139012100625,
          "symbol": "circle"
         },
         "mode": "markers",
         "name": "Amine=ma",
         "showlegend": true,
         "type": "scatter",
         "x": [
          "GBL",
          "DMF",
          "GBL:DMF"
         ],
         "xaxis": "x",
         "y": [
          8.402139959,
          11.31681991,
          14.9139324
         ],
         "yaxis": "y"
        },
        {
         "customdata": [
          [
           4.219133709
          ]
         ],
         "hoverlabel": {
          "namelength": 0
         },
         "hovertemplate": "Amine=phenea<br>Solvent Type=%{x}<br>Antisolvent [M]=%{y}<br>Solvent [M]=%{customdata[0]}",
         "legendgroup": "Amine=phenea",
         "marker": {
          "color": "#19d3f3",
          "size": [
           4.219133709
          ],
          "sizemode": "area",
          "sizeref": 0.0139012100625,
          "symbol": "circle"
         },
         "mode": "markers",
         "name": "Amine=phenea",
         "showlegend": true,
         "type": "scatter",
         "x": [
          "GBL"
         ],
         "xaxis": "x",
         "y": [
          8.987453145
         ],
         "yaxis": "y"
        },
        {
         "customdata": [
          [
           3.384686106
          ]
         ],
         "hoverlabel": {
          "namelength": 0
         },
         "hovertemplate": "Amine=1,3-dap<br>Solvent Type=%{x}<br>Antisolvent [M]=%{y}<br>Solvent [M]=%{customdata[0]}",
         "legendgroup": "Amine=1,3-dap",
         "marker": {
          "color": "#FF6692",
          "size": [
           3.384686106
          ],
          "sizemode": "area",
          "sizeref": 0.0139012100625,
          "symbol": "circle"
         },
         "mode": "markers",
         "name": "Amine=1,3-dap",
         "showlegend": true,
         "type": "scatter",
         "x": [
          "GBL:DMF"
         ],
         "xaxis": "x",
         "y": [
          10.25232549
         ],
         "yaxis": "y"
        },
        {
         "customdata": [
          [
           3.817136269
          ],
          [
           5.446682821
          ],
          [
           2.576180488
          ],
          [
           4.307388959
          ]
         ],
         "hoverlabel": {
          "namelength": 0
         },
         "hovertemplate": "Amine=dmed<br>Solvent Type=%{x}<br>Antisolvent [M]=%{y}<br>Solvent [M]=%{customdata[0]}",
         "legendgroup": "Amine=dmed",
         "marker": {
          "color": "#B6E880",
          "size": [
           3.817136269,
           5.446682821,
           2.576180488,
           4.307388959
          ],
          "sizemode": "area",
          "sizeref": 0.0139012100625,
          "symbol": "circle"
         },
         "mode": "markers",
         "name": "Amine=dmed",
         "showlegend": true,
         "type": "scatter",
         "x": [
          "DMF",
          "DMSO",
          "DMF:DMSO",
          "GBL:DMF"
         ],
         "xaxis": "x",
         "y": [
          9.621356857,
          7.733626615,
          11.75330002,
          8.833802563
         ],
         "yaxis": "y"
        },
        {
         "customdata": [
          [
           4.769058704
          ],
          [
           2.550841639
          ]
         ],
         "hoverlabel": {
          "namelength": 0
         },
         "hovertemplate": "Amine=dedap<br>Solvent Type=%{x}<br>Antisolvent [M]=%{y}<br>Solvent [M]=%{customdata[0]}",
         "legendgroup": "Amine=dedap",
         "marker": {
          "color": "#FF97FF",
          "size": [
           4.769058704,
           2.550841639
          ],
          "sizemode": "area",
          "sizeref": 0.0139012100625,
          "symbol": "circle"
         },
         "mode": "markers",
         "name": "Amine=dedap",
         "showlegend": true,
         "type": "scatter",
         "x": [
          "GBL",
          "GBL:DMF"
         ],
         "xaxis": "x",
         "y": [
          7.719510642,
          11.40895572
         ],
         "yaxis": "y"
        },
        {
         "customdata": [
          [
           3.982920974
          ],
          [
           2.060248332
          ],
          [
           5.560484025
          ]
         ],
         "hoverlabel": {
          "namelength": 0
         },
         "hovertemplate": "Amine=dabz<br>Solvent Type=%{x}<br>Antisolvent [M]=%{y}<br>Solvent [M]=%{customdata[0]}",
         "legendgroup": "Amine=dabz",
         "marker": {
          "color": "#FECB52",
          "size": [
           3.982920974,
           2.060248332,
           5.560484025
          ],
          "sizemode": "area",
          "sizeref": 0.0139012100625,
          "symbol": "circle"
         },
         "mode": "markers",
         "name": "Amine=dabz",
         "showlegend": true,
         "type": "scatter",
         "x": [
          "DMF",
          "DMF:DMSO",
          "GBL:DMF"
         ],
         "xaxis": "x",
         "y": [
          9.366331181,
          12.52275107,
          6.851795951
         ],
         "yaxis": "y"
        }
       ],
       "layout": {
        "height": 600,
        "legend": {
         "itemsizing": "constant",
         "tracegroupgap": 0
        },
        "margin": {
         "t": 60
        },
        "template": {
         "data": {
          "bar": [
           {
            "error_x": {
             "color": "#2a3f5f"
            },
            "error_y": {
             "color": "#2a3f5f"
            },
            "marker": {
             "line": {
              "color": "#E5ECF6",
              "width": 0.5
             }
            },
            "type": "bar"
           }
          ],
          "barpolar": [
           {
            "marker": {
             "line": {
              "color": "#E5ECF6",
              "width": 0.5
             }
            },
            "type": "barpolar"
           }
          ],
          "carpet": [
           {
            "aaxis": {
             "endlinecolor": "#2a3f5f",
             "gridcolor": "white",
             "linecolor": "white",
             "minorgridcolor": "white",
             "startlinecolor": "#2a3f5f"
            },
            "baxis": {
             "endlinecolor": "#2a3f5f",
             "gridcolor": "white",
             "linecolor": "white",
             "minorgridcolor": "white",
             "startlinecolor": "#2a3f5f"
            },
            "type": "carpet"
           }
          ],
          "choropleth": [
           {
            "colorbar": {
             "outlinewidth": 0,
             "ticks": ""
            },
            "type": "choropleth"
           }
          ],
          "contour": [
           {
            "colorbar": {
             "outlinewidth": 0,
             "ticks": ""
            },
            "colorscale": [
             [
              0,
              "#0d0887"
             ],
             [
              0.1111111111111111,
              "#46039f"
             ],
             [
              0.2222222222222222,
              "#7201a8"
             ],
             [
              0.3333333333333333,
              "#9c179e"
             ],
             [
              0.4444444444444444,
              "#bd3786"
             ],
             [
              0.5555555555555556,
              "#d8576b"
             ],
             [
              0.6666666666666666,
              "#ed7953"
             ],
             [
              0.7777777777777778,
              "#fb9f3a"
             ],
             [
              0.8888888888888888,
              "#fdca26"
             ],
             [
              1,
              "#f0f921"
             ]
            ],
            "type": "contour"
           }
          ],
          "contourcarpet": [
           {
            "colorbar": {
             "outlinewidth": 0,
             "ticks": ""
            },
            "type": "contourcarpet"
           }
          ],
          "heatmap": [
           {
            "colorbar": {
             "outlinewidth": 0,
             "ticks": ""
            },
            "colorscale": [
             [
              0,
              "#0d0887"
             ],
             [
              0.1111111111111111,
              "#46039f"
             ],
             [
              0.2222222222222222,
              "#7201a8"
             ],
             [
              0.3333333333333333,
              "#9c179e"
             ],
             [
              0.4444444444444444,
              "#bd3786"
             ],
             [
              0.5555555555555556,
              "#d8576b"
             ],
             [
              0.6666666666666666,
              "#ed7953"
             ],
             [
              0.7777777777777778,
              "#fb9f3a"
             ],
             [
              0.8888888888888888,
              "#fdca26"
             ],
             [
              1,
              "#f0f921"
             ]
            ],
            "type": "heatmap"
           }
          ],
          "heatmapgl": [
           {
            "colorbar": {
             "outlinewidth": 0,
             "ticks": ""
            },
            "colorscale": [
             [
              0,
              "#0d0887"
             ],
             [
              0.1111111111111111,
              "#46039f"
             ],
             [
              0.2222222222222222,
              "#7201a8"
             ],
             [
              0.3333333333333333,
              "#9c179e"
             ],
             [
              0.4444444444444444,
              "#bd3786"
             ],
             [
              0.5555555555555556,
              "#d8576b"
             ],
             [
              0.6666666666666666,
              "#ed7953"
             ],
             [
              0.7777777777777778,
              "#fb9f3a"
             ],
             [
              0.8888888888888888,
              "#fdca26"
             ],
             [
              1,
              "#f0f921"
             ]
            ],
            "type": "heatmapgl"
           }
          ],
          "histogram": [
           {
            "marker": {
             "colorbar": {
              "outlinewidth": 0,
              "ticks": ""
             }
            },
            "type": "histogram"
           }
          ],
          "histogram2d": [
           {
            "colorbar": {
             "outlinewidth": 0,
             "ticks": ""
            },
            "colorscale": [
             [
              0,
              "#0d0887"
             ],
             [
              0.1111111111111111,
              "#46039f"
             ],
             [
              0.2222222222222222,
              "#7201a8"
             ],
             [
              0.3333333333333333,
              "#9c179e"
             ],
             [
              0.4444444444444444,
              "#bd3786"
             ],
             [
              0.5555555555555556,
              "#d8576b"
             ],
             [
              0.6666666666666666,
              "#ed7953"
             ],
             [
              0.7777777777777778,
              "#fb9f3a"
             ],
             [
              0.8888888888888888,
              "#fdca26"
             ],
             [
              1,
              "#f0f921"
             ]
            ],
            "type": "histogram2d"
           }
          ],
          "histogram2dcontour": [
           {
            "colorbar": {
             "outlinewidth": 0,
             "ticks": ""
            },
            "colorscale": [
             [
              0,
              "#0d0887"
             ],
             [
              0.1111111111111111,
              "#46039f"
             ],
             [
              0.2222222222222222,
              "#7201a8"
             ],
             [
              0.3333333333333333,
              "#9c179e"
             ],
             [
              0.4444444444444444,
              "#bd3786"
             ],
             [
              0.5555555555555556,
              "#d8576b"
             ],
             [
              0.6666666666666666,
              "#ed7953"
             ],
             [
              0.7777777777777778,
              "#fb9f3a"
             ],
             [
              0.8888888888888888,
              "#fdca26"
             ],
             [
              1,
              "#f0f921"
             ]
            ],
            "type": "histogram2dcontour"
           }
          ],
          "mesh3d": [
           {
            "colorbar": {
             "outlinewidth": 0,
             "ticks": ""
            },
            "type": "mesh3d"
           }
          ],
          "parcoords": [
           {
            "line": {
             "colorbar": {
              "outlinewidth": 0,
              "ticks": ""
             }
            },
            "type": "parcoords"
           }
          ],
          "pie": [
           {
            "automargin": true,
            "type": "pie"
           }
          ],
          "scatter": [
           {
            "marker": {
             "colorbar": {
              "outlinewidth": 0,
              "ticks": ""
             }
            },
            "type": "scatter"
           }
          ],
          "scatter3d": [
           {
            "line": {
             "colorbar": {
              "outlinewidth": 0,
              "ticks": ""
             }
            },
            "marker": {
             "colorbar": {
              "outlinewidth": 0,
              "ticks": ""
             }
            },
            "type": "scatter3d"
           }
          ],
          "scattercarpet": [
           {
            "marker": {
             "colorbar": {
              "outlinewidth": 0,
              "ticks": ""
             }
            },
            "type": "scattercarpet"
           }
          ],
          "scattergeo": [
           {
            "marker": {
             "colorbar": {
              "outlinewidth": 0,
              "ticks": ""
             }
            },
            "type": "scattergeo"
           }
          ],
          "scattergl": [
           {
            "marker": {
             "colorbar": {
              "outlinewidth": 0,
              "ticks": ""
             }
            },
            "type": "scattergl"
           }
          ],
          "scattermapbox": [
           {
            "marker": {
             "colorbar": {
              "outlinewidth": 0,
              "ticks": ""
             }
            },
            "type": "scattermapbox"
           }
          ],
          "scatterpolar": [
           {
            "marker": {
             "colorbar": {
              "outlinewidth": 0,
              "ticks": ""
             }
            },
            "type": "scatterpolar"
           }
          ],
          "scatterpolargl": [
           {
            "marker": {
             "colorbar": {
              "outlinewidth": 0,
              "ticks": ""
             }
            },
            "type": "scatterpolargl"
           }
          ],
          "scatterternary": [
           {
            "marker": {
             "colorbar": {
              "outlinewidth": 0,
              "ticks": ""
             }
            },
            "type": "scatterternary"
           }
          ],
          "surface": [
           {
            "colorbar": {
             "outlinewidth": 0,
             "ticks": ""
            },
            "colorscale": [
             [
              0,
              "#0d0887"
             ],
             [
              0.1111111111111111,
              "#46039f"
             ],
             [
              0.2222222222222222,
              "#7201a8"
             ],
             [
              0.3333333333333333,
              "#9c179e"
             ],
             [
              0.4444444444444444,
              "#bd3786"
             ],
             [
              0.5555555555555556,
              "#d8576b"
             ],
             [
              0.6666666666666666,
              "#ed7953"
             ],
             [
              0.7777777777777778,
              "#fb9f3a"
             ],
             [
              0.8888888888888888,
              "#fdca26"
             ],
             [
              1,
              "#f0f921"
             ]
            ],
            "type": "surface"
           }
          ],
          "table": [
           {
            "cells": {
             "fill": {
              "color": "#EBF0F8"
             },
             "line": {
              "color": "white"
             }
            },
            "header": {
             "fill": {
              "color": "#C8D4E3"
             },
             "line": {
              "color": "white"
             }
            },
            "type": "table"
           }
          ]
         },
         "layout": {
          "annotationdefaults": {
           "arrowcolor": "#2a3f5f",
           "arrowhead": 0,
           "arrowwidth": 1
          },
          "coloraxis": {
           "colorbar": {
            "outlinewidth": 0,
            "ticks": ""
           }
          },
          "colorscale": {
           "diverging": [
            [
             0,
             "#8e0152"
            ],
            [
             0.1,
             "#c51b7d"
            ],
            [
             0.2,
             "#de77ae"
            ],
            [
             0.3,
             "#f1b6da"
            ],
            [
             0.4,
             "#fde0ef"
            ],
            [
             0.5,
             "#f7f7f7"
            ],
            [
             0.6,
             "#e6f5d0"
            ],
            [
             0.7,
             "#b8e186"
            ],
            [
             0.8,
             "#7fbc41"
            ],
            [
             0.9,
             "#4d9221"
            ],
            [
             1,
             "#276419"
            ]
           ],
           "sequential": [
            [
             0,
             "#0d0887"
            ],
            [
             0.1111111111111111,
             "#46039f"
            ],
            [
             0.2222222222222222,
             "#7201a8"
            ],
            [
             0.3333333333333333,
             "#9c179e"
            ],
            [
             0.4444444444444444,
             "#bd3786"
            ],
            [
             0.5555555555555556,
             "#d8576b"
            ],
            [
             0.6666666666666666,
             "#ed7953"
            ],
            [
             0.7777777777777778,
             "#fb9f3a"
            ],
            [
             0.8888888888888888,
             "#fdca26"
            ],
            [
             1,
             "#f0f921"
            ]
           ],
           "sequentialminus": [
            [
             0,
             "#0d0887"
            ],
            [
             0.1111111111111111,
             "#46039f"
            ],
            [
             0.2222222222222222,
             "#7201a8"
            ],
            [
             0.3333333333333333,
             "#9c179e"
            ],
            [
             0.4444444444444444,
             "#bd3786"
            ],
            [
             0.5555555555555556,
             "#d8576b"
            ],
            [
             0.6666666666666666,
             "#ed7953"
            ],
            [
             0.7777777777777778,
             "#fb9f3a"
            ],
            [
             0.8888888888888888,
             "#fdca26"
            ],
            [
             1,
             "#f0f921"
            ]
           ]
          },
          "colorway": [
           "#636efa",
           "#EF553B",
           "#00cc96",
           "#ab63fa",
           "#FFA15A",
           "#19d3f3",
           "#FF6692",
           "#B6E880",
           "#FF97FF",
           "#FECB52"
          ],
          "font": {
           "color": "#2a3f5f"
          },
          "geo": {
           "bgcolor": "white",
           "lakecolor": "white",
           "landcolor": "#E5ECF6",
           "showlakes": true,
           "showland": true,
           "subunitcolor": "white"
          },
          "hoverlabel": {
           "align": "left"
          },
          "hovermode": "closest",
          "mapbox": {
           "style": "light"
          },
          "paper_bgcolor": "white",
          "plot_bgcolor": "#E5ECF6",
          "polar": {
           "angularaxis": {
            "gridcolor": "white",
            "linecolor": "white",
            "ticks": ""
           },
           "bgcolor": "#E5ECF6",
           "radialaxis": {
            "gridcolor": "white",
            "linecolor": "white",
            "ticks": ""
           }
          },
          "scene": {
           "xaxis": {
            "backgroundcolor": "#E5ECF6",
            "gridcolor": "white",
            "gridwidth": 2,
            "linecolor": "white",
            "showbackground": true,
            "ticks": "",
            "zerolinecolor": "white"
           },
           "yaxis": {
            "backgroundcolor": "#E5ECF6",
            "gridcolor": "white",
            "gridwidth": 2,
            "linecolor": "white",
            "showbackground": true,
            "ticks": "",
            "zerolinecolor": "white"
           },
           "zaxis": {
            "backgroundcolor": "#E5ECF6",
            "gridcolor": "white",
            "gridwidth": 2,
            "linecolor": "white",
            "showbackground": true,
            "ticks": "",
            "zerolinecolor": "white"
           }
          },
          "shapedefaults": {
           "line": {
            "color": "#2a3f5f"
           }
          },
          "ternary": {
           "aaxis": {
            "gridcolor": "white",
            "linecolor": "white",
            "ticks": ""
           },
           "baxis": {
            "gridcolor": "white",
            "linecolor": "white",
            "ticks": ""
           },
           "bgcolor": "#E5ECF6",
           "caxis": {
            "gridcolor": "white",
            "linecolor": "white",
            "ticks": ""
           }
          },
          "title": {
           "x": 0.05
          },
          "xaxis": {
           "automargin": true,
           "gridcolor": "white",
           "linecolor": "white",
           "ticks": "",
           "title": {
            "standoff": 15
           },
           "zerolinecolor": "white",
           "zerolinewidth": 2
          },
          "yaxis": {
           "automargin": true,
           "gridcolor": "white",
           "linecolor": "white",
           "ticks": "",
           "title": {
            "standoff": 15
           },
           "zerolinecolor": "white",
           "zerolinewidth": 2
          }
         }
        },
        "width": 1000,
        "xaxis": {
         "anchor": "y",
         "domain": [
          0,
          1
         ],
         "title": {
          "text": "Solvent Type"
         }
        },
        "yaxis": {
         "anchor": "x",
         "domain": [
          0,
          1
         ],
         "title": {
          "text": "Antisolvent [M]"
         }
        }
       }
      }
     },
     "metadata": {}
    }
   ],
   "source": [
    "import plotly.express as px\n",
    "# temps\n",
    "data = data.rename(columns={'[DCM]': 'Antisolvent [M]', '[Solvent]': 'Solvent [M]', 'Solvent': 'Solvent Type'})\n",
    "fig = px.scatter(data, x=\"Solvent Type\", y=\"Antisolvent [M]\", color=\"Amine\",\n",
    "                 size='Solvent [M]', hover_data=['Solvent [M]'], width=1000, height=600)\n",
    "fig.show()"
   ]
  },
  {
   "cell_type": "code",
   "execution_count": 26,
   "metadata": {},
   "outputs": [
    {
     "output_type": "execute_result",
     "data": {
      "text/plain": [
       "['aggrnyl',\n",
       " 'agsunset',\n",
       " 'blackbody',\n",
       " 'bluered',\n",
       " 'blues',\n",
       " 'blugrn',\n",
       " 'bluyl',\n",
       " 'brwnyl',\n",
       " 'bugn',\n",
       " 'bupu',\n",
       " 'burg',\n",
       " 'burgyl',\n",
       " 'cividis',\n",
       " 'darkmint',\n",
       " 'electric',\n",
       " 'emrld',\n",
       " 'gnbu',\n",
       " 'greens',\n",
       " 'greys',\n",
       " 'hot',\n",
       " 'inferno',\n",
       " 'jet',\n",
       " 'magenta',\n",
       " 'magma',\n",
       " 'mint',\n",
       " 'orrd',\n",
       " 'oranges',\n",
       " 'oryel',\n",
       " 'peach',\n",
       " 'pinkyl',\n",
       " 'plasma',\n",
       " 'plotly3',\n",
       " 'pubu',\n",
       " 'pubugn',\n",
       " 'purd',\n",
       " 'purp',\n",
       " 'purples',\n",
       " 'purpor',\n",
       " 'rainbow',\n",
       " 'rdbu',\n",
       " 'rdpu',\n",
       " 'redor',\n",
       " 'reds',\n",
       " 'sunset',\n",
       " 'sunsetdark',\n",
       " 'teal',\n",
       " 'tealgrn',\n",
       " 'viridis',\n",
       " 'ylgn',\n",
       " 'ylgnbu',\n",
       " 'ylorbr',\n",
       " 'ylorrd',\n",
       " 'algae',\n",
       " 'amp',\n",
       " 'deep',\n",
       " 'dense',\n",
       " 'gray',\n",
       " 'haline',\n",
       " 'ice',\n",
       " 'matter',\n",
       " 'solar',\n",
       " 'speed',\n",
       " 'tempo',\n",
       " 'thermal',\n",
       " 'turbid',\n",
       " 'armyrose',\n",
       " 'brbg',\n",
       " 'earth',\n",
       " 'fall',\n",
       " 'geyser',\n",
       " 'prgn',\n",
       " 'piyg',\n",
       " 'picnic',\n",
       " 'portland',\n",
       " 'puor',\n",
       " 'rdgy',\n",
       " 'rdylbu',\n",
       " 'rdylgn',\n",
       " 'spectral',\n",
       " 'tealrose',\n",
       " 'temps',\n",
       " 'tropic',\n",
       " 'balance',\n",
       " 'curl',\n",
       " 'delta',\n",
       " 'edge',\n",
       " 'hsv',\n",
       " 'icefire',\n",
       " 'phase',\n",
       " 'twilight',\n",
       " 'mrybm',\n",
       " 'mygbm']"
      ]
     },
     "metadata": {},
     "execution_count": 26
    }
   ],
   "source": [
    " px.colors.named_colorscales()"
   ]
  },
  {
   "cell_type": "code",
   "execution_count": null,
   "metadata": {},
   "outputs": [],
   "source": []
  }
 ]
}